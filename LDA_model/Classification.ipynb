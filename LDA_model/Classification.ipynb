{
 "cells": [
  {
   "cell_type": "code",
   "execution_count": 9,
   "metadata": {
    "colab": {
     "base_uri": "https://localhost:8080/",
     "height": 370
    },
    "colab_type": "code",
    "executionInfo": {
     "elapsed": 6305,
     "status": "ok",
     "timestamp": 1579104333075,
     "user": {
      "displayName": "ikhwan wahid",
      "photoUrl": "",
      "userId": "01550124214470849109"
     },
     "user_tz": -480
    },
    "id": "0e7UpK4LJ82k",
    "outputId": "15062aef-5ff2-4547-f84b-f6a354a73593"
   },
   "outputs": [
    {
     "name": "stdout",
     "output_type": "stream",
     "text": [
      "Collecting spacy\n",
      "\u001b[?25l  Downloading https://files.pythonhosted.org/packages/b9/d8/26120ca4a5b1a6fe215ccb01185cee41098eb61386b3fd3a7b28c085146a/spacy-2.2.3-cp37-cp37m-macosx_10_6_intel.whl (14.2MB)\n",
      "\u001b[K     |████████████████████████████████| 14.2MB 6.6MB/s eta 0:00:01\n",
      "\u001b[?25hCollecting preshed<3.1.0,>=3.0.2\n",
      "\u001b[?25l  Downloading https://files.pythonhosted.org/packages/c7/3e/9aaba1f8c0cb69e57ebeb411cc1b65b3f6bfc3572dd68969a6d3e59288f6/preshed-3.0.2-cp37-cp37m-macosx_10_6_intel.macosx_10_9_intel.macosx_10_9_x86_64.macosx_10_10_intel.macosx_10_10_x86_64.whl (211kB)\n",
      "\u001b[K     |████████████████████████████████| 215kB 19.0MB/s eta 0:00:01\n",
      "\u001b[?25hCollecting wasabi<1.1.0,>=0.4.0\n",
      "  Downloading https://files.pythonhosted.org/packages/21/e1/e4e7b754e6be3a79c400eb766fb34924a6d278c43bb828f94233e0124a21/wasabi-0.6.0-py3-none-any.whl\n",
      "Requirement already satisfied: requests<3.0.0,>=2.13.0 in /Users/ikhyvicky/anaconda3/lib/python3.7/site-packages (from spacy) (2.22.0)\n",
      "Collecting murmurhash<1.1.0,>=0.28.0\n",
      "  Downloading https://files.pythonhosted.org/packages/b9/bd/faace403086ee922afc74e5615cb8c21020fcf5d5667314e943c08f71fde/murmurhash-1.0.2-cp37-cp37m-macosx_10_6_intel.macosx_10_9_intel.macosx_10_9_x86_64.macosx_10_10_intel.macosx_10_10_x86_64.whl\n",
      "Requirement already satisfied: numpy>=1.15.0 in /Users/ikhyvicky/anaconda3/lib/python3.7/site-packages (from spacy) (1.17.4)\n",
      "Collecting blis<0.5.0,>=0.4.0\n",
      "\u001b[?25l  Downloading https://files.pythonhosted.org/packages/85/d8/f0be9d8ebec9cbeea1427de6ac0ecc919c0bfe881eff2d2965dbc310ca8b/blis-0.4.1-cp37-cp37m-macosx_10_6_intel.macosx_10_9_intel.macosx_10_9_x86_64.macosx_10_10_intel.macosx_10_10_x86_64.whl (4.0MB)\n",
      "\u001b[K     |████████████████████████████████| 4.0MB 25.1MB/s eta 0:00:01\n",
      "\u001b[?25hCollecting catalogue<1.1.0,>=0.0.7\n",
      "  Downloading https://files.pythonhosted.org/packages/6c/f9/9a5658e2f56932e41eb264941f9a2cb7f3ce41a80cb36b2af6ab78e2f8af/catalogue-1.0.0-py2.py3-none-any.whl\n",
      "Collecting srsly<1.1.0,>=0.1.0\n",
      "\u001b[?25l  Downloading https://files.pythonhosted.org/packages/22/33/fa6fed9e0dbadc75f1f88780ae7a5182f3dd4019a007a7a787468965355e/srsly-1.0.1-cp37-cp37m-macosx_10_6_intel.whl (271kB)\n",
      "\u001b[K     |████████████████████████████████| 276kB 50.3MB/s eta 0:00:01\n",
      "\u001b[?25hCollecting thinc<7.4.0,>=7.3.0\n",
      "\u001b[?25l  Downloading https://files.pythonhosted.org/packages/a6/87/c7da01c45bf3c138242f19f09b987d0ffa632ac7e8508527ee34d3ebbd81/thinc-7.3.1-cp37-cp37m-macosx_10_6_intel.whl (3.0MB)\n",
      "\u001b[K     |████████████████████████████████| 3.0MB 50.3MB/s eta 0:00:01\n",
      "\u001b[?25hRequirement already satisfied: setuptools in /Users/ikhyvicky/anaconda3/lib/python3.7/site-packages (from spacy) (42.0.2)\n",
      "Collecting cymem<2.1.0,>=2.0.2\n",
      "\u001b[?25l  Downloading https://files.pythonhosted.org/packages/63/34/a8b682ee9b57db35a5fe4e179b77c1bda0f6a09745669a99cfc27aa2bed7/cymem-2.0.3-cp37-cp37m-macosx_10_6_intel.whl (54kB)\n",
      "\u001b[K     |████████████████████████████████| 61kB 24.5MB/s eta 0:00:01\n",
      "\u001b[?25hCollecting plac<1.2.0,>=0.9.6\n",
      "  Downloading https://files.pythonhosted.org/packages/86/85/40b8f66c2dd8f4fd9f09d59b22720cffecf1331e788b8a0cab5bafb353d1/plac-1.1.3-py2.py3-none-any.whl\n",
      "Requirement already satisfied: idna<2.9,>=2.5 in /Users/ikhyvicky/anaconda3/lib/python3.7/site-packages (from requests<3.0.0,>=2.13.0->spacy) (2.8)\n",
      "Requirement already satisfied: chardet<3.1.0,>=3.0.2 in /Users/ikhyvicky/anaconda3/lib/python3.7/site-packages (from requests<3.0.0,>=2.13.0->spacy) (3.0.4)\n",
      "Requirement already satisfied: certifi>=2017.4.17 in /Users/ikhyvicky/anaconda3/lib/python3.7/site-packages (from requests<3.0.0,>=2.13.0->spacy) (2019.11.28)\n",
      "Requirement already satisfied: urllib3!=1.25.0,!=1.25.1,<1.26,>=1.21.1 in /Users/ikhyvicky/anaconda3/lib/python3.7/site-packages (from requests<3.0.0,>=2.13.0->spacy) (1.24.2)\n",
      "Collecting importlib-metadata>=0.20; python_version < \"3.8\"\n",
      "  Downloading https://files.pythonhosted.org/packages/d7/31/74dcb59a601b95fce3b0334e8fc9db758f78e43075f22aeb3677dfb19f4c/importlib_metadata-1.4.0-py2.py3-none-any.whl\n",
      "Requirement already satisfied: tqdm<5.0.0,>=4.10.0 in /Users/ikhyvicky/anaconda3/lib/python3.7/site-packages (from thinc<7.4.0,>=7.3.0->spacy) (4.32.1)\n",
      "Requirement already satisfied: zipp>=0.5 in /Users/ikhyvicky/anaconda3/lib/python3.7/site-packages (from importlib-metadata>=0.20; python_version < \"3.8\"->catalogue<1.1.0,>=0.0.7->spacy) (0.5.1)\n",
      "Installing collected packages: cymem, murmurhash, preshed, wasabi, blis, importlib-metadata, catalogue, srsly, plac, thinc, spacy\n",
      "  Found existing installation: importlib-metadata 0.17\n",
      "    Uninstalling importlib-metadata-0.17:\n",
      "      Successfully uninstalled importlib-metadata-0.17\n",
      "Successfully installed blis-0.4.1 catalogue-1.0.0 cymem-2.0.3 importlib-metadata-1.4.0 murmurhash-1.0.2 plac-1.1.3 preshed-3.0.2 spacy-2.2.3 srsly-1.0.1 thinc-7.3.1 wasabi-0.6.0\n",
      "Requirement already satisfied: pyLDAvis in /Users/ikhyvicky/anaconda3/lib/python3.7/site-packages (2.1.2)\n",
      "Requirement already satisfied: pytest in /Users/ikhyvicky/anaconda3/lib/python3.7/site-packages (from pyLDAvis) (5.0.1)\n",
      "Requirement already satisfied: pandas>=0.17.0 in /Users/ikhyvicky/anaconda3/lib/python3.7/site-packages (from pyLDAvis) (0.25.3)\n",
      "Requirement already satisfied: jinja2>=2.7.2 in /Users/ikhyvicky/anaconda3/lib/python3.7/site-packages (from pyLDAvis) (2.10.1)\n",
      "Requirement already satisfied: numexpr in /Users/ikhyvicky/anaconda3/lib/python3.7/site-packages (from pyLDAvis) (2.6.9)\n",
      "Requirement already satisfied: numpy>=1.9.2 in /Users/ikhyvicky/anaconda3/lib/python3.7/site-packages (from pyLDAvis) (1.17.4)\n",
      "Requirement already satisfied: joblib>=0.8.4 in /Users/ikhyvicky/anaconda3/lib/python3.7/site-packages (from pyLDAvis) (0.13.2)\n",
      "Requirement already satisfied: wheel>=0.23.0 in /Users/ikhyvicky/anaconda3/lib/python3.7/site-packages (from pyLDAvis) (0.33.4)\n",
      "Requirement already satisfied: future in /Users/ikhyvicky/anaconda3/lib/python3.7/site-packages (from pyLDAvis) (0.17.1)\n",
      "Requirement already satisfied: scipy>=0.18.0 in /Users/ikhyvicky/anaconda3/lib/python3.7/site-packages (from pyLDAvis) (1.3.0)\n",
      "Requirement already satisfied: funcy in /Users/ikhyvicky/anaconda3/lib/python3.7/site-packages (from pyLDAvis) (1.14)\n",
      "Requirement already satisfied: py>=1.5.0 in /Users/ikhyvicky/anaconda3/lib/python3.7/site-packages (from pytest->pyLDAvis) (1.8.0)\n",
      "Requirement already satisfied: packaging in /Users/ikhyvicky/anaconda3/lib/python3.7/site-packages (from pytest->pyLDAvis) (19.0)\n",
      "Requirement already satisfied: attrs>=17.4.0 in /Users/ikhyvicky/anaconda3/lib/python3.7/site-packages (from pytest->pyLDAvis) (19.1.0)\n",
      "Requirement already satisfied: more-itertools>=4.0.0 in /Users/ikhyvicky/anaconda3/lib/python3.7/site-packages (from pytest->pyLDAvis) (7.0.0)\n",
      "Requirement already satisfied: atomicwrites>=1.0 in /Users/ikhyvicky/anaconda3/lib/python3.7/site-packages (from pytest->pyLDAvis) (1.3.0)\n",
      "Requirement already satisfied: pluggy<1.0,>=0.12 in /Users/ikhyvicky/anaconda3/lib/python3.7/site-packages (from pytest->pyLDAvis) (0.12.0)\n",
      "Requirement already satisfied: importlib-metadata>=0.12 in /Users/ikhyvicky/anaconda3/lib/python3.7/site-packages (from pytest->pyLDAvis) (1.4.0)\n",
      "Requirement already satisfied: wcwidth in /Users/ikhyvicky/anaconda3/lib/python3.7/site-packages (from pytest->pyLDAvis) (0.1.7)\n",
      "Requirement already satisfied: pytz>=2017.2 in /Users/ikhyvicky/anaconda3/lib/python3.7/site-packages (from pandas>=0.17.0->pyLDAvis) (2019.1)\n",
      "Requirement already satisfied: python-dateutil>=2.6.1 in /Users/ikhyvicky/anaconda3/lib/python3.7/site-packages (from pandas>=0.17.0->pyLDAvis) (2.8.0)\n",
      "Requirement already satisfied: MarkupSafe>=0.23 in /Users/ikhyvicky/anaconda3/lib/python3.7/site-packages (from jinja2>=2.7.2->pyLDAvis) (1.1.1)\n",
      "Requirement already satisfied: six in /Users/ikhyvicky/anaconda3/lib/python3.7/site-packages (from packaging->pytest->pyLDAvis) (1.12.0)\n",
      "Requirement already satisfied: pyparsing>=2.0.2 in /Users/ikhyvicky/anaconda3/lib/python3.7/site-packages (from packaging->pytest->pyLDAvis) (2.4.0)\n",
      "Requirement already satisfied: zipp>=0.5 in /Users/ikhyvicky/anaconda3/lib/python3.7/site-packages (from importlib-metadata>=0.12->pytest->pyLDAvis) (0.5.1)\n"
     ]
    }
   ],
   "source": [
    "!pip install spacy\n",
    "!pip install pyLDAvis"
   ]
  },
  {
   "cell_type": "code",
   "execution_count": 193,
   "metadata": {
    "colab": {},
    "colab_type": "code",
    "id": "8TjqY0RrDsin"
   },
   "outputs": [],
   "source": [
    "import pandas as pd\n",
    "import numpy as np\n",
    "import matplotlib.pyplot as plt\n",
    "import seaborn as sns\n",
    "from sklearn.cluster import KMeans\n",
    "import nltk\n",
    "import string\n",
    "import re\n",
    "from nltk.stem import WordNetLemmatizer\n",
    "from nltk.corpus import wordnet as wn\n",
    "from tqdm import tqdm"
   ]
  },
  {
   "cell_type": "code",
   "execution_count": 78,
   "metadata": {
    "colab": {},
    "colab_type": "code",
    "id": "cw4YLqDOD5yZ"
   },
   "outputs": [],
   "source": [
    "comments=pd.read_csv('./removed_january.csv')"
   ]
  },
  {
   "cell_type": "code",
   "execution_count": 79,
   "metadata": {
    "colab": {
     "base_uri": "https://localhost:8080/",
     "height": 34
    },
    "colab_type": "code",
    "executionInfo": {
     "elapsed": 12219,
     "status": "ok",
     "timestamp": 1579097466419,
     "user": {
      "displayName": "ikhwan wahid",
      "photoUrl": "",
      "userId": "01550124214470849109"
     },
     "user_tz": -480
    },
    "id": "FsTIoVz8EDvA",
    "outputId": "050b8c7b-97eb-47cf-8925-260ace2d4998"
   },
   "outputs": [
    {
     "data": {
      "text/plain": [
       "(347142, 6)"
      ]
     },
     "execution_count": 79,
     "metadata": {},
     "output_type": "execute_result"
    }
   ],
   "source": [
    "comments.shape"
   ]
  },
  {
   "cell_type": "code",
   "execution_count": 80,
   "metadata": {
    "colab": {
     "base_uri": "https://localhost:8080/",
     "height": 134
    },
    "colab_type": "code",
    "executionInfo": {
     "elapsed": 12208,
     "status": "ok",
     "timestamp": 1579097466420,
     "user": {
      "displayName": "ikhwan wahid",
      "photoUrl": "",
      "userId": "01550124214470849109"
     },
     "user_tz": -480
    },
    "id": "JsZAgdE-RoGC",
    "outputId": "33fdd86a-c350-463e-b6e8-a0f322f0cd90"
   },
   "outputs": [
    {
     "data": {
      "text/plain": [
       "listing_id         0\n",
       "id                 0\n",
       "date               0\n",
       "reviewer_id        0\n",
       "reviewer_name      0\n",
       "comments         183\n",
       "dtype: int64"
      ]
     },
     "execution_count": 80,
     "metadata": {},
     "output_type": "execute_result"
    }
   ],
   "source": [
    "comments.isnull().sum()"
   ]
  },
  {
   "cell_type": "code",
   "execution_count": 81,
   "metadata": {
    "colab": {
     "base_uri": "https://localhost:8080/",
     "height": 195
    },
    "colab_type": "code",
    "executionInfo": {
     "elapsed": 12196,
     "status": "ok",
     "timestamp": 1579097466421,
     "user": {
      "displayName": "ikhwan wahid",
      "photoUrl": "",
      "userId": "01550124214470849109"
     },
     "user_tz": -480
    },
    "id": "KwV4Wg5pEG8K",
    "outputId": "bae6898d-7541-46ff-9bb5-19723470132d"
   },
   "outputs": [
    {
     "data": {
      "text/html": [
       "<div>\n",
       "<style scoped>\n",
       "    .dataframe tbody tr th:only-of-type {\n",
       "        vertical-align: middle;\n",
       "    }\n",
       "\n",
       "    .dataframe tbody tr th {\n",
       "        vertical-align: top;\n",
       "    }\n",
       "\n",
       "    .dataframe thead th {\n",
       "        text-align: right;\n",
       "    }\n",
       "</style>\n",
       "<table border=\"1\" class=\"dataframe\">\n",
       "  <thead>\n",
       "    <tr style=\"text-align: right;\">\n",
       "      <th></th>\n",
       "      <th>listing_id</th>\n",
       "      <th>id</th>\n",
       "      <th>date</th>\n",
       "      <th>reviewer_id</th>\n",
       "      <th>reviewer_name</th>\n",
       "      <th>comments</th>\n",
       "    </tr>\n",
       "  </thead>\n",
       "  <tbody>\n",
       "    <tr>\n",
       "      <th>0</th>\n",
       "      <td>2515</td>\n",
       "      <td>198</td>\n",
       "      <td>2008-10-13</td>\n",
       "      <td>2603</td>\n",
       "      <td>Jenny</td>\n",
       "      <td>Stephanie was a wonderful host! Her apartment ...</td>\n",
       "    </tr>\n",
       "    <tr>\n",
       "      <th>1</th>\n",
       "      <td>2515</td>\n",
       "      <td>859</td>\n",
       "      <td>2009-03-08</td>\n",
       "      <td>8455</td>\n",
       "      <td>Roland</td>\n",
       "      <td>Such a wonderful place and very close to the m...</td>\n",
       "    </tr>\n",
       "    <tr>\n",
       "      <th>2</th>\n",
       "      <td>2515</td>\n",
       "      <td>1083</td>\n",
       "      <td>2009-03-25</td>\n",
       "      <td>9759</td>\n",
       "      <td>Cem</td>\n",
       "      <td>I just got back from a trip to NYC during whic...</td>\n",
       "    </tr>\n",
       "    <tr>\n",
       "      <th>3</th>\n",
       "      <td>2515</td>\n",
       "      <td>1107</td>\n",
       "      <td>2009-03-27</td>\n",
       "      <td>9193</td>\n",
       "      <td>Holly</td>\n",
       "      <td>Stephanie's offered all the most important thi...</td>\n",
       "    </tr>\n",
       "    <tr>\n",
       "      <th>4</th>\n",
       "      <td>2515</td>\n",
       "      <td>2175</td>\n",
       "      <td>2009-05-09</td>\n",
       "      <td>7048</td>\n",
       "      <td>Alessandra</td>\n",
       "      <td>Stephanie was really nice, ftiendly and helpfu...</td>\n",
       "    </tr>\n",
       "  </tbody>\n",
       "</table>\n",
       "</div>"
      ],
      "text/plain": [
       "   listing_id    id        date  reviewer_id reviewer_name  \\\n",
       "0        2515   198  2008-10-13         2603         Jenny   \n",
       "1        2515   859  2009-03-08         8455        Roland   \n",
       "2        2515  1083  2009-03-25         9759           Cem   \n",
       "3        2515  1107  2009-03-27         9193         Holly   \n",
       "4        2515  2175  2009-05-09         7048    Alessandra   \n",
       "\n",
       "                                            comments  \n",
       "0  Stephanie was a wonderful host! Her apartment ...  \n",
       "1  Such a wonderful place and very close to the m...  \n",
       "2  I just got back from a trip to NYC during whic...  \n",
       "3  Stephanie's offered all the most important thi...  \n",
       "4  Stephanie was really nice, ftiendly and helpfu...  "
      ]
     },
     "execution_count": 81,
     "metadata": {},
     "output_type": "execute_result"
    }
   ],
   "source": [
    "comments.head()"
   ]
  },
  {
   "cell_type": "code",
   "execution_count": 82,
   "metadata": {
    "colab": {},
    "colab_type": "code",
    "id": "EgZGdEFfRtzc"
   },
   "outputs": [],
   "source": [
    "comments.dropna(inplace=True)"
   ]
  },
  {
   "cell_type": "code",
   "execution_count": 83,
   "metadata": {
    "colab": {
     "base_uri": "https://localhost:8080/",
     "height": 134
    },
    "colab_type": "code",
    "executionInfo": {
     "elapsed": 12169,
     "status": "ok",
     "timestamp": 1579097466423,
     "user": {
      "displayName": "ikhwan wahid",
      "photoUrl": "",
      "userId": "01550124214470849109"
     },
     "user_tz": -480
    },
    "id": "OszTOhNfR09j",
    "outputId": "54e01240-38ba-4ecb-b6a1-d0ed565c0ec9"
   },
   "outputs": [
    {
     "data": {
      "text/plain": [
       "listing_id       0\n",
       "id               0\n",
       "date             0\n",
       "reviewer_id      0\n",
       "reviewer_name    0\n",
       "comments         0\n",
       "dtype: int64"
      ]
     },
     "execution_count": 83,
     "metadata": {},
     "output_type": "execute_result"
    }
   ],
   "source": [
    "comments.isnull().sum()"
   ]
  },
  {
   "cell_type": "code",
   "execution_count": 84,
   "metadata": {
    "colab": {},
    "colab_type": "code",
    "id": "F7wQ4VtrEJNd"
   },
   "outputs": [],
   "source": [
    "import re\n",
    "import numpy as np"
   ]
  },
  {
   "cell_type": "code",
   "execution_count": 85,
   "metadata": {
    "colab": {},
    "colab_type": "code",
    "id": "M0ijcOxpFD7q"
   },
   "outputs": [],
   "source": [
    "import gensim"
   ]
  },
  {
   "cell_type": "code",
   "execution_count": 86,
   "metadata": {
    "colab": {},
    "colab_type": "code",
    "id": "o6n0OUfgG_qL"
   },
   "outputs": [],
   "source": [
    "import gensim.corpora as corpora\n",
    "from gensim.utils import simple_preprocess\n",
    "from gensim.models import CoherenceModel"
   ]
  },
  {
   "cell_type": "code",
   "execution_count": 87,
   "metadata": {
    "colab": {},
    "colab_type": "code",
    "id": "JMQ86soEHCXa"
   },
   "outputs": [],
   "source": [
    "import spacy"
   ]
  },
  {
   "cell_type": "code",
   "execution_count": 88,
   "metadata": {
    "colab": {
     "base_uri": "https://localhost:8080/",
     "height": 330
    },
    "colab_type": "code",
    "executionInfo": {
     "elapsed": 3717,
     "status": "error",
     "timestamp": 1579104688249,
     "user": {
      "displayName": "ikhwan wahid",
      "photoUrl": "",
      "userId": "01550124214470849109"
     },
     "user_tz": -480
    },
    "id": "aIQIt1S1HDut",
    "outputId": "ba5a77f7-24ac-4cfe-ca95-11489b2454a4"
   },
   "outputs": [],
   "source": [
    "# for plotting\n",
    "import pyLDAvis\n",
    "import pyLDAvis.gensim\n",
    "import matplotlib.pyplot as plt"
   ]
  },
  {
   "cell_type": "code",
   "execution_count": 89,
   "metadata": {
    "colab": {
     "base_uri": "https://localhost:8080/",
     "height": 67
    },
    "colab_type": "code",
    "executionInfo": {
     "elapsed": 1090,
     "status": "ok",
     "timestamp": 1579104688731,
     "user": {
      "displayName": "ikhwan wahid",
      "photoUrl": "",
      "userId": "01550124214470849109"
     },
     "user_tz": -480
    },
    "id": "Id0ziFwXHHpJ",
    "outputId": "86d00c5e-75aa-4666-8a52-33c371f33ac8"
   },
   "outputs": [
    {
     "name": "stderr",
     "output_type": "stream",
     "text": [
      "[nltk_data] Downloading package stopwords to\n",
      "[nltk_data]     /Users/ikhyvicky/nltk_data...\n",
      "[nltk_data]   Package stopwords is already up-to-date!\n"
     ]
    },
    {
     "data": {
      "text/plain": [
       "True"
      ]
     },
     "execution_count": 89,
     "metadata": {},
     "output_type": "execute_result"
    }
   ],
   "source": [
    "import nltk\n",
    "nltk.download('stopwords')"
   ]
  },
  {
   "cell_type": "code",
   "execution_count": 90,
   "metadata": {
    "colab": {},
    "colab_type": "code",
    "id": "ZPjf6vPnHNRe"
   },
   "outputs": [],
   "source": [
    "from nltk.corpus import stopwords\n",
    "stop_words = stopwords.words('english')"
   ]
  },
  {
   "cell_type": "code",
   "execution_count": 91,
   "metadata": {
    "colab": {},
    "colab_type": "code",
    "id": "ZWKVUZ8QHYVf"
   },
   "outputs": [],
   "source": [
    "# Convert email body to list\n",
    "data = comments.comments.values.tolist()"
   ]
  },
  {
   "cell_type": "code",
   "execution_count": 0,
   "metadata": {
    "colab": {},
    "colab_type": "code",
    "id": "9GvMXkp0Hijx"
   },
   "outputs": [],
   "source": [
    "# tokenize - break down each sentence into a list of words\n",
    "def sent_to_words(sentences):\n",
    "  for sentence in sentences:\n",
    "    yield(gensim.utils.simple_preprocess(str(sentence), deacc=True))  # deacc=True removes punctuations"
   ]
  },
  {
   "cell_type": "code",
   "execution_count": 0,
   "metadata": {
    "colab": {},
    "colab_type": "code",
    "id": "4RIkIqjOHjaj"
   },
   "outputs": [],
   "source": [
    "data_words=list(sent_to_words(data))"
   ]
  },
  {
   "cell_type": "code",
   "execution_count": 0,
   "metadata": {
    "colab": {
     "base_uri": "https://localhost:8080/",
     "height": 54
    },
    "colab_type": "code",
    "executionInfo": {
     "elapsed": 56077,
     "status": "ok",
     "timestamp": 1579097510415,
     "user": {
      "displayName": "ikhwan wahid",
      "photoUrl": "",
      "userId": "01550124214470849109"
     },
     "user_tz": -480
    },
    "id": "cvLuG8taH83O",
    "outputId": "b443b349-d652-4404-affe-5fac9a3e3208"
   },
   "outputs": [
    {
     "name": "stdout",
     "output_type": "stream",
     "text": [
      "['stephanie', 'offered', 'all', 'the', 'most', 'important', 'things', 'warm', 'welcome', 'into', 'comfortable', 'home', 'comfortable', 'bed', 'in', 'quiet', 'room', 'fresh', 'clean', 'towels', 'blankets', 'and', 'easy', 'access', 'to', 'manhattan', 'finding', 'myself', 'travelling', 'to', 'nyc', 'in', 'the', 'future', 'feel', 'already', 'have', 'open', 'invitation', 'to', 'make', 'home', 'away', 'from', 'home', 'through', 'stephanie', 'generousity']\n"
     ]
    }
   ],
   "source": [
    "print(data_words[3])"
   ]
  },
  {
   "cell_type": "code",
   "execution_count": 14,
   "metadata": {
    "colab": {},
    "colab_type": "code",
    "id": "OD7FEQ-YIY5w"
   },
   "outputs": [],
   "source": [
    "from gensim.models.phrases import Phrases, Phraser"
   ]
  },
  {
   "cell_type": "code",
   "execution_count": 0,
   "metadata": {
    "colab": {
     "base_uri": "https://localhost:8080/",
     "height": 70
    },
    "colab_type": "code",
    "executionInfo": {
     "elapsed": 184555,
     "status": "ok",
     "timestamp": 1579097638912,
     "user": {
      "displayName": "ikhwan wahid",
      "photoUrl": "",
      "userId": "01550124214470849109"
     },
     "user_tz": -480
    },
    "id": "I3cxLZj2Ihe7",
    "outputId": "968903dc-75ed-4a5c-94f3-62cc8de90fca"
   },
   "outputs": [
    {
     "name": "stderr",
     "output_type": "stream",
     "text": [
      "/usr/local/lib/python3.6/dist-packages/gensim/models/phrases.py:598: UserWarning: For a faster implementation, use the gensim.models.phrases.Phraser class\n",
      "  warnings.warn(\"For a faster implementation, use the gensim.models.phrases.Phraser class\")\n"
     ]
    }
   ],
   "source": [
    "# Build the bigram and trigram models\n",
    "bigram = Phrases(data_words, min_count=5, threshold=100) # higher threshold fewer phrases.\n",
    "trigram = Phrases(bigram[data_words], threshold=100)"
   ]
  },
  {
   "cell_type": "code",
   "execution_count": 0,
   "metadata": {
    "colab": {},
    "colab_type": "code",
    "id": "Wd-NghitJPxO"
   },
   "outputs": [],
   "source": [
    "bigram_mod = Phraser(bigram)\n",
    "trigram_mod = Phraser(trigram)"
   ]
  },
  {
   "cell_type": "code",
   "execution_count": 0,
   "metadata": {
    "colab": {
     "base_uri": "https://localhost:8080/",
     "height": 54
    },
    "colab_type": "code",
    "executionInfo": {
     "elapsed": 222576,
     "status": "ok",
     "timestamp": 1579097676953,
     "user": {
      "displayName": "ikhwan wahid",
      "photoUrl": "",
      "userId": "01550124214470849109"
     },
     "user_tz": -480
    },
    "id": "Ip2KmEs4KCYd",
    "outputId": "39e242af-5075-44ba-a589-f6546669d64a"
   },
   "outputs": [
    {
     "name": "stdout",
     "output_type": "stream",
     "text": [
      "['best', 'host', 'ever', 'had', 'stefanie', 'and', 'her', 'family', 'are', 'very', 'kind', 'helpful', 'and', 'accommodating', 'you', 'will', 'feel', 'at', 'home', 'here', 'immediately', 'the', 'place', 'is', 'very', 'nice', 'clean', 'and', 'you', 'can', 'beat', 'the', 'access', 'to', 'both', 'the', 'and', 'as', 'well', 'as', 'the', 'and', 'subway', 'lines', 'both', 'each', 'blocks', 'away', 'will', 'definitely', 'come', 'back']\n"
     ]
    }
   ],
   "source": [
    "print(trigram_mod[bigram_mod[data_words[35]]])"
   ]
  },
  {
   "cell_type": "code",
   "execution_count": 0,
   "metadata": {
    "colab": {},
    "colab_type": "code",
    "id": "Mtf5G5poKORL"
   },
   "outputs": [],
   "source": [
    "#remove stop_words, make bigrams and lemmatize\n",
    "def remove_stopwords(texts):\n",
    "    return [[word for word in simple_preprocess(str(doc)) if word not in stop_words] for doc in texts]\n",
    "\n",
    "def make_bigrams(texts):\n",
    "    return [bigram_mod[doc] for doc in texts]\n",
    "\n",
    "def make_trigrams(texts):\n",
    "    return [trigram_mod[bigram_mod[doc]] for doc in texts]\n",
    "\n",
    "def lemmatization(texts, allowed_postags=['NOUN', 'ADJ', 'VERB', 'ADV']):\n",
    "    \"\"\"https://spacy.io/api/annotation\"\"\"\n",
    "    texts_out = []\n",
    "    for sent in texts:\n",
    "        doc = nlp(\" \".join(sent))\n",
    "        texts_out.append([token.lemma_ for token in doc if token.pos_ in allowed_postags])\n",
    "    return texts_out"
   ]
  },
  {
   "cell_type": "code",
   "execution_count": 0,
   "metadata": {
    "colab": {},
    "colab_type": "code",
    "id": "tpB1xfluOXif"
   },
   "outputs": [],
   "source": [
    "data_words_nostops = remove_stopwords(data_words)"
   ]
  },
  {
   "cell_type": "code",
   "execution_count": 0,
   "metadata": {
    "colab": {},
    "colab_type": "code",
    "id": "MxUE-FPXPelY"
   },
   "outputs": [],
   "source": [
    "data_words_bigrams = make_bigrams(data_words_nostops)"
   ]
  },
  {
   "cell_type": "code",
   "execution_count": 0,
   "metadata": {
    "colab": {},
    "colab_type": "code",
    "id": "NuyG5xmRQpSH"
   },
   "outputs": [],
   "source": [
    "# Initialize spacy 'en' model, keeping only tagger component (for efficiency)\n",
    "nlp = spacy.load('en', disable=['parser', 'ner'])"
   ]
  },
  {
   "cell_type": "code",
   "execution_count": 0,
   "metadata": {
    "colab": {},
    "colab_type": "code",
    "id": "27PGc8xmQyvt"
   },
   "outputs": [],
   "source": [
    "data_lemmatized = lemmatization(data_words_bigrams, allowed_postags=['NOUN', 'ADJ', 'VERB', 'ADV'])"
   ]
  },
  {
   "cell_type": "code",
   "execution_count": 15,
   "metadata": {
    "colab": {},
    "colab_type": "code",
    "id": "N_nrrjOwA9UF"
   },
   "outputs": [],
   "source": [
    "import pickle"
   ]
  },
  {
   "cell_type": "code",
   "execution_count": 0,
   "metadata": {
    "colab": {},
    "colab_type": "code",
    "id": "SMuFo4jlodpl"
   },
   "outputs": [],
   "source": [
    "f=open(\"/content/gdrive/My Drive/Capstone stuff/january stuff/data_lemmatized.pkl\",'wb')\n",
    "pickle.dump(data_lemmatized,f)\n",
    "f.close()"
   ]
  },
  {
   "cell_type": "code",
   "execution_count": 16,
   "metadata": {
    "colab": {},
    "colab_type": "code",
    "id": "qVDB7hIM8qA7"
   },
   "outputs": [],
   "source": [
    "data_lemmatized = []\n",
    "with (open(\"data_lemmatized.pkl\", \"rb\")) as openfile:\n",
    "    while True:\n",
    "        try:\n",
    "            data_lemmatized.append(pickle.load(openfile))\n",
    "        except EOFError:\n",
    "            break"
   ]
  },
  {
   "cell_type": "code",
   "execution_count": 17,
   "metadata": {
    "colab": {},
    "colab_type": "code",
    "id": "hd3KaarzQ1U2"
   },
   "outputs": [],
   "source": [
    "data_lemmatized=data_lemmatized[0]"
   ]
  },
  {
   "cell_type": "code",
   "execution_count": 18,
   "metadata": {
    "colab": {
     "base_uri": "https://localhost:8080/",
     "height": 34
    },
    "colab_type": "code",
    "executionInfo": {
     "elapsed": 1023,
     "status": "ok",
     "timestamp": 1579104938749,
     "user": {
      "displayName": "ikhwan wahid",
      "photoUrl": "",
      "userId": "01550124214470849109"
     },
     "user_tz": -480
    },
    "id": "Osx_IOgF_NcU",
    "outputId": "bf3bd02b-dedb-401a-b85b-dff12b8c0cb6"
   },
   "outputs": [
    {
     "data": {
      "text/plain": [
       "346959"
      ]
     },
     "execution_count": 18,
     "metadata": {},
     "output_type": "execute_result"
    }
   ],
   "source": [
    "len(data_lemmatized)"
   ]
  },
  {
   "cell_type": "code",
   "execution_count": 19,
   "metadata": {
    "colab": {},
    "colab_type": "code",
    "id": "H9xYcI2DUUKn"
   },
   "outputs": [],
   "source": [
    "#create a dictionary and corpus for (LDA topic modeling)\n",
    "\n",
    "#creating the dictionary\n",
    "\n",
    "idtoword=corpora.Dictionary(data_lemmatized)\n",
    "#create corpus\n",
    "\n",
    "texts=data_lemmatized\n",
    "\n",
    "corpus=[idtoword.doc2bow(text) for text in texts]"
   ]
  },
  {
   "cell_type": "code",
   "execution_count": 45,
   "metadata": {},
   "outputs": [
    {
     "data": {
      "text/plain": [
       "346959"
      ]
     },
     "execution_count": 45,
     "metadata": {},
     "output_type": "execute_result"
    }
   ],
   "source": [
    "len(corpus)"
   ]
  },
  {
   "cell_type": "markdown",
   "metadata": {
    "colab_type": "text",
    "id": "NMURl6ybVDVK"
   },
   "source": [
    "# Gensim LDA Model -Topic Modeling"
   ]
  },
  {
   "cell_type": "code",
   "execution_count": 26,
   "metadata": {
    "colab": {
     "base_uri": "https://localhost:8080/",
     "height": 337
    },
    "colab_type": "code",
    "executionInfo": {
     "elapsed": 195355,
     "status": "error",
     "timestamp": 1579124928690,
     "user": {
      "displayName": "ikhwan wahid",
      "photoUrl": "",
      "userId": "01550124214470849109"
     },
     "user_tz": -480
    },
    "id": "Iku129aeVHIA",
    "outputId": "6b53b1f2-8381-4710-94a2-1db4c989381d"
   },
   "outputs": [],
   "source": [
    "#build our LDA model\n",
    "lda_model = gensim.models.LdaMulticore(corpus=corpus,\n",
    "                                           id2word=idtoword,\n",
    "                                           num_topics=20,\n",
    "                                           workers=3,\n",
    "                                           random_state=100,\n",
    "                                           eval_every=1,\n",
    "                                           chunksize=100,\n",
    "                                           passes=10)\n"
   ]
  },
  {
   "cell_type": "code",
   "execution_count": 72,
   "metadata": {},
   "outputs": [],
   "source": [
    "f=open(\"./model/lda.pkl\",'wb')\n",
    "pickle.dump(lda_model,f)\n",
    "f.close()"
   ]
  },
  {
   "cell_type": "code",
   "execution_count": 73,
   "metadata": {},
   "outputs": [],
   "source": [
    "g=open(\"./model/idtoword.pkl\",'wb')\n",
    "pickle.dump(idtoword,g)\n",
    "g.close()"
   ]
  },
  {
   "cell_type": "code",
   "execution_count": 74,
   "metadata": {},
   "outputs": [],
   "source": [
    "h=open(\"./model/corpus.pkl\",'wb')\n",
    "pickle.dump(corpus,h)\n",
    "h.close()"
   ]
  },
  {
   "cell_type": "code",
   "execution_count": 68,
   "metadata": {},
   "outputs": [],
   "source": [
    "#pickle.dump(lda_model, open(\"./model/lda.pickle\", \"wb\"))\n",
    "#pickle.dump(idtoword, open(\"./model/idatoword.pickle\", \"wb\"))\n",
    "#pickle.dump(corpus, open(\"./model/corpus.pickle\", \"wb\"))\n"
   ]
  },
  {
   "cell_type": "code",
   "execution_count": 27,
   "metadata": {
    "colab": {},
    "colab_type": "code",
    "id": "mbOKW8bdfDvg"
   },
   "outputs": [
    {
     "name": "stdout",
     "output_type": "stream",
     "text": [
      "[(0, '0.036*\"subway\" + 0.034*\"great\" + 0.033*\"walk\" + 0.029*\"place\" + 0.028*\"apartment\" + 0.026*\"close\" + 0.023*\"restaurant\" + 0.022*\"location\" + 0.016*\"manhattan\" + 0.015*\"easy\"'), (1, '0.065*\"car\" + 0.065*\"fit\" + 0.049*\"logement\" + 0.049*\"limpio\" + 0.048*\"confortable\" + 0.038*\"service\" + 0.030*\"mas\" + 0.029*\"ensure\" + 0.021*\"com\" + 0.019*\"si\"'), (2, '0.071*\"room\" + 0.041*\"bed\" + 0.034*\"bathroom\" + 0.031*\"clean\" + 0.027*\"bedroom\" + 0.025*\"kitchen\" + 0.024*\"space\" + 0.020*\"good\" + 0.018*\"comfortable\" + 0.018*\"nice\"'), (3, '0.077*\"value\" + 0.076*\"money\" + 0.068*\"worth\" + 0.030*\"necessary\" + 0.029*\"chill\" + 0.026*\"deli\" + 0.023*\"appliance\" + 0.018*\"bedding\" + 0.017*\"resolve\" + 0.014*\"improve\"'), (4, '0.089*\"harlem\" + 0.051*\"del\" + 0.048*\"hay\" + 0.043*\"amable\" + 0.035*\"recomendable\" + 0.033*\"era\" + 0.033*\"solo\" + 0.028*\"linda\" + 0.027*\"cama\" + 0.023*\"alle\"'), (5, '0.054*\"stay\" + 0.040*\"new\" + 0.035*\"home\" + 0.035*\"place\" + 0.028*\"make\" + 0.027*\"york\" + 0.025*\"feel\" + 0.025*\"back\" + 0.023*\"come\" + 0.022*\"would\"'), (6, '0.066*\"studio\" + 0.046*\"mattress\" + 0.037*\"send\" + 0.035*\"stock\" + 0.029*\"superb\" + 0.028*\"pillow\" + 0.027*\"favorite\" + 0.027*\"promptly\" + 0.025*\"supply\" + 0.024*\"budget\"'), (7, '0.060*\"place\" + 0.059*\"nice\" + 0.044*\"good\" + 0.044*\"really\" + 0.038*\"host\" + 0.036*\"clean\" + 0.035*\"stay\" + 0.025*\"room\" + 0.019*\"great\" + 0.017*\"friendly\"'), (8, '0.097*\"tre\" + 0.070*\"appartement\" + 0.062*\"est\" + 0.045*\"pour\" + 0.039*\"dan\" + 0.038*\"bien\" + 0.025*\"metro\" + 0.024*\"une\" + 0.024*\"e\" + 0.024*\"pas\"'), (9, '0.176*\"day\" + 0.158*\"arrival\" + 0.147*\"host\" + 0.132*\"cancel\" + 0.131*\"reservation\" + 0.115*\"automated_posting\" + 0.025*\"relax\" + 0.009*\"bottle\" + 0.008*\"previous\" + 0.007*\"john\"'), (10, '0.131*\"top\" + 0.064*\"nous_avon\" + 0.049*\"situe\" + 0.038*\"roof\" + 0.027*\"luxury\" + 0.026*\"calme\" + 0.026*\"bain\" + 0.025*\"photo\" + 0.020*\"salle\" + 0.019*\"proche\"'), (11, '0.072*\"und\" + 0.053*\"ist\" + 0.040*\"die\" + 0.037*\"man\" + 0.032*\"war\" + 0.028*\"der\" + 0.027*\"super\" + 0.023*\"be\" + 0.022*\"sehr\" + 0.021*\"das\"'), (12, '0.109*\"great\" + 0.063*\"location\" + 0.062*\"place\" + 0.056*\"stay\" + 0.040*\"host\" + 0.038*\"clean\" + 0.031*\"would\" + 0.031*\"recommend\" + 0.030*\"apartment\" + 0.020*\"easy\"'), (13, '0.053*\"airbnb\" + 0.026*\"host\" + 0.019*\"experience\" + 0.017*\"first\" + 0.015*\"say\" + 0.014*\"book\" + 0.012*\"give\" + 0.012*\"minute\" + 0.011*\"ask\" + 0.011*\"last\"'), (14, '0.094*\"spot\" + 0.045*\"not\" + 0.043*\"rent\" + 0.039*\"truly\" + 0.037*\"do\" + 0.030*\"beat\" + 0.028*\"loft\" + 0.027*\"property\" + 0.025*\"michael\" + 0.022*\"basement\"'), (15, '0.097*\"muy\" + 0.064*\"que\" + 0.044*\"el\" + 0.042*\"para\" + 0.031*\"esta\" + 0.030*\"metro\" + 0.029*\"excelente\" + 0.028*\"todo\" + 0.026*\"con\" + 0.022*\"por\"'), (16, '0.027*\"check\" + 0.025*\"night\" + 0.024*\"get\" + 0.023*\"apartment\" + 0.018*\"stay\" + 0.017*\"place\" + 0.014*\"day\" + 0.014*\"time\" + 0.013*\"issue\" + 0.013*\"would\"'), (17, '0.110*\"description\" + 0.055*\"mais\" + 0.049*\"grand\" + 0.044*\"prime\" + 0.041*\"min\" + 0.029*\"pa\" + 0.027*\"pie\" + 0.025*\"crazy\" + 0.021*\"tom\" + 0.019*\"pratique\"'), (18, '0.107*\"central\" + 0.094*\"time\" + 0.090*\"square\" + 0.083*\"park\" + 0.066*\"view\" + 0.049*\"modern\" + 0.031*\"building\" + 0.021*\"rooftop\" + 0.016*\"ubicacion\" + 0.013*\"gem\"'), (19, '0.089*\"side\" + 0.078*\"communicative\" + 0.075*\"hospitable\" + 0.074*\"process\" + 0.060*\"incredibly\" + 0.048*\"smooth\" + 0.031*\"chance\" + 0.031*\"adorable\" + 0.023*\"upper_east\" + 0.018*\"grace\"')]\n"
     ]
    }
   ],
   "source": [
    "print(lda_model.print_topics())"
   ]
  },
  {
   "cell_type": "code",
   "execution_count": 30,
   "metadata": {
    "colab": {},
    "colab_type": "code",
    "id": "i_ZjS6EpvIcT"
   },
   "outputs": [],
   "source": [
    "lda_model.save('lda.model')"
   ]
  },
  {
   "cell_type": "code",
   "execution_count": 32,
   "metadata": {
    "colab": {},
    "colab_type": "code",
    "id": "1Msqfp6Tk0eq"
   },
   "outputs": [
    {
     "name": "stderr",
     "output_type": "stream",
     "text": [
      "/Users/ikhyvicky/anaconda3/lib/python3.7/site-packages/pyLDAvis/_prepare.py:257: FutureWarning: Sorting because non-concatenation axis is not aligned. A future version\n",
      "of pandas will change to not sort by default.\n",
      "\n",
      "To accept the future behavior, pass 'sort=False'.\n",
      "\n",
      "To retain the current behavior and silence the warning, pass 'sort=True'.\n",
      "\n",
      "  return pd.concat([default_term_info] + list(topic_dfs))\n"
     ]
    },
    {
     "data": {
      "text/html": [
       "\n",
       "<link rel=\"stylesheet\" type=\"text/css\" href=\"https://cdn.rawgit.com/bmabey/pyLDAvis/files/ldavis.v1.0.0.css\">\n",
       "\n",
       "\n",
       "<div id=\"ldavis_el153051139545118728503190740\"></div>\n",
       "<script type=\"text/javascript\">\n",
       "\n",
       "var ldavis_el153051139545118728503190740_data = {\"mdsDat\": {\"x\": [-0.3115325302332314, -0.3207694801636477, -0.2676947377866973, -0.2783189875656651, -0.31321221978885067, -0.25536416803940826, -0.1463207990985385, 0.10398320070921371, 0.08075517527756351, 0.07372111491192193, 0.13727795791488123, 0.1393171309115712, 0.08207859957587524, 0.16043335496129088, 0.17703427969543112, 0.16593437608511896, 0.17192546973882009, 0.20198078121765842, 0.19675944911221002, 0.20201203256448144], \"y\": [-0.06898211742651676, -0.03213349130248194, 0.09058762714264304, -0.0003855255284269447, -0.02900414859690739, 0.0380789011593391, 0.13237016317955577, -0.3049670180749413, -0.30140412933385485, 0.09701283756412811, -0.118368714297082, 0.05746553835698928, 0.09599414762491024, 0.06485832167181783, 0.057789851910612026, 0.05086287873022254, 0.05166826230041591, 0.02754814695854008, 0.05546739473746116, 0.03554107322357629], \"topics\": [1, 2, 3, 4, 5, 6, 7, 8, 9, 10, 11, 12, 13, 14, 15, 16, 17, 18, 19, 20], \"cluster\": [1, 1, 1, 1, 1, 1, 1, 1, 1, 1, 1, 1, 1, 1, 1, 1, 1, 1, 1, 1], \"Freq\": [19.084228515625, 14.661643981933594, 11.522907257080078, 10.681557655334473, 10.002747535705566, 8.864983558654785, 5.8370819091796875, 3.4413154125213623, 3.0279619693756104, 2.0901448726654053, 2.0770323276519775, 1.2249574661254883, 1.0694433450698853, 1.0572682619094849, 1.0251355171203613, 0.9859610199928284, 0.9307639002799988, 0.8465793132781982, 0.8178490996360779, 0.750434935092926]}, \"tinfo\": {\"Category\": [\"Default\", \"Default\", \"Default\", \"Default\", \"Default\", \"Default\", \"Default\", \"Default\", \"Default\", \"Default\", \"Default\", \"Default\", \"Default\", \"Default\", \"Default\", \"Default\", \"Default\", \"Default\", \"Default\", \"Default\", \"Default\", \"Default\", \"Default\", \"Default\", \"Default\", \"Default\", \"Default\", \"Default\", \"Default\", \"Default\", \"Topic1\", \"Topic1\", \"Topic1\", \"Topic1\", \"Topic1\", \"Topic1\", \"Topic1\", \"Topic1\", \"Topic1\", \"Topic1\", \"Topic1\", \"Topic1\", \"Topic1\", \"Topic1\", \"Topic1\", \"Topic1\", \"Topic1\", \"Topic1\", \"Topic1\", \"Topic1\", \"Topic1\", \"Topic1\", \"Topic1\", \"Topic1\", \"Topic1\", \"Topic1\", \"Topic1\", \"Topic1\", \"Topic1\", \"Topic1\", \"Topic1\", \"Topic1\", \"Topic1\", \"Topic1\", \"Topic1\", \"Topic1\", \"Topic1\", \"Topic1\", \"Topic1\", \"Topic1\", \"Topic1\", \"Topic1\", \"Topic1\", \"Topic1\", \"Topic1\", \"Topic1\", \"Topic1\", \"Topic1\", \"Topic1\", \"Topic1\", \"Topic1\", \"Topic1\", \"Topic1\", \"Topic1\", \"Topic1\", \"Topic1\", \"Topic1\", \"Topic1\", \"Topic1\", \"Topic1\", \"Topic1\", \"Topic1\", \"Topic1\", \"Topic1\", \"Topic1\", \"Topic1\", \"Topic1\", \"Topic1\", \"Topic1\", \"Topic2\", \"Topic2\", \"Topic2\", \"Topic2\", \"Topic2\", \"Topic2\", \"Topic2\", \"Topic2\", \"Topic2\", \"Topic2\", \"Topic2\", \"Topic2\", \"Topic2\", \"Topic2\", \"Topic2\", \"Topic2\", \"Topic2\", \"Topic2\", \"Topic2\", \"Topic2\", \"Topic2\", \"Topic2\", \"Topic2\", \"Topic2\", \"Topic2\", \"Topic2\", \"Topic2\", \"Topic2\", \"Topic2\", \"Topic2\", \"Topic2\", \"Topic2\", \"Topic2\", \"Topic2\", \"Topic2\", \"Topic2\", \"Topic2\", \"Topic2\", \"Topic2\", \"Topic2\", \"Topic2\", \"Topic2\", \"Topic2\", \"Topic2\", \"Topic2\", \"Topic2\", \"Topic2\", \"Topic2\", \"Topic2\", \"Topic2\", \"Topic2\", \"Topic2\", \"Topic2\", \"Topic2\", \"Topic2\", \"Topic2\", \"Topic2\", \"Topic2\", \"Topic2\", \"Topic2\", \"Topic2\", \"Topic2\", \"Topic2\", \"Topic2\", \"Topic2\", \"Topic2\", \"Topic2\", \"Topic2\", \"Topic2\", \"Topic2\", \"Topic2\", \"Topic2\", \"Topic3\", \"Topic3\", \"Topic3\", \"Topic3\", \"Topic3\", \"Topic3\", \"Topic3\", \"Topic3\", \"Topic3\", \"Topic3\", \"Topic3\", \"Topic3\", \"Topic3\", \"Topic3\", \"Topic3\", \"Topic3\", \"Topic3\", \"Topic3\", \"Topic3\", \"Topic3\", \"Topic3\", \"Topic3\", \"Topic3\", \"Topic3\", \"Topic3\", \"Topic3\", \"Topic3\", \"Topic3\", \"Topic3\", \"Topic3\", \"Topic3\", \"Topic3\", \"Topic3\", \"Topic3\", \"Topic3\", \"Topic3\", \"Topic3\", \"Topic3\", \"Topic3\", \"Topic3\", \"Topic3\", \"Topic3\", \"Topic3\", \"Topic3\", \"Topic3\", \"Topic3\", \"Topic3\", \"Topic3\", \"Topic3\", \"Topic3\", \"Topic3\", \"Topic3\", \"Topic3\", \"Topic3\", \"Topic3\", \"Topic3\", \"Topic3\", \"Topic3\", \"Topic3\", \"Topic3\", \"Topic3\", \"Topic4\", \"Topic4\", \"Topic4\", \"Topic4\", \"Topic4\", \"Topic4\", \"Topic4\", \"Topic4\", \"Topic4\", \"Topic4\", \"Topic4\", \"Topic4\", \"Topic4\", \"Topic4\", \"Topic4\", \"Topic4\", \"Topic4\", \"Topic4\", \"Topic4\", \"Topic4\", \"Topic4\", \"Topic4\", \"Topic4\", \"Topic4\", \"Topic4\", \"Topic4\", \"Topic4\", \"Topic4\", \"Topic4\", \"Topic4\", \"Topic4\", \"Topic4\", \"Topic4\", \"Topic4\", \"Topic4\", \"Topic4\", \"Topic4\", \"Topic4\", \"Topic4\", \"Topic4\", \"Topic4\", \"Topic4\", \"Topic4\", \"Topic4\", \"Topic4\", \"Topic4\", \"Topic4\", \"Topic4\", \"Topic4\", \"Topic4\", \"Topic4\", \"Topic4\", \"Topic4\", \"Topic4\", \"Topic4\", \"Topic4\", \"Topic4\", \"Topic4\", \"Topic4\", \"Topic4\", \"Topic4\", \"Topic4\", \"Topic4\", \"Topic4\", \"Topic4\", \"Topic4\", \"Topic4\", \"Topic4\", \"Topic4\", \"Topic5\", \"Topic5\", \"Topic5\", \"Topic5\", \"Topic5\", \"Topic5\", \"Topic5\", \"Topic5\", \"Topic5\", \"Topic5\", \"Topic5\", \"Topic5\", \"Topic5\", \"Topic5\", \"Topic5\", \"Topic5\", \"Topic5\", \"Topic5\", \"Topic5\", \"Topic5\", \"Topic5\", \"Topic5\", \"Topic5\", \"Topic5\", \"Topic5\", \"Topic5\", \"Topic5\", \"Topic5\", \"Topic5\", \"Topic5\", \"Topic5\", \"Topic5\", \"Topic5\", \"Topic5\", \"Topic5\", \"Topic5\", \"Topic5\", \"Topic5\", \"Topic5\", \"Topic5\", \"Topic5\", \"Topic5\", \"Topic5\", \"Topic5\", \"Topic5\", \"Topic5\", \"Topic5\", \"Topic5\", \"Topic5\", \"Topic5\", \"Topic5\", \"Topic5\", \"Topic5\", \"Topic5\", \"Topic5\", \"Topic5\", \"Topic5\", \"Topic5\", \"Topic5\", \"Topic5\", \"Topic5\", \"Topic5\", \"Topic5\", \"Topic5\", \"Topic5\", \"Topic5\", \"Topic5\", \"Topic5\", \"Topic5\", \"Topic5\", \"Topic5\", \"Topic5\", \"Topic5\", \"Topic5\", \"Topic5\", \"Topic6\", \"Topic6\", \"Topic6\", \"Topic6\", \"Topic6\", \"Topic6\", \"Topic6\", \"Topic6\", \"Topic6\", \"Topic6\", \"Topic6\", \"Topic6\", \"Topic6\", \"Topic6\", \"Topic6\", \"Topic6\", \"Topic6\", \"Topic6\", \"Topic6\", \"Topic6\", \"Topic6\", \"Topic6\", \"Topic6\", \"Topic6\", \"Topic6\", \"Topic6\", \"Topic6\", \"Topic6\", \"Topic6\", \"Topic6\", \"Topic6\", \"Topic6\", \"Topic6\", \"Topic6\", \"Topic6\", \"Topic6\", \"Topic6\", \"Topic6\", \"Topic6\", \"Topic6\", \"Topic6\", \"Topic6\", \"Topic6\", \"Topic6\", \"Topic6\", \"Topic6\", \"Topic6\", \"Topic6\", \"Topic6\", \"Topic6\", \"Topic6\", \"Topic6\", \"Topic6\", \"Topic6\", \"Topic6\", \"Topic6\", \"Topic6\", \"Topic6\", \"Topic6\", \"Topic6\", \"Topic6\", \"Topic6\", \"Topic6\", \"Topic6\", \"Topic7\", \"Topic7\", \"Topic7\", \"Topic7\", \"Topic7\", \"Topic7\", \"Topic7\", \"Topic7\", \"Topic7\", \"Topic7\", \"Topic7\", \"Topic7\", \"Topic7\", \"Topic7\", \"Topic7\", \"Topic7\", \"Topic7\", \"Topic7\", \"Topic7\", \"Topic7\", \"Topic7\", \"Topic7\", \"Topic7\", \"Topic7\", \"Topic7\", \"Topic7\", \"Topic7\", \"Topic7\", \"Topic7\", \"Topic7\", \"Topic7\", \"Topic7\", \"Topic7\", \"Topic7\", \"Topic7\", \"Topic7\", \"Topic7\", \"Topic7\", \"Topic7\", \"Topic7\", \"Topic7\", \"Topic7\", \"Topic7\", \"Topic7\", \"Topic7\", \"Topic7\", \"Topic7\", \"Topic7\", \"Topic7\", \"Topic7\", \"Topic7\", \"Topic7\", \"Topic7\", \"Topic7\", \"Topic7\", \"Topic7\", \"Topic7\", \"Topic7\", \"Topic7\", \"Topic7\", \"Topic7\", \"Topic7\", \"Topic7\", \"Topic8\", \"Topic8\", \"Topic8\", \"Topic8\", \"Topic8\", \"Topic8\", \"Topic8\", \"Topic8\", \"Topic8\", \"Topic8\", \"Topic8\", \"Topic8\", \"Topic8\", \"Topic8\", \"Topic8\", \"Topic8\", \"Topic8\", \"Topic8\", \"Topic8\", \"Topic8\", \"Topic8\", \"Topic8\", \"Topic8\", \"Topic8\", \"Topic8\", \"Topic8\", \"Topic8\", \"Topic8\", \"Topic8\", \"Topic8\", \"Topic8\", \"Topic8\", \"Topic8\", \"Topic8\", \"Topic8\", \"Topic8\", \"Topic8\", \"Topic8\", \"Topic8\", \"Topic9\", \"Topic9\", \"Topic9\", \"Topic9\", \"Topic9\", \"Topic9\", \"Topic9\", \"Topic9\", \"Topic9\", \"Topic9\", \"Topic9\", \"Topic9\", \"Topic9\", \"Topic9\", \"Topic9\", \"Topic9\", \"Topic9\", \"Topic9\", \"Topic9\", \"Topic9\", \"Topic9\", \"Topic9\", \"Topic9\", \"Topic9\", \"Topic9\", \"Topic9\", \"Topic9\", \"Topic9\", \"Topic9\", \"Topic9\", \"Topic9\", \"Topic9\", \"Topic9\", \"Topic9\", \"Topic9\", \"Topic9\", \"Topic9\", \"Topic9\", \"Topic10\", \"Topic10\", \"Topic10\", \"Topic10\", \"Topic10\", \"Topic10\", \"Topic10\", \"Topic10\", \"Topic10\", \"Topic10\", \"Topic10\", \"Topic10\", \"Topic10\", \"Topic10\", \"Topic10\", \"Topic10\", \"Topic10\", \"Topic10\", \"Topic10\", \"Topic10\", \"Topic10\", \"Topic10\", \"Topic10\", \"Topic10\", \"Topic10\", \"Topic10\", \"Topic10\", \"Topic10\", \"Topic10\", \"Topic10\", \"Topic10\", \"Topic10\", \"Topic10\", \"Topic10\", \"Topic10\", \"Topic10\", \"Topic10\", \"Topic10\", \"Topic10\", \"Topic10\", \"Topic10\", \"Topic10\", \"Topic10\", \"Topic11\", \"Topic11\", \"Topic11\", \"Topic11\", \"Topic11\", \"Topic11\", \"Topic11\", \"Topic11\", \"Topic11\", \"Topic11\", \"Topic11\", \"Topic11\", \"Topic11\", \"Topic11\", \"Topic11\", \"Topic11\", \"Topic11\", \"Topic11\", \"Topic11\", \"Topic11\", \"Topic11\", \"Topic11\", \"Topic11\", \"Topic11\", \"Topic11\", \"Topic11\", \"Topic11\", \"Topic11\", \"Topic11\", \"Topic11\", \"Topic11\", \"Topic11\", \"Topic11\", \"Topic11\", \"Topic11\", \"Topic11\", \"Topic12\", \"Topic12\", \"Topic12\", \"Topic12\", \"Topic12\", \"Topic12\", \"Topic12\", \"Topic12\", \"Topic12\", \"Topic12\", \"Topic12\", \"Topic12\", \"Topic12\", \"Topic12\", \"Topic12\", \"Topic12\", \"Topic12\", \"Topic12\", \"Topic12\", \"Topic12\", \"Topic12\", \"Topic12\", \"Topic12\", \"Topic12\", \"Topic12\", \"Topic12\", \"Topic12\", \"Topic12\", \"Topic12\", \"Topic12\", \"Topic12\", \"Topic12\", \"Topic12\", \"Topic12\", \"Topic13\", \"Topic13\", \"Topic13\", \"Topic13\", \"Topic13\", \"Topic13\", \"Topic13\", \"Topic13\", \"Topic13\", \"Topic13\", \"Topic13\", \"Topic13\", \"Topic13\", \"Topic13\", \"Topic13\", \"Topic13\", \"Topic13\", \"Topic13\", \"Topic13\", \"Topic13\", \"Topic13\", \"Topic13\", \"Topic13\", \"Topic13\", \"Topic13\", \"Topic13\", \"Topic13\", \"Topic13\", \"Topic13\", \"Topic13\", \"Topic13\", \"Topic13\", \"Topic13\", \"Topic13\", \"Topic14\", \"Topic14\", \"Topic14\", \"Topic14\", \"Topic14\", \"Topic14\", \"Topic14\", \"Topic14\", \"Topic14\", \"Topic14\", \"Topic14\", \"Topic14\", \"Topic14\", \"Topic14\", \"Topic14\", \"Topic14\", \"Topic14\", \"Topic14\", \"Topic14\", \"Topic14\", \"Topic14\", \"Topic14\", \"Topic14\", \"Topic14\", \"Topic14\", \"Topic14\", \"Topic14\", \"Topic14\", \"Topic14\", \"Topic14\", \"Topic14\", \"Topic14\", \"Topic14\", \"Topic15\", \"Topic15\", \"Topic15\", \"Topic15\", \"Topic15\", \"Topic15\", \"Topic15\", \"Topic15\", \"Topic15\", \"Topic15\", \"Topic15\", \"Topic15\", \"Topic15\", \"Topic15\", \"Topic15\", \"Topic15\", \"Topic15\", \"Topic15\", \"Topic15\", \"Topic15\", \"Topic15\", \"Topic15\", \"Topic15\", \"Topic15\", \"Topic15\", \"Topic15\", \"Topic15\", \"Topic15\", \"Topic15\", \"Topic15\", \"Topic15\", \"Topic15\", \"Topic15\", \"Topic15\", \"Topic15\", \"Topic16\", \"Topic16\", \"Topic16\", \"Topic16\", \"Topic16\", \"Topic16\", \"Topic16\", \"Topic16\", \"Topic16\", \"Topic16\", \"Topic16\", \"Topic16\", \"Topic16\", \"Topic16\", \"Topic16\", \"Topic16\", \"Topic16\", \"Topic16\", \"Topic16\", \"Topic16\", \"Topic16\", \"Topic16\", \"Topic16\", \"Topic16\", \"Topic16\", \"Topic16\", \"Topic16\", \"Topic16\", \"Topic16\", \"Topic16\", \"Topic16\", \"Topic17\", \"Topic17\", \"Topic17\", \"Topic17\", \"Topic17\", \"Topic17\", \"Topic17\", \"Topic17\", \"Topic17\", \"Topic17\", \"Topic17\", \"Topic17\", \"Topic17\", \"Topic17\", \"Topic17\", \"Topic17\", \"Topic17\", \"Topic17\", \"Topic17\", \"Topic17\", \"Topic17\", \"Topic17\", \"Topic17\", \"Topic17\", \"Topic17\", \"Topic17\", \"Topic17\", \"Topic17\", \"Topic17\", \"Topic17\", \"Topic17\", \"Topic17\", \"Topic18\", \"Topic18\", \"Topic18\", \"Topic18\", \"Topic18\", \"Topic18\", \"Topic18\", \"Topic18\", \"Topic18\", \"Topic18\", \"Topic18\", \"Topic18\", \"Topic18\", \"Topic18\", \"Topic18\", \"Topic18\", \"Topic18\", \"Topic18\", \"Topic18\", \"Topic18\", \"Topic18\", \"Topic18\", \"Topic18\", \"Topic18\", \"Topic18\", \"Topic18\", \"Topic18\", \"Topic18\", \"Topic18\", \"Topic18\", \"Topic18\", \"Topic18\", \"Topic18\", \"Topic19\", \"Topic19\", \"Topic19\", \"Topic19\", \"Topic19\", \"Topic19\", \"Topic19\", \"Topic19\", \"Topic19\", \"Topic19\", \"Topic19\", \"Topic19\", \"Topic19\", \"Topic19\", \"Topic19\", \"Topic19\", \"Topic19\", \"Topic19\", \"Topic19\", \"Topic19\", \"Topic19\", \"Topic19\", \"Topic19\", \"Topic19\", \"Topic19\", \"Topic19\", \"Topic19\", \"Topic19\", \"Topic19\", \"Topic19\", \"Topic19\", \"Topic19\", \"Topic19\", \"Topic19\", \"Topic19\", \"Topic19\", \"Topic19\", \"Topic19\", \"Topic20\", \"Topic20\", \"Topic20\", \"Topic20\", \"Topic20\", \"Topic20\", \"Topic20\", \"Topic20\", \"Topic20\", \"Topic20\", \"Topic20\", \"Topic20\", \"Topic20\", \"Topic20\", \"Topic20\", \"Topic20\", \"Topic20\", \"Topic20\", \"Topic20\", \"Topic20\", \"Topic20\", \"Topic20\", \"Topic20\", \"Topic20\", \"Topic20\", \"Topic20\", \"Topic20\", \"Topic20\", \"Topic20\", \"Topic20\", \"Topic20\", \"Topic20\", \"Topic20\", \"Topic20\", \"Topic20\", \"Topic20\"], \"Freq\": [121860.0, 214806.0, 36618.0, 76661.0, 66996.0, 131470.0, 196855.0, 89467.0, 235595.0, 123657.0, 29139.0, 25605.0, 57841.0, 42314.0, 87928.0, 67806.0, 18734.0, 20928.0, 58092.0, 19511.0, 32994.0, 52974.0, 27902.0, 42921.0, 14749.0, 50733.0, 21730.0, 16149.0, 18936.0, 16458.0, 19276.185546875, 17036.94140625, 15277.6337890625, 11256.7763671875, 9633.6083984375, 4368.8173828125, 3687.66162109375, 3290.015625, 3160.732421875, 3148.962158203125, 3024.5703125, 1943.1549072265625, 1862.8450927734375, 1853.51806640625, 1761.3841552734375, 1496.0469970703125, 1474.4713134765625, 1281.2821044921875, 1049.8187255859375, 1027.6693115234375, 974.7486572265625, 964.0009765625, 957.3704223632812, 955.0280151367188, 849.7131958007812, 697.6925659179688, 681.390869140625, 675.17138671875, 623.9630126953125, 544.9210815429688, 2904.517822265625, 38287.8203125, 22640.091796875, 54804.38671875, 15509.056640625, 8548.337890625, 59520.65625, 7377.98779296875, 3121.369873046875, 22612.65234375, 23957.75, 2171.97314453125, 7073.703125, 11462.494140625, 4712.5986328125, 43918.3359375, 23610.720703125, 14530.8271484375, 7160.12451171875, 12771.255859375, 25971.814453125, 8834.08203125, 14583.7841796875, 14601.9111328125, 17246.34375, 25414.671875, 16463.333984375, 10033.810546875, 45865.90625, 56800.40625, 37292.53125, 48477.2421875, 15492.7080078125, 17494.01171875, 12384.580078125, 25158.0859375, 19147.5078125, 15779.1318359375, 13771.65234375, 2574.9150390625, 1569.5712890625, 906.787109375, 891.60400390625, 529.945068359375, 437.5617980957031, 306.5491027832031, 289.4181823730469, 239.65528869628906, 214.99757385253906, 214.4808807373047, 181.8337860107422, 162.5772705078125, 159.78955078125, 99.51006317138672, 85.1322021484375, 74.03019714355469, 62.21310043334961, 55.84206008911133, 54.310951232910156, 54.29258728027344, 48.01415252685547, 47.274593353271484, 44.99757385253906, 38.344966888427734, 37.76484680175781, 34.40194320678711, 31.42585563659668, 23.337196350097656, 21.897850036621094, 377.7774658203125, 2079.34375, 3324.908447265625, 138725.953125, 16953.55078125, 16870.916015625, 10020.1640625, 13746.140625, 7277.73876953125, 80342.03125, 11291.4970703125, 614.8887939453125, 39557.7578125, 4740.9580078125, 2446.18701171875, 39594.08984375, 10343.9033203125, 24670.31640625, 5739.904296875, 4503.2919921875, 13001.97265625, 51186.9609375, 25165.185546875, 7961.11181640625, 48936.55078125, 23811.36328125, 70924.9140625, 79165.8515625, 11665.08984375, 6374.9140625, 38522.57421875, 17090.71875, 17849.876953125, 17751.08203125, 17721.24609375, 14865.154296875, 12493.9111328125, 8684.9482421875, 13728.1435546875, 10314.5498046875, 12899.6591796875, 12341.67578125, 12836.1884765625, 10836.5830078125, 9956.4091796875, 6912.14111328125, 6823.71728515625, 6029.681640625, 5870.5986328125, 5871.1708984375, 5469.94189453125, 5110.7197265625, 4828.9775390625, 4588.8583984375, 3949.37255859375, 3691.042724609375, 3668.45556640625, 3284.16064453125, 3136.6455078125, 2712.492431640625, 2586.36083984375, 2407.5185546875, 2406.083984375, 2338.232421875, 2272.8349609375, 2217.370849609375, 2060.95263671875, 1963.2803955078125, 1940.7076416015625, 1865.851806640625, 1596.9833984375, 1570.8367919921875, 7308.34326171875, 24616.873046875, 9872.5537109375, 6215.87548828125, 7145.85791015625, 27209.17578125, 11265.2119140625, 6619.5029296875, 5525.6474609375, 24314.166015625, 7917.21142578125, 3567.60595703125, 8169.8857421875, 7156.3125, 13847.6337890625, 8587.634765625, 9328.458984375, 22616.23046875, 6179.025390625, 8982.55078125, 13601.88671875, 10721.67578125, 18240.294921875, 12765.3896484375, 17487.44140625, 9995.3095703125, 8952.6123046875, 7882.43994140625, 7019.41845703125, 7550.78369140625, 7376.61083984375, 32992.80859375, 5541.1904296875, 5314.7001953125, 3851.723388671875, 1692.9942626953125, 1617.2774658203125, 1278.5816650390625, 1103.4302978515625, 1065.0338134765625, 770.209228515625, 720.0842895507812, 622.495361328125, 566.6572875976562, 553.2782592773438, 468.26434326171875, 435.9524841308594, 390.2933654785156, 366.3460693359375, 357.7201232910156, 354.3548583984375, 339.1658630371094, 278.3056640625, 273.8676452636719, 241.9479217529297, 222.33447265625, 195.05360412597656, 194.223388671875, 186.05992126464844, 184.6956024169922, 153.97354125976562, 37652.40625, 22844.59375, 25180.181640625, 3402.200927734375, 8098.11083984375, 2256.23583984375, 21399.12109375, 14286.341796875, 2093.05078125, 23066.673828125, 1373.64306640625, 1181.427978515625, 2067.201416015625, 25610.294921875, 15034.38671875, 9307.2841796875, 18930.3203125, 2333.698974609375, 7540.96484375, 17049.103515625, 10181.2705078125, 9377.5986328125, 8499.474609375, 9790.0595703125, 18749.640625, 50568.8671875, 13540.705078125, 13119.6494140625, 4829.994140625, 14902.6474609375, 17925.15234375, 20060.244140625, 11973.873046875, 14890.318359375, 32933.48046875, 10442.3837890625, 12389.2734375, 9558.0341796875, 9872.5205078125, 9036.12109375, 3804.34423828125, 2932.669677734375, 1859.45361328125, 1579.6435546875, 1504.716552734375, 1429.824462890625, 967.9154052734375, 877.6516723632812, 698.692138671875, 691.4236450195312, 657.5025024414062, 590.52587890625, 493.6652526855469, 452.9225769042969, 396.5596618652344, 360.4344177246094, 351.13720703125, 323.78924560546875, 322.581787109375, 315.5318298339844, 315.43707275390625, 310.7025451660156, 274.86749267578125, 269.0927429199219, 257.3280029296875, 254.2557373046875, 246.81033325195312, 232.19715881347656, 220.778076171875, 3513.04541015625, 2913.24853515625, 5620.47265625, 14717.8408203125, 38466.7109375, 2077.703857421875, 1445.344482421875, 3802.210693359375, 3508.60302734375, 51709.87109375, 10175.201171875, 1316.9537353515625, 2299.67431640625, 15068.14453125, 4514.8564453125, 9491.634765625, 1150.82568359375, 38509.43359375, 3090.5546875, 7850.60888671875, 12514.6513671875, 4584.3759765625, 33046.203125, 4958.2431640625, 52117.87890625, 31634.654296875, 10063.197265625, 21594.296875, 5123.64404296875, 8423.1767578125, 30247.044921875, 10944.361328125, 11779.57421875, 10436.6328125, 11313.4794921875, 9734.79296875, 6387.8623046875, 16526.86328125, 9899.5283203125, 6408.921875, 7841.859375, 7582.06201171875, 6254.18212890625, 7144.5693359375, 6504.296875, 26270.8203125, 20524.44140625, 7321.52880859375, 6083.96630859375, 3229.861572265625, 2855.745361328125, 2604.240966796875, 2229.46044921875, 1950.2705078125, 1927.2979736328125, 1919.829345703125, 1759.3192138671875, 1632.84765625, 1613.5023193359375, 1596.8133544921875, 1579.985595703125, 1396.5870361328125, 1340.0177001953125, 1128.2034912109375, 1056.81494140625, 1043.4566650390625, 1042.06787109375, 903.5695190429688, 862.5648803710938, 792.1123657226562, 791.5623779296875, 777.16162109375, 766.0880126953125, 716.2412719726562, 673.049072265625, 8036.97412109375, 7159.8154296875, 9468.666015625, 19202.2421875, 7820.29443359375, 55065.05859375, 31502.486328125, 3245.5732421875, 12632.2109375, 3531.92626953125, 4930.6875, 3445.1572265625, 7024.97265625, 3730.976318359375, 18291.341796875, 8234.6376953125, 3863.396484375, 23877.81640625, 14248.75, 15629.400390625, 4171.6787109375, 6294.64501953125, 6631.16162109375, 13703.2333984375, 9330.4716796875, 5949.54248046875, 4729.48828125, 12253.388671875, 11392.3486328125, 4549.376953125, 5249.35009765625, 6430.84228515625, 5010.1884765625, 5801.931640625, 4347.27783203125, 4244.17578125, 3012.83447265625, 2542.20068359375, 1994.386962890625, 1957.1031494140625, 1621.7559814453125, 1543.1724853515625, 1527.487060546875, 1505.8311767578125, 1454.38525390625, 1438.239501953125, 1432.7840576171875, 1409.24560546875, 1293.4739990234375, 1200.16015625, 1167.6370849609375, 1127.2147216796875, 1108.424560546875, 1094.06640625, 1088.42431640625, 1067.6651611328125, 1062.1082763671875, 1057.1788330078125, 1043.20556640625, 1034.3658447265625, 1028.476318359375, 1014.0496215820312, 950.0472412109375, 941.5722045898438, 26811.08984375, 3652.421875, 2859.14794921875, 3577.928466796875, 4313.55029296875, 5364.72265625, 7797.52978515625, 4912.02783203125, 5310.01220703125, 3816.81884765625, 3173.6328125, 2433.8056640625, 5388.88330078125, 8461.1826171875, 4949.05517578125, 7359.37890625, 2742.680908203125, 9711.744140625, 4219.19580078125, 3709.38134765625, 6184.86669921875, 5177.95166015625, 2390.414306640625, 13206.7861328125, 6143.57080078125, 4754.166015625, 3920.812255859375, 4277.06005859375, 3610.693603515625, 4041.13134765625, 4428.11767578125, 3354.696533203125, 3430.271484375, 29138.166015625, 13145.828125, 12732.5126953125, 9376.455078125, 8648.7685546875, 8513.9794921875, 6450.76220703125, 6037.2333984375, 5725.91162109375, 4704.537109375, 4291.384765625, 4084.24462890625, 3952.33984375, 3763.932861328125, 3438.658203125, 3093.268310546875, 2732.39208984375, 2404.750732421875, 2347.4931640625, 2183.0751953125, 2126.345703125, 2123.9501953125, 1806.47509765625, 1762.3572998046875, 1637.75830078125, 1578.229736328125, 1576.1663818359375, 1550.583740234375, 1516.0181884765625, 1505.30126953125, 4471.72998046875, 19031.333984375, 7870.3515625, 3798.2822265625, 8994.8779296875, 5555.2841796875, 2628.28955078125, 3914.718505859375, 2634.0634765625, 25604.12109375, 16365.4921875, 11749.2783203125, 10323.416015625, 6416.09228515625, 6285.173828125, 6236.23193359375, 5321.21533203125, 5189.3125, 5048.46728515625, 4395.8857421875, 4376.38427734375, 4309.52197265625, 3664.40234375, 3288.794921875, 3060.712890625, 2868.2734375, 2700.8447265625, 2607.478759765625, 2321.11181640625, 2291.643798828125, 2140.65234375, 2127.752685546875, 2060.240234375, 1983.6392822265625, 1969.8489990234375, 1830.8621826171875, 1768.5704345703125, 1681.9609375, 1447.4163818359375, 18502.17578125, 10030.3623046875, 6540.6533203125, 3889.36181640625, 2697.037109375, 2865.32861328125, 2831.611328125, 2436.9501953125, 19509.490234375, 16456.88671875, 8833.50390625, 3806.2353515625, 2989.9013671875, 2341.38525390625, 2304.29052734375, 2140.520751953125, 1782.0142822265625, 1474.219970703125, 1448.9454345703125, 1403.8785400390625, 1175.91748046875, 1072.133056640625, 1065.81103515625, 1037.5904541015625, 997.1988525390625, 973.6904296875, 945.0260620117188, 866.8341674804688, 810.9780883789062, 729.7286987304688, 728.5376586914062, 702.4302368164062, 684.2132568359375, 674.9093017578125, 671.1206665039062, 657.5244140625, 646.58837890625, 637.2803955078125, 15118.837890625, 11952.318359375, 1158.2037353515625, 1693.73779296875, 1563.6549072265625, 17099.451171875, 5617.625, 1933.2940673828125, 1376.5406494140625, 1730.4954833984375, 1233.1513671875, 1039.0787353515625, 1081.15087890625, 13065.2490234375, 9663.5322265625, 7155.38720703125, 6730.51318359375, 5701.0615234375, 5036.96923828125, 4164.95556640625, 3967.269287109375, 3732.00537109375, 3493.383056640625, 2720.25146484375, 2366.11376953125, 2206.033935546875, 2110.769775390625, 2039.275146484375, 1994.55908203125, 1794.529541015625, 1760.6796875, 1650.83349609375, 1525.2315673828125, 1384.501953125, 1375.814697265625, 1349.1661376953125, 1267.337646484375, 1144.116455078125, 1091.8294677734375, 1075.7440185546875, 979.8543090820312, 965.4942626953125, 964.0399169921875, 4886.63330078125, 1794.8865966796875, 1340.92138671875, 1173.6708984375, 1212.9903564453125, 1172.5343017578125, 4827.4609375, 4605.30517578125, 4139.44482421875, 3898.40869140625, 3162.09326171875, 2992.87939453125, 2908.18603515625, 2613.402587890625, 2333.3916015625, 2247.40380859375, 2208.223388671875, 2044.388916015625, 1957.7169189453125, 1542.330078125, 1500.66748046875, 1383.9052734375, 1333.5810546875, 1276.4334716796875, 1104.8607177734375, 1098.0380859375, 1080.6962890625, 976.2606201171875, 962.2645263671875, 961.4359130859375, 866.4425659179688, 866.14892578125, 815.7266845703125, 751.6898803710938, 739.4404907226562, 707.4793090820312, 9993.662109375, 1300.2327880859375, 1588.9779052734375, 946.8267211914062, 14747.826171875, 12289.2568359375, 12203.61328125, 10711.615234375, 2314.234375, 793.4963989257812, 711.8358764648438, 608.1298828125, 520.2493896484375, 303.4515686035156, 254.50416564941406, 233.5208282470703, 170.44891357421875, 133.10592651367188, 96.57320404052734, 66.28652954101562, 59.49309158325195, 56.92481994628906, 28.67954444885254, 28.404260635375977, 24.334426879882812, 19.303199768066406, 19.268096923828125, 18.639541625976562, 16.750385284423828, 14.301811218261719, 12.168675422668457, 11.412504196166992, 8.982399940490723, 7.381654262542725, 240.4363555908203, 16373.7255859375, 216.6527557373047, 13649.0732421875, 6036.02197265625, 4198.390625, 3407.82275390625, 3245.993896484375, 2641.955322265625, 2521.271240234375, 2500.2685546875, 2256.30517578125, 2224.125244140625, 2086.429931640625, 1420.334716796875, 1420.2896728515625, 1389.5216064453125, 1379.503173828125, 1362.6083984375, 1286.7052001953125, 1225.1387939453125, 1214.7706298828125, 1204.0484619140625, 1168.7794189453125, 1117.640625, 989.353759765625, 959.0128173828125, 957.2376098632812, 917.2535400390625, 903.2461547851562, 894.6185302734375, 890.6329956054688, 755.6347045898438, 722.4779052734375, 2590.355712890625, 1890.186767578125, 951.887451171875, 5785.30859375, 5766.65576171875, 4360.669921875, 4340.693359375, 4263.12548828125, 2652.787109375, 2578.526611328125, 1857.9615478515625, 1717.9444580078125, 1701.523681640625, 1623.0623779296875, 1564.206298828125, 1397.520263671875, 1279.6656494140625, 1256.67529296875, 1252.443603515625, 1062.6431884765625, 951.0955810546875, 851.7266845703125, 839.74462890625, 837.0877685546875, 828.2144165039062, 825.9625244140625, 824.5274047851562, 791.89599609375, 704.6199951171875, 659.6431274414062, 626.6683959960938, 539.0326538085938, 525.1552124023438, 3353.025146484375, 1068.875, 1659.256103515625, 1011.7943115234375, 739.294189453125, 6484.03564453125, 5798.63134765625, 2552.603759765625, 2506.801025390625, 2207.607177734375, 1940.9254150390625, 1543.6771240234375, 1475.822509765625, 1212.45263671875, 1179.7080078125, 1120.137451171875, 1115.9910888671875, 1110.46533203125, 1088.429443359375, 1076.3572998046875, 1026.6483154296875, 940.3871459960938, 848.1589965820312, 843.58154296875, 753.67041015625, 730.3587646484375, 709.459228515625, 693.4513549804688, 687.2788696289062, 680.144287109375, 674.0126342773438, 661.3484497070312, 657.1425170898438, 622.3895263671875, 587.5885620117188, 6606.0126953125, 7230.755859375, 6321.43603515625, 6116.69580078125, 6036.46826171875, 4874.1552734375, 3910.8193359375, 2499.832275390625, 2471.83740234375, 1856.5960693359375, 1481.57861328125, 1369.732177734375, 1317.1334228515625, 1218.79541015625, 1216.0103759765625, 1070.429443359375, 1042.203857421875, 881.5588989257812, 834.4096069335938, 815.3710327148438, 812.7688598632812, 770.7870483398438, 723.4481811523438, 650.3744506835938, 595.9688720703125, 571.1204223632812, 566.2179565429688, 560.5974731445312, 558.6796264648438, 554.0936279296875, 537.6818237304688, 603.0195922851562, 554.2953491210938, 6542.5185546875, 3789.37353515625, 3538.138427734375, 3165.052978515625, 2610.372802734375, 2457.950927734375, 2052.35986328125, 1993.9351806640625, 1723.7713623046875, 1679.153564453125, 1527.3814697265625, 1261.3155517578125, 1203.7159423828125, 1187.4962158203125, 1163.7745361328125, 1044.8731689453125, 850.17041015625, 806.1885375976562, 741.3723754882812, 723.7620849609375, 693.07568359375, 678.94482421875, 657.7634887695312, 591.949462890625, 496.0616760253906, 466.098876953125, 450.932861328125, 432.76165771484375, 430.0288391113281, 373.3985900878906, 2454.65087890625, 832.8505249023438, 576.841064453125, 9340.623046875, 4547.1494140625, 2719.738037109375, 1890.54052734375, 1885.517578125, 1853.91015625, 1437.14990234375, 1361.301513671875, 1231.8988037109375, 981.8919677734375, 918.949951171875, 917.7708740234375, 903.6085815429688, 838.469970703125, 827.9791870117188, 786.336181640625, 745.6033935546875, 711.1652221679688, 648.3854370117188, 560.8634033203125, 558.589599609375, 540.9971313476562, 537.1880493164062, 526.927734375, 488.6337585449219, 471.2987060546875, 466.6424255371094, 441.15704345703125, 439.4520263671875, 417.7291259765625, 3467.40966796875, 1264.496826171875, 1357.899169921875, 1749.6466064453125, 1115.198486328125, 610.80029296875, 728.2486572265625, 609.59765625, 7167.63330078125, 3600.213623046875, 3169.773193359375, 2887.537353515625, 1920.1090087890625, 1775.9681396484375, 1619.3582763671875, 1344.0186767578125, 1265.807861328125, 1232.570068359375, 1170.02978515625, 1115.14208984375, 1031.5687255859375, 926.5806884765625, 876.2395629882812, 843.7230834960938, 772.7130126953125, 588.4125366210938, 572.9171752929688, 571.04296875, 569.1696166992188, 564.8226318359375, 509.3520202636719, 487.26422119140625, 451.3365173339844, 421.115966796875, 392.70953369140625, 327.01861572265625, 307.8874206542969, 287.8884582519531, 663.4503173828125, 2667.89404296875, 1072.84423828125, 965.5070190429688, 613.9425048828125, 468.0586853027344], \"Term\": [\"host\", \"great\", \"day\", \"room\", \"time\", \"location\", \"stay\", \"nice\", \"place\", \"clean\", \"muy\", \"tre\", \"walk\", \"new\", \"good\", \"subway\", \"spot\", \"park\", \"really\", \"central\", \"home\", \"check\", \"airbnb\", \"bed\", \"arrival\", \"super\", \"que\", \"value\", \"appartement\", \"square\", \"block\", \"distance\", \"shop\", \"nearby\", \"line\", \"ride\", \"grocery_store\", \"attraction\", \"walking\", \"supermarket\", \"grocery\", \"bridge\", \"communicating\", \"near\", \"item\", \"ave\", \"italy\", \"bagel\", \"baby\", \"eatery\", \"union_square\", \"uptown\", \"handy\", \"parent\", \"pharmacy\", \"dine\", \"pub\", \"touristy\", \"variety\", \"organized\", \"shopping\", \"restaurant\", \"train\", \"walk\", \"bar\", \"stop\", \"subway\", \"corner\", \"market\", \"away\", \"station\", \"centrally\", \"store\", \"food\", \"downtown\", \"close\", \"minute\", \"min\", \"bus\", \"many\", \"manhattan\", \"coffee\", \"street\", \"right\", \"lot\", \"easy\", \"neighborhood\", \"access\", \"apartment\", \"great\", \"location\", \"place\", \"area\", \"get\", \"locate\", \"stay\", \"clean\", \"good\", \"also\", \"public_transportation\", \"whenever\", \"def\", \"transit\", \"sara\", \"ed\", \"inconvenient\", \"associate\", \"greatly\", \"stone_throw\", \"fiance\", \"simone\", \"count\", \"belle\", \"casual\", \"cucina\", \"ratio\", \"dei\", \"piccolo\", \"homie\", \"centralize\", \"willingness\", \"florida\", \"noodle\", \"heatwave\", \"fatto\", \"appropriately\", \"lex\", \"mama\", \"colazione\", \"informative\", \"prompt\", \"accommodating\", \"great\", \"communication\", \"highly\", \"accommodate\", \"responsive\", \"exactly\", \"location\", \"excellent\", \"query\", \"recommend\", \"describe\", \"advertise\", \"would\", \"respond\", \"definitely\", \"stylish\", \"communicate\", \"quick\", \"host\", \"easy\", \"awesome\", \"clean\", \"check\", \"stay\", \"place\", \"helpful\", \"fantastic\", \"apartment\", \"perfect\", \"super\", \"comfortable\", \"everything\", \"space\", \"amazing\", \"spacious\", \"need\", \"thank\", \"good\", \"nice\", \"issue\", \"noise\", \"late\", \"early\", \"flexible\", \"flight\", \"noisy\", \"stair\", \"luggage\", \"hear\", \"loud\", \"cold\", \"elevator\", \"bag\", \"smell\", \"fix\", \"heater\", \"pick\", \"pm\", \"difficult\", \"drop\", \"bother\", \"otherwise\", \"toilet\", \"uncomfortable\", \"party\", \"wake\", \"upstairs\", \"wrong\", \"light_sleeper\", \"let\", \"night\", \"bit\", \"hour\", \"problem\", \"check\", \"sleep\", \"key\", \"however\", \"get\", \"leave\", \"hard\", \"door\", \"floor\", \"day\", \"work\", \"little\", \"apartment\", \"arrive\", \"even\", \"time\", \"also\", \"stay\", \"would\", \"place\", \"make\", \"go\", \"could\", \"thing\", \"come\", \"need\", \"home\", \"hope\", \"future\", \"dog\", \"patio\", \"spectacular\", \"forward\", \"exceptional\", \"dish\", \"etc\", \"courteous\", \"delightful\", \"adventure\", \"board\", \"interested\", \"worried\", \"artistic\", \"hangout\", \"continue\", \"le\", \"chilly\", \"indicate\", \"messaging\", \"future_visit\", \"engage\", \"inspire\", \"bk\", \"supportive\", \"traditional\", \"sticky\", \"new\", \"back\", \"york\", \"soon\", \"absolutely\", \"suggestion\", \"come\", \"visit\", \"gorgeous\", \"feel\", \"vacation\", \"worry\", \"year\", \"make\", \"love\", \"sure\", \"amazing\", \"best\", \"welcome\", \"thank\", \"beautiful\", \"next\", \"trip\", \"wonderful\", \"definitely\", \"stay\", \"city\", \"go\", \"ever\", \"perfect\", \"time\", \"would\", \"nyc\", \"everything\", \"place\", \"recommend\", \"apartment\", \"need\", \"host\", \"response\", \"reply\", \"transportation\", \"ferry\", \"winter\", \"advice\", \"state\", \"futon\", \"skyline\", \"julia\", \"minimal\", \"reachable\", \"relaxing\", \"brother\", \"dave\", \"recomend\", \"townhouse\", \"extra_mile\", \"funny\", \"fold\", \"repeat\", \"deserve\", \"everybody\", \"pleasantly_surprised\", \"traveling_alone\", \"listen\", \"premise\", \"touristic\", \"introduce\", \"caring\", \"appartment\", \"cosy\", \"flat\", \"house\", \"really\", \"roommate\", \"calm\", \"guy\", \"conveniently\", \"nice\", \"help\", \"polite\", \"outstanding\", \"friendly\", \"tip\", \"kind\", \"respectful\", \"good\", \"sweet\", \"always\", \"helpful\", \"fast\", \"host\", \"person\", \"place\", \"clean\", \"locate\", \"room\", \"cool\", \"enjoy\", \"stay\", \"thank\", \"everything\", \"super\", \"close\", \"well\", \"give\", \"great\", \"recommend\", \"cozy\", \"also\", \"time\", \"neighborhood\", \"subway\", \"apartment\", \"bathroom\", \"bedroom\", \"living\", \"group\", \"sparkle\", \"bath\", \"closet\", \"blanket\", \"tea\", \"curtain\", \"adult\", \"soap\", \"hair\", \"soft\", \"drive\", \"separate\", \"clothe\", \"essential\", \"clearly\", \"climb\", \"desk\", \"chair\", \"water_pressure\", \"sharing\", \"white\", \"suit\", \"happily\", \"careful\", \"terrible\", \"importantly\", \"private\", \"share\", \"towel\", \"kitchen\", \"large\", \"room\", \"bed\", \"sheet\", \"small\", \"basic\", \"tv\", \"size\", \"shower\", \"huge\", \"space\", \"big\", \"extra\", \"clean\", \"comfortable\", \"good\", \"window\", \"sleep\", \"people\", \"nice\", \"well\", \"use\", \"plenty\", \"location\", \"apartment\", \"comfy\", \"provide\", \"area\", \"price\", \"need\", \"star\", \"instruction\", \"turn\", \"text\", \"completely\", \"receive\", \"positive\", \"toilet_paper\", \"reason\", \"listing\", \"hide\", \"finally\", \"instead\", \"email\", \"negative\", \"decide\", \"suitcase\", \"actual\", \"emplacement\", \"mom\", \"trash\", \"charge\", \"date\", \"sized\", \"third\", \"write\", \"dust\", \"disappointed\", \"guess\", \"rule\", \"airbnb\", \"entire\", \"booking\", \"contact\", \"tell\", \"last\", \"say\", \"hotel\", \"apt\", \"list\", \"call\", \"review\", \"ask\", \"first\", \"message\", \"book\", \"clear\", \"experience\", \"never\", \"think\", \"give\", \"guest\", \"couch\", \"host\", \"minute\", \"use\", \"leave\", \"find\", \"meet\", \"could\", \"get\", \"provide\", \"even\", \"muy\", \"el\", \"para\", \"esta\", \"excelente\", \"todo\", \"por\", \"lugar\", \"cerca\", \"pero\", \"tiene\", \"como\", \"una\", \"buena\", \"comodo\", \"habitacion\", \"fue\", \"disponible\", \"departamento\", \"zona\", \"comoda\", \"barrio\", \"su\", \"cocina\", \"bano\", \"apartamento\", \"llegar\", \"estancia\", \"tranquilo\", \"bien_ubicado\", \"casa\", \"que\", \"con\", \"nos\", \"metro\", \"bien\", \"son\", \"super\", \"manhattan\", \"tre\", \"est\", \"pour\", \"dan\", \"une\", \"e\", \"pas\", \"propre\", \"nous\", \"breeze\", \"tout\", \"et\", \"hote\", \"etait\", \"qui\", \"quarti\", \"sejour\", \"du\", \"les\", \"agreable\", \"ete\", \"sont\", \"sur\", \"elle\", \"vous\", \"ce\", \"passe\", \"meme\", \"vraiment\", \"donc\", \"appartement\", \"bien\", \"metro\", \"super\", \"que\", \"new\", \"manhattan\", \"york\", \"central\", \"square\", \"modern\", \"rooftop\", \"ubicacion\", \"gem\", \"brand\", \"empire_state\", \"design\", \"ben\", \"follow\", \"doorman\", \"addition\", \"hip\", \"chic\", \"equipped\", \"heartbeat\", \"amazingly\", \"nicely_decorated\", \"community\", \"tony\", \"destination\", \"coffee_maker\", \"slightly\", \"name\", \"various\", \"madison\", \"kindness\", \"correct\", \"five_star\", \"park\", \"view\", \"efficient\", \"convenience\", \"greet\", \"time\", \"building\", \"ton\", \"incredible\", \"build\", \"spotless\", \"broadway\", \"decor\", \"und\", \"ist\", \"die\", \"man\", \"war\", \"der\", \"be\", \"sehr\", \"das\", \"renovate\", \"hat\", \"auch\", \"nicht\", \"eine\", \"aber\", \"fur\", \"wir\", \"hospital\", \"sind\", \"gut\", \"bei\", \"den\", \"uns\", \"bon\", \"waren\", \"sich\", \"perto\", \"fica\", \"fotos\", \"auf\", \"super\", \"new\", \"york\", \"bad\", \"check\", \"apartment\", \"not\", \"rent\", \"truly\", \"do\", \"beat\", \"loft\", \"property\", \"michael\", \"basement\", \"peaceful\", \"vibe\", \"self\", \"foot\", \"anthony\", \"treat\", \"appear\", \"fill\", \"rental\", \"getaway\", \"pipe\", \"phenomenal\", \"tight\", \"matter\", \"justice\", \"post\", \"absolute\", \"centre\", \"traveller\", \"team\", \"pic\", \"spot\", \"attention\", \"detail\", \"honestly\", \"arrival\", \"cancel\", \"reservation\", \"automated_posting\", \"relax\", \"bottle\", \"previous\", \"john\", \"hustle_bustle\", \"cleaning_fee\", \"year_old\", \"elegant\", \"ues\", \"ill\", \"appt\", \"\\u0435\\u0441\\u0442\\u044c\", \"\\u0445\\u043e\\u0437\\u044f\\u0438\\u043d\", \"\\u0434\\u043e\\u043c\", \"\\u0435\\u0441\\u043b\\u0438\", \"\\u0441\\u043f\\u0430\\u0441\\u0438\\u0431\\u043e\", \"\\u043f\\u043e\\u043d\\u0440\\u0430\\u0432\\u0438\\u043b\\u043e\\u0441\\u044c\", \"\\u043e\\u043d\\u0430\", \"\\u043a\\u043e\\u043d\\u0434\\u0438\\u0446\\u0438\\u043e\\u043d\\u0435\\u0440\", \"\\u043d\\u0443\\u0436\\u043d\\u043e\", \"\\u043a\\u0443\\u0445\\u043d\\u044f\", \"\\u043d\\u0430\\u0441\", \"\\u043c\\u043e\\u0436\\u043d\\u043e\", \"infrastructure\", \"\\u0445\\u043e\\u0440\\u043e\\u0448\\u0438\\u0438\", \"\\u043a\\u0432\\u0430\\u0440\\u0442\\u0438\\u0440\\u0435_\\u0435\\u0441\\u0442\\u044c\", \"retreat\", \"day\", \"dream\", \"host\", \"studio\", \"mattress\", \"send\", \"stock\", \"superb\", \"favorite\", \"promptly\", \"supply\", \"budget\", \"jfk\", \"environment\", \"transport\", \"refund\", \"one\", \"cleaning\", \"rate\", \"nightlife\", \"christmas\", \"twice\", \"speak\", \"trendy\", \"direct\", \"plug\", \"noche\", \"hair_dryer\", \"proximite\", \"assist\", \"flexibility\", \"pre\", \"emergency\", \"pillow\", \"air\", \"advertise\", \"car\", \"fit\", \"logement\", \"limpio\", \"confortable\", \"mas\", \"ensure\", \"com\", \"si\", \"dormir\", \"sympa\", \"activity\", \"muito\", \"non\", \"nao\", \"extend\", \"uma\", \"impeccable\", \"persona\", \"parfait\", \"ca\", \"recomendo\", \"beautifully_decorated\", \"ok\", \"bem\", \"quelque\", \"quarto\", \"sempre\", \"notre_sejour\", \"phone_number\", \"service\", \"present\", \"owner\", \"local\", \"check\", \"money\", \"worth\", \"necessary\", \"chill\", \"deli\", \"appliance\", \"bedding\", \"resolve\", \"improve\", \"vibrant\", \"stove\", \"rare\", \"tanya\", \"solve\", \"cuisine\", \"none\", \"relaxed\", \"estadia\", \"han\", \"assistance\", \"estacion\", \"knowledgeable\", \"gladly\", \"personne\", \"ad\", \"fully_equipped\", \"luckily\", \"helpfull\", \"nosotros\", \"mouse\", \"value\", \"side\", \"communicative\", \"hospitable\", \"process\", \"incredibly\", \"smooth\", \"chance\", \"adorable\", \"upper_east\", \"grace\", \"professional\", \"carry\", \"arrange\", \"lie\", \"public_transit\", \"load\", \"fly\", \"properly\", \"upper_west\", \"departure\", \"blind\", \"draw\", \"hall\", \"france\", \"particular\", \"resto\", \"bonne\", \"folk\", \"product\", \"complex\", \"system\", \"west\", \"harlem\", \"del\", \"hay\", \"amable\", \"recomendable\", \"era\", \"linda\", \"cama\", \"alle\", \"estaba\", \"limpieza\", \"mejor\", \"similar\", \"gracia\", \"pequeno\", \"edificio\", \"rapido\", \"ser\", \"vista\", \"sucio\", \"bella\", \"ante\", \"dias\", \"wherever\", \"purchase\", \"buena_comunicacion\", \"localizacion\", \"sitio\", \"familia\", \"zone\", \"solo\", \"grande\", \"sofa\", \"top\", \"nous_avon\", \"roof\", \"luxury\", \"calme\", \"bain\", \"salle\", \"proche\", \"par\", \"des\", \"buen\", \"theater\", \"district\", \"temp\", \"connected\", \"constant\", \"bike\", \"plein\", \"atenta\", \"bel\", \"aller\", \"tile\", \"fonctionnel\", \"beau\", \"pour_visiter\", \"menage\", \"sejour_chez\", \"idealement_situe\", \"din\", \"cette\", \"situe\", \"merci\", \"chambre\", \"photo\", \"simple\", \"grande\", \"communication\", \"cafe\", \"description\", \"mais\", \"grand\", \"prime\", \"pa\", \"pie\", \"crazy\", \"tom\", \"pratique\", \"beaucoup\", \"accueil\", \"quartier\", \"chez\", \"sale\", \"reserve\", \"timely_manner\", \"comme\", \"mail\", \"depart\", \"conforme\", \"plusieur\", \"ambiance\", \"autre\", \"sophie\", \"partage\", \"probleme\", \"correspond\", \"equipe\", \"centre_ville\", \"altogether\", \"immediate\", \"min\", \"situe\", \"question\", \"part\", \"ny\"], \"Total\": [121860.0, 214806.0, 36618.0, 76661.0, 66996.0, 131470.0, 196855.0, 89467.0, 235595.0, 123657.0, 29139.0, 25605.0, 57841.0, 42314.0, 87928.0, 67806.0, 18734.0, 20928.0, 58092.0, 19511.0, 32994.0, 52974.0, 27902.0, 42921.0, 14749.0, 50733.0, 21730.0, 16149.0, 18936.0, 16458.0, 19278.017578125, 17038.7734375, 15279.466796875, 11258.609375, 9635.44140625, 4370.650390625, 3689.494140625, 3291.84814453125, 3162.56494140625, 3150.794677734375, 3026.40283203125, 1944.9874267578125, 1864.6776123046875, 1855.3505859375, 1763.2166748046875, 1497.8795166015625, 1476.3038330078125, 1283.1146240234375, 1051.6512451171875, 1029.5018310546875, 976.5814819335938, 965.8338012695312, 959.2032470703125, 956.86083984375, 851.5460205078125, 699.525390625, 683.2236938476562, 677.0042114257812, 625.7958374023438, 546.75390625, 2926.13720703125, 39679.84765625, 23472.875, 57841.12890625, 16376.5126953125, 8947.7958984375, 67806.953125, 7927.1591796875, 3268.94287109375, 26246.654296875, 28264.125, 2274.153564453125, 8037.169921875, 13920.2607421875, 5287.15283203125, 61692.29296875, 31650.74609375, 18537.177734375, 8723.8564453125, 17090.697265625, 39252.15234375, 11483.912109375, 22756.130859375, 22883.626953125, 29701.875, 53652.79296875, 29913.734375, 15152.05078125, 138669.734375, 214806.703125, 131470.359375, 235595.015625, 33430.23046875, 55121.0859375, 25588.515625, 196855.03125, 123657.1484375, 87928.0703125, 41100.52734375, 2576.767578125, 1571.424072265625, 908.64013671875, 893.45703125, 531.798095703125, 439.414794921875, 308.402099609375, 291.27117919921875, 241.50820922851562, 216.85049438476562, 216.33380126953125, 183.68670654296875, 164.43019104003906, 161.64247131347656, 101.36302185058594, 86.98516082763672, 75.8831558227539, 64.06604766845703, 57.695003509521484, 56.16389465332031, 56.145530700683594, 49.867095947265625, 49.12753677368164, 46.85051727294922, 40.19791030883789, 39.61779022216797, 36.254886627197266, 33.27880096435547, 25.19014549255371, 23.750797271728516, 410.20599365234375, 2554.0009765625, 4256.3564453125, 214806.703125, 23611.13671875, 23795.49609375, 13989.8857421875, 19701.89453125, 10069.2705078125, 131470.359375, 16907.78125, 750.4269409179688, 67479.0625, 7012.03515625, 3399.84326171875, 79981.890625, 17728.859375, 47321.00390625, 9198.5498046875, 7095.2734375, 24026.40234375, 121860.46875, 53652.79296875, 14127.5283203125, 123657.1484375, 52974.24609375, 196855.03125, 235595.015625, 26756.140625, 12016.912109375, 138669.734375, 46884.9140625, 50733.671875, 55137.8828125, 55207.37109375, 43030.625, 37440.96875, 20954.68359375, 52340.1484375, 38309.7421875, 87928.0703125, 89467.015625, 12838.025390625, 10838.419921875, 9958.24609375, 6913.9765625, 6825.552734375, 6031.51708984375, 5872.43408203125, 5873.00634765625, 5471.77734375, 5112.55517578125, 4830.81298828125, 4590.69384765625, 3951.20751953125, 3692.877685546875, 3670.29052734375, 3285.99560546875, 3138.48046875, 2714.327392578125, 2588.19580078125, 2409.353515625, 2407.9189453125, 2340.0673828125, 2274.669921875, 2219.205810546875, 2062.78759765625, 1965.1156005859375, 1942.5428466796875, 1867.68701171875, 1598.818603515625, 1572.6719970703125, 7568.7744140625, 35230.80859375, 13487.046875, 8132.43896484375, 9738.6728515625, 52974.24609375, 17561.6328125, 9151.33984375, 7344.8046875, 55121.0859375, 12416.5546875, 4150.451171875, 14086.2998046875, 11884.4775390625, 36618.1640625, 17234.73828125, 22008.384765625, 138669.734375, 10633.3427734375, 24578.0703125, 66996.3359375, 41100.52734375, 196855.03125, 79981.890625, 235595.015625, 46153.3671875, 33954.2734375, 21464.5859375, 16688.287109375, 29028.6328125, 52340.1484375, 32994.6484375, 5543.02685546875, 5316.53662109375, 3853.55908203125, 1694.830322265625, 1619.113525390625, 1280.417724609375, 1105.266357421875, 1066.869873046875, 772.0453491210938, 721.92041015625, 624.3314819335938, 568.493408203125, 555.1143798828125, 470.1004638671875, 437.7886047363281, 392.1294860839844, 368.18218994140625, 359.5562438964844, 356.19097900390625, 341.0019836425781, 280.14178466796875, 275.7037658691406, 243.78399658203125, 224.17054748535156, 196.88967895507812, 196.05946350097656, 187.89599609375, 186.53167724609375, 155.8096160888672, 42314.07421875, 27186.78515625, 30240.306640625, 3772.865478515625, 9483.1806640625, 2614.727294921875, 29028.6328125, 19639.111328125, 2489.53564453125, 34522.01171875, 1581.47607421875, 1346.7384033203125, 2524.052734375, 46153.3671875, 26150.6875, 15183.0048828125, 37440.96875, 3162.602783203125, 13712.462890625, 38309.7421875, 20153.072265625, 18347.228515625, 16296.1005859375, 19748.818359375, 47321.00390625, 196855.03125, 33020.1328125, 33954.2734375, 8462.20703125, 46884.9140625, 66996.3359375, 79981.890625, 35839.16796875, 55207.37109375, 235595.015625, 67479.0625, 138669.734375, 52340.1484375, 121860.46875, 9037.962890625, 3806.18505859375, 2934.510498046875, 1861.294677734375, 1581.484619140625, 1506.5576171875, 1431.66552734375, 969.7565307617188, 879.4927978515625, 700.5332641601562, 693.2647705078125, 659.3436279296875, 592.3670043945312, 495.5063781738281, 454.7637023925781, 398.4007873535156, 362.2755432128906, 352.97833251953125, 325.63037109375, 324.42291259765625, 317.3729553222656, 317.2781982421875, 312.5436706542969, 276.7086181640625, 270.9338684082031, 259.16912841796875, 256.0968322753906, 248.6514129638672, 234.03823852539062, 222.61915588378906, 3697.823486328125, 3137.508056640625, 6847.38623046875, 19769.640625, 58092.83203125, 2461.174072265625, 1680.3358154296875, 4880.60693359375, 4489.306640625, 89467.015625, 14884.80859375, 1542.0450439453125, 2865.206298828125, 24232.12109375, 6210.17724609375, 15355.9609375, 1336.26708984375, 87928.0703125, 4418.99755859375, 14484.06640625, 26756.140625, 8164.55419921875, 121860.46875, 9340.2470703125, 235595.015625, 123657.1484375, 25588.515625, 76661.125, 10158.064453125, 23371.232421875, 196855.03125, 38309.7421875, 55207.37109375, 50733.671875, 61692.29296875, 45928.609375, 17715.716796875, 214806.703125, 67479.0625, 19732.1796875, 41100.52734375, 66996.3359375, 29913.734375, 67806.953125, 138669.734375, 26272.6640625, 20526.28515625, 7323.37158203125, 6085.80908203125, 3231.703857421875, 2857.587646484375, 2606.083251953125, 2231.302734375, 1952.11328125, 1929.1407470703125, 1921.672119140625, 1761.1619873046875, 1634.6904296875, 1615.3450927734375, 1598.6561279296875, 1581.828369140625, 1398.4298095703125, 1341.8604736328125, 1130.0462646484375, 1058.65771484375, 1045.2994384765625, 1043.91064453125, 905.4122924804688, 864.4076538085938, 793.9551391601562, 793.4051513671875, 779.00439453125, 767.9307861328125, 718.0840454101562, 674.891845703125, 8348.9658203125, 7760.80078125, 10461.5712890625, 22256.208984375, 8886.9287109375, 76661.125, 42921.28125, 3904.953125, 19987.01171875, 4396.5673828125, 6551.36865234375, 4443.380859375, 10731.1796875, 5085.14453125, 43030.625, 15008.9443359375, 5890.98876953125, 123657.1484375, 55137.8828125, 87928.0703125, 8062.5771484375, 17561.6328125, 20167.64453125, 89467.015625, 45928.609375, 17748.9765625, 10464.6259765625, 131470.359375, 138669.734375, 9771.5849609375, 15939.2607421875, 33430.23046875, 16015.48046875, 52340.1484375, 4349.1123046875, 4246.01025390625, 3014.668212890625, 2544.034423828125, 1996.2213134765625, 1958.9375, 1623.59033203125, 1545.0068359375, 1529.3214111328125, 1507.66552734375, 1456.2196044921875, 1440.0738525390625, 1434.618408203125, 1411.0799560546875, 1295.308349609375, 1201.9945068359375, 1169.471435546875, 1129.049072265625, 1110.2589111328125, 1095.9007568359375, 1090.2586669921875, 1069.49951171875, 1063.942626953125, 1059.01318359375, 1045.0399169921875, 1036.2001953125, 1030.3106689453125, 1015.8839721679688, 951.881591796875, 943.4065551757812, 27902.47265625, 3982.758056640625, 3102.20654296875, 4233.642578125, 5271.62451171875, 6884.6298828125, 11599.314453125, 6792.36083984375, 7628.52880859375, 5091.09326171875, 4147.31494140625, 3036.015869140625, 8735.798828125, 16736.8046875, 8482.0654296875, 15019.333984375, 3771.129638671875, 26889.416015625, 7960.71533203125, 7183.19873046875, 17715.716796875, 14233.70703125, 3506.866455078125, 121860.46875, 31650.74609375, 17748.9765625, 12416.5546875, 20128.357421875, 11416.9765625, 21464.5859375, 55121.0859375, 15939.2607421875, 24578.0703125, 29139.9453125, 13147.607421875, 12734.2919921875, 9378.234375, 8650.5478515625, 8515.7587890625, 6452.541015625, 6039.01220703125, 5727.6904296875, 4706.31591796875, 4293.16357421875, 4086.0224609375, 3954.11767578125, 3765.710693359375, 3440.43603515625, 3095.046142578125, 2734.169921875, 2406.528564453125, 2349.27099609375, 2184.85302734375, 2128.12353515625, 2125.72802734375, 1808.2535400390625, 1764.1357421875, 1639.5367431640625, 1580.0081787109375, 1577.94482421875, 1552.3621826171875, 1517.796630859375, 1507.0797119140625, 4596.1904296875, 21730.013671875, 9326.41796875, 4802.361328125, 27048.484375, 15587.2890625, 5158.16796875, 50733.671875, 39252.15234375, 25605.890625, 16367.2607421875, 11751.046875, 10325.1845703125, 6417.8603515625, 6286.94189453125, 6238.0, 5322.9833984375, 5191.08056640625, 5050.2353515625, 4397.65380859375, 4378.15234375, 4311.2900390625, 3666.169921875, 3290.5625, 3062.48046875, 2870.041015625, 2702.6123046875, 2609.246337890625, 2322.87939453125, 2293.411376953125, 2142.419921875, 2129.520263671875, 2062.0078125, 1985.407470703125, 1971.6171875, 1832.63037109375, 1770.338623046875, 1683.7291259765625, 1449.1845703125, 18936.306640625, 15587.2890625, 27048.484375, 50733.671875, 21730.013671875, 42314.07421875, 39252.15234375, 30240.306640625, 19511.32421875, 16458.720703125, 8835.337890625, 3808.068115234375, 2991.734130859375, 2343.218017578125, 2306.123291015625, 2142.353515625, 1783.84765625, 1476.0533447265625, 1450.77880859375, 1405.7119140625, 1177.7508544921875, 1073.9664306640625, 1067.6444091796875, 1039.423828125, 999.0321655273438, 975.5237426757812, 946.859375, 868.66748046875, 812.8114013671875, 731.56201171875, 730.3709716796875, 704.2635498046875, 686.0465698242188, 676.7426147460938, 672.9539794921875, 659.3577270507812, 648.4216918945312, 639.1137084960938, 20928.076171875, 17475.880859375, 1312.2274169921875, 2094.101806640625, 1967.8341064453125, 66996.3359375, 15287.095703125, 4075.584228515625, 3346.11572265625, 6588.41796875, 3770.904052734375, 1863.8907470703125, 2511.398681640625, 13066.9033203125, 9665.1865234375, 7157.041015625, 6732.1669921875, 5702.71533203125, 5038.623046875, 4166.609375, 3968.922607421875, 3733.65869140625, 3495.036376953125, 2721.90478515625, 2367.76708984375, 2207.687255859375, 2112.423095703125, 2040.9290771484375, 1996.2130126953125, 1796.1834716796875, 1762.3336181640625, 1652.4874267578125, 1526.885498046875, 1386.1558837890625, 1377.4686279296875, 1350.820068359375, 1268.9915771484375, 1145.7703857421875, 1093.4833984375, 1077.39794921875, 981.5081787109375, 967.1481323242188, 965.6937866210938, 50733.671875, 42314.07421875, 30240.306640625, 6941.4716796875, 52974.24609375, 138669.734375, 4829.291015625, 4607.13525390625, 4141.27490234375, 3900.23828125, 3163.9228515625, 2994.708984375, 2910.015625, 2615.232177734375, 2335.22119140625, 2249.2333984375, 2210.052978515625, 2046.21923828125, 1959.5472412109375, 1544.160400390625, 1502.497802734375, 1385.735595703125, 1335.411376953125, 1278.2637939453125, 1106.6910400390625, 1099.868408203125, 1082.526611328125, 978.0906982421875, 964.0946044921875, 963.2659912109375, 868.2726440429688, 867.97900390625, 817.5567626953125, 753.5199584960938, 741.2705688476562, 709.3093872070312, 18734.490234375, 1937.6973876953125, 3289.7451171875, 1782.8826904296875, 14749.6806640625, 12291.111328125, 12205.4677734375, 10713.4697265625, 2316.0888671875, 795.35107421875, 713.6905517578125, 609.9845581054688, 522.1040649414062, 305.3062744140625, 256.35888671875, 235.37551879882812, 172.30360412597656, 134.9606170654297, 98.42791748046875, 68.14124298095703, 61.34779357910156, 58.77952194213867, 30.53424644470215, 30.258962631225586, 26.189128875732422, 21.157901763916016, 21.122798919677734, 20.494243621826172, 18.605087280273438, 16.156511306762695, 14.02337646484375, 13.267205238342285, 10.837100982666016, 9.236355781555176, 338.520751953125, 36618.1640625, 543.5465087890625, 121860.46875, 6037.84228515625, 4200.2109375, 3409.642822265625, 3247.81396484375, 2643.775390625, 2523.09130859375, 2502.088623046875, 2258.125244140625, 2225.9453125, 2088.25, 1422.1551513671875, 1422.110107421875, 1391.342041015625, 1381.3236083984375, 1364.4288330078125, 1288.525634765625, 1226.959228515625, 1216.591064453125, 1205.868896484375, 1170.599853515625, 1119.4610595703125, 991.1740112304688, 960.8330688476562, 959.057861328125, 919.0737915039062, 905.06640625, 896.4387817382812, 892.4532470703125, 757.4549560546875, 724.2981567382812, 3771.7353515625, 3565.9482421875, 3399.84326171875, 5787.099609375, 5768.44677734375, 4362.4609375, 4342.484375, 4264.91650390625, 2654.578125, 2580.317626953125, 1859.7529296875, 1719.73583984375, 1703.3150634765625, 1624.853759765625, 1565.9976806640625, 1399.3116455078125, 1281.45703125, 1258.4666748046875, 1254.2349853515625, 1064.4345703125, 952.8867797851562, 853.5178833007812, 841.5358276367188, 838.8789672851562, 830.005615234375, 827.7537231445312, 826.318603515625, 793.6871948242188, 706.4111938476562, 661.434326171875, 628.4595947265625, 540.8238525390625, 526.9464111328125, 4524.55322265625, 1578.97802734375, 4600.3642578125, 10404.6181640625, 52974.24609375, 6485.85400390625, 5800.44970703125, 2554.42236328125, 2508.61962890625, 2209.42578125, 1942.7442626953125, 1545.4959716796875, 1477.641357421875, 1214.271484375, 1181.52685546875, 1121.956298828125, 1117.8099365234375, 1112.2841796875, 1090.248291015625, 1078.1761474609375, 1028.4671630859375, 942.205810546875, 849.9776611328125, 845.4002075195312, 755.4890747070312, 732.1774291992188, 711.2778930664062, 695.27001953125, 689.0975341796875, 681.9629516601562, 675.831298828125, 663.1671142578125, 658.961181640625, 624.2081909179688, 589.4072265625, 16149.1064453125, 7232.57958984375, 6323.259765625, 6118.51953125, 6038.2919921875, 4875.97900390625, 3912.643310546875, 2501.65625, 2473.661376953125, 1858.4200439453125, 1483.402587890625, 1371.55615234375, 1318.9573974609375, 1220.619384765625, 1217.8343505859375, 1072.25341796875, 1044.02783203125, 883.3828735351562, 836.2335815429688, 817.1950073242188, 814.5928344726562, 772.6110229492188, 725.2721557617188, 652.1984252929688, 597.7928466796875, 572.9443969726562, 568.0419311523438, 562.4214477539062, 560.5036010742188, 555.9176025390625, 539.5057983398438, 1374.2425537109375, 1151.0091552734375, 6544.2900390625, 3791.14501953125, 3539.909912109375, 3166.824462890625, 2612.144287109375, 2459.722412109375, 2054.13134765625, 1995.706787109375, 1725.54296875, 1680.9251708984375, 1529.153076171875, 1263.087158203125, 1205.487548828125, 1189.267822265625, 1165.546142578125, 1046.644775390625, 851.94189453125, 807.9600219726562, 743.1438598632812, 725.5335693359375, 694.84716796875, 680.71630859375, 659.5349731445312, 593.720947265625, 497.8332214355469, 467.87042236328125, 452.70440673828125, 434.533203125, 431.8003845214844, 375.1701354980469, 3433.498779296875, 1850.6409912109375, 2827.650146484375, 9342.4111328125, 4548.93701171875, 2721.525634765625, 1892.3282470703125, 1887.3052978515625, 1855.6978759765625, 1438.9376220703125, 1363.0892333984375, 1233.6865234375, 983.6796875, 920.7376708984375, 919.55859375, 905.3963012695312, 840.2576904296875, 829.7669067382812, 788.1239013671875, 747.39111328125, 712.9529418945312, 650.1731567382812, 562.651123046875, 560.3773193359375, 542.7848510742188, 538.9757690429688, 528.7154541015625, 490.4215087890625, 473.0864562988281, 468.43017578125, 442.9447937011719, 441.2397766113281, 419.5168762207031, 4541.90869140625, 1490.6331787109375, 1791.2076416015625, 6922.54345703125, 5756.7705078125, 1850.6409912109375, 23611.13671875, 6250.93701171875, 7169.40478515625, 3601.98486328125, 3171.54443359375, 2889.30859375, 1921.8802490234375, 1777.7393798828125, 1621.1295166015625, 1345.7899169921875, 1267.5791015625, 1234.34130859375, 1171.801025390625, 1116.913330078125, 1033.3399658203125, 928.3519287109375, 878.0108032226562, 845.4943237304688, 774.4842529296875, 590.1837768554688, 574.6884155273438, 572.814208984375, 570.9408569335938, 566.5938720703125, 511.1232604980469, 489.03546142578125, 453.1077575683594, 422.88720703125, 394.48077392578125, 328.78985595703125, 309.6586608886719, 289.6596984863281, 982.7410888671875, 18537.177734375, 4541.90869140625, 17314.396484375, 7567.72314453125, 11517.6279296875], \"loglift\": [30.0, 29.0, 28.0, 27.0, 26.0, 25.0, 24.0, 23.0, 22.0, 21.0, 20.0, 19.0, 18.0, 17.0, 16.0, 15.0, 14.0, 13.0, 12.0, 11.0, 10.0, 9.0, 8.0, 7.0, 6.0, 5.0, 4.0, 3.0, 2.0, 1.0, 1.6562000513076782, 1.6562000513076782, 1.6562000513076782, 1.6561000347137451, 1.6561000347137451, 1.655900001525879, 1.6557999849319458, 1.6557999849319458, 1.6556999683380127, 1.6556999683380127, 1.6556999683380127, 1.655400037765503, 1.6553000211715698, 1.6553000211715698, 1.6553000211715698, 1.6550999879837036, 1.6550999879837036, 1.6548999547958374, 1.6546000242233276, 1.6545000076293945, 1.6543999910354614, 1.6543999910354614, 1.6543999910354614, 1.6543999910354614, 1.6541999578475952, 1.6536999940872192, 1.6535999774932861, 1.6535999774932861, 1.65339994430542, 1.652999997138977, 1.648900032043457, 1.6205999851226807, 1.6202000379562378, 1.6023999452590942, 1.6018999814987183, 1.6105999946594238, 1.5260000228881836, 1.5844999551773071, 1.6101000308990479, 1.5073000192642212, 1.4910000562667847, 1.6102999448776245, 1.5285999774932861, 1.4620000123977661, 1.5413000583648682, 1.316499948501587, 1.3631999492645264, 1.4127999544143677, 1.458799958229065, 1.3650000095367432, 1.243299961090088, 1.3940000534057617, 1.211400032043457, 1.2070000171661377, 1.1126999855041504, 0.9090999960899353, 1.0591000318527222, 1.2440999746322632, 0.5498999953269958, 0.3260999917984009, 0.39629998803138733, 0.07530000060796738, 0.8871999979019165, 0.5085999965667725, 0.9305999875068665, -0.4009999930858612, -0.20900000631809235, -0.061500001698732376, 0.5629000067710876, 1.9191999435424805, 1.9187999963760376, 1.9178999662399292, 1.9178999662399292, 1.9163999557495117, 1.9156999588012695, 1.9139000177383423, 1.913599967956543, 1.9121999740600586, 1.9113999605178833, 1.9112999439239502, 1.9098000526428223, 1.9085999727249146, 1.908400058746338, 1.9014999866485596, 1.8983999490737915, 1.8952000141143799, 1.8905999660491943, 1.8873000144958496, 1.8863999843597412, 1.8863999843597412, 1.882099986076355, 1.881500005722046, 1.8796000480651855, 1.8726999759674072, 1.871999979019165, 1.8674999475479126, 1.8625999689102173, 1.843500018119812, 1.8387000560760498, 1.8375999927520752, 1.7143000364303589, 1.6729999780654907, 1.482699990272522, 1.5887000560760498, 1.5759999752044678, 1.5861999988555908, 1.559999942779541, 1.5952999591827393, 1.42739999294281, 1.5161999464035034, 1.7207000255584717, 1.3859000205993652, 1.528499960899353, 1.5907000303268433, 1.2167999744415283, 1.381100058555603, 1.2685999870300293, 1.4483000040054321, 1.4652999639511108, 1.305899977684021, 1.0525000095367432, 1.1628999710083008, 1.3464000225067139, 0.992900013923645, 1.120300054550171, 0.8991000056266785, 0.8294000029563904, 1.0898000001907349, 1.2860000133514404, 0.6391000151634216, 0.9107999801635742, 0.8752999901771545, 0.7864999771118164, 0.7835999727249146, 0.8569999933242798, 0.8223999738693237, 1.039199948310852, 0.58160001039505, 0.6078000068664551, 0.0006000000284984708, -0.061000000685453415, 2.1607000827789307, 2.1607000827789307, 2.160599946975708, 2.160599946975708, 2.160599946975708, 2.1605000495910645, 2.1605000495910645, 2.1605000495910645, 2.1605000495910645, 2.1605000495910645, 2.1605000495910645, 2.160399913787842, 2.160399913787842, 2.1603000164031982, 2.1603000164031982, 2.1603000164031982, 2.1602001190185547, 2.1602001190185547, 2.160099983215332, 2.160099983215332, 2.160099983215332, 2.1600000858306885, 2.1600000858306885, 2.1600000858306885, 2.159899950027466, 2.159899950027466, 2.159899950027466, 2.159899950027466, 2.1596999168395996, 2.1596999168395996, 2.1257998943328857, 1.802299976348877, 1.8488999605178833, 1.8920999765396118, 1.8513000011444092, 1.4946000576019287, 1.7167999744415283, 1.8370000123977661, 1.8761999607086182, 1.3423999547958374, 1.710800051689148, 2.009500026702881, 1.6160999536514282, 1.6535999774932861, 1.1884000301361084, 1.4642000198364258, 1.3025000095367432, 0.3474000096321106, 1.6180000305175781, 1.1542999744415283, 0.5663999915122986, 0.8170999884605408, -0.21799999475479126, 0.32580000162124634, -0.4397999942302704, 0.6309999823570251, 0.8277999758720398, 1.15910005569458, 1.294800043106079, 0.8141999840736389, 0.2013999968767166, 2.236599922180176, 2.236299991607666, 2.236299991607666, 2.2362000942230225, 2.235599994659424, 2.2355000972747803, 2.2351999282836914, 2.234999895095825, 2.2348999977111816, 2.234299898147583, 2.234100103378296, 2.2337000370025635, 2.2334001064300537, 2.233299970626831, 2.2327001094818115, 2.2323999404907227, 2.2320001125335693, 2.2316999435424805, 2.2314999103546143, 2.2314999103546143, 2.231300115585327, 2.23009991645813, 2.2300000190734863, 2.229099988937378, 2.2283999919891357, 2.227299928665161, 2.2272000312805176, 2.226799964904785, 2.226799964904785, 2.2248001098632812, 2.1198999881744385, 2.0625998973846436, 2.053499937057495, 2.13319993019104, 2.0787999629974365, 2.089200019836426, 1.9316999912261963, 1.9184000492095947, 2.063199996948242, 1.833400011062622, 2.0957999229431152, 2.1057000160217285, 2.0369999408721924, 1.6476999521255493, 1.6830999851226807, 1.7473000288009644, 1.5547000169754028, 1.9327000379562378, 1.638700008392334, 1.4270000457763672, 1.5537999868392944, 1.565500020980835, 1.5857000350952148, 1.5348999500274658, 1.3108999729156494, 0.8774999976158142, 1.3451999425888062, 1.2856999635696411, 1.6758999824523926, 1.090499997138977, 0.9182000160217285, 0.853600025177002, 1.1403000354766846, 0.9262999892234802, 0.26899999380111694, 0.37070000171661377, -0.1785999983549118, 0.536300003528595, -0.27649998664855957, 2.3020999431610107, 2.301800012588501, 2.3017001152038574, 2.301300048828125, 2.301100015640259, 2.301100015640259, 2.3010001182556152, 2.3004000186920166, 2.3001999855041504, 2.2997000217437744, 2.2997000217437744, 2.299499988555908, 2.2992000579833984, 2.2985999584198, 2.29830002784729, 2.2976999282836914, 2.2971999645233154, 2.297100067138672, 2.296600103378296, 2.296600103378296, 2.2964999675750732, 2.2964999675750732, 2.2964000701904297, 2.295599937438965, 2.2955000400543213, 2.2952001094818115, 2.295099973678589, 2.2948999404907227, 2.2943999767303467, 2.2939999103546143, 2.250999927520752, 2.2281999588012695, 2.1048998832702637, 2.007200002670288, 1.8901000022888184, 2.1328999996185303, 2.151700019836426, 2.0525999069213867, 2.055799961090088, 1.75409996509552, 1.9219000339508057, 2.1445000171661377, 2.08240008354187, 1.8272000551223755, 1.9835000038146973, 1.8212000131607056, 2.152899980545044, 1.476699948310852, 1.944700002670288, 1.6899000406265259, 1.5424000024795532, 1.7252000570297241, 0.9973000288009644, 1.6690000295639038, 0.7936999797821045, 0.9391000270843506, 1.3690999746322632, 1.0353000164031982, 1.617900013923645, 1.2818000316619873, 0.4291999936103821, 1.049399971961975, 0.7576000094413757, 0.7210000157356262, 0.6061000227928162, 0.7508999705314636, 1.2822999954223633, -0.2624000012874603, 0.382999986410141, 1.1778000593185425, 0.645799994468689, 0.12349999696016312, 0.7372000217437744, 0.052000001072883606, -0.7573000192642212, 2.4230000972747803, 2.4230000972747803, 2.422800064086914, 2.422800064086914, 2.422499895095825, 2.4223999977111816, 2.4223999977111816, 2.4221999645233154, 2.422100067138672, 2.422100067138672, 2.422100067138672, 2.421999931335449, 2.4219000339508057, 2.4219000339508057, 2.4219000339508057, 2.4219000339508057, 2.4217000007629395, 2.4217000007629395, 2.4214000701904297, 2.421299934387207, 2.421299934387207, 2.421299934387207, 2.4210000038146973, 2.4209001064300537, 2.4207000732421875, 2.4207000732421875, 2.4207000732421875, 2.4207000732421875, 2.4205000400543213, 2.420300006866455, 2.384999990463257, 2.3424999713897705, 2.3232998847961426, 2.2755000591278076, 2.2952001094818115, 2.0922000408172607, 2.113800048828125, 2.238100051879883, 1.9642000198364258, 2.2040998935699463, 2.1389000415802, 2.168600082397461, 1.999400019645691, 2.1133999824523926, 1.5676000118255615, 1.8228000402450562, 2.001199960708618, 0.7785000205039978, 1.0699000358581543, 0.6956999897956848, 1.7640999555587769, 1.3969999551773071, 1.3107999563217163, 0.5468000173568726, 0.8292999863624573, 1.3300000429153442, 1.6289000511169434, 0.05009999871253967, -0.07609999924898148, 1.6585999727249146, 1.312399983406067, 0.7746999859809875, 1.2610000371932983, 0.22349999845027924, 2.8405001163482666, 2.8405001163482666, 2.8403000831604004, 2.8401999473571777, 2.8399999141693115, 2.8399999141693115, 2.8397998809814453, 2.8397998809814453, 2.8396999835968018, 2.8396999835968018, 2.8396999835968018, 2.8396999835968018, 2.8396999835968018, 2.839600086212158, 2.8394999504089355, 2.839400053024292, 2.839400053024292, 2.8392999172210693, 2.8392999172210693, 2.8392999172210693, 2.8392999172210693, 2.839200019836426, 2.839200019836426, 2.839200019836426, 2.839200019836426, 2.839200019836426, 2.839200019836426, 2.839099884033203, 2.8389999866485596, 2.8389999866485596, 2.8010001182556152, 2.7544000148773193, 2.7592999935150146, 2.6726999282836914, 2.640399932861328, 2.5915000438690186, 2.4437999725341797, 2.5167999267578125, 2.478600025177002, 2.5529000759124756, 2.5734000205993652, 2.619800090789795, 2.357800006866455, 2.158799886703491, 2.3022000789642334, 2.1275999546051025, 2.5225000381469727, 1.8224999904632568, 2.2060999870300293, 2.1800999641418457, 1.788599967956543, 1.829699993133545, 2.45770001411438, 0.6187999844551086, 1.2015999555587769, 1.5235999822616577, 1.6881999969482422, 1.292099952697754, 1.6897000074386597, 1.1711000204086304, 0.31940001249313354, 1.2825000286102295, 0.8716999888420105, 3.36929988861084, 3.3691999912261963, 3.3691999912261963, 3.3691000938415527, 3.3691000938415527, 3.3691000938415527, 3.36899995803833, 3.36899995803833, 3.36899995803833, 3.3689000606536865, 3.3689000606536865, 3.3689000606536865, 3.3689000606536865, 3.368799924850464, 3.368799924850464, 3.3687000274658203, 3.3687000274658203, 3.3685998916625977, 3.3685998916625977, 3.368499994277954, 3.368499994277954, 3.368499994277954, 3.368299961090088, 3.368299961090088, 3.3682000637054443, 3.3682000637054443, 3.3682000637054443, 3.3682000637054443, 3.3680999279022217, 3.3680999279022217, 3.341900110244751, 3.2367000579833984, 3.1995999813079834, 3.1347999572753906, 2.2683000564575195, 2.337599992752075, 2.6951000690460205, 0.8075000047683716, 0.6678000092506409, 3.4972000122070312, 3.4972000122070312, 3.4971001148223877, 3.4971001148223877, 3.496999979019165, 3.496999979019165, 3.496999979019165, 3.4969000816345215, 3.4969000816345215, 3.4969000816345215, 3.4969000816345215, 3.4969000816345215, 3.4969000816345215, 3.496799945831299, 3.4967000484466553, 3.4967000484466553, 3.4967000484466553, 3.4965999126434326, 3.4965999126434326, 3.496500015258789, 3.496500015258789, 3.496500015258789, 3.4964001178741455, 3.4964001178741455, 3.4964001178741455, 3.4964001178741455, 3.496299982070923, 3.496299982070923, 3.4962000846862793, 3.4960999488830566, 3.474100112915039, 3.0564000606536865, 2.077699899673462, 0.9289000034332275, 1.4106999635696411, 0.8047999739646912, 0.8680999875068665, 0.9789000153541565, 3.867799997329712, 3.867799997329712, 3.8677000999450684, 3.867500066757202, 3.867300033569336, 3.8671998977661133, 3.8671000003814697, 3.8671000003814697, 3.8668999671936035, 3.8666999340057373, 3.8666999340057373, 3.8666000366210938, 3.8664000034332275, 3.8661999702453613, 3.8661999702453613, 3.8661999702453613, 3.8661000728607178, 3.8661000728607178, 3.865999937057495, 3.865799903869629, 3.8657000064849854, 3.8654000759124756, 3.8654000759124756, 3.865299940109253, 3.865299940109253, 3.8652000427246094, 3.8652000427246094, 3.8652000427246094, 3.8650999069213867, 3.8650999069213867, 3.542799949645996, 3.48799991607666, 3.7430999279022217, 3.6558001041412354, 3.638000011444092, 2.5023000240325928, 2.86680006980896, 3.1221001148223877, 2.9797000885009766, 2.5309998989105225, 2.750200033187866, 3.283600091934204, 3.025099992752075, 3.8740999698638916, 3.8740999698638916, 3.874000072479248, 3.874000072479248, 3.8738999366760254, 3.8738999366760254, 3.873800039291382, 3.873800039291382, 3.873800039291382, 3.873800039291382, 3.8736000061035156, 3.873500108718872, 3.873500108718872, 3.8733999729156494, 3.8733999729156494, 3.8733999729156494, 3.873300075531006, 3.873300075531006, 3.873199939727783, 3.8731000423431396, 3.872999906539917, 3.872999906539917, 3.872999906539917, 3.8729000091552734, 3.87280011177063, 3.8726999759674072, 3.8726999759674072, 3.872499942779541, 3.872499942779541, 3.872499942779541, 1.53410005569458, 0.7141000032424927, 0.758400022983551, 2.09689998626709, 0.09749999642372131, -0.8986999988555908, 4.401899814605713, 4.401899814605713, 4.401800155639648, 4.401800155639648, 4.401700019836426, 4.401700019836426, 4.401599884033203, 4.401599884033203, 4.401500225067139, 4.401400089263916, 4.401400089263916, 4.401400089263916, 4.401299953460693, 4.401100158691406, 4.401000022888184, 4.400899887084961, 4.400899887084961, 4.4008002281188965, 4.400599956512451, 4.400599956512451, 4.400599956512451, 4.400400161743164, 4.400400161743164, 4.400400161743164, 4.400199890136719, 4.400199890136719, 4.400000095367432, 4.399799823760986, 4.399799823760986, 4.399700164794922, 3.7737998962402344, 4.003300189971924, 3.674499988555908, 3.769399881362915, 4.537899971008301, 4.537899971008301, 4.537899971008301, 4.537899971008301, 4.537199974060059, 4.535699844360352, 4.535399913787842, 4.534999847412109, 4.5345001220703125, 4.531899929046631, 4.530799865722656, 4.530099868774414, 4.527200222015381, 4.524199962615967, 4.519000053405762, 4.51039981842041, 4.507299900054932, 4.50600004196167, 4.475399971008301, 4.474800109863281, 4.464600086212158, 4.446300029754639, 4.446100234985352, 4.44320011138916, 4.433000087738037, 4.416100025177002, 4.396200180053711, 4.387400150299072, 4.350299835205078, 4.313899993896484, 4.195899963378906, 3.7332000732421875, 3.6182000637054443, 2.34879994392395, 4.549200057983398, 4.548999786376953, 4.548900127410889, 4.548900127410889, 4.548799991607666, 4.548799991607666, 4.548799991607666, 4.548699855804443, 4.548699855804443, 4.548600196838379, 4.5482001304626465, 4.5482001304626465, 4.5482001304626465, 4.5482001304626465, 4.548099994659424, 4.548099994659424, 4.547999858856201, 4.547999858856201, 4.547999858856201, 4.547900199890137, 4.547900199890137, 4.547599792480469, 4.547599792480469, 4.547599792480469, 4.547500133514404, 4.547500133514404, 4.547399997711182, 4.547399997711182, 4.547100067138672, 4.546999931335449, 4.173699855804443, 3.9147000312805176, 3.276400089263916, 4.579999923706055, 4.579999923706055, 4.579899787902832, 4.579899787902832, 4.579899787902832, 4.579699993133545, 4.579699993133545, 4.579400062561035, 4.5792999267578125, 4.5792999267578125, 4.57919979095459, 4.57919979095459, 4.579100131988525, 4.57889986038208, 4.57889986038208, 4.57889986038208, 4.578700065612793, 4.578499794006348, 4.578199863433838, 4.578199863433838, 4.578199863433838, 4.578199863433838, 4.578199863433838, 4.578199863433838, 4.578100204467773, 4.5777997970581055, 4.577600002288818, 4.577499866485596, 4.577000141143799, 4.576900005340576, 4.280700206756592, 4.190199851989746, 3.5606000423431396, 2.249799966812134, 0.3084999918937683, 4.61899995803833, 4.61899995803833, 4.618599891662598, 4.618599891662598, 4.618500232696533, 4.6184000968933105, 4.618100166320801, 4.618100166320801, 4.617800235748291, 4.617800235748291, 4.617700099945068, 4.617700099945068, 4.617700099945068, 4.617599964141846, 4.617599964141846, 4.617499828338623, 4.617400169372559, 4.617199897766113, 4.617199897766113, 4.6168999671936035, 4.616799831390381, 4.616700172424316, 4.616700172424316, 4.616700172424316, 4.616600036621094, 4.616600036621094, 4.616600036621094, 4.616499900817871, 4.616399765014648, 4.616199970245361, 3.725399971008301, 4.676700115203857, 4.676599979400635, 4.676599979400635, 4.676599979400635, 4.676499843597412, 4.676499843597412, 4.676199913024902, 4.676199913024902, 4.675899982452393, 4.6757001876831055, 4.675600051879883, 4.67549991607666, 4.6753997802734375, 4.6753997802734375, 4.67519998550415, 4.67519998550415, 4.674900054931641, 4.674699783325195, 4.674699783325195, 4.674699783325195, 4.674600124359131, 4.6743998527526855, 4.674099922180176, 4.673900127410889, 4.673699855804443, 4.673699855804443, 4.673699855804443, 4.673699855804443, 4.673600196838379, 4.673500061035156, 3.8531999588012695, 3.946199893951416, 4.771500110626221, 4.771299839019775, 4.771200180053711, 4.771200180053711, 4.770999908447266, 4.770999908447266, 4.770899772644043, 4.7708001136779785, 4.770699977874756, 4.770699977874756, 4.770599842071533, 4.770299911499023, 4.770299911499023, 4.770199775695801, 4.770199775695801, 4.769999980926514, 4.769599914550781, 4.769499778747559, 4.7692999839782715, 4.7692999839782715, 4.769199848175049, 4.769100189208984, 4.769000053405762, 4.768700122833252, 4.768199920654297, 4.767899990081787, 4.7677998542785645, 4.767600059509277, 4.767600059509277, 4.767000198364258, 4.436100006103516, 3.973299980163574, 3.1821000576019287, 4.806099891662598, 4.8059000968933105, 4.805600166320801, 4.805300235748291, 4.805300235748291, 4.805300235748291, 4.804999828338623, 4.804900169372559, 4.804800033569336, 4.8043999671936035, 4.804299831390381, 4.804299831390381, 4.804299831390381, 4.804100036621094, 4.804100036621094, 4.803999900817871, 4.803899765014648, 4.803699970245361, 4.803500175476074, 4.803100109100342, 4.803100109100342, 4.8028998374938965, 4.8028998374938965, 4.8028998374938965, 4.802599906921387, 4.802499771118164, 4.8024001121521, 4.802199840545654, 4.802199840545654, 4.802000045776367, 4.536300182342529, 4.64169979095459, 4.529300212860107, 3.4309000968933105, 3.164900064468384, 3.697700023651123, 1.3273999691009521, 2.478600025177002, 4.892000198364258, 4.8917999267578125, 4.89169979095459, 4.89169979095459, 4.89139986038208, 4.891300201416016, 4.891200065612793, 4.890999794006348, 4.890900135040283, 4.8907999992370605, 4.8907999992370605, 4.890699863433838, 4.890600204467773, 4.890399932861328, 4.8902997970581055, 4.890200138092041, 4.889999866485596, 4.8892998695373535, 4.889200210571289, 4.889200210571289, 4.889200210571289, 4.889100074768066, 4.888800144195557, 4.888599872589111, 4.888400077819824, 4.8881001472473145, 4.887800216674805, 4.886899948120117, 4.886499881744385, 4.886099815368652, 4.4994001388549805, 2.9537999629974365, 3.449199914932251, 2.0055999755859375, 2.380500078201294, 1.6892000436782837], \"logprob\": [30.0, 29.0, 28.0, 27.0, 26.0, 25.0, 24.0, 23.0, 22.0, 21.0, 20.0, 19.0, 18.0, 17.0, 16.0, 15.0, 14.0, 13.0, 12.0, 11.0, 10.0, 9.0, 8.0, 7.0, 6.0, 5.0, 4.0, 3.0, 2.0, 1.0, -4.456699848175049, -4.5802001953125, -4.689199924468994, -4.99459981918335, -5.150300025939941, -5.941100120544434, -6.110599994659424, -6.224699974060059, -6.264800071716309, -6.268499851226807, -6.308800220489502, -6.751299858093262, -6.793499946594238, -6.798500061035156, -6.8495001792907715, -7.012700080871582, -7.027299880981445, -7.167699813842773, -7.367000102996826, -7.388299942016602, -7.441199779510498, -7.452199935913086, -7.459099769592285, -7.461599826812744, -7.578400135040283, -7.775599956512451, -7.799200057983398, -7.8084001541137695, -7.887199878692627, -8.022700309753418, -6.349299907684326, -3.770400047302246, -4.295899868011475, -3.411799907684326, -4.674200057983398, -5.269800186157227, -3.3292999267578125, -5.417099952697754, -6.277299880981445, -4.297100067138672, -4.239299774169922, -6.639900207519531, -5.459199905395508, -4.976500034332275, -5.865300178527832, -3.63319993019104, -4.253900051116943, -4.739299774169922, -5.447000026702881, -4.8684000968933105, -4.158599853515625, -5.236999988555908, -4.7357001304626465, -4.734399795532227, -4.567999839782715, -4.180200099945068, -4.6143999099731445, -5.109600067138672, -3.589900016784668, -3.375999927520752, -3.796799898147583, -3.5344998836517334, -4.67519998550415, -4.553699970245361, -4.899099826812744, -4.190400123596191, -4.463399887084961, -4.656899929046631, -4.793000221252441, -6.206099987030029, -6.701099872589111, -7.249800205230713, -7.26669979095459, -7.786900043487549, -7.978499889373779, -8.33430004119873, -8.391799926757812, -8.580499649047852, -8.68910026550293, -8.691499710083008, -8.856599807739258, -8.968500137329102, -8.985799789428711, -9.459400177001953, -9.615500450134277, -9.755200386047363, -9.929100036621094, -10.037199974060059, -10.0649995803833, -10.065299987792969, -10.188199996948242, -10.203700065612793, -10.253100395202637, -10.413100242614746, -10.428299903869629, -10.521599769592285, -10.612099647521973, -10.909700393676758, -10.973299980163574, -8.125399589538574, -6.419899940490723, -5.950500011444092, -2.219399929046631, -4.321499824523926, -4.326399803161621, -4.847300052642822, -4.531199932098389, -5.167099952697754, -2.765700101852417, -4.72790002822876, -7.638299942016602, -3.4742000102996826, -5.595699787139893, -6.257400035858154, -3.473299980163574, -4.815499782562256, -3.9463000297546387, -5.4045000076293945, -5.64709997177124, -4.5868000984191895, -3.2165000438690186, -3.926500082015991, -5.077400207519531, -3.261399984359741, -3.981800079345703, -2.8903000354766846, -2.780400037765503, -4.695300102233887, -5.299600124359131, -3.500699996948242, -4.313399791717529, -4.269999980926514, -4.2754998207092285, -4.277200222015381, -4.452899932861328, -4.626699924468994, -4.9903998374938965, -4.53249979019165, -4.818399906158447, -4.594699859619141, -4.638999938964844, -4.358799934387207, -4.52810001373291, -4.612800121307373, -4.977799892425537, -4.990600109100342, -5.1143999099731445, -5.14109992980957, -5.140999794006348, -5.2118000984191895, -5.279699802398682, -5.336400032043457, -5.387400150299072, -5.537499904632568, -5.605100154876709, -5.611299991607666, -5.72189998626709, -5.767899990081787, -5.9131999015808105, -5.9608001708984375, -6.03249979019165, -6.0329999923706055, -6.061699867248535, -6.090000152587891, -6.114699840545654, -6.187900066375732, -6.236400127410889, -6.248000144958496, -6.287300109863281, -6.44290018081665, -6.459400177001953, -4.921999931335449, -3.7076001167297363, -4.621300220489502, -5.083899974822998, -4.944499969482422, -3.6075000762939453, -4.489299774169922, -5.020999908447266, -5.201600074768066, -3.7200000286102295, -4.8420000076293945, -5.639200210571289, -4.8105998039245605, -4.9430999755859375, -4.282899856567383, -4.760700225830078, -4.677999973297119, -3.7923998832702637, -5.089900016784668, -4.715799808502197, -4.30079984664917, -4.53879976272583, -4.007400035858154, -4.364299774169922, -4.049600124359131, -4.60890007019043, -4.719099998474121, -4.846399784088135, -4.962399959564209, -4.889400005340576, -4.912700176239014, -3.338900089263916, -5.123000144958496, -5.16480016708374, -5.486700057983398, -6.308700084686279, -6.354499816894531, -6.5894999504089355, -6.736800193786621, -6.772200107574463, -7.09630012512207, -7.163599967956543, -7.309199810028076, -7.403200149536133, -7.42710018157959, -7.593999862670898, -7.665500164031982, -7.776100158691406, -7.839399814605713, -7.8632001876831055, -7.872700214385986, -7.916500091552734, -8.114299774169922, -8.13029956817627, -8.254300117492676, -8.338800430297852, -8.46969985961914, -8.473999977111816, -8.516900062561035, -8.524299621582031, -8.706199645996094, -3.2067999839782715, -3.7065000534057617, -3.6092000007629395, -5.610799789428711, -4.743599891662598, -6.021500110626221, -3.771899938583374, -4.175899982452393, -6.09660005569458, -3.6967999935150146, -6.5177998542785645, -6.668499946594238, -6.109000205993652, -3.5922000408172607, -4.124899864196777, -4.604400157928467, -3.8945000171661377, -5.987800121307373, -4.814899921417236, -3.9990999698638916, -4.514699935913086, -4.59689998626709, -4.695199966430664, -4.553899765014648, -3.904099941253662, -2.911900043487549, -4.229499816894531, -4.261099815368652, -5.26039981842041, -4.133699893951416, -3.9489998817443848, -3.8364999294281006, -4.352499961853027, -4.134500026702881, -3.3406999111175537, -4.4893999099731445, -4.318399906158447, -4.5777997970581055, -4.545499801635742, -4.568299770355225, -5.4334001541137695, -5.693699836730957, -6.1493000984191895, -6.312399864196777, -6.361000061035156, -6.4120001792907715, -6.802199840545654, -6.900100231170654, -7.1280999183654785, -7.138599872589111, -7.188899993896484, -7.296299934387207, -7.475500106811523, -7.561600208282471, -7.694499969482422, -7.789999961853027, -7.816199779510498, -7.897200107574463, -7.901000022888184, -7.923099994659424, -7.923399925231934, -7.938499927520752, -8.060999870300293, -8.082300186157227, -8.126999855041504, -8.138999938964844, -8.168700218200684, -8.229700088500977, -8.280200004577637, -5.5131001472473145, -5.700300216674805, -5.0432000160217285, -4.08050012588501, -3.119800090789795, -6.038300037384033, -6.401199817657471, -5.434000015258789, -5.514400005340576, -2.823899984359741, -4.4496002197265625, -6.49429988861084, -5.936800003051758, -4.057000160217285, -5.262199878692627, -4.519199848175049, -6.6290998458862305, -3.1187000274658203, -5.641200065612793, -4.709000110626221, -4.242700099945068, -5.2469000816345215, -3.271699905395508, -5.168499946594238, -2.8160998821258545, -3.3152999877929688, -4.460700035095215, -3.6970999240875244, -5.135700225830078, -4.638599872589111, -3.3601999282836914, -4.376699924468994, -4.303199768066406, -4.424200057983398, -4.343599796295166, -4.493899822235107, -4.915200233459473, -3.964600086212158, -4.477099895477295, -4.911900043487549, -4.710100173950195, -4.743800163269043, -4.936299800872803, -4.803199768066406, -4.89709997177124, -3.3803999423980713, -3.62719988822937, -4.6579999923706055, -4.843200206756592, -5.476399898529053, -5.5995001792907715, -5.691699981689453, -5.847099781036377, -5.980899810791016, -5.992700099945068, -5.996600151062012, -6.083899974822998, -6.1585001945495605, -6.170400142669678, -6.180799961090088, -6.191400051116943, -6.314799785614014, -6.356100082397461, -6.528200149536133, -6.593599796295166, -6.606299877166748, -6.607600212097168, -6.750199794769287, -6.7967000007629395, -6.881899833679199, -6.882599830627441, -6.900899887084961, -6.915299892425537, -6.982600212097168, -7.0447998046875, -4.564799785614014, -4.680300235748291, -4.4008002281188965, -3.6937999725341797, -4.592100143432617, -2.6403000354766846, -3.1988000869750977, -5.471499919891357, -4.112599849700928, -5.38700008392334, -5.053299903869629, -5.411900043487549, -4.6992998123168945, -5.332200050354004, -3.7423999309539795, -4.540500164031982, -5.297299861907959, -3.4758999347686768, -3.9921998977661133, -3.8996999263763428, -5.2204999923706055, -4.809100151062012, -4.756999969482422, -4.031199932098389, -4.415500164031982, -4.865499973297119, -5.09499979019165, -4.14300012588501, -4.21589994430542, -5.133800029754639, -4.990699768066406, -4.787700176239014, -5.037300109863281, -4.890600204467773, -4.76140022277832, -4.785399913787842, -5.1280999183654785, -5.297900199890137, -5.540599822998047, -5.559500217437744, -5.747399806976318, -5.797100067138672, -5.807300090789795, -5.821599960327148, -5.856400012969971, -5.867499828338623, -5.871300220489502, -5.887899875640869, -5.973599910736084, -6.048500061035156, -6.076000213623047, -6.111199855804443, -6.127999782562256, -6.140999794006348, -6.146200180053711, -6.165500164031982, -6.1707000732421875, -6.175300121307373, -6.188600063323975, -6.197199821472168, -6.202899932861328, -6.2170000076293945, -6.282199859619141, -6.291100025177002, -2.9421000480651855, -4.9355998039245605, -5.1803998947143555, -4.956200122833252, -4.769199848175049, -4.55109977722168, -4.17710018157959, -4.6392998695373535, -4.561299800872803, -4.891499996185303, -5.076099872589111, -5.3414998054504395, -4.546599864959717, -4.0954999923706055, -4.631700038909912, -4.235000133514404, -5.2220001220703125, -3.9576001167297363, -4.791299819946289, -4.920100212097168, -4.40880012512207, -4.58650016784668, -5.359499931335449, -3.6501998901367188, -4.415500164031982, -4.671899795532227, -4.86460018157959, -4.777699947357178, -4.947000026702881, -4.834400177001953, -4.743000030517578, -5.020599842071533, -4.998300075531006, -2.3304998874664307, -3.126499891281128, -3.158400058746338, -3.464400053024292, -3.545099973678589, -3.5608999729156494, -3.838399887084961, -3.904599905014038, -3.9576001167297363, -4.1539998054504395, -4.245999813079834, -4.295400142669678, -4.3282999992370605, -4.377099990844727, -4.46750020980835, -4.573299884796143, -4.697400093078613, -4.825099945068359, -4.8491997718811035, -4.921800136566162, -4.948200225830078, -4.9492998123168945, -5.111199855804443, -5.135900020599365, -5.209199905395508, -5.246300220489502, -5.247600078582764, -5.263899803161621, -5.286499977111816, -5.293600082397461, -4.204800128936768, -2.756500005722046, -3.6394999027252197, -4.368000030517578, -3.5058999061584473, -3.987799882888794, -4.736199855804443, -4.337800025939941, -4.734000205993652, -2.3317999839782715, -2.779400110244751, -3.11080002784729, -3.2402000427246094, -3.7158000469207764, -3.7363998889923096, -3.7441999912261963, -3.902899980545044, -3.927999973297119, -3.9554998874664307, -4.093900203704834, -4.098400115966797, -4.113800048828125, -4.275899887084961, -4.384099960327148, -4.455999851226807, -4.520899772644043, -4.580999851226807, -4.616199970245361, -4.732600212097168, -4.745299816131592, -4.813499927520752, -4.819499969482422, -4.851799964904785, -4.889699935913086, -4.896599769592285, -4.969799995422363, -5.00439977645874, -5.054599761962891, -5.204800128936768, -2.6566998958587646, -3.2690000534057617, -3.6965999603271484, -4.216400146484375, -4.582399845123291, -4.521900177001953, -4.53380012512207, -4.683899879455566, -2.2330000400543213, -2.4031999111175537, -3.025399923324585, -3.867300033569336, -4.108699798583984, -4.3531999588012695, -4.369200229644775, -4.44290018081665, -4.626200199127197, -4.815800189971924, -4.833099842071533, -4.864699840545654, -5.041900157928467, -5.134300231933594, -5.140200138092041, -5.166999816894531, -5.2067999839782715, -5.230599880218506, -5.260499954223633, -5.34689998626709, -5.41349983215332, -5.519000053405762, -5.520699977874756, -5.557199954986572, -5.583399772644043, -5.597099781036377, -5.602799892425537, -5.623199939727783, -5.639999866485596, -5.6545000076293945, -2.48799991607666, -2.7230000495910645, -5.05709981918335, -4.677000045776367, -4.756899833679199, -2.3649001121520996, -3.4779999256134033, -4.5447001457214355, -4.884399890899658, -4.6554999351501465, -4.9944000244140625, -5.165599822998047, -5.125899791717529, -2.627700090408325, -2.92930006980896, -3.22979998588562, -3.2909998893737793, -3.4570000171661377, -3.5808000564575195, -3.770900011062622, -3.8196001052856445, -3.88070011138916, -3.9467999935150146, -4.196899890899658, -4.336400032043457, -4.406499862670898, -4.4506001472473145, -4.485099792480469, -4.507199764251709, -4.6128997802734375, -4.631999969482422, -4.696400165557861, -4.7754998207092285, -4.872300148010254, -4.878600120544434, -4.898200035095215, -4.960700035095215, -5.063000202178955, -5.109799861907959, -5.124599933624268, -5.2179999351501465, -5.232800006866455, -5.234300136566162, -3.6110999584198, -4.61269998550415, -4.904300212860107, -5.037499904632568, -5.0046000480651855, -5.03849983215332, -3.0952999591827393, -3.142400026321411, -3.2490999698638916, -3.309000015258789, -3.518399953842163, -3.5734000205993652, -3.602099895477295, -3.7090001106262207, -3.8222999572753906, -3.859800100326538, -3.8773999214172363, -3.9544999599456787, -3.99780011177063, -4.236299991607666, -4.263700008392334, -4.344699859619141, -4.381800174713135, -4.42549991607666, -4.569900035858154, -4.576099872589111, -4.5920000076293945, -4.693600177764893, -4.708099842071533, -4.708899974822998, -4.813000202178955, -4.813300132751465, -4.873300075531006, -4.954999923706055, -4.971499919891357, -5.015699863433838, -2.3677000999450684, -4.407100200653076, -4.206500053405762, -4.724299907684326, -1.8428000211715698, -2.025099992752075, -2.032099962234497, -2.1624999046325684, -3.6947999000549316, -4.765200138092041, -4.873799800872803, -5.031199932098389, -5.187300205230713, -5.726399898529053, -5.902299880981445, -5.98829984664917, -6.303199768066406, -6.55049991607666, -6.871300220489502, -7.247600078582764, -7.3557000160217285, -7.399899959564209, -8.085399627685547, -8.095100402832031, -8.249699592590332, -8.481300354003906, -8.483200073242188, -8.516300201416016, -8.623200416564941, -8.781200408935547, -8.942700386047363, -9.0068998336792, -9.246299743652344, -9.44260025024414, -5.959199905395508, -1.7381999492645264, -6.063300132751465, -1.920199990272522, -2.7246999740600586, -3.0876998901367188, -3.296299934387207, -3.3450000286102295, -3.5508999824523926, -3.597599983215332, -3.6059999465942383, -3.708699941635132, -3.7230000495910645, -3.786900043487549, -4.171500205993652, -4.171500205993652, -4.193399906158447, -4.200699806213379, -4.2129998207092285, -4.270299911499023, -4.319300174713135, -4.3277997970581055, -4.336699962615967, -4.366399765014648, -4.411200046539307, -4.533100128173828, -4.564300060272217, -4.566100120544434, -4.608799934387207, -4.624199867248535, -4.633800029754639, -4.638199806213379, -4.802599906921387, -4.847499847412109, -3.5706000328063965, -3.885699987411499, -4.571700096130371, -2.7362000942230225, -2.7393999099731445, -3.018899917602539, -3.0234999656677246, -3.0415000915527344, -3.515899896621704, -3.544300079345703, -3.8721001148223877, -3.9504001140594482, -3.9600000381469727, -4.007199764251709, -4.0441999435424805, -4.156799793243408, -4.244900226593018, -4.2631001472473145, -4.26639986038208, -4.430799961090088, -4.5416998863220215, -4.6519999504089355, -4.666200160980225, -4.669400215148926, -4.679999828338623, -4.682700157165527, -4.684500217437744, -4.724899768829346, -4.841599941253662, -4.907599925994873, -4.958899974822998, -5.109499931335449, -5.1356000900268555, -3.2816998958587646, -4.424900054931641, -3.9851999282836914, -4.479800224304199, -4.793600082397461, -2.583199977874756, -2.694999933242798, -3.515500068664551, -3.533600091934204, -3.6607000827789307, -3.789400100708008, -4.018400192260742, -4.063399791717529, -4.259900093078613, -4.287300109863281, -4.339099884033203, -4.342800140380859, -4.347799777984619, -4.367800235748291, -4.379000186920166, -4.426300048828125, -4.513999938964844, -4.617300033569336, -4.622700214385986, -4.735400199890137, -4.7667999267578125, -4.79580020904541, -4.818600177764893, -4.827600002288818, -4.8379998207092285, -4.847099781036377, -4.866000175476074, -4.872399806976318, -4.926799774169922, -4.984300136566162, -2.5645999908447266, -2.416599988937378, -2.5510001182556152, -2.583899974822998, -2.597100019454956, -2.811000108718872, -3.0311999320983887, -3.4786999225616455, -3.490000009536743, -3.77620005607605, -4.0019001960754395, -4.0802998542785645, -4.119500160217285, -4.1971001625061035, -4.199399948120117, -4.326900005340576, -4.353600025177002, -4.520999908447266, -4.576000213623047, -4.599100112915039, -4.60230016708374, -4.655300140380859, -4.718699932098389, -4.825200080871582, -4.912499904632568, -4.955100059509277, -4.963699817657471, -4.973700046539307, -4.977099895477295, -4.985400199890137, -5.015500068664551, -4.9008002281188965, -4.985000133514404, -2.421799898147583, -2.9679999351501465, -3.036600112915039, -3.1480000019073486, -3.3406999111175537, -3.4007999897003174, -3.581199884414673, -3.610100030899048, -3.7555999755859375, -3.781899929046631, -3.8766000270843506, -4.067999839782715, -4.114699840545654, -4.128300189971924, -4.148499965667725, -4.25629997253418, -4.462500095367432, -4.515600204467773, -4.599400043487549, -4.623499870300293, -4.666800022125244, -4.687399864196777, -4.719099998474121, -4.82450008392334, -5.001200199127197, -5.063499927520752, -5.09660005569458, -5.137700080871582, -5.144100189208984, -5.285299777984619, -3.4021999835968018, -4.483099937438965, -4.850299835205078, -2.0313000679016113, -2.7511000633239746, -3.2651000022888184, -3.6287999153137207, -3.6314001083374023, -3.6482999324798584, -3.9030001163482666, -3.957200050354004, -4.05709981918335, -4.283899784088135, -4.350200176239014, -4.351399898529053, -4.367000102996826, -4.441800117492676, -4.454400062561035, -4.50600004196167, -4.559199810028076, -4.606500148773193, -4.69890022277832, -4.843900203704834, -4.8480000495910645, -4.880000114440918, -4.88700008392334, -4.906300067901611, -4.981800079345703, -5.017899990081787, -5.0278000831604, -5.084000110626221, -5.087900161743164, -5.138599872589111, -3.022200107574463, -4.031000137329102, -3.959700107574463, -3.706199884414673, -4.156599998474121, -4.758600234985352, -4.582699775695801, -4.7606000900268555, -2.2100000381469727, -2.8986001014709473, -3.025899887084961, -3.1191999912261963, -3.5271999835968018, -3.605299949645996, -3.6975998878479004, -3.8838999271392822, -3.9439001083374023, -3.9704999923706055, -4.022600173950195, -4.0706000328063965, -4.148499965667725, -4.255899906158447, -4.311699867248535, -4.3495001792907715, -4.4375, -4.70989990234375, -4.736599922180176, -4.7399001121521, -4.743199825286865, -4.750899791717529, -4.8541998863220215, -4.898600101470947, -4.975200176239014, -5.04449987411499, -5.114299774169922, -5.297299861907959, -5.357600212097168, -5.424799919128418, -4.589900016784668, -3.1982998847961426, -4.109300136566162, -4.214700222015381, -4.667500019073486, -4.938799858093262]}, \"token.table\": {\"Topic\": [11, 12, 1, 4, 1, 2, 6, 2, 3, 2, 3, 4, 20, 15, 7, 16, 10, 17, 6, 4, 2, 14, 5, 9, 3, 14, 7, 8, 11, 18, 19, 1, 2, 3, 4, 5, 6, 7, 11, 20, 1, 2, 3, 4, 5, 7, 18, 1, 2, 4, 5, 10, 20, 18, 12, 8, 1, 2, 3, 4, 5, 6, 7, 11, 9, 11, 5, 11, 12, 16, 2, 13, 1, 7, 1, 2, 3, 4, 5, 6, 17, 13, 3, 4, 5, 7, 9, 4, 2, 3, 5, 7, 14, 16, 2, 19, 9, 12, 1, 11, 11, 13, 20, 1, 1, 4, 1, 2, 4, 5, 1, 3, 4, 3, 7, 11, 3, 1, 19, 8, 1, 9, 11, 8, 12, 3, 6, 6, 6, 11, 12, 19, 20, 1, 2, 4, 5, 10, 15, 1, 2, 3, 5, 6, 16, 6, 11, 19, 18, 2, 15, 10, 1, 2, 3, 4, 8, 9, 8, 1, 3, 5, 6, 19, 1, 3, 6, 4, 6, 17, 1, 4, 11, 17, 2, 4, 7, 4, 7, 3, 13, 10, 9, 1, 1, 10, 11, 5, 14, 19, 8, 18, 1, 3, 10, 1, 3, 6, 10, 1, 5, 8, 9, 11, 15, 1, 8, 11, 19, 1, 3, 7, 1, 5, 19, 18, 13, 15, 6, 5, 17, 8, 18, 2, 9, 10, 2, 1, 3, 12, 20, 8, 19, 6, 19, 20, 17, 7, 2, 3, 11, 15, 20, 10, 16, 4, 14, 1, 2, 3, 4, 1, 2, 3, 5, 6, 14, 13, 2, 7, 6, 6, 1, 2, 5, 6, 6, 8, 1, 6, 10, 2, 3, 15, 3, 4, 18, 1, 2, 4, 5, 6, 1, 2, 5, 6, 20, 1, 2, 6, 7, 1, 1, 2, 7, 19, 17, 10, 8, 8, 8, 7, 17, 3, 8, 20, 15, 19, 19, 1, 7, 4, 10, 12, 3, 5, 10, 1, 5, 6, 19, 1, 3, 6, 10, 20, 5, 9, 1, 7, 1, 2, 3, 4, 5, 6, 7, 2, 4, 1, 2, 4, 5, 20, 2, 16, 6, 9, 11, 7, 5, 3, 4, 13, 7, 1, 7, 10, 2, 1, 2, 4, 2, 18, 16, 4, 11, 20, 8, 17, 11, 19, 1, 2, 3, 8, 20, 5, 10, 6, 10, 7, 12, 18, 11, 3, 19, 1, 14, 7, 4, 8, 1, 19, 12, 4, 9, 1, 3, 6, 7, 10, 15, 1, 5, 11, 18, 17, 6, 13, 6, 3, 9, 7, 9, 3, 1, 2, 3, 5, 1, 2, 18, 3, 10, 11, 8, 13, 3, 9, 7, 14, 10, 7, 4, 1, 2, 4, 5, 6, 15, 7, 12, 14, 20, 10, 18, 6, 9, 8, 18, 16, 16, 8, 9, 9, 4, 9, 1, 3, 4, 5, 6, 7, 4, 5, 7, 5, 1, 2, 3, 4, 5, 1, 2, 7, 8, 1, 2, 6, 9, 4, 2, 4, 5, 7, 9, 15, 6, 7, 8, 5, 18, 1, 2, 4, 1, 2, 3, 5, 11, 2, 14, 1, 3, 4, 5, 6, 7, 5, 2, 11, 12, 7, 1, 2, 3, 4, 5, 6, 7, 3, 4, 7, 15, 10, 3, 3, 5, 14, 3, 3, 3, 6, 2, 17, 5, 17, 10, 19, 1, 3, 5, 6, 12, 4, 11, 17, 1, 2, 5, 6, 8, 16, 5, 11, 5, 4, 4, 10, 1, 2, 3, 4, 5, 7, 12, 1, 3, 4, 5, 7, 16, 1, 3, 4, 5, 7, 1, 2, 3, 5, 6, 1, 4, 17, 18, 20, 15, 18, 19, 1, 2, 5, 6, 2, 10, 17, 1, 1, 6, 7, 3, 4, 5, 6, 7, 11, 5, 7, 8, 6, 14, 17, 16, 1, 4, 6, 3, 7, 12, 18, 11, 18, 3, 10, 3, 2, 3, 5, 1, 2, 5, 16, 7, 1, 2, 4, 5, 10, 4, 2, 3, 12, 4, 17, 11, 1, 2, 3, 4, 5, 7, 13, 9, 6, 7, 11, 1, 3, 7, 5, 6, 7, 3, 6, 7, 1, 6, 13, 19, 13, 1, 20, 15, 6, 16, 2, 2, 7, 10, 17, 4, 2, 10, 13, 4, 7, 7, 4, 5, 3, 11, 1, 1, 14, 13, 5, 12, 3, 7, 2, 3, 4, 5, 10, 1, 6, 16, 1, 6, 3, 7, 3, 4, 1, 3, 7, 9, 3, 5, 2, 17, 3, 18, 15, 18, 1, 1, 2, 6, 7, 5, 7, 1, 2, 3, 4, 5, 6, 6, 8, 17, 1, 4, 5, 15, 18, 1, 2, 3, 5, 6, 1, 2, 3, 6, 12, 15, 1, 3, 5, 6, 3, 1, 2, 4, 16, 8, 3, 19, 10, 20, 20, 1, 2, 3, 4, 6, 7, 2, 11, 1, 2, 5, 8, 9, 11, 1, 4, 5, 6, 7, 1, 8, 15, 12, 14, 1, 3, 4, 5, 7, 10, 18, 9, 19, 19, 20, 5, 7, 9, 4, 1, 5, 8, 9, 11, 18, 12, 1, 8, 11, 20, 5, 1, 7, 9, 10, 7, 16, 16, 15, 8, 10, 15, 1, 1, 16, 1, 2, 3, 4, 5, 6, 7, 1, 2, 4, 5, 6, 3, 7, 4, 9, 11, 1, 3, 4, 1, 2, 5, 6, 10, 11, 1, 3, 4, 5, 6, 14, 14, 3, 3, 15, 16, 2, 8, 9, 16, 12, 15, 9, 19, 1, 2, 3, 4, 5, 8, 11, 20, 1, 2, 3, 4, 5, 6, 8, 9, 11, 15, 14, 1, 3, 1, 5, 3, 6, 7, 15, 20, 19, 8, 1, 15, 1, 10, 1, 2, 3, 5, 6, 7, 20, 20, 17, 3, 9, 9, 4, 12, 1, 3, 4, 5, 6, 18, 1, 2, 4, 5, 8, 3, 5, 6, 7, 11, 15, 16, 11, 1, 12, 15, 1, 2, 3, 6, 7, 19, 12, 2, 3, 20, 7, 14, 12, 1, 2, 3, 4, 5, 6, 9, 5, 19, 1, 6, 14, 20, 3, 3, 5, 8, 7, 12, 9, 19, 20, 14, 5, 7, 15, 13, 1, 2, 3, 5, 6, 20, 5, 6, 3, 5, 6, 11, 20, 17, 19, 17, 17, 2, 4, 17, 14, 17, 12, 9, 1, 2, 3, 4, 5, 6, 7, 14, 1, 17, 2, 18, 9, 20, 15, 8, 9, 15, 2, 6, 1, 2, 5, 7, 20, 9, 1, 2, 3, 5, 18, 16, 14, 2, 5, 1, 2, 3, 5, 6, 7, 7, 5, 18, 15, 1, 2, 4, 5, 14, 13, 16, 5, 11, 12, 12, 5, 5, 13, 20, 16, 5, 6, 1, 2, 3, 7, 5, 1, 2, 7, 1, 9, 11, 17, 1, 13, 3, 7, 1, 1, 3, 4, 19, 10, 5, 6, 5, 6, 7, 20, 19, 2, 3, 4, 7, 11, 9, 19, 12, 15, 14, 6, 18, 7, 15, 5, 6, 6, 6, 7, 1, 1, 9, 3, 6, 15, 11, 17, 18, 2, 1, 2, 3, 6, 19, 11, 18, 19, 20, 1, 6, 7, 5, 3, 6, 10, 1, 3, 6, 3, 17, 6, 6, 18, 6, 8, 18, 16, 1, 3, 4, 8, 9, 9, 4, 7, 20, 1, 2, 4, 6, 1, 2, 5, 6, 6, 14, 4, 1, 12, 1, 7, 10, 10, 3, 7, 5, 1, 5, 9, 11, 1, 2, 3, 4, 5, 6, 4, 14, 2, 1, 3, 1, 3, 16, 1, 3, 6, 9, 14, 1, 2, 5, 8, 1, 5, 8, 11, 18, 4, 6, 6, 7, 1, 2, 3, 5, 6, 8, 9, 11, 14, 1, 14, 4, 9, 2, 3, 4, 7, 2, 5, 6, 15, 1, 17, 16, 6, 12, 3, 7, 19, 6, 7, 2, 4, 5, 19, 1, 3, 4, 5, 6, 7, 1, 4, 5, 6, 7, 7, 8, 12, 19, 1, 2, 3, 4, 5, 7, 10, 20, 1, 5, 11, 8, 3, 7, 20, 4, 10, 10, 19, 5, 1, 9, 6, 7, 5, 4, 1, 5, 8, 2, 14, 5, 7, 5, 12, 9, 12, 14, 1, 2, 3, 4, 7, 11, 12, 7, 3, 6, 8, 18, 14, 10, 13, 15, 8, 3, 11, 9, 1, 11, 17, 17, 3, 1, 1, 3, 6, 7, 4, 7, 2, 6, 16, 1, 10, 12, 16, 4, 10, 1, 4, 5, 18, 9, 9, 3, 1, 3, 1, 11, 11, 6, 2, 4, 5, 1, 2, 3, 4, 5, 6, 7, 1, 17, 2, 18, 6, 2, 3, 6, 5, 11, 1, 2, 4, 5, 1, 2, 3, 4, 6, 7, 4, 4, 10, 16, 1, 2, 3, 4, 6, 7, 7, 3, 3, 4, 13, 4, 8, 9, 11, 8, 18, 13, 13, 13, 13, 13, 13, 13, 13, 13, 13, 13, 13, 13, 13], \"Freq\": [0.9990547895431519, 0.9977200031280518, 0.14583714306354523, 0.8539329171180725, 0.6622205972671509, 0.22129017114639282, 0.11641988158226013, 0.7162317037582397, 0.2836334705352783, 0.7811845541000366, 0.06460925191640854, 0.15388748049736023, 0.9984630346298218, 0.9987243413925171, 0.9981851577758789, 0.9971216320991516, 0.998513400554657, 0.9993283748626709, 0.9991298913955688, 0.9973730444908142, 0.7194449305534363, 0.28001290559768677, 0.9989660978317261, 0.9991909265518188, 0.4694403409957886, 0.5300133228302002, 0.9608826041221619, 0.024478117004036903, 0.014586521312594414, 0.9991058111190796, 0.997542142868042, 0.3350808620452881, 0.032019052654504776, 0.26087257266044617, 0.04394104331731796, 0.1908004730939865, 0.10549742728471756, 0.021873198449611664, 0.009902548976242542, 0.9942702054977417, 0.06524410843849182, 0.13069534301757812, 0.015120062977075577, 0.17999088764190674, 0.542043924331665, 0.0668320581316948, 0.9994238615036011, 0.09332023561000824, 0.3336986303329468, 0.505595862865448, 0.0673326626420021, 0.9984380006790161, 0.9971868991851807, 0.9974786639213562, 0.9986009001731873, 0.9987289905548096, 0.33075711131095886, 0.2778039574623108, 0.16309253871440887, 0.08934177458286285, 0.04690280929207802, 0.08215203136205673, 0.0014783326769247651, 0.008458947762846947, 0.977064847946167, 0.022866128012537956, 0.9500182867050171, 0.04948857054114342, 0.9987475275993347, 0.9991021752357483, 0.937804639339447, 0.9854927659034729, 0.30372828245162964, 0.6960713267326355, 0.4634428024291992, 0.10245218127965927, 0.022793740034103394, 0.05797148123383522, 0.1609620898962021, 0.19237078726291656, 0.9986733198165894, 0.9998860359191895, 0.5810966491699219, 0.07485886663198471, 0.04166140407323837, 0.27564239501953125, 0.026614395901560783, 0.9945694208145142, 0.10325329005718231, 0.14114336669445038, 0.13851051032543182, 0.6168869137763977, 0.9983950257301331, 0.9980289936065674, 0.9922025203704834, 0.9966575503349304, 0.32822462916374207, 0.6708993911743164, 0.9994385838508606, 0.9992536902427673, 0.9982460141181946, 0.999862790107727, 0.9958459138870239, 0.9987452030181885, 0.8615574240684509, 0.1383795440196991, 0.15827254951000214, 0.5635097622871399, 0.15303455293178558, 0.12507495284080505, 0.9984298348426819, 0.15963637828826904, 0.8402979373931885, 0.5559340119361877, 0.27472561597824097, 0.1691284030675888, 0.9994915127754211, 0.9983519315719604, 0.9990850687026978, 0.999062716960907, 0.9470270276069641, 0.029920900240540504, 0.022959711030125618, 0.9991871118545532, 0.9990488290786743, 0.19628949463367462, 0.803354024887085, 0.9994444251060486, 0.9999366402626038, 0.9996137619018555, 0.9993922710418701, 0.9967554211616516, 0.9989133477210999, 0.1209741085767746, 0.2713730037212372, 0.5051835179328918, 0.09929007291793823, 0.0030268337577581406, 0.9978813529014587, 0.07886530458927155, 0.11877557635307312, 0.06523570418357849, 0.003121994435787201, 0.733948290348053, 0.9990320205688477, 0.9998886585235596, 0.9991661310195923, 0.9970654845237732, 0.9973416328430176, 0.9898388385772705, 0.9978742599487305, 0.9986088871955872, 0.06102568283677101, 0.13185341656208038, 0.06893056631088257, 0.7379997372627258, 0.3563801348209381, 0.6434730291366577, 0.9986200332641602, 0.16117055714130402, 0.11253289878368378, 0.17756079137325287, 0.5486728549003601, 0.9981387257575989, 0.07399692386388779, 0.7320356965065002, 0.19381558895111084, 0.9894956946372986, 0.9989680051803589, 0.9979148507118225, 0.9998953342437744, 0.9961910843849182, 0.998430609703064, 0.9974726438522339, 0.1859603077173233, 0.32391583919525146, 0.489968478679657, 0.07768663763999939, 0.9216020703315735, 0.9991165399551392, 0.9970439672470093, 0.9990792870521545, 0.999557375907898, 0.9989781975746155, 0.4233080744743347, 0.5574361085891724, 0.018241412937641144, 0.996959924697876, 0.9991260766983032, 0.9981127381324768, 0.999545693397522, 0.9960022568702698, 0.24968057870864868, 0.4875221848487854, 0.262582004070282, 0.132595494389534, 0.35245412588119507, 0.14737920463085175, 0.3674995005130768, 0.8207379579544067, 0.04848773032426834, 0.06121145933866501, 0.057657986879348755, 0.011692076921463013, 0.9977601170539856, 0.8057991862297058, 0.06463030725717545, 0.03183522820472717, 0.09758537262678146, 0.06606683880090714, 0.16830165684223175, 0.7653144598007202, 0.13866275548934937, 0.859947144985199, 0.9993084073066711, 0.9991447925567627, 0.9998282194137573, 0.9996371865272522, 0.9974857568740845, 0.9927268028259277, 0.9985159635543823, 0.972979724407196, 0.026761293411254883, 0.9865530729293823, 0.9991797804832458, 0.999880850315094, 0.9617862701416016, 0.9550806283950806, 0.043972402811050415, 0.9980958104133606, 0.9946435689926147, 0.9997048377990723, 0.9963842034339905, 0.9981697201728821, 0.7581477165222168, 0.24117806553840637, 0.999337911605835, 0.9985979199409485, 0.4494825601577759, 0.5136269330978394, 0.02289791963994503, 0.013950174674391747, 0.9987032413482666, 0.9984597563743591, 0.999354362487793, 0.9941291213035583, 0.9986922144889832, 0.381252259016037, 0.1462441086769104, 0.06238618120551109, 0.410083144903183, 0.15484750270843506, 0.39574745297431946, 0.0004771256644744426, 0.255828320980072, 0.19309842586517334, 0.9989528059959412, 0.9924460053443909, 0.27233219146728516, 0.7273682355880737, 0.9981892108917236, 0.9984341263771057, 0.7118879556655884, 0.10469703376293182, 0.18337784707546234, 0.9992006421089172, 0.998977541923523, 0.998789370059967, 0.7692500352859497, 0.23058344423770905, 0.9981229305267334, 0.926284670829773, 0.9996310472488403, 0.999057412147522, 0.26012247800827026, 0.7371687293052673, 0.0026525533758103848, 0.15767744183540344, 0.3219383656978607, 0.14677749574184418, 0.1151658296585083, 0.25842487812042236, 0.14726372063159943, 0.30250978469848633, 0.08453080803155899, 0.4655334949493408, 0.9980835318565369, 0.19858290255069733, 0.6346478462219238, 0.02057707868516445, 0.14587175846099854, 0.9991003274917603, 0.11807987093925476, 0.7180509567260742, 0.1329457312822342, 0.030832907184958458, 0.9996426105499268, 0.9980804324150085, 0.9995050430297852, 0.9990021586418152, 0.9995825886726379, 0.9988872408866882, 0.9972089529037476, 0.1559012234210968, 0.8438395261764526, 0.9968327879905701, 0.9995506405830383, 0.9978706240653992, 0.9973050951957703, 0.15447691082954407, 0.8451350927352905, 0.9956717491149902, 0.8089386820793152, 0.19053514301776886, 0.1276366412639618, 0.7816351652145386, 0.09043712913990021, 0.37605589628219604, 0.5044267773628235, 0.11852651834487915, 0.0009844395099207759, 0.9307243227958679, 0.06307429820299149, 0.00592898391187191, 0.9978074431419373, 0.9962462782859802, 0.9284438490867615, 0.07107551395893097, 0.317947655916214, 0.6815201044082642, 0.07710374891757965, 0.026974665001034737, 0.3672094941139221, 0.2065262347459793, 0.024971364066004753, 0.10887701064348221, 0.18826359510421753, 0.9913021326065063, 0.9973398447036743, 0.19247746467590332, 0.32946184277534485, 0.15320152044296265, 0.32479938864707947, 0.9986863732337952, 0.977178156375885, 0.9979816675186157, 0.9988903403282166, 0.9997884035110474, 0.999555766582489, 0.9981741309165955, 0.9961217045783997, 0.37817296385765076, 0.17464010417461395, 0.4471551179885864, 0.9983406662940979, 0.29226741194725037, 0.2763400375843048, 0.43043744564056396, 0.9981949329376221, 0.08239470422267914, 0.5213329792022705, 0.39622998237609863, 0.9677512645721436, 0.9994341731071472, 0.9993546605110168, 0.9962656497955322, 0.9989337921142578, 0.9970620274543762, 0.9990333318710327, 0.9980446100234985, 0.9996778964996338, 0.9982924461364746, 0.1605810523033142, 0.6761232614517212, 0.1468903124332428, 0.016257762908935547, 0.9998040795326233, 0.9928195476531982, 0.998964250087738, 0.9978002309799194, 0.997864842414856, 0.5164533853530884, 0.48301613330841064, 0.9976726174354553, 0.9997148513793945, 0.9994382262229919, 0.9949238896369934, 0.9978193640708923, 0.9978066086769104, 0.9981454610824585, 0.9982473254203796, 0.9993648529052734, 0.9998959302902222, 0.9984577894210815, 0.9994261264801025, 0.9995954036712646, 0.9984925389289856, 0.11720608174800873, 0.5799961686134338, 0.23462513089179993, 0.06800934672355652, 0.9987821578979492, 0.9992279410362244, 0.8914060592651367, 0.07092664390802383, 0.012861364521086216, 0.024587903171777725, 0.9968671798706055, 0.5979248881340027, 0.39922985434532166, 0.9989640712738037, 0.999203085899353, 0.9994034171104431, 0.9977573156356812, 0.9996911287307739, 0.9997141361236572, 0.4736938774585724, 0.4690342843532562, 0.03677348047494888, 0.020483555272221565, 0.9985411763191223, 0.996780276298523, 0.9984285235404968, 0.115833580493927, 0.8824689984321594, 0.9993263483047485, 0.9998777508735657, 0.9941560626029968, 0.9994413256645203, 0.9990262985229492, 0.9985259771347046, 0.9968270659446716, 0.9993681907653809, 0.997965395450592, 0.9903174042701721, 0.2162487655878067, 0.17200633883476257, 0.2507356107234955, 0.36040034890174866, 0.0004706640902440995, 0.9994893670082092, 0.9169524908065796, 0.08260606974363327, 0.9984846115112305, 0.9945562481880188, 0.998630166053772, 0.9992997646331787, 0.9986135363578796, 0.9998618960380554, 0.9997617602348328, 0.9988546967506409, 0.9970260858535767, 0.9976732730865479, 0.9991225004196167, 0.9995083808898926, 0.9994081258773804, 0.9973507523536682, 0.9993845820426941, 0.10586673021316528, 0.3654884099960327, 0.2640972137451172, 0.08780185133218765, 0.03714693710207939, 0.13955530524253845, 0.5707730650901794, 0.17383171617984772, 0.25525256991386414, 0.995060920715332, 0.15820351243019104, 0.3209897577762604, 0.03769424185156822, 0.26971036195755005, 0.21337729692459106, 0.16535457968711853, 0.7227931618690491, 0.1117260679602623, 0.9998210668563843, 0.23403425514698029, 0.6677990555763245, 0.054885972291231155, 0.043175388127565384, 0.997949481010437, 0.20026466250419617, 0.29948586225509644, 0.13693119585514069, 0.3611829876899719, 0.0020826037507504225, 0.9982180595397949, 0.6557472944259644, 0.31217169761657715, 0.03174339607357979, 0.9943953156471252, 0.9958305358886719, 0.24066083133220673, 0.5305023193359375, 0.22867771983146667, 0.15640780329704285, 0.20001092553138733, 0.06381242722272873, 0.5614513754844666, 0.018127137795090675, 0.9591650366783142, 0.9991711378097534, 0.09141993522644043, 0.0926944836974144, 0.668182373046875, 0.04333467036485672, 0.0894501730799675, 0.014889051206409931, 0.9987671375274658, 0.9892120361328125, 0.9984633922576904, 0.9989430904388428, 0.9985598921775818, 0.296944260597229, 0.058275993913412094, 0.2651483118534088, 0.0639396458864212, 0.03482648730278015, 0.06826190650463104, 0.21248629689216614, 0.18910419940948486, 0.3052554130554199, 0.5055325627326965, 0.9997491836547852, 0.9966927766799927, 0.9993926882743835, 0.17890037596225739, 0.8207511305809021, 0.9983716011047363, 0.9997724890708923, 0.9997484683990479, 0.6021299362182617, 0.39766156673431396, 0.9566935896873474, 0.9984345436096191, 0.9956139922142029, 0.9973174333572388, 0.9987738728523254, 0.9963341951370239, 0.8234041333198547, 0.09863320738077164, 0.07471124082803726, 0.003160860389471054, 0.9992104172706604, 0.9988927841186523, 0.9977788925170898, 0.9970008730888367, 0.08055423945188522, 0.28433334827423096, 0.621819257736206, 0.01320561207830906, 0.9992063641548157, 0.997290313243866, 0.9949932098388672, 0.9993923306465149, 0.9981886744499207, 0.9997109770774841, 0.9926820397377014, 0.999053418636322, 0.31737402081489563, 0.04950918257236481, 0.441101610660553, 0.06434924155473709, 0.04729587584733963, 0.08033223450183868, 0.9984719753265381, 0.07106684148311615, 0.09308119118213654, 0.12604627013206482, 0.3605837821960449, 0.3491250276565552, 0.9967350363731384, 0.1694926619529724, 0.2636781632900238, 0.3864020109176636, 0.1209273412823677, 0.059491775929927826, 0.179453507065773, 0.1467108279466629, 0.05810431018471718, 0.43796026706695557, 0.17774756252765656, 0.15866412222385406, 0.8407190442085266, 0.999054491519928, 0.9980930685997009, 0.9995130300521851, 0.21884308755397797, 0.45011430978775024, 0.3301558792591095, 0.26442378759384155, 0.6458178162574768, 0.0769389420747757, 0.012811518274247646, 0.993755042552948, 0.7947824597358704, 0.20428551733493805, 0.9995364546775818, 0.999595046043396, 0.9997027516365051, 0.998023271560669, 0.12449321895837784, 0.07215267419815063, 0.11550047993659973, 0.32394933700561523, 0.3637843728065491, 0.9987651109695435, 0.7790014743804932, 0.22066926956176758, 0.9993389248847961, 0.9989659190177917, 0.9977436065673828, 0.9966291785240173, 0.9983437061309814, 0.9977030158042908, 0.9940730929374695, 0.9974269866943359, 0.85966557264328, 0.07155848294496536, 0.06842629611492157, 0.9998028874397278, 0.9993001818656921, 0.9994604587554932, 0.9996958374977112, 0.9979658722877502, 0.9995282888412476, 0.9453227519989014, 0.3162956237792969, 0.6835828423500061, 0.0962395891547203, 0.43597468733787537, 0.4677430987358093, 0.9970238208770752, 0.9984757900238037, 0.08161208033561707, 0.7089996933937073, 0.1482633501291275, 0.061103999614715576, 0.9981690049171448, 0.9999500513076782, 0.9614717960357666, 0.46778175234794617, 0.5311622619628906, 0.999634325504303, 0.999751627445221, 0.9992432594299316, 7.385495700873435e-05, 0.42004597187042236, 0.007295229006558657, 0.08101888746023178, 0.2711789906024933, 0.10837805271148682, 0.11200515180826187, 0.9997007846832275, 0.26780083775520325, 0.7231653332710266, 0.008686228655278683, 0.13489188253879547, 0.7643463611602783, 0.10058483481407166, 0.7444748282432556, 0.1379893571138382, 0.11745281517505646, 0.7523685693740845, 0.1639253944158554, 0.08359650522470474, 0.2658724784851074, 0.7337058186531067, 0.9959700107574463, 0.9956094026565552, 0.9854726791381836, 0.3235847055912018, 0.6746436357498169, 0.9980199337005615, 0.9971967935562134, 0.9981293678283691, 0.9954536557197571, 0.42676347494125366, 0.16108229756355286, 0.41152194142341614, 0.9995941519737244, 0.9923546314239502, 0.9214882254600525, 0.07557179033756256, 0.8291120529174805, 0.990402340888977, 0.9988718628883362, 0.9995265603065491, 0.9955318570137024, 0.9912909865379333, 0.9998422265052795, 0.9998772144317627, 0.9984394311904907, 0.9987428188323975, 0.9989225268363953, 0.9967465400695801, 0.9978113174438477, 0.9976475834846497, 0.7233913540840149, 0.27646225690841675, 0.11519956588745117, 0.12079999595880508, 0.14580656588077545, 0.6181312799453735, 0.9979408383369446, 0.1371302753686905, 0.8627704977989197, 0.9967974424362183, 0.11983892321586609, 0.8799440264701843, 0.22049115598201752, 0.7792720794677734, 0.9997744560241699, 0.9938488602638245, 0.046470217406749725, 0.6376165151596069, 0.3157880902290344, 0.9991390705108643, 0.9655460119247437, 0.034219544380903244, 0.9315239191055298, 0.9984937310218811, 0.9989368319511414, 0.998591959476471, 0.9996581673622131, 0.99896240234375, 0.9998503923416138, 0.06089065596461296, 0.12413836270570755, 0.0648190826177597, 0.749740719795227, 0.9916304349899292, 0.9988952875137329, 0.2897531986236572, 0.053434181958436966, 0.42383846640586853, 0.04516460373997688, 0.03975757583975792, 0.14798904955387115, 0.9998127222061157, 0.9987674951553345, 0.9980576634407043, 0.6269331574440002, 0.14378230273723602, 0.1318645179271698, 0.09726449847221375, 0.9962350726127625, 0.48400619626045227, 0.08863351494073868, 0.004298803396522999, 0.3932623565196991, 0.029739903286099434, 0.283660888671875, 0.6111035346984863, 0.01202552393078804, 0.0931997150182724, 0.9994293451309204, 0.9996651411056519, 0.580636739730835, 0.06316099315881729, 0.19019001722335815, 0.16591544449329376, 0.9996247291564941, 0.20263329148292542, 0.2223650962114334, 0.5748988389968872, 0.9967321753501892, 0.9996668100357056, 0.9996751546859741, 0.999298095703125, 0.9970964193344116, 0.9962998628616333, 0.9994489550590515, 0.06712403148412704, 0.08629922568798065, 0.21656058728694916, 0.5548890829086304, 0.00279502896592021, 0.07228074967861176, 0.9130554795265198, 0.9998266696929932, 0.6616707444190979, 0.05890122801065445, 0.11461792141199112, 0.06710460036993027, 0.07214891165494919, 0.025552738457918167, 0.747248649597168, 0.07670839875936508, 0.039319634437561035, 0.07495305687189102, 0.06161246448755264, 0.9547429084777832, 0.044662754982709885, 0.9994055032730103, 0.997827410697937, 0.9994736313819885, 0.12393824011087418, 0.18332348763942719, 0.11649318784475327, 0.23473815619945526, 0.31628337502479553, 0.02513800375163555, 0.9983475804328918, 0.9992438554763794, 0.9955896735191345, 0.8479617834091187, 0.1502717137336731, 0.32220926880836487, 0.5834663510322571, 0.0940808579325676, 0.993820309638977, 0.28212302923202515, 0.10314811021089554, 0.332550972700119, 0.24182501435279846, 0.03900403529405594, 0.0013309433124959469, 0.9991464614868164, 0.7838841676712036, 0.02357424609363079, 0.048551078885793686, 0.1439269781112671, 0.9967331886291504, 0.7459855675697327, 0.1941186487674713, 0.059872206300497055, 0.9998486042022705, 0.9982655644416809, 0.9997141361236572, 0.997612476348877, 0.9990626573562622, 0.9999332427978516, 0.9970168471336365, 0.9988345503807068, 0.9992720484733582, 0.9998570680618286, 0.9994431734085083, 0.18832579255104065, 0.2622843086719513, 0.14094342291355133, 0.18261316418647766, 0.11495955288410187, 0.11085180938243866, 0.9982179403305054, 0.550349235534668, 0.14144004881381989, 0.07294308394193649, 0.20906785130500793, 0.026141837239265442, 0.4698070287704468, 0.5299775004386902, 0.8898221254348755, 0.06770797073841095, 0.042420875281095505, 0.27350181341171265, 0.215291365981102, 0.5111398696899414, 0.1308974027633667, 0.13795028626918793, 0.5779783725738525, 0.15316259860992432, 0.99803626537323, 0.9992357492446899, 0.10658285021781921, 0.6987349987030029, 0.07834052294492722, 0.06448901444673538, 0.051801253110170364, 0.9984031915664673, 0.9978542923927307, 0.9998689889907837, 0.9997557997703552, 0.9988629817962646, 0.9985734224319458, 0.9605016708374023, 0.7908609509468079, 0.20864735543727875, 0.9964624047279358, 0.9995256066322327, 0.9966276288032532, 0.9995992183685303, 0.9995741844177246, 0.16609323024749756, 0.08439237624406815, 0.056522056460380554, 0.3505061864852905, 0.20151719450950623, 0.07727285474538803, 0.02292138710618019, 0.040633365511894226, 0.27997303009033203, 0.2088497132062912, 0.07595042139291763, 0.3341037333011627, 0.029827700927853584, 0.03147394582629204, 0.015820680186152458, 0.0125281922519207, 0.01143999770283699, 0.9984042644500732, 0.9990417957305908, 0.9967921376228333, 0.9992658495903015, 0.1968444585800171, 0.8027344942092896, 0.2021578997373581, 0.14977075159549713, 0.2869338095188141, 0.36062362790107727, 0.9990216493606567, 0.9986329674720764, 0.9998985528945923, 0.9980552792549133, 0.9981749653816223, 0.27747413516044617, 0.7224266529083252, 0.4540335237979889, 0.10610853135585785, 0.14046497642993927, 0.057480961084365845, 0.045984767377376556, 0.11456549912691116, 0.08113404363393784, 0.9953482151031494, 0.9966062903404236, 0.9989234209060669, 0.9996793866157532, 0.9991103410720825, 0.9989200830459595, 0.9990070462226868, 0.09897040575742722, 0.3053901493549347, 0.038229551166296005, 0.22848479449748993, 0.3287939727306366, 0.9986734390258789, 0.2693617045879364, 0.36453089118003845, 0.31786343455314636, 0.04820313677191734, 0.9997203946113586, 0.11530744284391403, 0.5308210849761963, 0.10877656936645508, 0.237895205616951, 0.006959130521863699, 0.9982216358184814, 0.9969561100006104, 0.9987024664878845, 0.9981844425201416, 0.9985897541046143, 0.9963062405586243, 0.12567634880542755, 0.11672010272741318, 0.0312024038285017, 0.12408734112977982, 0.34929358959198, 0.2527972459793091, 0.9967441558837891, 0.9706212878227234, 0.9991425275802612, 0.999021589756012, 0.3128533363342285, 0.6866865754127502, 0.9983012676239014, 0.20576411485671997, 0.33602577447891235, 0.07422482967376709, 0.1397864818572998, 0.22121860086917877, 0.014333919622004032, 0.008637703955173492, 0.9938251972198486, 0.9972607493400574, 0.5478456616401672, 0.45190340280532837, 0.9980922341346741, 0.9966006278991699, 0.9991515874862671, 0.14461316168308258, 0.8540606498718262, 0.999761164188385, 0.9990204572677612, 0.9973825812339783, 0.9998258352279663, 0.9971014261245728, 0.9987542629241943, 0.9980791807174683, 0.9918123483657837, 0.32172709703445435, 0.6770201921463013, 0.9976312518119812, 0.04882775619626045, 0.30670326948165894, 0.16402879357337952, 0.16752541065216064, 0.3128223419189453, 0.9995470643043518, 0.03713034838438034, 0.9626342058181763, 0.7337755560874939, 0.17990131676197052, 0.07054349035024643, 0.015710558742284775, 0.9955373406410217, 0.9996204376220703, 0.9984672665596008, 0.9965505599975586, 0.9988654255867004, 0.8140169382095337, 0.11902892589569092, 0.06617068499326706, 0.9991652369499207, 0.9973289966583252, 0.9993073344230652, 0.999627411365509, 0.12974253296852112, 0.1141207218170166, 0.03939956799149513, 0.10922715067863464, 0.06756900250911713, 0.32931265234947205, 0.2104865461587906, 0.9977168440818787, 0.9967452883720398, 0.9978983998298645, 0.99931401014328, 0.9963176250457764, 0.9995166063308716, 0.9982869625091553, 0.9978314638137817, 0.8757932782173157, 0.12411405146121979, 0.998002290725708, 0.8195334672927856, 0.17856501042842865, 0.11579959094524384, 0.43149062991142273, 0.29270440340042114, 0.1041329950094223, 0.05579172074794769, 0.9995251297950745, 0.2541370987892151, 0.541154682636261, 0.04145439714193344, 0.16319547593593597, 0.9977205991744995, 0.9983808398246765, 0.9988160133361816, 0.9751834869384766, 0.9979621767997742, 0.14189358055591583, 0.07711794972419739, 0.09848030656576157, 0.6621643304824829, 0.020312316715717316, 0.9984820485115051, 0.9990109205245972, 0.9964839816093445, 0.9991791248321533, 0.9975836277008057, 0.11230149865150452, 0.5862262845039368, 0.15474429726600647, 0.14671216905117035, 0.9990354180335999, 0.9990981221199036, 0.997658908367157, 0.9976922869682312, 0.9994173645973206, 0.9995365142822266, 0.9982290267944336, 0.9956740140914917, 0.9994259476661682, 0.9998797178268433, 0.9977098107337952, 0.9988892078399658, 0.8613547682762146, 0.1376970261335373, 0.17372803390026093, 0.5834554433822632, 0.11805610358715057, 0.12465550750494003, 0.9997828006744385, 0.23530732095241547, 0.6976994276046753, 0.06689711660146713, 0.964923083782196, 0.023992028087377548, 0.011063550598919392, 0.996405303478241, 0.2835867404937744, 0.708966851234436, 0.19762742519378662, 0.8017085790634155, 0.9996224045753479, 0.6380981206893921, 0.1427658349275589, 0.21906492114067078, 0.9994394183158875, 0.9994568824768066, 0.28168123960494995, 0.7182910442352295, 0.8443124890327454, 0.155210480093956, 0.9985090494155884, 0.9985437393188477, 0.9986534118652344, 0.9966188669204712, 0.27113670110702515, 0.05646885558962822, 0.6722810864448547, 0.9995155930519104, 0.9992888569831848, 0.9969468712806702, 0.998915433883667, 0.9976775050163269, 0.9995181560516357, 0.9988441467285156, 0.9975740909576416, 0.2585890591144562, 0.74106764793396, 0.07718275487422943, 0.9225851893424988, 0.9983715415000916, 0.8312519788742065, 0.16850394010543823, 0.9999039769172668, 0.9927763938903809, 0.006834949366748333, 0.34516242146492004, 0.6546344757080078, 0.9989906549453735, 0.9986433982849121, 0.999781608581543, 0.9987660050392151, 0.9908174872398376, 0.19125306606292725, 0.3359522521495819, 0.12107482552528381, 0.15790103375911713, 0.19368498027324677, 0.9990999102592468, 0.9964715838432312, 0.7633354663848877, 0.2362442910671234, 0.22415363788604736, 0.7753105163574219, 0.9980990290641785, 0.9983026385307312, 0.6414551734924316, 0.35845187306404114, 0.9967859387397766, 0.1412917524576187, 0.2265971601009369, 0.6320104598999023, 0.9993759393692017, 0.9995800256729126, 0.998772382736206, 0.7953600883483887, 0.20405636727809906, 0.9991673231124878, 0.28454938530921936, 0.7150141000747681, 0.997937798500061, 0.043620139360427856, 0.04168146476149559, 0.14268632233142853, 0.5094832181930542, 0.262302428483963, 0.9993372559547424, 0.9017019271850586, 0.09780364483594894, 0.9958378076553345, 0.11489491164684296, 0.3454516530036926, 0.11452309042215347, 0.4250693619251251, 0.3005533218383789, 0.4144658148288727, 0.08365671336650848, 0.2012915164232254, 0.9994727969169617, 0.9986333250999451, 0.998694658279419, 0.46646586060523987, 0.5334545969963074, 0.30788373947143555, 0.36463403701782227, 0.32697728276252747, 0.999895453453064, 0.9996584057807922, 0.9995143413543701, 0.9988366365432739, 0.847646951675415, 0.0938291922211647, 0.046313125640153885, 0.012170905247330666, 0.1277996301651001, 0.3602904975414276, 0.09265701472759247, 0.25688445568084717, 0.1536511331796646, 0.008706915192306042, 0.9883857369422913, 0.9994415044784546, 0.9914665222167969, 0.9553190469741821, 0.044480226933956146, 0.8801605701446533, 0.11969387531280518, 0.9982563257217407, 0.6408822536468506, 0.278166800737381, 0.07734179496765137, 0.003559480421245098, 0.9996948838233948, 0.27765247225761414, 0.6240113973617554, 0.09816765040159225, 0.9987537264823914, 0.8778008222579956, 0.10537267476320267, 0.01057413686066866, 0.006238298490643501, 0.9978863000869751, 0.8628050684928894, 0.13653431832790375, 0.9982289671897888, 0.9987418055534363, 0.17126692831516266, 0.3518373370170593, 0.004020998254418373, 0.20572136342525482, 0.01699068769812584, 0.07716768234968185, 0.07665520161390305, 0.0963265597820282, 0.9993284344673157, 0.9994304180145264, 0.9990588426589966, 0.9899093508720398, 0.9992861151695251, 0.09886053949594498, 0.21550410985946655, 0.6129879951477051, 0.07251528650522232, 0.20909719169139862, 0.699479877948761, 0.09119715541601181, 0.9988591074943542, 0.5595809817314148, 0.43878716230392456, 0.9979463815689087, 0.9989174604415894, 0.9969369173049927, 0.1813482791185379, 0.8183435797691345, 0.9973130822181702, 0.9970977902412415, 0.9992003440856934, 0.2692526578903198, 0.4450303912162781, 0.2856714725494385, 0.998305082321167, 0.15519867837429047, 0.42059439420700073, 0.07783902436494827, 0.08287249505519867, 0.08676744252443314, 0.17653100192546844, 0.057634491473436356, 0.12403944879770279, 0.01935071125626564, 0.28232547640800476, 0.5163437724113464, 0.9980480074882507, 0.9994960427284241, 0.9978624582290649, 0.9967116713523865, 0.06685440242290497, 0.05977938696742058, 0.20302602648735046, 0.2675519585609436, 0.11317037045955658, 0.03436008840799332, 0.2552229166030884, 0.9982326030731201, 0.26472675800323486, 0.7270323634147644, 0.008051300421357155, 0.9997934699058533, 0.9990060329437256, 0.9987010955810547, 0.9986699819564819, 0.5253234505653381, 0.47428783774375916, 0.9977714419364929, 0.9998489618301392, 0.9933584928512573, 0.9970396161079407, 0.9996239542961121, 0.9051221609115601, 0.09472764283418655, 0.9937187433242798, 0.9917886257171631, 0.9645175337791443, 0.0354025661945343, 0.9988163113594055, 0.9983692169189453, 0.9985162019729614, 0.9994852542877197, 0.9979283213615417, 0.9928622245788574, 0.9979828596115112, 0.9999261498451233, 0.9990031123161316, 0.9986948370933533, 0.17494982481002808, 0.1998637616634369, 0.041052766144275665, 0.5215358138084412, 0.05976890027523041, 0.002638668054714799, 0.99945068359375, 0.9994466304779053, 0.19079983234405518, 0.7526671290397644, 0.029764773324131966, 0.026406696066260338, 0.9984501600265503, 0.9994203448295593, 0.9866305589675903, 0.9986522793769836, 0.9994644522666931, 0.9991334080696106, 0.999854326248169, 0.9997101426124573, 0.9983806014060974, 0.9986526370048523, 0.9992358684539795, 0.9973139762878418, 0.9990967512130737, 0.9981013536453247, 0.08569508045911789, 0.3111165165901184, 0.33523058891296387, 0.2678464353084564, 0.8688085675239563, 0.13025805354118347, 0.45389509201049805, 0.13691160082817078, 0.4090628921985626, 0.9971303343772888, 0.9974250197410583, 0.9990710616111755, 0.9987077116966248, 0.31597834825515747, 0.6839140057563782, 0.21681225299835205, 0.7274259924888611, 0.05565425008535385, 0.9971151351928711, 0.9992911219596863, 0.99897301197052, 0.9992057681083679, 0.9474918842315674, 0.05247131362557411, 0.9995051622390747, 0.9996992349624634, 0.9984548687934875, 0.998440146446228, 0.09006405621767044, 0.5499376654624939, 0.3598915934562683, 0.26014286279678345, 0.1828925460577011, 0.03285533934831619, 0.10842914879322052, 0.21195939183235168, 0.20314136147499084, 0.0005443230620585382, 0.5169376730918884, 0.48131677508354187, 0.999093770980835, 0.9971014261245728, 0.9975374937057495, 0.9625585675239563, 0.48235195875167847, 0.5174524188041687, 0.9990612268447876, 0.9993411302566528, 0.09762609750032425, 0.361084908246994, 0.4957258701324463, 0.045420438051223755, 0.06016917526721954, 0.12585046887397766, 0.49829593300819397, 0.03231844678521156, 0.2830910384654999, 0.00023208939819596708, 0.9959144592285156, 0.8769334554672241, 0.12177569419145584, 0.9997500777244568, 0.06057621166110039, 0.4950370490550995, 0.15959863364696503, 0.2508067786693573, 0.028056351467967033, 0.0059013357385993, 0.9978766441345215, 0.9988625049591064, 0.1802656501531601, 0.8189210891723633, 0.9946992993354797, 0.8326635360717773, 0.04236068204045296, 0.08058780431747437, 0.044344790279865265, 0.999151885509491, 0.9942156076431274, 0.969725489616394, 0.9497532844543457, 0.9685764312744141, 0.7578746676445007, 0.8995019793510437, 0.9137285947799683, 0.8557140231132507, 0.8665236830711365, 0.9270895719528198, 0.8980096578598022, 0.9164108037948608, 0.9253456592559814, 0.9617297649383545, 0.8304803967475891], \"Term\": [\"aber\", \"absolute\", \"absolutely\", \"absolutely\", \"access\", \"access\", \"access\", \"accommodate\", \"accommodate\", \"accommodating\", \"accommodating\", \"accommodating\", \"accueil\", \"activity\", \"actual\", \"ad\", \"addition\", \"adorable\", \"adult\", \"adventure\", \"advertise\", \"advertise\", \"advice\", \"agreable\", \"air\", \"air\", \"airbnb\", \"airbnb\", \"airbnb\", \"alle\", \"aller\", \"also\", \"also\", \"also\", \"also\", \"also\", \"also\", \"also\", \"also\", \"altogether\", \"always\", \"always\", \"always\", \"always\", \"always\", \"always\", \"amable\", \"amazing\", \"amazing\", \"amazing\", \"amazing\", \"amazingly\", \"ambiance\", \"ante\", \"anthony\", \"apartamento\", \"apartment\", \"apartment\", \"apartment\", \"apartment\", \"apartment\", \"apartment\", \"apartment\", \"apartment\", \"appartement\", \"appartement\", \"appartment\", \"appartment\", \"appear\", \"appliance\", \"appropriately\", \"appt\", \"apt\", \"apt\", \"area\", \"area\", \"area\", \"area\", \"area\", \"area\", \"arrange\", \"arrival\", \"arrive\", \"arrive\", \"arrive\", \"arrive\", \"arrive\", \"artistic\", \"ask\", \"ask\", \"ask\", \"ask\", \"assist\", \"assistance\", \"associate\", \"atenta\", \"attention\", \"attention\", \"attraction\", \"auch\", \"auf\", \"automated_posting\", \"autre\", \"ave\", \"away\", \"away\", \"awesome\", \"awesome\", \"awesome\", \"awesome\", \"baby\", \"back\", \"back\", \"bad\", \"bad\", \"bad\", \"bag\", \"bagel\", \"bain\", \"bano\", \"bar\", \"bar\", \"bar\", \"barrio\", \"basement\", \"basic\", \"basic\", \"bath\", \"bathroom\", \"be\", \"beat\", \"beau\", \"beaucoup\", \"beautiful\", \"beautiful\", \"beautiful\", \"beautiful\", \"beautiful\", \"beautifully_decorated\", \"bed\", \"bed\", \"bed\", \"bed\", \"bed\", \"bedding\", \"bedroom\", \"bei\", \"bel\", \"bella\", \"belle\", \"bem\", \"ben\", \"best\", \"best\", \"best\", \"best\", \"bien\", \"bien\", \"bien_ubicado\", \"big\", \"big\", \"big\", \"big\", \"bike\", \"bit\", \"bit\", \"bit\", \"bk\", \"blanket\", \"blind\", \"block\", \"board\", \"bon\", \"bonne\", \"book\", \"book\", \"book\", \"booking\", \"booking\", \"bother\", \"bottle\", \"brand\", \"breeze\", \"bridge\", \"broadway\", \"broadway\", \"broadway\", \"brother\", \"budget\", \"buen\", \"buena\", \"buena_comunicacion\", \"build\", \"build\", \"build\", \"building\", \"building\", \"building\", \"building\", \"bus\", \"bus\", \"bus\", \"bus\", \"bus\", \"ca\", \"cafe\", \"cafe\", \"cafe\", \"cafe\", \"call\", \"call\", \"call\", \"calm\", \"calm\", \"calme\", \"cama\", \"cancel\", \"car\", \"careful\", \"caring\", \"carry\", \"casa\", \"casa\", \"casual\", \"ce\", \"central\", \"centralize\", \"centrally\", \"centrally\", \"centre\", \"centre_ville\", \"cerca\", \"cette\", \"chair\", \"chambre\", \"chambre\", \"chance\", \"charge\", \"check\", \"check\", \"check\", \"check\", \"chez\", \"chic\", \"chill\", \"chilly\", \"christmas\", \"city\", \"city\", \"city\", \"city\", \"clean\", \"clean\", \"clean\", \"clean\", \"clean\", \"cleaning\", \"cleaning_fee\", \"clear\", \"clear\", \"clearly\", \"climb\", \"close\", \"close\", \"close\", \"closet\", \"clothe\", \"cocina\", \"coffee\", \"coffee\", \"coffee_maker\", \"colazione\", \"cold\", \"com\", \"come\", \"come\", \"come\", \"comfortable\", \"comfortable\", \"comfortable\", \"comfortable\", \"comfortable\", \"comfy\", \"comfy\", \"comfy\", \"comfy\", \"comme\", \"communicate\", \"communicate\", \"communicate\", \"communicate\", \"communicating\", \"communication\", \"communication\", \"communication\", \"communication\", \"communicative\", \"community\", \"como\", \"comoda\", \"comodo\", \"completely\", \"complex\", \"con\", \"con\", \"conforme\", \"confortable\", \"connected\", \"constant\", \"contact\", \"contact\", \"continue\", \"convenience\", \"convenience\", \"conveniently\", \"conveniently\", \"conveniently\", \"cool\", \"cool\", \"cool\", \"cool\", \"corner\", \"corner\", \"corner\", \"correct\", \"correspond\", \"cosy\", \"cosy\", \"couch\", \"couch\", \"could\", \"could\", \"could\", \"could\", \"could\", \"could\", \"could\", \"count\", \"courteous\", \"cozy\", \"cozy\", \"cozy\", \"cozy\", \"crazy\", \"cucina\", \"cuisine\", \"curtain\", \"dan\", \"das\", \"date\", \"dave\", \"day\", \"day\", \"day\", \"decide\", \"decor\", \"decor\", \"decor\", \"def\", \"definitely\", \"definitely\", \"definitely\", \"dei\", \"del\", \"deli\", \"delightful\", \"den\", \"depart\", \"departamento\", \"departure\", \"der\", \"des\", \"describe\", \"describe\", \"describe\", \"describe\", \"description\", \"deserve\", \"design\", \"desk\", \"destination\", \"detail\", \"detail\", \"dias\", \"die\", \"difficult\", \"din\", \"dine\", \"direct\", \"disappointed\", \"dish\", \"disponible\", \"distance\", \"district\", \"do\", \"dog\", \"donc\", \"door\", \"door\", \"door\", \"door\", \"doorman\", \"dormir\", \"downtown\", \"downtown\", \"downtown\", \"downtown\", \"draw\", \"dream\", \"dream\", \"drive\", \"drop\", \"du\", \"dust\", \"e\", \"early\", \"easy\", \"easy\", \"easy\", \"easy\", \"eatery\", \"ed\", \"edificio\", \"efficient\", \"efficient\", \"eine\", \"el\", \"elegant\", \"elevator\", \"elle\", \"email\", \"emergency\", \"empire_state\", \"emplacement\", \"engage\", \"enjoy\", \"enjoy\", \"enjoy\", \"enjoy\", \"enjoy\", \"ensure\", \"entire\", \"entire\", \"environment\", \"equipe\", \"equipped\", \"era\", \"essential\", \"est\", \"esta\", \"estaba\", \"estacion\", \"estadia\", \"estancia\", \"et\", \"etait\", \"etc\", \"ete\", \"even\", \"even\", \"even\", \"even\", \"even\", \"even\", \"ever\", \"ever\", \"ever\", \"everybody\", \"everything\", \"everything\", \"everything\", \"everything\", \"everything\", \"exactly\", \"exactly\", \"exactly\", \"excelente\", \"excellent\", \"excellent\", \"excellent\", \"excellent\", \"exceptional\", \"experience\", \"experience\", \"experience\", \"experience\", \"experience\", \"extend\", \"extra\", \"extra\", \"extra\", \"extra_mile\", \"familia\", \"fantastic\", \"fantastic\", \"fantastic\", \"fast\", \"fast\", \"fast\", \"fast\", \"fast\", \"fatto\", \"favorite\", \"feel\", \"feel\", \"feel\", \"feel\", \"feel\", \"feel\", \"ferry\", \"fiance\", \"fica\", \"fill\", \"finally\", \"find\", \"find\", \"find\", \"find\", \"find\", \"find\", \"find\", \"first\", \"first\", \"first\", \"fit\", \"five_star\", \"fix\", \"flat\", \"flat\", \"flexibility\", \"flexible\", \"flight\", \"floor\", \"floor\", \"florida\", \"fly\", \"fold\", \"folk\", \"follow\", \"fonctionnel\", \"food\", \"food\", \"food\", \"food\", \"foot\", \"forward\", \"fotos\", \"france\", \"friendly\", \"friendly\", \"friendly\", \"friendly\", \"fue\", \"fully_equipped\", \"funny\", \"fur\", \"futon\", \"future\", \"future_visit\", \"gem\", \"get\", \"get\", \"get\", \"get\", \"get\", \"get\", \"getaway\", \"give\", \"give\", \"give\", \"give\", \"give\", \"gladly\", \"go\", \"go\", \"go\", \"go\", \"go\", \"good\", \"good\", \"good\", \"good\", \"good\", \"gorgeous\", \"gorgeous\", \"grace\", \"gracia\", \"grand\", \"grande\", \"grande\", \"grande\", \"great\", \"great\", \"great\", \"great\", \"greatly\", \"greet\", \"greet\", \"grocery\", \"grocery_store\", \"group\", \"guess\", \"guest\", \"guest\", \"guest\", \"guest\", \"guest\", \"gut\", \"guy\", \"guy\", \"habitacion\", \"hair\", \"hair_dryer\", \"hall\", \"han\", \"handy\", \"hangout\", \"happily\", \"hard\", \"hard\", \"hard\", \"harlem\", \"hat\", \"hay\", \"hear\", \"heartbeat\", \"heater\", \"heatwave\", \"help\", \"help\", \"helpful\", \"helpful\", \"helpful\", \"helpfull\", \"hide\", \"highly\", \"highly\", \"highly\", \"highly\", \"hip\", \"home\", \"homie\", \"honestly\", \"honestly\", \"hope\", \"hospitable\", \"hospital\", \"host\", \"host\", \"host\", \"host\", \"host\", \"host\", \"host\", \"hote\", \"hotel\", \"hotel\", \"hotel\", \"hour\", \"hour\", \"hour\", \"house\", \"house\", \"house\", \"however\", \"however\", \"however\", \"huge\", \"huge\", \"hustle_bustle\", \"idealement_situe\", \"ill\", \"immediate\", \"immediate\", \"impeccable\", \"importantly\", \"improve\", \"inconvenient\", \"incredible\", \"incredible\", \"incredible\", \"incredibly\", \"indicate\", \"informative\", \"informative\", \"infrastructure\", \"inspire\", \"instead\", \"instruction\", \"interested\", \"introduce\", \"issue\", \"ist\", \"italy\", \"item\", \"jfk\", \"john\", \"julia\", \"justice\", \"key\", \"key\", \"kind\", \"kind\", \"kind\", \"kind\", \"kindness\", \"kitchen\", \"kitchen\", \"knowledgeable\", \"large\", \"large\", \"last\", \"last\", \"late\", \"le\", \"leave\", \"leave\", \"leave\", \"les\", \"let\", \"let\", \"lex\", \"lie\", \"light_sleeper\", \"limpieza\", \"limpio\", \"linda\", \"line\", \"list\", \"list\", \"list\", \"list\", \"listen\", \"listing\", \"little\", \"little\", \"little\", \"little\", \"little\", \"little\", \"living\", \"llegar\", \"load\", \"local\", \"local\", \"local\", \"local\", \"localizacion\", \"locate\", \"locate\", \"locate\", \"locate\", \"locate\", \"location\", \"location\", \"location\", \"location\", \"loft\", \"logement\", \"lot\", \"lot\", \"lot\", \"lot\", \"loud\", \"love\", \"love\", \"love\", \"luckily\", \"lugar\", \"luggage\", \"luxury\", \"madison\", \"mail\", \"mais\", \"make\", \"make\", \"make\", \"make\", \"make\", \"make\", \"mama\", \"man\", \"manhattan\", \"manhattan\", \"manhattan\", \"manhattan\", \"manhattan\", \"manhattan\", \"many\", \"many\", \"many\", \"many\", \"many\", \"market\", \"market\", \"mas\", \"matter\", \"mattress\", \"meet\", \"meet\", \"meet\", \"meet\", \"meet\", \"meet\", \"mejor\", \"meme\", \"menage\", \"merci\", \"merci\", \"message\", \"message\", \"message\", \"messaging\", \"metro\", \"metro\", \"metro\", \"metro\", \"metro\", \"metro\", \"michael\", \"min\", \"min\", \"min\", \"min\", \"minimal\", \"minute\", \"minute\", \"minute\", \"modern\", \"mom\", \"money\", \"mouse\", \"muito\", \"muy\", \"name\", \"nao\", \"near\", \"nearby\", \"necessary\", \"need\", \"need\", \"need\", \"need\", \"need\", \"need\", \"negative\", \"neighborhood\", \"neighborhood\", \"neighborhood\", \"neighborhood\", \"neighborhood\", \"never\", \"never\", \"new\", \"new\", \"new\", \"next\", \"next\", \"next\", \"nice\", \"nice\", \"nice\", \"nice\", \"nicely_decorated\", \"nicht\", \"night\", \"night\", \"night\", \"night\", \"night\", \"nightlife\", \"noche\", \"noise\", \"noisy\", \"non\", \"none\", \"noodle\", \"nos\", \"nos\", \"nosotros\", \"not\", \"notre_sejour\", \"nous\", \"nous_avon\", \"ny\", \"ny\", \"ny\", \"ny\", \"ny\", \"ny\", \"ny\", \"ny\", \"nyc\", \"nyc\", \"nyc\", \"nyc\", \"nyc\", \"nyc\", \"nyc\", \"nyc\", \"nyc\", \"ok\", \"one\", \"organized\", \"otherwise\", \"outstanding\", \"outstanding\", \"owner\", \"owner\", \"owner\", \"owner\", \"pa\", \"par\", \"para\", \"parent\", \"parfait\", \"park\", \"park\", \"part\", \"part\", \"part\", \"part\", \"part\", \"part\", \"part\", \"partage\", \"particular\", \"party\", \"pas\", \"passe\", \"patio\", \"peaceful\", \"people\", \"people\", \"people\", \"people\", \"people\", \"pequeno\", \"perfect\", \"perfect\", \"perfect\", \"perfect\", \"pero\", \"person\", \"person\", \"person\", \"person\", \"person\", \"persona\", \"personne\", \"perto\", \"pharmacy\", \"phenomenal\", \"phone_number\", \"photo\", \"photo\", \"photo\", \"photo\", \"photo\", \"photo\", \"pic\", \"piccolo\", \"pick\", \"pie\", \"pillow\", \"pillow\", \"pipe\", \"place\", \"place\", \"place\", \"place\", \"place\", \"place\", \"place\", \"pleasantly_surprised\", \"plein\", \"plenty\", \"plenty\", \"plug\", \"plusieur\", \"pm\", \"polite\", \"polite\", \"por\", \"positive\", \"post\", \"pour\", \"pour_visiter\", \"pratique\", \"pre\", \"premise\", \"present\", \"present\", \"previous\", \"price\", \"price\", \"price\", \"price\", \"price\", \"prime\", \"private\", \"private\", \"problem\", \"problem\", \"problem\", \"problem\", \"probleme\", \"process\", \"proche\", \"product\", \"professional\", \"prompt\", \"prompt\", \"prompt\", \"promptly\", \"properly\", \"property\", \"propre\", \"provide\", \"provide\", \"provide\", \"provide\", \"provide\", \"provide\", \"provide\", \"proximite\", \"pub\", \"public_transit\", \"public_transportation\", \"purchase\", \"quarti\", \"quartier\", \"quarto\", \"que\", \"que\", \"quelque\", \"query\", \"query\", \"question\", \"question\", \"question\", \"question\", \"question\", \"qui\", \"quick\", \"quick\", \"quick\", \"quick\", \"rapido\", \"rare\", \"rate\", \"ratio\", \"reachable\", \"really\", \"really\", \"really\", \"really\", \"really\", \"reason\", \"receive\", \"recomend\", \"recomendable\", \"recomendo\", \"recommend\", \"recommend\", \"recommend\", \"recommend\", \"refund\", \"relax\", \"relaxed\", \"relaxing\", \"renovate\", \"rent\", \"rental\", \"repeat\", \"reply\", \"reservation\", \"reserve\", \"resolve\", \"respectful\", \"respectful\", \"respond\", \"respond\", \"respond\", \"respond\", \"response\", \"responsive\", \"responsive\", \"responsive\", \"restaurant\", \"restaurant\", \"restaurant\", \"resto\", \"retreat\", \"retreat\", \"review\", \"review\", \"ride\", \"right\", \"right\", \"right\", \"roof\", \"rooftop\", \"room\", \"room\", \"roommate\", \"roommate\", \"rule\", \"sale\", \"salle\", \"sara\", \"say\", \"say\", \"say\", \"sehr\", \"sejour\", \"sejour_chez\", \"self\", \"sempre\", \"send\", \"separate\", \"ser\", \"service\", \"service\", \"share\", \"share\", \"sharing\", \"sheet\", \"sheet\", \"shop\", \"shopping\", \"shopping\", \"shower\", \"shower\", \"si\", \"sich\", \"side\", \"similar\", \"simone\", \"simple\", \"simple\", \"simple\", \"simple\", \"simple\", \"sind\", \"sitio\", \"situe\", \"situe\", \"size\", \"size\", \"sized\", \"skyline\", \"sleep\", \"sleep\", \"slightly\", \"small\", \"small\", \"small\", \"smell\", \"smooth\", \"soap\", \"sofa\", \"sofa\", \"soft\", \"solo\", \"solo\", \"solve\", \"son\", \"son\", \"son\", \"son\", \"son\", \"sont\", \"soon\", \"soon\", \"sophie\", \"space\", \"space\", \"space\", \"space\", \"spacious\", \"spacious\", \"spacious\", \"spacious\", \"sparkle\", \"speak\", \"spectacular\", \"spot\", \"spot\", \"spotless\", \"spotless\", \"spotless\", \"square\", \"stair\", \"star\", \"state\", \"station\", \"station\", \"station\", \"station\", \"stay\", \"stay\", \"stay\", \"stay\", \"stay\", \"stay\", \"sticky\", \"stock\", \"stone_throw\", \"stop\", \"stop\", \"store\", \"store\", \"stove\", \"street\", \"street\", \"street\", \"street\", \"studio\", \"stylish\", \"stylish\", \"stylish\", \"su\", \"subway\", \"subway\", \"subway\", \"subway\", \"sucio\", \"suggestion\", \"suggestion\", \"suit\", \"suitcase\", \"super\", \"super\", \"super\", \"super\", \"super\", \"super\", \"super\", \"super\", \"superb\", \"supermarket\", \"supply\", \"supportive\", \"sur\", \"sure\", \"sure\", \"sure\", \"sure\", \"sweet\", \"sweet\", \"sweet\", \"sympa\", \"system\", \"system\", \"tanya\", \"tea\", \"team\", \"tell\", \"tell\", \"temp\", \"terrible\", \"text\", \"thank\", \"thank\", \"thank\", \"theater\", \"thing\", \"thing\", \"thing\", \"thing\", \"thing\", \"thing\", \"think\", \"think\", \"think\", \"think\", \"think\", \"third\", \"tiene\", \"tight\", \"tile\", \"time\", \"time\", \"time\", \"time\", \"time\", \"time\", \"time\", \"timely_manner\", \"tip\", \"tip\", \"tip\", \"todo\", \"toilet\", \"toilet_paper\", \"tom\", \"ton\", \"ton\", \"tony\", \"top\", \"touristic\", \"touristy\", \"tout\", \"towel\", \"towel\", \"townhouse\", \"traditional\", \"train\", \"train\", \"tranquilo\", \"transit\", \"transport\", \"transportation\", \"trash\", \"traveling_alone\", \"traveller\", \"tre\", \"treat\", \"trendy\", \"trip\", \"trip\", \"trip\", \"trip\", \"trip\", \"trip\", \"truly\", \"turn\", \"tv\", \"tv\", \"tv\", \"tv\", \"twice\", \"ubicacion\", \"ues\", \"uma\", \"una\", \"uncomfortable\", \"und\", \"une\", \"union_square\", \"uns\", \"upper_east\", \"upper_west\", \"upstairs\", \"uptown\", \"use\", \"use\", \"use\", \"use\", \"vacation\", \"vacation\", \"value\", \"value\", \"value\", \"variety\", \"various\", \"vibe\", \"vibrant\", \"view\", \"view\", \"visit\", \"visit\", \"visit\", \"vista\", \"vous\", \"vraiment\", \"wake\", \"walk\", \"walk\", \"walking\", \"war\", \"waren\", \"water_pressure\", \"welcome\", \"welcome\", \"welcome\", \"well\", \"well\", \"well\", \"well\", \"well\", \"well\", \"well\", \"west\", \"west\", \"whenever\", \"wherever\", \"white\", \"willingness\", \"window\", \"window\", \"winter\", \"wir\", \"wonderful\", \"wonderful\", \"wonderful\", \"wonderful\", \"work\", \"work\", \"work\", \"work\", \"work\", \"work\", \"worried\", \"worry\", \"worry\", \"worth\", \"would\", \"would\", \"would\", \"would\", \"would\", \"would\", \"write\", \"wrong\", \"year\", \"year\", \"year_old\", \"york\", \"york\", \"york\", \"york\", \"zona\", \"zone\", \"\\u0434\\u043e\\u043c\", \"\\u0435\\u0441\\u043b\\u0438\", \"\\u0435\\u0441\\u0442\\u044c\", \"\\u043a\\u0432\\u0430\\u0440\\u0442\\u0438\\u0440\\u0435_\\u0435\\u0441\\u0442\\u044c\", \"\\u043a\\u043e\\u043d\\u0434\\u0438\\u0446\\u0438\\u043e\\u043d\\u0435\\u0440\", \"\\u043a\\u0443\\u0445\\u043d\\u044f\", \"\\u043c\\u043e\\u0436\\u043d\\u043e\", \"\\u043d\\u0430\\u0441\", \"\\u043d\\u0443\\u0436\\u043d\\u043e\", \"\\u043e\\u043d\\u0430\", \"\\u043f\\u043e\\u043d\\u0440\\u0430\\u0432\\u0438\\u043b\\u043e\\u0441\\u044c\", \"\\u0441\\u043f\\u0430\\u0441\\u0438\\u0431\\u043e\", \"\\u0445\\u043e\\u0437\\u044f\\u0438\\u043d\", \"\\u0445\\u043e\\u0440\\u043e\\u0448\\u0438\\u0438\"]}, \"R\": 30, \"lambda.step\": 0.01, \"plot.opts\": {\"xlab\": \"PC1\", \"ylab\": \"PC2\"}, \"topic.order\": [1, 13, 17, 6, 8, 3, 14, 16, 9, 19, 12, 15, 10, 7, 2, 4, 20, 5, 11, 18]};\n",
       "\n",
       "function LDAvis_load_lib(url, callback){\n",
       "  var s = document.createElement('script');\n",
       "  s.src = url;\n",
       "  s.async = true;\n",
       "  s.onreadystatechange = s.onload = callback;\n",
       "  s.onerror = function(){console.warn(\"failed to load library \" + url);};\n",
       "  document.getElementsByTagName(\"head\")[0].appendChild(s);\n",
       "}\n",
       "\n",
       "if(typeof(LDAvis) !== \"undefined\"){\n",
       "   // already loaded: just create the visualization\n",
       "   !function(LDAvis){\n",
       "       new LDAvis(\"#\" + \"ldavis_el153051139545118728503190740\", ldavis_el153051139545118728503190740_data);\n",
       "   }(LDAvis);\n",
       "}else if(typeof define === \"function\" && define.amd){\n",
       "   // require.js is available: use it to load d3/LDAvis\n",
       "   require.config({paths: {d3: \"https://cdnjs.cloudflare.com/ajax/libs/d3/3.5.5/d3.min\"}});\n",
       "   require([\"d3\"], function(d3){\n",
       "      window.d3 = d3;\n",
       "      LDAvis_load_lib(\"https://cdn.rawgit.com/bmabey/pyLDAvis/files/ldavis.v1.0.0.js\", function(){\n",
       "        new LDAvis(\"#\" + \"ldavis_el153051139545118728503190740\", ldavis_el153051139545118728503190740_data);\n",
       "      });\n",
       "    });\n",
       "}else{\n",
       "    // require.js not available: dynamically load d3 & LDAvis\n",
       "    LDAvis_load_lib(\"https://cdnjs.cloudflare.com/ajax/libs/d3/3.5.5/d3.min.js\", function(){\n",
       "         LDAvis_load_lib(\"https://cdn.rawgit.com/bmabey/pyLDAvis/files/ldavis.v1.0.0.js\", function(){\n",
       "                 new LDAvis(\"#\" + \"ldavis_el153051139545118728503190740\", ldavis_el153051139545118728503190740_data);\n",
       "            })\n",
       "         });\n",
       "}\n",
       "</script>"
      ],
      "text/plain": [
       "<IPython.core.display.HTML object>"
      ]
     },
     "execution_count": 32,
     "metadata": {},
     "output_type": "execute_result"
    }
   ],
   "source": [
    "# Visualize the topics\n",
    "pyLDAvis.enable_notebook(sort=True)\n",
    "vis = pyLDAvis.gensim.prepare(lda_model, corpus, idtoword)\n",
    "pyLDAvis.display(vis)"
   ]
  },
  {
   "cell_type": "code",
   "execution_count": 33,
   "metadata": {
    "colab": {},
    "colab_type": "code",
    "id": "fSsk4bWA3Obg"
   },
   "outputs": [
    {
     "name": "stdout",
     "output_type": "stream",
     "text": [
      "\n",
      "Perplexity:  -10.364497799337316\n"
     ]
    }
   ],
   "source": [
    "# Compute Perplexity\n",
    "print('\\nPerplexity: ', lda_model.log_perplexity(corpus))\n"
   ]
  },
  {
   "cell_type": "code",
   "execution_count": 35,
   "metadata": {
    "scrolled": false
   },
   "outputs": [
    {
     "name": "stderr",
     "output_type": "stream",
     "text": [
      "/Users/ikhyvicky/anaconda3/lib/python3.7/site-packages/scipy/sparse/lil.py:504: FutureWarning: future versions will not create a writeable array from broadcast_array. Set the writable flag explicitly to avoid this warning.\n",
      "  if not i.flags.writeable or i.dtype not in (np.int32, np.int64):\n",
      "/Users/ikhyvicky/anaconda3/lib/python3.7/site-packages/scipy/sparse/lil.py:506: FutureWarning: future versions will not create a writeable array from broadcast_array. Set the writable flag explicitly to avoid this warning.\n",
      "  if not j.flags.writeable or j.dtype not in (np.int32, np.int64):\n",
      "/Users/ikhyvicky/anaconda3/lib/python3.7/site-packages/scipy/sparse/lil.py:320: DeprecationWarning: Numpy has detected that you (may be) writing to an array with\n",
      "overlapping memory from np.broadcast_arrays. If this is intentional\n",
      "set the WRITEABLE flag True or make a copy immediately before writing.\n",
      "  i, j, x)\n",
      "/Users/ikhyvicky/anaconda3/lib/python3.7/site-packages/scipy/sparse/lil.py:320: DeprecationWarning: Numpy has detected that you (may be) writing to an array with\n",
      "overlapping memory from np.broadcast_arrays. If this is intentional\n",
      "set the WRITEABLE flag True or make a copy immediately before writing.\n",
      "  i, j, x)\n",
      "/Users/ikhyvicky/anaconda3/lib/python3.7/site-packages/scipy/sparse/lil.py:320: DeprecationWarning: Numpy has detected that you (may be) writing to an array with\n",
      "overlapping memory from np.broadcast_arrays. If this is intentional\n",
      "set the WRITEABLE flag True or make a copy immediately before writing.\n",
      "  i, j, x)\n",
      "/Users/ikhyvicky/anaconda3/lib/python3.7/site-packages/scipy/sparse/lil.py:320: DeprecationWarning: Numpy has detected that you (may be) writing to an array with\n",
      "overlapping memory from np.broadcast_arrays. If this is intentional\n",
      "set the WRITEABLE flag True or make a copy immediately before writing.\n",
      "  i, j, x)\n",
      "/Users/ikhyvicky/anaconda3/lib/python3.7/site-packages/scipy/sparse/lil.py:320: DeprecationWarning: Numpy has detected that you (may be) writing to an array with\n",
      "overlapping memory from np.broadcast_arrays. If this is intentional\n",
      "set the WRITEABLE flag True or make a copy immediately before writing.\n",
      "  i, j, x)\n",
      "/Users/ikhyvicky/anaconda3/lib/python3.7/site-packages/scipy/sparse/lil.py:320: DeprecationWarning: Numpy has detected that you (may be) writing to an array with\n",
      "overlapping memory from np.broadcast_arrays. If this is intentional\n",
      "set the WRITEABLE flag True or make a copy immediately before writing.\n",
      "  i, j, x)\n",
      "/Users/ikhyvicky/anaconda3/lib/python3.7/site-packages/scipy/sparse/lil.py:320: DeprecationWarning: Numpy has detected that you (may be) writing to an array with\n",
      "overlapping memory from np.broadcast_arrays. If this is intentional\n",
      "set the WRITEABLE flag True or make a copy immediately before writing.\n",
      "  i, j, x)\n",
      "/Users/ikhyvicky/anaconda3/lib/python3.7/site-packages/scipy/sparse/lil.py:320: DeprecationWarning: Numpy has detected that you (may be) writing to an array with\n",
      "overlapping memory from np.broadcast_arrays. If this is intentional\n",
      "set the WRITEABLE flag True or make a copy immediately before writing.\n",
      "  i, j, x)\n",
      "/Users/ikhyvicky/anaconda3/lib/python3.7/site-packages/scipy/sparse/lil.py:320: DeprecationWarning: Numpy has detected that you (may be) writing to an array with\n",
      "overlapping memory from np.broadcast_arrays. If this is intentional\n",
      "set the WRITEABLE flag True or make a copy immediately before writing.\n",
      "  i, j, x)\n",
      "/Users/ikhyvicky/anaconda3/lib/python3.7/site-packages/scipy/sparse/lil.py:320: DeprecationWarning: Numpy has detected that you (may be) writing to an array with\n",
      "overlapping memory from np.broadcast_arrays. If this is intentional\n",
      "set the WRITEABLE flag True or make a copy immediately before writing.\n",
      "  i, j, x)\n",
      "/Users/ikhyvicky/anaconda3/lib/python3.7/site-packages/scipy/sparse/lil.py:320: DeprecationWarning: Numpy has detected that you (may be) writing to an array with\n",
      "overlapping memory from np.broadcast_arrays. If this is intentional\n",
      "set the WRITEABLE flag True or make a copy immediately before writing.\n",
      "  i, j, x)\n",
      "/Users/ikhyvicky/anaconda3/lib/python3.7/site-packages/scipy/sparse/lil.py:320: DeprecationWarning: Numpy has detected that you (may be) writing to an array with\n",
      "overlapping memory from np.broadcast_arrays. If this is intentional\n",
      "set the WRITEABLE flag True or make a copy immediately before writing.\n",
      "  i, j, x)\n",
      "/Users/ikhyvicky/anaconda3/lib/python3.7/site-packages/scipy/sparse/lil.py:320: DeprecationWarning: Numpy has detected that you (may be) writing to an array with\n",
      "overlapping memory from np.broadcast_arrays. If this is intentional\n",
      "set the WRITEABLE flag True or make a copy immediately before writing.\n",
      "  i, j, x)\n",
      "/Users/ikhyvicky/anaconda3/lib/python3.7/site-packages/scipy/sparse/lil.py:320: DeprecationWarning: Numpy has detected that you (may be) writing to an array with\n",
      "overlapping memory from np.broadcast_arrays. If this is intentional\n",
      "set the WRITEABLE flag True or make a copy immediately before writing.\n",
      "  i, j, x)\n",
      "/Users/ikhyvicky/anaconda3/lib/python3.7/site-packages/scipy/sparse/lil.py:320: DeprecationWarning: Numpy has detected that you (may be) writing to an array with\n",
      "overlapping memory from np.broadcast_arrays. If this is intentional\n",
      "set the WRITEABLE flag True or make a copy immediately before writing.\n",
      "  i, j, x)\n",
      "/Users/ikhyvicky/anaconda3/lib/python3.7/site-packages/scipy/sparse/lil.py:320: DeprecationWarning: Numpy has detected that you (may be) writing to an array with\n",
      "overlapping memory from np.broadcast_arrays. If this is intentional\n",
      "set the WRITEABLE flag True or make a copy immediately before writing.\n",
      "  i, j, x)\n",
      "/Users/ikhyvicky/anaconda3/lib/python3.7/site-packages/scipy/sparse/lil.py:320: DeprecationWarning: Numpy has detected that you (may be) writing to an array with\n",
      "overlapping memory from np.broadcast_arrays. If this is intentional\n",
      "set the WRITEABLE flag True or make a copy immediately before writing.\n",
      "  i, j, x)\n",
      "/Users/ikhyvicky/anaconda3/lib/python3.7/site-packages/scipy/sparse/lil.py:320: DeprecationWarning: Numpy has detected that you (may be) writing to an array with\n",
      "overlapping memory from np.broadcast_arrays. If this is intentional\n",
      "set the WRITEABLE flag True or make a copy immediately before writing.\n",
      "  i, j, x)\n",
      "/Users/ikhyvicky/anaconda3/lib/python3.7/site-packages/scipy/sparse/lil.py:320: DeprecationWarning: Numpy has detected that you (may be) writing to an array with\n",
      "overlapping memory from np.broadcast_arrays. If this is intentional\n",
      "set the WRITEABLE flag True or make a copy immediately before writing.\n",
      "  i, j, x)\n",
      "/Users/ikhyvicky/anaconda3/lib/python3.7/site-packages/scipy/sparse/lil.py:320: DeprecationWarning: Numpy has detected that you (may be) writing to an array with\n",
      "overlapping memory from np.broadcast_arrays. If this is intentional\n",
      "set the WRITEABLE flag True or make a copy immediately before writing.\n",
      "  i, j, x)\n",
      "/Users/ikhyvicky/anaconda3/lib/python3.7/site-packages/scipy/sparse/lil.py:320: DeprecationWarning: Numpy has detected that you (may be) writing to an array with\n",
      "overlapping memory from np.broadcast_arrays. If this is intentional\n",
      "set the WRITEABLE flag True or make a copy immediately before writing.\n",
      "  i, j, x)\n",
      "/Users/ikhyvicky/anaconda3/lib/python3.7/site-packages/scipy/sparse/lil.py:320: DeprecationWarning: Numpy has detected that you (may be) writing to an array with\n",
      "overlapping memory from np.broadcast_arrays. If this is intentional\n",
      "set the WRITEABLE flag True or make a copy immediately before writing.\n",
      "  i, j, x)\n",
      "/Users/ikhyvicky/anaconda3/lib/python3.7/site-packages/scipy/sparse/lil.py:320: DeprecationWarning: Numpy has detected that you (may be) writing to an array with\n",
      "overlapping memory from np.broadcast_arrays. If this is intentional\n",
      "set the WRITEABLE flag True or make a copy immediately before writing.\n",
      "  i, j, x)\n",
      "/Users/ikhyvicky/anaconda3/lib/python3.7/site-packages/scipy/sparse/lil.py:320: DeprecationWarning: Numpy has detected that you (may be) writing to an array with\n",
      "overlapping memory from np.broadcast_arrays. If this is intentional\n",
      "set the WRITEABLE flag True or make a copy immediately before writing.\n",
      "  i, j, x)\n",
      "/Users/ikhyvicky/anaconda3/lib/python3.7/site-packages/scipy/sparse/lil.py:320: DeprecationWarning: Numpy has detected that you (may be) writing to an array with\n",
      "overlapping memory from np.broadcast_arrays. If this is intentional\n",
      "set the WRITEABLE flag True or make a copy immediately before writing.\n",
      "  i, j, x)\n",
      "/Users/ikhyvicky/anaconda3/lib/python3.7/site-packages/scipy/sparse/lil.py:320: DeprecationWarning: Numpy has detected that you (may be) writing to an array with\n",
      "overlapping memory from np.broadcast_arrays. If this is intentional\n",
      "set the WRITEABLE flag True or make a copy immediately before writing.\n",
      "  i, j, x)\n",
      "/Users/ikhyvicky/anaconda3/lib/python3.7/site-packages/scipy/sparse/lil.py:320: DeprecationWarning: Numpy has detected that you (may be) writing to an array with\n",
      "overlapping memory from np.broadcast_arrays. If this is intentional\n",
      "set the WRITEABLE flag True or make a copy immediately before writing.\n",
      "  i, j, x)\n",
      "/Users/ikhyvicky/anaconda3/lib/python3.7/site-packages/scipy/sparse/lil.py:320: DeprecationWarning: Numpy has detected that you (may be) writing to an array with\n",
      "overlapping memory from np.broadcast_arrays. If this is intentional\n",
      "set the WRITEABLE flag True or make a copy immediately before writing.\n",
      "  i, j, x)\n",
      "/Users/ikhyvicky/anaconda3/lib/python3.7/site-packages/scipy/sparse/lil.py:320: DeprecationWarning: Numpy has detected that you (may be) writing to an array with\n",
      "overlapping memory from np.broadcast_arrays. If this is intentional\n",
      "set the WRITEABLE flag True or make a copy immediately before writing.\n",
      "  i, j, x)\n",
      "/Users/ikhyvicky/anaconda3/lib/python3.7/site-packages/scipy/sparse/lil.py:320: DeprecationWarning: Numpy has detected that you (may be) writing to an array with\n",
      "overlapping memory from np.broadcast_arrays. If this is intentional\n",
      "set the WRITEABLE flag True or make a copy immediately before writing.\n",
      "  i, j, x)\n"
     ]
    },
    {
     "name": "stdout",
     "output_type": "stream",
     "text": [
      "\n",
      "Coherence Score:  0.571454929572421\n"
     ]
    }
   ],
   "source": [
    "# Compute Coherence Score\n",
    "coherence_model_lda = CoherenceModel(model=lda_model, texts=data_lemmatized, dictionary=idtoword, coherence='c_v')\n",
    "coherence_lda = coherence_model_lda.get_coherence()\n",
    "print('\\nCoherence Score: ', coherence_lda)"
   ]
  },
  {
   "cell_type": "code",
   "execution_count": 92,
   "metadata": {},
   "outputs": [],
   "source": [
    "def format_topics_sentences(ldamodel=lda_model, corpus=corpus, texts=data):\n",
    "    # Init output\n",
    "    sent_topics_df = pd.DataFrame()\n",
    "\n",
    "    # Get main topic in each document\n",
    "    for i, row in enumerate(ldamodel[corpus]):\n",
    "        row = sorted(row, key=lambda x: (x[1]), reverse=True)\n",
    "        # Get the Dominant topic, Perc Contribution and Keywords for each document\n",
    "        for j, (topic_num, prop_topic) in enumerate(row):\n",
    "            if j == 0:  # => dominant topic\n",
    "                wp = ldamodel.show_topic(topic_num)\n",
    "                topic_keywords = \", \".join([word for word, prop in wp])\n",
    "                sent_topics_df = sent_topics_df.append(pd.Series([int(topic_num), round(prop_topic,4), topic_keywords]), ignore_index=True)\n",
    "            else:\n",
    "                break\n",
    "    sent_topics_df.columns = ['Dominant_Topic', 'Perc_Contribution', 'Topic_Keywords']\n",
    "\n",
    "    # Add original text to the end of the output\n",
    "    contents = pd.Series(texts)\n",
    "    sent_topics_df = pd.concat([sent_topics_df, contents], axis=1)\n",
    "    return(sent_topics_df)"
   ]
  },
  {
   "cell_type": "code",
   "execution_count": 93,
   "metadata": {},
   "outputs": [],
   "source": [
    "df_topic_sents_keywords = format_topics_sentences(ldamodel=lda_model, corpus=corpus, texts=data)"
   ]
  },
  {
   "cell_type": "code",
   "execution_count": 94,
   "metadata": {},
   "outputs": [],
   "source": [
    "df_dominant_topic = df_topic_sents_keywords.reset_index()\n",
    "df_dominant_topic.columns = ['Document_No', 'Dominant_Topic', 'Topic_Perc_Contrib', 'Keywords', 'Text']"
   ]
  },
  {
   "cell_type": "code",
   "execution_count": 116,
   "metadata": {},
   "outputs": [
    {
     "data": {
      "text/plain": [
       "(346959, 5)"
      ]
     },
     "execution_count": 116,
     "metadata": {},
     "output_type": "execute_result"
    }
   ],
   "source": [
    "df_dominant_topic.shape"
   ]
  },
  {
   "cell_type": "code",
   "execution_count": 95,
   "metadata": {
    "scrolled": true
   },
   "outputs": [
    {
     "data": {
      "text/html": [
       "<div>\n",
       "<style scoped>\n",
       "    .dataframe tbody tr th:only-of-type {\n",
       "        vertical-align: middle;\n",
       "    }\n",
       "\n",
       "    .dataframe tbody tr th {\n",
       "        vertical-align: top;\n",
       "    }\n",
       "\n",
       "    .dataframe thead th {\n",
       "        text-align: right;\n",
       "    }\n",
       "</style>\n",
       "<table border=\"1\" class=\"dataframe\">\n",
       "  <thead>\n",
       "    <tr style=\"text-align: right;\">\n",
       "      <th></th>\n",
       "      <th>Document_No</th>\n",
       "      <th>Dominant_Topic</th>\n",
       "      <th>Topic_Perc_Contrib</th>\n",
       "      <th>Keywords</th>\n",
       "      <th>Text</th>\n",
       "    </tr>\n",
       "  </thead>\n",
       "  <tbody>\n",
       "    <tr>\n",
       "      <th>0</th>\n",
       "      <td>0</td>\n",
       "      <td>12.0</td>\n",
       "      <td>0.6099</td>\n",
       "      <td>great, location, place, stay, host, clean, wou...</td>\n",
       "      <td>Stephanie was a wonderful host! Her apartment ...</td>\n",
       "    </tr>\n",
       "    <tr>\n",
       "      <th>1</th>\n",
       "      <td>1</td>\n",
       "      <td>8.0</td>\n",
       "      <td>0.4299</td>\n",
       "      <td>tre, appartement, est, pour, dan, bien, metro,...</td>\n",
       "      <td>Such a wonderful place and very close to the m...</td>\n",
       "    </tr>\n",
       "    <tr>\n",
       "      <th>2</th>\n",
       "      <td>2</td>\n",
       "      <td>5.0</td>\n",
       "      <td>0.2337</td>\n",
       "      <td>stay, new, home, place, make, york, feel, back...</td>\n",
       "      <td>I just got back from a trip to NYC during whic...</td>\n",
       "    </tr>\n",
       "    <tr>\n",
       "      <th>3</th>\n",
       "      <td>3</td>\n",
       "      <td>5.0</td>\n",
       "      <td>0.3530</td>\n",
       "      <td>stay, new, home, place, make, york, feel, back...</td>\n",
       "      <td>Stephanie's offered all the most important thi...</td>\n",
       "    </tr>\n",
       "    <tr>\n",
       "      <th>4</th>\n",
       "      <td>4</td>\n",
       "      <td>7.0</td>\n",
       "      <td>0.4788</td>\n",
       "      <td>place, nice, good, really, host, clean, stay, ...</td>\n",
       "      <td>Stephanie was really nice, ftiendly and helpfu...</td>\n",
       "    </tr>\n",
       "    <tr>\n",
       "      <th>5</th>\n",
       "      <td>5</td>\n",
       "      <td>7.0</td>\n",
       "      <td>0.6224</td>\n",
       "      <td>place, nice, good, really, host, clean, stay, ...</td>\n",
       "      <td>I was pleasantly surprised with my whole stay ...</td>\n",
       "    </tr>\n",
       "    <tr>\n",
       "      <th>6</th>\n",
       "      <td>6</td>\n",
       "      <td>0.0</td>\n",
       "      <td>0.5985</td>\n",
       "      <td>subway, great, walk, place, apartment, close, ...</td>\n",
       "      <td>Stephanie's apt was great. Very convenient to ...</td>\n",
       "    </tr>\n",
       "    <tr>\n",
       "      <th>7</th>\n",
       "      <td>7</td>\n",
       "      <td>5.0</td>\n",
       "      <td>0.3146</td>\n",
       "      <td>stay, new, home, place, make, york, feel, back...</td>\n",
       "      <td>my husband and i had such a great time staying...</td>\n",
       "    </tr>\n",
       "    <tr>\n",
       "      <th>8</th>\n",
       "      <td>8</td>\n",
       "      <td>0.0</td>\n",
       "      <td>0.2981</td>\n",
       "      <td>subway, great, walk, place, apartment, close, ...</td>\n",
       "      <td>When I first arrived at Stephanie's, she was v...</td>\n",
       "    </tr>\n",
       "    <tr>\n",
       "      <th>9</th>\n",
       "      <td>9</td>\n",
       "      <td>5.0</td>\n",
       "      <td>0.6833</td>\n",
       "      <td>stay, new, home, place, make, york, feel, back...</td>\n",
       "      <td>awesome couldn't have been better.</td>\n",
       "    </tr>\n",
       "  </tbody>\n",
       "</table>\n",
       "</div>"
      ],
      "text/plain": [
       "   Document_No  Dominant_Topic  Topic_Perc_Contrib  \\\n",
       "0            0            12.0              0.6099   \n",
       "1            1             8.0              0.4299   \n",
       "2            2             5.0              0.2337   \n",
       "3            3             5.0              0.3530   \n",
       "4            4             7.0              0.4788   \n",
       "5            5             7.0              0.6224   \n",
       "6            6             0.0              0.5985   \n",
       "7            7             5.0              0.3146   \n",
       "8            8             0.0              0.2981   \n",
       "9            9             5.0              0.6833   \n",
       "\n",
       "                                            Keywords  \\\n",
       "0  great, location, place, stay, host, clean, wou...   \n",
       "1  tre, appartement, est, pour, dan, bien, metro,...   \n",
       "2  stay, new, home, place, make, york, feel, back...   \n",
       "3  stay, new, home, place, make, york, feel, back...   \n",
       "4  place, nice, good, really, host, clean, stay, ...   \n",
       "5  place, nice, good, really, host, clean, stay, ...   \n",
       "6  subway, great, walk, place, apartment, close, ...   \n",
       "7  stay, new, home, place, make, york, feel, back...   \n",
       "8  subway, great, walk, place, apartment, close, ...   \n",
       "9  stay, new, home, place, make, york, feel, back...   \n",
       "\n",
       "                                                Text  \n",
       "0  Stephanie was a wonderful host! Her apartment ...  \n",
       "1  Such a wonderful place and very close to the m...  \n",
       "2  I just got back from a trip to NYC during whic...  \n",
       "3  Stephanie's offered all the most important thi...  \n",
       "4  Stephanie was really nice, ftiendly and helpfu...  \n",
       "5  I was pleasantly surprised with my whole stay ...  \n",
       "6  Stephanie's apt was great. Very convenient to ...  \n",
       "7  my husband and i had such a great time staying...  \n",
       "8  When I first arrived at Stephanie's, she was v...  \n",
       "9                 awesome couldn't have been better.  "
      ]
     },
     "execution_count": 95,
     "metadata": {},
     "output_type": "execute_result"
    }
   ],
   "source": [
    "df_dominant_topic.head(10)"
   ]
  },
  {
   "cell_type": "code",
   "execution_count": 97,
   "metadata": {},
   "outputs": [],
   "source": [
    "from nltk.sentiment.vader import SentimentIntensityAnalyzer"
   ]
  },
  {
   "cell_type": "code",
   "execution_count": 98,
   "metadata": {},
   "outputs": [],
   "source": [
    "sia = SentimentIntensityAnalyzer()"
   ]
  },
  {
   "cell_type": "code",
   "execution_count": 104,
   "metadata": {},
   "outputs": [],
   "source": [
    "example=df_dominant_topic.loc[:10,:]"
   ]
  },
  {
   "cell_type": "code",
   "execution_count": 105,
   "metadata": {},
   "outputs": [
    {
     "data": {
      "text/plain": [
       "(11, 5)"
      ]
     },
     "execution_count": 105,
     "metadata": {},
     "output_type": "execute_result"
    }
   ],
   "source": [
    "example.shape"
   ]
  },
  {
   "cell_type": "code",
   "execution_count": 115,
   "metadata": {
    "scrolled": true
   },
   "outputs": [
    {
     "name": "stdout",
     "output_type": "stream",
     "text": [
      "Stephanie was a wonderful host! Her apartment was beautiful and extremely clean. We had a very nice (and affordable!) stay in the city with private room and own bathroom.\n",
      "0.9357\n",
      "\n",
      "\n",
      "Such a wonderful place and very close to the metro station on the line 1 2 3. She was awesome with us, it was a pleasure to stay in her appt. she's french, so last word ...\r\n",
      "Merci encore stephanie pour ton hospitalité. On a passé un super séjour avec toi. Très disponible pour nous avec pleins de conseils, je vous recommande particulierement cette adresse qui plus est pour un prix raisonnable. Le metro est juste a 1 bloc de l'appartement et la ligne 1-2-3 est la plus centrale et la plus pratique de NYC. son quartier est vraiment tres sympa en plus !!! Allez y les yeux fermés.\n",
      "0.9537\n",
      "\n",
      "\n",
      "I just got back from a trip to NYC during which I stayed at Stephanie's appartment. The bedroom and private bathroom that comes with it were both kept very clean and are spacious so that I could unpack my stuff and put my clothes away in the closet. I didn't have to live out of my rucksack for ten days which made me already feel comfortable.\r\n",
      "The appartment is situated right at the north end of Central Park in Harlem and very close to different subway stations. I could either start my day with a morning stroll through the park and into the Upper West or Upper East Side, or catch the subway to get to Midtown, South Manhattan or Brooklyn in no time. So from a geographical vantage point the appartment is perfectly situated to discover the city.\r\n",
      "But apart from all these facts it was above all Stephanie with her warm and welcoming nature that really made me feel comfortable during these days. It is very nice to come \"home\" in the evening, tired after a long day's strolling around, and end the day with a little chit-chat about one's experiences before falling into bed and, with thumb-in-mouth, sleep blissfully through till the next morning.\r\n",
      "NYC, I will be back, and I know where I'll be staying! Thank you, Stephanie!!!\n",
      "0.962\n",
      "\n",
      "\n",
      "Stephanie's offered all the most important things: a warm welcome into a comfortable home; a comfortable bed in a quiet room; fresh & clean towels & blankets; and easy access to Manhattan.  Finding myself travelling to NYC in the future I feel I already have a open invitation to make home away from home through Stephanie's generousity.\n",
      "0.9626\n",
      "\n",
      "\n",
      "Stephanie was really nice, ftiendly and helpful. The room was perfect and it was very easy to go around the town from there. :-)\n",
      "0.9335\n",
      "\n",
      "\n",
      "I was pleasantly surprised with my whole stay at Stepahnie's place. She is the most warm hearted and interesting person and her family is the same.\r\n",
      "The whole place is clean aand as described in the ad. I'd go there again any time and thank Stph again for the wonderful stay.\r\n",
      "Thanx\n",
      "0.9501\n",
      "\n",
      "\n",
      "Stephanie's apt was great. Very convenient to anywhere in NYC you would want to go. Subway stop a block away. I would highly recommend staying there if you get a chance. \n",
      "0.624\n",
      "\n",
      "\n",
      "my husband and i had such a great time staying with stephanie! we stayed at chez chic for 3 nights and felt right at home the minute we walked in.  the room is a perfect size, plenty of room for the two of us and a good sized closet for our suitcases, everything was immaculate, clean towels and linens, and the location is great.   not only is stephanie a great hostess, she is also a great resource for things to do in the city which made our stay even better.  i would recommend stephanie to anyone traveling to new york and we cant wait to get back to nyc to see her bed and breakfast!\n",
      "0.987\n",
      "\n",
      "\n",
      "When I first arrived at Stephanie's, she was very welcoming! I had no problem finding my way from the subway at Central Park North and I never felt unsafe walking from the subway to the apartment (a 5 min walk)When I got to the apartment complex at 7th ave (Chez Chic)there was no elevator but there was a really friendly neighbor that helped me carry my luggage up the stairs. I met Stephanie's very nice husband and her two beautiful children and they were never a bother! And she even let me use her laptop so I can check my email and keep in touch with my family.\r\n",
      "I was free to come and go anytime I wanted to and having my own bathroom was a bonus! The bed was REALLY comfy, the air conditioning was a relief and the closet was spacious.\r\n",
      " Not too far up the street there was a 24 hour market that was awesome with a lot of great stuff to choose from so I was always able to make my own breakfast, lunch and dinner!! Going to and from uptown to midtown Manhattan was very easy and convenient with the subways running 24 hours (only a 25 min ride to Time Square) and there was always people around so you never felt alone!!\r\n",
      "Over all I really enjoyed my stay at Chez Chic and New York was a great city! I recommend any place Stephanie has available!! \r\n",
      "Enjoy your time in New York!\n",
      "0.9973\n",
      "\n",
      "\n",
      "awesome couldn't have been better.\n",
      "0.4007\n",
      "\n",
      "\n",
      "It was a great week at \"chez chic\". Stephanie and her family were really friendly and she gave us some advices to visit the town. The room was comfortable and the flat was really well situated (5 minutes from subway). We would recommend this place to anyone!\n",
      "0.944\n",
      "\n",
      "\n"
     ]
    }
   ],
   "source": [
    "for sentence in example.Text:\n",
    "    # Assess sentiment.\n",
    "    sentiment = sia.polarity_scores(sentence)[\"compound\"]\n",
    "    print(sentence)\n",
    "    print(sentiment)\n",
    "    print('\\n')"
   ]
  },
  {
   "cell_type": "code",
   "execution_count": 119,
   "metadata": {},
   "outputs": [],
   "source": [
    "sentiment_scores=[]\n",
    "for sentence in df_dominant_topic.Text:\n",
    "    sentiment = sia.polarity_scores(sentence)[\"compound\"]\n",
    "    sentiment_scores.append(sentiment)\n",
    "    "
   ]
  },
  {
   "cell_type": "code",
   "execution_count": 129,
   "metadata": {},
   "outputs": [],
   "source": [
    "df_dominant_topic.drop('e',axis=1,inplace=True)"
   ]
  },
  {
   "cell_type": "code",
   "execution_count": 125,
   "metadata": {},
   "outputs": [],
   "source": [
    "df_dominant_topic['sentiment_score'] = pd.Series(sentiment_scores, index=df_dominant_topic.index)"
   ]
  },
  {
   "cell_type": "code",
   "execution_count": 137,
   "metadata": {},
   "outputs": [],
   "source": [
    "keyword_scores=[]\n",
    "for sentence in df_dominant_topic.Keywords:\n",
    "    sentiment = sia.polarity_scores(sentence)[\"compound\"]\n",
    "    keyword_scores.append(sentiment)"
   ]
  },
  {
   "cell_type": "code",
   "execution_count": 130,
   "metadata": {},
   "outputs": [
    {
     "data": {
      "text/html": [
       "<div>\n",
       "<style scoped>\n",
       "    .dataframe tbody tr th:only-of-type {\n",
       "        vertical-align: middle;\n",
       "    }\n",
       "\n",
       "    .dataframe tbody tr th {\n",
       "        vertical-align: top;\n",
       "    }\n",
       "\n",
       "    .dataframe thead th {\n",
       "        text-align: right;\n",
       "    }\n",
       "</style>\n",
       "<table border=\"1\" class=\"dataframe\">\n",
       "  <thead>\n",
       "    <tr style=\"text-align: right;\">\n",
       "      <th></th>\n",
       "      <th>Document_No</th>\n",
       "      <th>Dominant_Topic</th>\n",
       "      <th>Topic_Perc_Contrib</th>\n",
       "      <th>Keywords</th>\n",
       "      <th>Text</th>\n",
       "      <th>sentiment_score</th>\n",
       "    </tr>\n",
       "  </thead>\n",
       "  <tbody>\n",
       "    <tr>\n",
       "      <th>0</th>\n",
       "      <td>0</td>\n",
       "      <td>12.0</td>\n",
       "      <td>0.6099</td>\n",
       "      <td>great, location, place, stay, host, clean, wou...</td>\n",
       "      <td>Stephanie was a wonderful host! Her apartment ...</td>\n",
       "      <td>0.9357</td>\n",
       "    </tr>\n",
       "    <tr>\n",
       "      <th>1</th>\n",
       "      <td>1</td>\n",
       "      <td>8.0</td>\n",
       "      <td>0.4299</td>\n",
       "      <td>tre, appartement, est, pour, dan, bien, metro,...</td>\n",
       "      <td>Such a wonderful place and very close to the m...</td>\n",
       "      <td>0.9537</td>\n",
       "    </tr>\n",
       "    <tr>\n",
       "      <th>2</th>\n",
       "      <td>2</td>\n",
       "      <td>5.0</td>\n",
       "      <td>0.2337</td>\n",
       "      <td>stay, new, home, place, make, york, feel, back...</td>\n",
       "      <td>I just got back from a trip to NYC during whic...</td>\n",
       "      <td>0.9620</td>\n",
       "    </tr>\n",
       "    <tr>\n",
       "      <th>3</th>\n",
       "      <td>3</td>\n",
       "      <td>5.0</td>\n",
       "      <td>0.3530</td>\n",
       "      <td>stay, new, home, place, make, york, feel, back...</td>\n",
       "      <td>Stephanie's offered all the most important thi...</td>\n",
       "      <td>0.9626</td>\n",
       "    </tr>\n",
       "    <tr>\n",
       "      <th>4</th>\n",
       "      <td>4</td>\n",
       "      <td>7.0</td>\n",
       "      <td>0.4788</td>\n",
       "      <td>place, nice, good, really, host, clean, stay, ...</td>\n",
       "      <td>Stephanie was really nice, ftiendly and helpfu...</td>\n",
       "      <td>0.9335</td>\n",
       "    </tr>\n",
       "  </tbody>\n",
       "</table>\n",
       "</div>"
      ],
      "text/plain": [
       "   Document_No  Dominant_Topic  Topic_Perc_Contrib  \\\n",
       "0            0            12.0              0.6099   \n",
       "1            1             8.0              0.4299   \n",
       "2            2             5.0              0.2337   \n",
       "3            3             5.0              0.3530   \n",
       "4            4             7.0              0.4788   \n",
       "\n",
       "                                            Keywords  \\\n",
       "0  great, location, place, stay, host, clean, wou...   \n",
       "1  tre, appartement, est, pour, dan, bien, metro,...   \n",
       "2  stay, new, home, place, make, york, feel, back...   \n",
       "3  stay, new, home, place, make, york, feel, back...   \n",
       "4  place, nice, good, really, host, clean, stay, ...   \n",
       "\n",
       "                                                Text  sentiment_score  \n",
       "0  Stephanie was a wonderful host! Her apartment ...           0.9357  \n",
       "1  Such a wonderful place and very close to the m...           0.9537  \n",
       "2  I just got back from a trip to NYC during whic...           0.9620  \n",
       "3  Stephanie's offered all the most important thi...           0.9626  \n",
       "4  Stephanie was really nice, ftiendly and helpfu...           0.9335  "
      ]
     },
     "execution_count": 130,
     "metadata": {},
     "output_type": "execute_result"
    }
   ],
   "source": [
    "df_dominant_topic.head()"
   ]
  },
  {
   "cell_type": "code",
   "execution_count": 156,
   "metadata": {},
   "outputs": [],
   "source": [
    "negative_sentiments=df_dominant_topic[df_dominant_topic['sentiment_score']<0]"
   ]
  },
  {
   "cell_type": "code",
   "execution_count": 161,
   "metadata": {},
   "outputs": [],
   "source": [
    "negative_sentiments.reset_index(drop=True,inplace=True)"
   ]
  },
  {
   "cell_type": "code",
   "execution_count": 162,
   "metadata": {},
   "outputs": [
    {
     "data": {
      "text/plain": [
       "(15998, 6)"
      ]
     },
     "execution_count": 162,
     "metadata": {},
     "output_type": "execute_result"
    }
   ],
   "source": [
    "negative_sentiments.shape"
   ]
  },
  {
   "cell_type": "code",
   "execution_count": 172,
   "metadata": {},
   "outputs": [
    {
     "data": {
      "text/html": [
       "<div>\n",
       "<style scoped>\n",
       "    .dataframe tbody tr th:only-of-type {\n",
       "        vertical-align: middle;\n",
       "    }\n",
       "\n",
       "    .dataframe tbody tr th {\n",
       "        vertical-align: top;\n",
       "    }\n",
       "\n",
       "    .dataframe thead th {\n",
       "        text-align: right;\n",
       "    }\n",
       "</style>\n",
       "<table border=\"1\" class=\"dataframe\">\n",
       "  <thead>\n",
       "    <tr style=\"text-align: right;\">\n",
       "      <th></th>\n",
       "      <th>Document_No</th>\n",
       "      <th>Dominant_Topic</th>\n",
       "      <th>Topic_Perc_Contrib</th>\n",
       "      <th>Keywords</th>\n",
       "      <th>Text</th>\n",
       "      <th>sentiment_score</th>\n",
       "    </tr>\n",
       "  </thead>\n",
       "  <tbody>\n",
       "    <tr>\n",
       "      <th>8982</th>\n",
       "      <td>186980</td>\n",
       "      <td>11.0</td>\n",
       "      <td>0.9185</td>\n",
       "      <td>und, ist, die, man, war, der, super, be, sehr,...</td>\n",
       "      <td>*** Kommunikation *** Die Kommunikation mit Da...</td>\n",
       "      <td>-0.9992</td>\n",
       "    </tr>\n",
       "    <tr>\n",
       "      <th>7343</th>\n",
       "      <td>152568</td>\n",
       "      <td>11.0</td>\n",
       "      <td>0.8962</td>\n",
       "      <td>und, ist, die, man, war, der, super, be, sehr,...</td>\n",
       "      <td>Die Unterkunft war toll.\\nCheck-in war unprobl...</td>\n",
       "      <td>-0.9988</td>\n",
       "    </tr>\n",
       "    <tr>\n",
       "      <th>14738</th>\n",
       "      <td>313770</td>\n",
       "      <td>11.0</td>\n",
       "      <td>0.9731</td>\n",
       "      <td>und, ist, die, man, war, der, super, be, sehr,...</td>\n",
       "      <td>Wir haben 3 Nächte in der Unterkunft verbracht...</td>\n",
       "      <td>-0.9987</td>\n",
       "    </tr>\n",
       "    <tr>\n",
       "      <th>2250</th>\n",
       "      <td>49840</td>\n",
       "      <td>11.0</td>\n",
       "      <td>0.9769</td>\n",
       "      <td>und, ist, die, man, war, der, super, be, sehr,...</td>\n",
       "      <td>Ich habe gemischte Gefühle was die Unterkunft ...</td>\n",
       "      <td>-0.9986</td>\n",
       "    </tr>\n",
       "    <tr>\n",
       "      <th>5048</th>\n",
       "      <td>106495</td>\n",
       "      <td>11.0</td>\n",
       "      <td>0.9824</td>\n",
       "      <td>und, ist, die, man, war, der, super, be, sehr,...</td>\n",
       "      <td>Zuerst möchte ich sagen, dass wir Wei nicht pe...</td>\n",
       "      <td>-0.9985</td>\n",
       "    </tr>\n",
       "    <tr>\n",
       "      <th>6616</th>\n",
       "      <td>137464</td>\n",
       "      <td>11.0</td>\n",
       "      <td>0.9700</td>\n",
       "      <td>und, ist, die, man, war, der, super, be, sehr,...</td>\n",
       "      <td>Insgesamt betrachtet war die Wohnung für das G...</td>\n",
       "      <td>-0.9978</td>\n",
       "    </tr>\n",
       "    <tr>\n",
       "      <th>10692</th>\n",
       "      <td>223276</td>\n",
       "      <td>11.0</td>\n",
       "      <td>0.9412</td>\n",
       "      <td>und, ist, die, man, war, der, super, be, sehr,...</td>\n",
       "      <td>Check in problemlos, Lage der Wohnung war okay...</td>\n",
       "      <td>-0.9976</td>\n",
       "    </tr>\n",
       "    <tr>\n",
       "      <th>1363</th>\n",
       "      <td>30507</td>\n",
       "      <td>11.0</td>\n",
       "      <td>0.9304</td>\n",
       "      <td>und, ist, die, man, war, der, super, be, sehr,...</td>\n",
       "      <td>Bei der Ankunft lief alles wie vorher mit Clau...</td>\n",
       "      <td>-0.9975</td>\n",
       "    </tr>\n",
       "    <tr>\n",
       "      <th>2832</th>\n",
       "      <td>61234</td>\n",
       "      <td>11.0</td>\n",
       "      <td>0.9104</td>\n",
       "      <td>und, ist, die, man, war, der, super, be, sehr,...</td>\n",
       "      <td>Koseki hat auf unsere Anfrage und E-Mails imme...</td>\n",
       "      <td>-0.9975</td>\n",
       "    </tr>\n",
       "    <tr>\n",
       "      <th>8885</th>\n",
       "      <td>184906</td>\n",
       "      <td>11.0</td>\n",
       "      <td>0.8735</td>\n",
       "      <td>und, ist, die, man, war, der, super, be, sehr,...</td>\n",
       "      <td>Unser Aufenthalt in New York war in diesem App...</td>\n",
       "      <td>-0.9974</td>\n",
       "    </tr>\n",
       "    <tr>\n",
       "      <th>6912</th>\n",
       "      <td>144093</td>\n",
       "      <td>11.0</td>\n",
       "      <td>0.8977</td>\n",
       "      <td>und, ist, die, man, war, der, super, be, sehr,...</td>\n",
       "      <td>Die Wohnung war sehr schön, modern,sauber und ...</td>\n",
       "      <td>-0.9973</td>\n",
       "    </tr>\n",
       "    <tr>\n",
       "      <th>4519</th>\n",
       "      <td>95215</td>\n",
       "      <td>11.0</td>\n",
       "      <td>0.9224</td>\n",
       "      <td>und, ist, die, man, war, der, super, be, sehr,...</td>\n",
       "      <td>Wir, beide 26 Jahre alt, haben eine gemeinsame...</td>\n",
       "      <td>-0.9971</td>\n",
       "    </tr>\n",
       "    <tr>\n",
       "      <th>14627</th>\n",
       "      <td>311240</td>\n",
       "      <td>11.0</td>\n",
       "      <td>0.8191</td>\n",
       "      <td>und, ist, die, man, war, der, super, be, sehr,...</td>\n",
       "      <td>Eine wundervolle Wohnung die ich zu gerne noch...</td>\n",
       "      <td>-0.9971</td>\n",
       "    </tr>\n",
       "    <tr>\n",
       "      <th>7822</th>\n",
       "      <td>162817</td>\n",
       "      <td>16.0</td>\n",
       "      <td>0.3600</td>\n",
       "      <td>check, night, get, apartment, stay, place, day...</td>\n",
       "      <td>This is a filthy hole in a filthy old building...</td>\n",
       "      <td>-0.9971</td>\n",
       "    </tr>\n",
       "    <tr>\n",
       "      <th>7296</th>\n",
       "      <td>151368</td>\n",
       "      <td>11.0</td>\n",
       "      <td>0.9031</td>\n",
       "      <td>und, ist, die, man, war, der, super, be, sehr,...</td>\n",
       "      <td>Anfang November mieteten wir für eine Gruppe v...</td>\n",
       "      <td>-0.9970</td>\n",
       "    </tr>\n",
       "    <tr>\n",
       "      <th>5387</th>\n",
       "      <td>112167</td>\n",
       "      <td>11.0</td>\n",
       "      <td>0.9166</td>\n",
       "      <td>und, ist, die, man, war, der, super, be, sehr,...</td>\n",
       "      <td>Die Wohnung sieht so aus wie auf den Fotos. Si...</td>\n",
       "      <td>-0.9969</td>\n",
       "    </tr>\n",
       "    <tr>\n",
       "      <th>7368</th>\n",
       "      <td>153595</td>\n",
       "      <td>11.0</td>\n",
       "      <td>0.9389</td>\n",
       "      <td>und, ist, die, man, war, der, super, be, sehr,...</td>\n",
       "      <td>Die Unterkunft ist ein kleines fensterloses Zi...</td>\n",
       "      <td>-0.9969</td>\n",
       "    </tr>\n",
       "    <tr>\n",
       "      <th>5609</th>\n",
       "      <td>117139</td>\n",
       "      <td>11.0</td>\n",
       "      <td>0.9474</td>\n",
       "      <td>und, ist, die, man, war, der, super, be, sehr,...</td>\n",
       "      <td>Die Einrichtung war genau so wie auf den Fotos...</td>\n",
       "      <td>-0.9969</td>\n",
       "    </tr>\n",
       "    <tr>\n",
       "      <th>5332</th>\n",
       "      <td>111046</td>\n",
       "      <td>16.0</td>\n",
       "      <td>0.3790</td>\n",
       "      <td>check, night, get, apartment, stay, place, day...</td>\n",
       "      <td>Dangerous host \\nI really hate it when I write...</td>\n",
       "      <td>-0.9966</td>\n",
       "    </tr>\n",
       "    <tr>\n",
       "      <th>15737</th>\n",
       "      <td>338855</td>\n",
       "      <td>13.0</td>\n",
       "      <td>0.4712</td>\n",
       "      <td>airbnb, host, experience, first, say, book, gi...</td>\n",
       "      <td>We had a very bad experience with this Airbnb ...</td>\n",
       "      <td>-0.9965</td>\n",
       "    </tr>\n",
       "  </tbody>\n",
       "</table>\n",
       "</div>"
      ],
      "text/plain": [
       "       Document_No  Dominant_Topic  Topic_Perc_Contrib  \\\n",
       "8982        186980            11.0              0.9185   \n",
       "7343        152568            11.0              0.8962   \n",
       "14738       313770            11.0              0.9731   \n",
       "2250         49840            11.0              0.9769   \n",
       "5048        106495            11.0              0.9824   \n",
       "6616        137464            11.0              0.9700   \n",
       "10692       223276            11.0              0.9412   \n",
       "1363         30507            11.0              0.9304   \n",
       "2832         61234            11.0              0.9104   \n",
       "8885        184906            11.0              0.8735   \n",
       "6912        144093            11.0              0.8977   \n",
       "4519         95215            11.0              0.9224   \n",
       "14627       311240            11.0              0.8191   \n",
       "7822        162817            16.0              0.3600   \n",
       "7296        151368            11.0              0.9031   \n",
       "5387        112167            11.0              0.9166   \n",
       "7368        153595            11.0              0.9389   \n",
       "5609        117139            11.0              0.9474   \n",
       "5332        111046            16.0              0.3790   \n",
       "15737       338855            13.0              0.4712   \n",
       "\n",
       "                                                Keywords  \\\n",
       "8982   und, ist, die, man, war, der, super, be, sehr,...   \n",
       "7343   und, ist, die, man, war, der, super, be, sehr,...   \n",
       "14738  und, ist, die, man, war, der, super, be, sehr,...   \n",
       "2250   und, ist, die, man, war, der, super, be, sehr,...   \n",
       "5048   und, ist, die, man, war, der, super, be, sehr,...   \n",
       "6616   und, ist, die, man, war, der, super, be, sehr,...   \n",
       "10692  und, ist, die, man, war, der, super, be, sehr,...   \n",
       "1363   und, ist, die, man, war, der, super, be, sehr,...   \n",
       "2832   und, ist, die, man, war, der, super, be, sehr,...   \n",
       "8885   und, ist, die, man, war, der, super, be, sehr,...   \n",
       "6912   und, ist, die, man, war, der, super, be, sehr,...   \n",
       "4519   und, ist, die, man, war, der, super, be, sehr,...   \n",
       "14627  und, ist, die, man, war, der, super, be, sehr,...   \n",
       "7822   check, night, get, apartment, stay, place, day...   \n",
       "7296   und, ist, die, man, war, der, super, be, sehr,...   \n",
       "5387   und, ist, die, man, war, der, super, be, sehr,...   \n",
       "7368   und, ist, die, man, war, der, super, be, sehr,...   \n",
       "5609   und, ist, die, man, war, der, super, be, sehr,...   \n",
       "5332   check, night, get, apartment, stay, place, day...   \n",
       "15737  airbnb, host, experience, first, say, book, gi...   \n",
       "\n",
       "                                                    Text  sentiment_score  \n",
       "8982   *** Kommunikation *** Die Kommunikation mit Da...          -0.9992  \n",
       "7343   Die Unterkunft war toll.\\nCheck-in war unprobl...          -0.9988  \n",
       "14738  Wir haben 3 Nächte in der Unterkunft verbracht...          -0.9987  \n",
       "2250   Ich habe gemischte Gefühle was die Unterkunft ...          -0.9986  \n",
       "5048   Zuerst möchte ich sagen, dass wir Wei nicht pe...          -0.9985  \n",
       "6616   Insgesamt betrachtet war die Wohnung für das G...          -0.9978  \n",
       "10692  Check in problemlos, Lage der Wohnung war okay...          -0.9976  \n",
       "1363   Bei der Ankunft lief alles wie vorher mit Clau...          -0.9975  \n",
       "2832   Koseki hat auf unsere Anfrage und E-Mails imme...          -0.9975  \n",
       "8885   Unser Aufenthalt in New York war in diesem App...          -0.9974  \n",
       "6912   Die Wohnung war sehr schön, modern,sauber und ...          -0.9973  \n",
       "4519   Wir, beide 26 Jahre alt, haben eine gemeinsame...          -0.9971  \n",
       "14627  Eine wundervolle Wohnung die ich zu gerne noch...          -0.9971  \n",
       "7822   This is a filthy hole in a filthy old building...          -0.9971  \n",
       "7296   Anfang November mieteten wir für eine Gruppe v...          -0.9970  \n",
       "5387   Die Wohnung sieht so aus wie auf den Fotos. Si...          -0.9969  \n",
       "7368   Die Unterkunft ist ein kleines fensterloses Zi...          -0.9969  \n",
       "5609   Die Einrichtung war genau so wie auf den Fotos...          -0.9969  \n",
       "5332   Dangerous host \\nI really hate it when I write...          -0.9966  \n",
       "15737  We had a very bad experience with this Airbnb ...          -0.9965  "
      ]
     },
     "execution_count": 172,
     "metadata": {},
     "output_type": "execute_result"
    }
   ],
   "source": [
    "negative_sentiments.sort_values('sentiment_score').head(20)"
   ]
  },
  {
   "cell_type": "code",
   "execution_count": 177,
   "metadata": {},
   "outputs": [
    {
     "data": {
      "text/plain": [
       "'*** Kommunikation *** Die Kommunikation mit Dan war großartig! Er hat immer sehr schnell geantwortet und war immer sehr bemüht uns unseren Aufenthalt so toll wie möglich zu gestalten. Wir haben ihn am letzten Tag persönlich getroffen und er wirkte sehr freundlich und zuvorkommend. *** Die Lage *** Wir waren für 6 Nächte in Dans Wohnung im East Village. Uns hat die Lage der Unterkunft ausgesprochen gut gefallen, da man mitten im Geschehen war und von dort sehr gut mit dem Bus (M14a) oder der U-Bahn (F oder L) überall schnell hin kam. Man war so zentral, dass man sogar kurz zurück konnte, um z.B. Einkäufe abzulegen. Falls man in der näheren Umgebung der Unterkunft essen möchte, dann gibt es unzählige gute Restaurants, Bars oder Cafes. Insbesondere am Wochenende (abends) ist es sehr lebhaft, aber dennoch nicht besonders laut in der Unterkunft, da diese zum Hinterhof hinaus geht und der Straßenlärm nicht zu hören ist. Die Lage ist also top! *** Die Wohnung *** Den Schlüssel für die Wohnung haben wir über eine Schlüsselbox in einem 7-Eleven erhalten. Das war dank Dans Mail super einfach. Die Unterkunft befindet sich in der 3. Etage , bzw. nach amerikanischer Zählung in der 4. Etage, und man muss ca. 50 Stufen hochgehen. Es war wirklich kaum anstrengend, selbst mit unserem Gepäck am ersten Tag, hoch zu kommen, da die Deckenhöhe im Haus niedrig ist und man so ganz schnell \"oben\" ist ;-) Die Wohnung ist nicht besonders gesichert (ein Schloss, allerdings eine Doppeltür, wenn man unten in den Flur reinkommt), aber da die Gegend sehr sicher erscheint, habe ich mir hier keine Sorgen gemacht. Das Zimmer entspricht genau den Bildern in der Anzeige. Es ist sogar etwas besser als auf den Bildern. Das Bett war sehr bequem und wir hatten genügend Stauraum in den Schränken. Die Ablagefläche im Zimmer ist allerdings sehr beschränkt, so dass wir die Couch dafür genutzt haben, was aber gar kein Problem war. Die Küche haben wir nicht benutzt, aber es wirkte alles vorhanden (Ofen, Herd, Kühlschrank, etc). Das Bad ist klein und hat eine tolle Dusche mit sehr gutem Wasserdruck. Auch hier wäre ein bisschen mehr Ablagefläche besser gewesen. Ich habe zum Ablegen meiner Badsachen die Oberfläche des Kühlschrankes genutzt ;) *** Sauberkeit *** Die Wohnung war prinzipiell sauber, allerdings gab es kleinere Mängel, die ich Dan mitgeteilt hatte (Müll war noch da, Kühlschrank nicht geleert) und bei unseren Ankunft lagen die Putzsachen noch verteilt im Raum. Er hat sich hierfür entschuldigt und gesagt, dass er es seiner Putzfrau weitergeben wird. Das Kopfkissen war an einer Seite auch leider etwas befleckt, was aber sicherlich nur daran lag, dass es weiß war und der Fleck nicht mehr durchs Waschen raus geht. Der Teppich im Wohnzimmer war leider nicht gesaugt. Das Bad war sehr sauber und es war nirgends Dreck oder Schimmel zu sehen. *** Fazit *** Alles in allem habe auf Grund der kleinen Mängeln bei der Sauberkeit leider 1 Punkt bei der Bewertung abgezogen, auch wenn ich die...'"
      ]
     },
     "execution_count": 177,
     "metadata": {},
     "output_type": "execute_result"
    }
   ],
   "source": [
    "negative_sentiments.Text.iloc[8982]"
   ]
  },
  {
   "cell_type": "code",
   "execution_count": 143,
   "metadata": {},
   "outputs": [
    {
     "data": {
      "text/plain": [
       "20"
      ]
     },
     "execution_count": 143,
     "metadata": {},
     "output_type": "execute_result"
    }
   ],
   "source": [
    "negative_sentiments.Dominant_Topic.nunique() #this just means people  can talk negative things for each topic"
   ]
  },
  {
   "cell_type": "markdown",
   "metadata": {},
   "source": [
    "WHAT I REALISED\n",
    "<br>the topic classification via LDA although not the best poppped up few interesting things:\n",
    "1. Non english words popped up! and they form a classification on thier own\n",
    "2. Subsequently affected sentiment analysis as the german words turned up to be the most negative, which they are not \n",
    "3. Need to translate and remodel to get a better understanding"
   ]
  },
  {
   "cell_type": "code",
   "execution_count": null,
   "metadata": {},
   "outputs": [],
   "source": []
  },
  {
   "cell_type": "code",
   "execution_count": null,
   "metadata": {},
   "outputs": [],
   "source": []
  },
  {
   "cell_type": "code",
   "execution_count": null,
   "metadata": {},
   "outputs": [],
   "source": []
  },
  {
   "cell_type": "markdown",
   "metadata": {},
   "source": [
    "### Hypertuning PART"
   ]
  },
  {
   "cell_type": "code",
   "execution_count": 75,
   "metadata": {},
   "outputs": [],
   "source": [
    "#hypertuning the model\n",
    "\n",
    "def compute_coherence_values(corpus, dictionary, k, a):\n",
    "    \n",
    "    lda_model = gensim.models.LdaMulticore(corpus=corpus,\n",
    "                                           id2word=dictionary,\n",
    "                                           num_topics=k, \n",
    "                                           random_state=100,\n",
    "                                           chunksize=100,\n",
    "                                           passes=10,\n",
    "                                           alpha=a,\n",
    "                                           per_word_topics=True,\n",
    "                                           workers=3)\n",
    "    \n",
    "    coherence_model_lda = CoherenceModel(model=lda_model, texts=data_lemmatized, dictionary=idtoword, coherence='c_v')\n",
    "    \n",
    "    return coherence_model_lda.get_coherence()"
   ]
  },
  {
   "cell_type": "code",
   "execution_count": null,
   "metadata": {},
   "outputs": [],
   "source": [
    "#iterate the best number of topics and at what alpha"
   ]
  },
  {
   "cell_type": "code",
   "execution_count": 76,
   "metadata": {},
   "outputs": [
    {
     "name": "stderr",
     "output_type": "stream",
     "text": [
      "\n",
      "\n",
      "\n",
      "\n",
      "\n",
      "\n",
      "\n",
      "\n",
      "\n",
      "\n",
      "\n",
      "\n",
      "\n",
      "  0%|          | 0/540 [00:00<?, ?it/s]\u001b[A\u001b[A\u001b[A\u001b[A\u001b[A\u001b[A\u001b[A\u001b[A\u001b[A\u001b[A\u001b[A\u001b[A\u001b[A"
     ]
    },
    {
     "ename": "KeyboardInterrupt",
     "evalue": "",
     "output_type": "error",
     "traceback": [
      "\u001b[0;31m---------------------------------------------------------------------------\u001b[0m",
      "\u001b[0;31mKeyboardInterrupt\u001b[0m                         Traceback (most recent call last)",
      "\u001b[0;32m<ipython-input-76-65d034167e4e>\u001b[0m in \u001b[0;36m<module>\u001b[0;34m\u001b[0m\n\u001b[1;32m     41\u001b[0m                     \u001b[0;31m# get the coherence score for the given parameters\u001b[0m\u001b[0;34m\u001b[0m\u001b[0;34m\u001b[0m\u001b[0;34m\u001b[0m\u001b[0m\n\u001b[1;32m     42\u001b[0m             cv = compute_coherence_values(corpus=corpus, dictionary=idtoword, \n\u001b[0;32m---> 43\u001b[0;31m                                                   k=k, a=a)\n\u001b[0m\u001b[1;32m     44\u001b[0m                     \u001b[0;31m# Save the model results\u001b[0m\u001b[0;34m\u001b[0m\u001b[0;34m\u001b[0m\u001b[0;34m\u001b[0m\u001b[0m\n\u001b[1;32m     45\u001b[0m                 \u001b[0;31m#model_results['Validation_Set'].append(corpus_title[i])\u001b[0m\u001b[0;34m\u001b[0m\u001b[0;34m\u001b[0m\u001b[0;34m\u001b[0m\u001b[0m\n",
      "\u001b[0;32m<ipython-input-75-a40be700b09f>\u001b[0m in \u001b[0;36mcompute_coherence_values\u001b[0;34m(corpus, dictionary, k, a)\u001b[0m\n\u001b[1;32m     11\u001b[0m                                            \u001b[0malpha\u001b[0m\u001b[0;34m=\u001b[0m\u001b[0ma\u001b[0m\u001b[0;34m,\u001b[0m\u001b[0;34m\u001b[0m\u001b[0;34m\u001b[0m\u001b[0m\n\u001b[1;32m     12\u001b[0m                                            \u001b[0mper_word_topics\u001b[0m\u001b[0;34m=\u001b[0m\u001b[0;32mTrue\u001b[0m\u001b[0;34m,\u001b[0m\u001b[0;34m\u001b[0m\u001b[0;34m\u001b[0m\u001b[0m\n\u001b[0;32m---> 13\u001b[0;31m                                            workers=3)\n\u001b[0m\u001b[1;32m     14\u001b[0m \u001b[0;34m\u001b[0m\u001b[0m\n\u001b[1;32m     15\u001b[0m     \u001b[0mcoherence_model_lda\u001b[0m \u001b[0;34m=\u001b[0m \u001b[0mCoherenceModel\u001b[0m\u001b[0;34m(\u001b[0m\u001b[0mmodel\u001b[0m\u001b[0;34m=\u001b[0m\u001b[0mlda_model\u001b[0m\u001b[0;34m,\u001b[0m \u001b[0mtexts\u001b[0m\u001b[0;34m=\u001b[0m\u001b[0mdata_lemmatized\u001b[0m\u001b[0;34m,\u001b[0m \u001b[0mdictionary\u001b[0m\u001b[0;34m=\u001b[0m\u001b[0midtoword\u001b[0m\u001b[0;34m,\u001b[0m \u001b[0mcoherence\u001b[0m\u001b[0;34m=\u001b[0m\u001b[0;34m'c_v'\u001b[0m\u001b[0;34m)\u001b[0m\u001b[0;34m\u001b[0m\u001b[0;34m\u001b[0m\u001b[0m\n",
      "\u001b[0;32m~/anaconda3/lib/python3.7/site-packages/gensim/models/ldamulticore.py\u001b[0m in \u001b[0;36m__init__\u001b[0;34m(self, corpus, num_topics, id2word, workers, chunksize, passes, batch, alpha, eta, decay, offset, eval_every, iterations, gamma_threshold, random_state, minimum_probability, minimum_phi_value, per_word_topics, dtype)\u001b[0m\n\u001b[1;32m    182\u001b[0m             \u001b[0mdecay\u001b[0m\u001b[0;34m=\u001b[0m\u001b[0mdecay\u001b[0m\u001b[0;34m,\u001b[0m \u001b[0moffset\u001b[0m\u001b[0;34m=\u001b[0m\u001b[0moffset\u001b[0m\u001b[0;34m,\u001b[0m \u001b[0meval_every\u001b[0m\u001b[0;34m=\u001b[0m\u001b[0meval_every\u001b[0m\u001b[0;34m,\u001b[0m \u001b[0miterations\u001b[0m\u001b[0;34m=\u001b[0m\u001b[0miterations\u001b[0m\u001b[0;34m,\u001b[0m\u001b[0;34m\u001b[0m\u001b[0;34m\u001b[0m\u001b[0m\n\u001b[1;32m    183\u001b[0m             \u001b[0mgamma_threshold\u001b[0m\u001b[0;34m=\u001b[0m\u001b[0mgamma_threshold\u001b[0m\u001b[0;34m,\u001b[0m \u001b[0mrandom_state\u001b[0m\u001b[0;34m=\u001b[0m\u001b[0mrandom_state\u001b[0m\u001b[0;34m,\u001b[0m \u001b[0mminimum_probability\u001b[0m\u001b[0;34m=\u001b[0m\u001b[0mminimum_probability\u001b[0m\u001b[0;34m,\u001b[0m\u001b[0;34m\u001b[0m\u001b[0;34m\u001b[0m\u001b[0m\n\u001b[0;32m--> 184\u001b[0;31m             \u001b[0mminimum_phi_value\u001b[0m\u001b[0;34m=\u001b[0m\u001b[0mminimum_phi_value\u001b[0m\u001b[0;34m,\u001b[0m \u001b[0mper_word_topics\u001b[0m\u001b[0;34m=\u001b[0m\u001b[0mper_word_topics\u001b[0m\u001b[0;34m,\u001b[0m \u001b[0mdtype\u001b[0m\u001b[0;34m=\u001b[0m\u001b[0mdtype\u001b[0m\u001b[0;34m\u001b[0m\u001b[0;34m\u001b[0m\u001b[0m\n\u001b[0m\u001b[1;32m    185\u001b[0m         )\n\u001b[1;32m    186\u001b[0m \u001b[0;34m\u001b[0m\u001b[0m\n",
      "\u001b[0;32m~/anaconda3/lib/python3.7/site-packages/gensim/models/ldamodel.py\u001b[0m in \u001b[0;36m__init__\u001b[0;34m(self, corpus, num_topics, id2word, distributed, chunksize, passes, update_every, alpha, eta, decay, offset, eval_every, iterations, gamma_threshold, minimum_probability, random_state, ns_conf, minimum_phi_value, per_word_topics, callbacks, dtype)\u001b[0m\n\u001b[1;32m    517\u001b[0m         \u001b[0;32mif\u001b[0m \u001b[0mcorpus\u001b[0m \u001b[0;32mis\u001b[0m \u001b[0;32mnot\u001b[0m \u001b[0;32mNone\u001b[0m\u001b[0;34m:\u001b[0m\u001b[0;34m\u001b[0m\u001b[0;34m\u001b[0m\u001b[0m\n\u001b[1;32m    518\u001b[0m             \u001b[0muse_numpy\u001b[0m \u001b[0;34m=\u001b[0m \u001b[0mself\u001b[0m\u001b[0;34m.\u001b[0m\u001b[0mdispatcher\u001b[0m \u001b[0;32mis\u001b[0m \u001b[0;32mnot\u001b[0m \u001b[0;32mNone\u001b[0m\u001b[0;34m\u001b[0m\u001b[0;34m\u001b[0m\u001b[0m\n\u001b[0;32m--> 519\u001b[0;31m             \u001b[0mself\u001b[0m\u001b[0;34m.\u001b[0m\u001b[0mupdate\u001b[0m\u001b[0;34m(\u001b[0m\u001b[0mcorpus\u001b[0m\u001b[0;34m,\u001b[0m \u001b[0mchunks_as_numpy\u001b[0m\u001b[0;34m=\u001b[0m\u001b[0muse_numpy\u001b[0m\u001b[0;34m)\u001b[0m\u001b[0;34m\u001b[0m\u001b[0;34m\u001b[0m\u001b[0m\n\u001b[0m\u001b[1;32m    520\u001b[0m \u001b[0;34m\u001b[0m\u001b[0m\n\u001b[1;32m    521\u001b[0m     \u001b[0;32mdef\u001b[0m \u001b[0minit_dir_prior\u001b[0m\u001b[0;34m(\u001b[0m\u001b[0mself\u001b[0m\u001b[0;34m,\u001b[0m \u001b[0mprior\u001b[0m\u001b[0;34m,\u001b[0m \u001b[0mname\u001b[0m\u001b[0;34m)\u001b[0m\u001b[0;34m:\u001b[0m\u001b[0;34m\u001b[0m\u001b[0;34m\u001b[0m\u001b[0m\n",
      "\u001b[0;32m~/anaconda3/lib/python3.7/site-packages/gensim/models/ldamulticore.py\u001b[0m in \u001b[0;36mupdate\u001b[0;34m(self, corpus, chunks_as_numpy)\u001b[0m\n\u001b[1;32m    303\u001b[0m                         \u001b[0mprocess_result_queue\u001b[0m\u001b[0;34m(\u001b[0m\u001b[0;34m)\u001b[0m\u001b[0;34m\u001b[0m\u001b[0;34m\u001b[0m\u001b[0m\n\u001b[1;32m    304\u001b[0m \u001b[0;34m\u001b[0m\u001b[0m\n\u001b[0;32m--> 305\u001b[0;31m                 \u001b[0mprocess_result_queue\u001b[0m\u001b[0;34m(\u001b[0m\u001b[0;34m)\u001b[0m\u001b[0;34m\u001b[0m\u001b[0;34m\u001b[0m\u001b[0m\n\u001b[0m\u001b[1;32m    306\u001b[0m             \u001b[0;31m# endfor single corpus pass\u001b[0m\u001b[0;34m\u001b[0m\u001b[0;34m\u001b[0m\u001b[0;34m\u001b[0m\u001b[0m\n\u001b[1;32m    307\u001b[0m \u001b[0;34m\u001b[0m\u001b[0m\n",
      "\u001b[0;32m~/anaconda3/lib/python3.7/site-packages/gensim/models/ldamulticore.py\u001b[0m in \u001b[0;36mprocess_result_queue\u001b[0;34m(force)\u001b[0m\n\u001b[1;32m    266\u001b[0m             \"\"\"\n\u001b[1;32m    267\u001b[0m             \u001b[0mmerged_new\u001b[0m \u001b[0;34m=\u001b[0m \u001b[0;32mFalse\u001b[0m\u001b[0;34m\u001b[0m\u001b[0;34m\u001b[0m\u001b[0m\n\u001b[0;32m--> 268\u001b[0;31m             \u001b[0;32mwhile\u001b[0m \u001b[0;32mnot\u001b[0m \u001b[0mresult_queue\u001b[0m\u001b[0;34m.\u001b[0m\u001b[0mempty\u001b[0m\u001b[0;34m(\u001b[0m\u001b[0;34m)\u001b[0m\u001b[0;34m:\u001b[0m\u001b[0;34m\u001b[0m\u001b[0;34m\u001b[0m\u001b[0m\n\u001b[0m\u001b[1;32m    269\u001b[0m                 \u001b[0mother\u001b[0m\u001b[0;34m.\u001b[0m\u001b[0mmerge\u001b[0m\u001b[0;34m(\u001b[0m\u001b[0mresult_queue\u001b[0m\u001b[0;34m.\u001b[0m\u001b[0mget\u001b[0m\u001b[0;34m(\u001b[0m\u001b[0;34m)\u001b[0m\u001b[0;34m)\u001b[0m\u001b[0;34m\u001b[0m\u001b[0;34m\u001b[0m\u001b[0m\n\u001b[1;32m    270\u001b[0m                 \u001b[0mqueue_size\u001b[0m\u001b[0;34m[\u001b[0m\u001b[0;36m0\u001b[0m\u001b[0;34m]\u001b[0m \u001b[0;34m-=\u001b[0m \u001b[0;36m1\u001b[0m\u001b[0;34m\u001b[0m\u001b[0;34m\u001b[0m\u001b[0m\n",
      "\u001b[0;32m~/anaconda3/lib/python3.7/multiprocessing/queues.py\u001b[0m in \u001b[0;36mempty\u001b[0;34m(self)\u001b[0m\n\u001b[1;32m    118\u001b[0m \u001b[0;34m\u001b[0m\u001b[0m\n\u001b[1;32m    119\u001b[0m     \u001b[0;32mdef\u001b[0m \u001b[0mempty\u001b[0m\u001b[0;34m(\u001b[0m\u001b[0mself\u001b[0m\u001b[0;34m)\u001b[0m\u001b[0;34m:\u001b[0m\u001b[0;34m\u001b[0m\u001b[0;34m\u001b[0m\u001b[0m\n\u001b[0;32m--> 120\u001b[0;31m         \u001b[0;32mreturn\u001b[0m \u001b[0;32mnot\u001b[0m \u001b[0mself\u001b[0m\u001b[0;34m.\u001b[0m\u001b[0m_poll\u001b[0m\u001b[0;34m(\u001b[0m\u001b[0;34m)\u001b[0m\u001b[0;34m\u001b[0m\u001b[0;34m\u001b[0m\u001b[0m\n\u001b[0m\u001b[1;32m    121\u001b[0m \u001b[0;34m\u001b[0m\u001b[0m\n\u001b[1;32m    122\u001b[0m     \u001b[0;32mdef\u001b[0m \u001b[0mfull\u001b[0m\u001b[0;34m(\u001b[0m\u001b[0mself\u001b[0m\u001b[0;34m)\u001b[0m\u001b[0;34m:\u001b[0m\u001b[0;34m\u001b[0m\u001b[0;34m\u001b[0m\u001b[0m\n",
      "\u001b[0;32m~/anaconda3/lib/python3.7/multiprocessing/connection.py\u001b[0m in \u001b[0;36mpoll\u001b[0;34m(self, timeout)\u001b[0m\n\u001b[1;32m    255\u001b[0m         \u001b[0mself\u001b[0m\u001b[0;34m.\u001b[0m\u001b[0m_check_closed\u001b[0m\u001b[0;34m(\u001b[0m\u001b[0;34m)\u001b[0m\u001b[0;34m\u001b[0m\u001b[0;34m\u001b[0m\u001b[0m\n\u001b[1;32m    256\u001b[0m         \u001b[0mself\u001b[0m\u001b[0;34m.\u001b[0m\u001b[0m_check_readable\u001b[0m\u001b[0;34m(\u001b[0m\u001b[0;34m)\u001b[0m\u001b[0;34m\u001b[0m\u001b[0;34m\u001b[0m\u001b[0m\n\u001b[0;32m--> 257\u001b[0;31m         \u001b[0;32mreturn\u001b[0m \u001b[0mself\u001b[0m\u001b[0;34m.\u001b[0m\u001b[0m_poll\u001b[0m\u001b[0;34m(\u001b[0m\u001b[0mtimeout\u001b[0m\u001b[0;34m)\u001b[0m\u001b[0;34m\u001b[0m\u001b[0;34m\u001b[0m\u001b[0m\n\u001b[0m\u001b[1;32m    258\u001b[0m \u001b[0;34m\u001b[0m\u001b[0m\n\u001b[1;32m    259\u001b[0m     \u001b[0;32mdef\u001b[0m \u001b[0m__enter__\u001b[0m\u001b[0;34m(\u001b[0m\u001b[0mself\u001b[0m\u001b[0;34m)\u001b[0m\u001b[0;34m:\u001b[0m\u001b[0;34m\u001b[0m\u001b[0;34m\u001b[0m\u001b[0m\n",
      "\u001b[0;32m~/anaconda3/lib/python3.7/multiprocessing/connection.py\u001b[0m in \u001b[0;36m_poll\u001b[0;34m(self, timeout)\u001b[0m\n\u001b[1;32m    412\u001b[0m \u001b[0;34m\u001b[0m\u001b[0m\n\u001b[1;32m    413\u001b[0m     \u001b[0;32mdef\u001b[0m \u001b[0m_poll\u001b[0m\u001b[0;34m(\u001b[0m\u001b[0mself\u001b[0m\u001b[0;34m,\u001b[0m \u001b[0mtimeout\u001b[0m\u001b[0;34m)\u001b[0m\u001b[0;34m:\u001b[0m\u001b[0;34m\u001b[0m\u001b[0;34m\u001b[0m\u001b[0m\n\u001b[0;32m--> 414\u001b[0;31m         \u001b[0mr\u001b[0m \u001b[0;34m=\u001b[0m \u001b[0mwait\u001b[0m\u001b[0;34m(\u001b[0m\u001b[0;34m[\u001b[0m\u001b[0mself\u001b[0m\u001b[0;34m]\u001b[0m\u001b[0;34m,\u001b[0m \u001b[0mtimeout\u001b[0m\u001b[0;34m)\u001b[0m\u001b[0;34m\u001b[0m\u001b[0;34m\u001b[0m\u001b[0m\n\u001b[0m\u001b[1;32m    415\u001b[0m         \u001b[0;32mreturn\u001b[0m \u001b[0mbool\u001b[0m\u001b[0;34m(\u001b[0m\u001b[0mr\u001b[0m\u001b[0;34m)\u001b[0m\u001b[0;34m\u001b[0m\u001b[0;34m\u001b[0m\u001b[0m\n\u001b[1;32m    416\u001b[0m \u001b[0;34m\u001b[0m\u001b[0m\n",
      "\u001b[0;32m~/anaconda3/lib/python3.7/multiprocessing/connection.py\u001b[0m in \u001b[0;36mwait\u001b[0;34m(object_list, timeout)\u001b[0m\n\u001b[1;32m    918\u001b[0m \u001b[0;34m\u001b[0m\u001b[0m\n\u001b[1;32m    919\u001b[0m             \u001b[0;32mwhile\u001b[0m \u001b[0;32mTrue\u001b[0m\u001b[0;34m:\u001b[0m\u001b[0;34m\u001b[0m\u001b[0;34m\u001b[0m\u001b[0m\n\u001b[0;32m--> 920\u001b[0;31m                 \u001b[0mready\u001b[0m \u001b[0;34m=\u001b[0m \u001b[0mselector\u001b[0m\u001b[0;34m.\u001b[0m\u001b[0mselect\u001b[0m\u001b[0;34m(\u001b[0m\u001b[0mtimeout\u001b[0m\u001b[0;34m)\u001b[0m\u001b[0;34m\u001b[0m\u001b[0;34m\u001b[0m\u001b[0m\n\u001b[0m\u001b[1;32m    921\u001b[0m                 \u001b[0;32mif\u001b[0m \u001b[0mready\u001b[0m\u001b[0;34m:\u001b[0m\u001b[0;34m\u001b[0m\u001b[0;34m\u001b[0m\u001b[0m\n\u001b[1;32m    922\u001b[0m                     \u001b[0;32mreturn\u001b[0m \u001b[0;34m[\u001b[0m\u001b[0mkey\u001b[0m\u001b[0;34m.\u001b[0m\u001b[0mfileobj\u001b[0m \u001b[0;32mfor\u001b[0m \u001b[0;34m(\u001b[0m\u001b[0mkey\u001b[0m\u001b[0;34m,\u001b[0m \u001b[0mevents\u001b[0m\u001b[0;34m)\u001b[0m \u001b[0;32min\u001b[0m \u001b[0mready\u001b[0m\u001b[0;34m]\u001b[0m\u001b[0;34m\u001b[0m\u001b[0;34m\u001b[0m\u001b[0m\n",
      "\u001b[0;32m~/anaconda3/lib/python3.7/selectors.py\u001b[0m in \u001b[0;36mselect\u001b[0;34m(self, timeout)\u001b[0m\n\u001b[1;32m    413\u001b[0m         \u001b[0mready\u001b[0m \u001b[0;34m=\u001b[0m \u001b[0;34m[\u001b[0m\u001b[0;34m]\u001b[0m\u001b[0;34m\u001b[0m\u001b[0;34m\u001b[0m\u001b[0m\n\u001b[1;32m    414\u001b[0m         \u001b[0;32mtry\u001b[0m\u001b[0;34m:\u001b[0m\u001b[0;34m\u001b[0m\u001b[0;34m\u001b[0m\u001b[0m\n\u001b[0;32m--> 415\u001b[0;31m             \u001b[0mfd_event_list\u001b[0m \u001b[0;34m=\u001b[0m \u001b[0mself\u001b[0m\u001b[0;34m.\u001b[0m\u001b[0m_selector\u001b[0m\u001b[0;34m.\u001b[0m\u001b[0mpoll\u001b[0m\u001b[0;34m(\u001b[0m\u001b[0mtimeout\u001b[0m\u001b[0;34m)\u001b[0m\u001b[0;34m\u001b[0m\u001b[0;34m\u001b[0m\u001b[0m\n\u001b[0m\u001b[1;32m    416\u001b[0m         \u001b[0;32mexcept\u001b[0m \u001b[0mInterruptedError\u001b[0m\u001b[0;34m:\u001b[0m\u001b[0;34m\u001b[0m\u001b[0;34m\u001b[0m\u001b[0m\n\u001b[1;32m    417\u001b[0m             \u001b[0;32mreturn\u001b[0m \u001b[0mready\u001b[0m\u001b[0;34m\u001b[0m\u001b[0;34m\u001b[0m\u001b[0m\n",
      "\u001b[0;31mKeyboardInterrupt\u001b[0m: "
     ]
    },
    {
     "name": "stderr",
     "output_type": "stream",
     "text": [
      "Process ForkPoolWorker-146:\n",
      "Traceback (most recent call last):\n",
      "  File \"/Users/ikhyvicky/anaconda3/lib/python3.7/multiprocessing/process.py\", line 297, in _bootstrap\n",
      "    self.run()\n",
      "  File \"/Users/ikhyvicky/anaconda3/lib/python3.7/multiprocessing/process.py\", line 99, in run\n",
      "    self._target(*self._args, **self._kwargs)\n",
      "  File \"/Users/ikhyvicky/anaconda3/lib/python3.7/multiprocessing/pool.py\", line 105, in worker\n",
      "    initializer(*initargs)\n",
      "  File \"/Users/ikhyvicky/anaconda3/lib/python3.7/site-packages/gensim/models/ldamulticore.py\", line 334, in worker_e_step\n",
      "    chunk_no, chunk, worker_lda = input_queue.get()\n",
      "  File \"/Users/ikhyvicky/anaconda3/lib/python3.7/multiprocessing/queues.py\", line 113, in get\n",
      "    return _ForkingPickler.loads(res)\n",
      "  File \"/Users/ikhyvicky/anaconda3/lib/python3.7/site-packages/numpy/random/_pickle.py\", line 62, in __randomstate_ctor\n",
      "    def __randomstate_ctor(bit_generator_name='MT19937'):\n",
      "KeyboardInterrupt\n",
      "Traceback (most recent call last):\n",
      "Traceback (most recent call last):\n",
      "  File \"/Users/ikhyvicky/anaconda3/lib/python3.7/multiprocessing/process.py\", line 300, in _bootstrap\n",
      "    util._exit_function()\n",
      "  File \"/Users/ikhyvicky/anaconda3/lib/python3.7/multiprocessing/util.py\", line 325, in _exit_function\n",
      "    _run_finalizers()\n",
      "  File \"/Users/ikhyvicky/anaconda3/lib/python3.7/multiprocessing/process.py\", line 300, in _bootstrap\n",
      "    util._exit_function()\n",
      "  File \"/Users/ikhyvicky/anaconda3/lib/python3.7/multiprocessing/util.py\", line 325, in _exit_function\n",
      "    _run_finalizers()\n",
      "  File \"/Users/ikhyvicky/anaconda3/lib/python3.7/multiprocessing/util.py\", line 265, in _run_finalizers\n",
      "    finalizer()\n",
      "  File \"/Users/ikhyvicky/anaconda3/lib/python3.7/multiprocessing/util.py\", line 189, in __call__\n",
      "    res = self._callback(*self._args, **self._kwargs)\n",
      "  File \"/Users/ikhyvicky/anaconda3/lib/python3.7/multiprocessing/util.py\", line 265, in _run_finalizers\n",
      "    finalizer()\n",
      "  File \"/Users/ikhyvicky/anaconda3/lib/python3.7/multiprocessing/queues.py\", line 192, in _finalize_join\n",
      "    thread.join()\n",
      "  File \"/Users/ikhyvicky/anaconda3/lib/python3.7/multiprocessing/util.py\", line 189, in __call__\n",
      "    res = self._callback(*self._args, **self._kwargs)\n",
      "  File \"/Users/ikhyvicky/anaconda3/lib/python3.7/threading.py\", line 1032, in join\n",
      "    self._wait_for_tstate_lock()\n",
      "  File \"/Users/ikhyvicky/anaconda3/lib/python3.7/multiprocessing/queues.py\", line 192, in _finalize_join\n",
      "    thread.join()\n",
      "  File \"/Users/ikhyvicky/anaconda3/lib/python3.7/threading.py\", line 1048, in _wait_for_tstate_lock\n",
      "    elif lock.acquire(block, timeout):\n",
      "  File \"/Users/ikhyvicky/anaconda3/lib/python3.7/threading.py\", line 1032, in join\n",
      "    self._wait_for_tstate_lock()\n",
      "KeyboardInterrupt\n",
      "  File \"/Users/ikhyvicky/anaconda3/lib/python3.7/threading.py\", line 1048, in _wait_for_tstate_lock\n",
      "    elif lock.acquire(block, timeout):\n",
      "KeyboardInterrupt\n",
      "Process ForkPoolWorker-150:\n",
      "Traceback (most recent call last):\n",
      "  File \"/Users/ikhyvicky/anaconda3/lib/python3.7/multiprocessing/process.py\", line 297, in _bootstrap\n",
      "    self.run()\n",
      "  File \"/Users/ikhyvicky/anaconda3/lib/python3.7/multiprocessing/process.py\", line 99, in run\n",
      "    self._target(*self._args, **self._kwargs)\n",
      "  File \"/Users/ikhyvicky/anaconda3/lib/python3.7/multiprocessing/pool.py\", line 105, in worker\n",
      "    initializer(*initargs)\n",
      "  File \"/Users/ikhyvicky/anaconda3/lib/python3.7/site-packages/gensim/models/ldamulticore.py\", line 334, in worker_e_step\n",
      "    chunk_no, chunk, worker_lda = input_queue.get()\n",
      "  File \"/Users/ikhyvicky/anaconda3/lib/python3.7/multiprocessing/queues.py\", line 94, in get\n",
      "    res = self._recv_bytes()\n",
      "  File \"/Users/ikhyvicky/anaconda3/lib/python3.7/multiprocessing/connection.py\", line 216, in recv_bytes\n",
      "    buf = self._recv_bytes(maxlength)\n",
      "  File \"/Users/ikhyvicky/anaconda3/lib/python3.7/multiprocessing/connection.py\", line 407, in _recv_bytes\n",
      "    buf = self._recv(4)\n",
      "  File \"/Users/ikhyvicky/anaconda3/lib/python3.7/multiprocessing/connection.py\", line 379, in _recv\n",
      "    chunk = read(handle, remaining)\n",
      "KeyboardInterrupt\n",
      "\n",
      "During handling of the above exception, another exception occurred:\n",
      "\n",
      "Traceback (most recent call last):\n",
      "  File \"/Users/ikhyvicky/anaconda3/lib/python3.7/multiprocessing/process.py\", line 300, in _bootstrap\n",
      "    util._exit_function()\n",
      "  File \"/Users/ikhyvicky/anaconda3/lib/python3.7/multiprocessing/util.py\", line 325, in _exit_function\n",
      "    _run_finalizers()\n",
      "  File \"/Users/ikhyvicky/anaconda3/lib/python3.7/multiprocessing/util.py\", line 265, in _run_finalizers\n",
      "    finalizer()\n",
      "  File \"/Users/ikhyvicky/anaconda3/lib/python3.7/multiprocessing/util.py\", line 189, in __call__\n",
      "    res = self._callback(*self._args, **self._kwargs)\n",
      "  File \"/Users/ikhyvicky/anaconda3/lib/python3.7/multiprocessing/queues.py\", line 192, in _finalize_join\n",
      "    thread.join()\n",
      "  File \"/Users/ikhyvicky/anaconda3/lib/python3.7/threading.py\", line 1032, in join\n",
      "    self._wait_for_tstate_lock()\n",
      "  File \"/Users/ikhyvicky/anaconda3/lib/python3.7/threading.py\", line 1048, in _wait_for_tstate_lock\n",
      "    elif lock.acquire(block, timeout):\n",
      "KeyboardInterrupt\n"
     ]
    }
   ],
   "source": [
    "import numpy as np\n",
    "import tqdm\n",
    "grid = {}\n",
    "grid['Validation_Set'] = {}\n",
    "# Topics range\n",
    "min_topics = 3\n",
    "max_topics = 8\n",
    "step_size = 1\n",
    "topics_range = range(min_topics, max_topics, step_size)\n",
    "# Alpha parameter\n",
    "alpha = list(np.arange(0.01, 1, 0.3))\n",
    "alpha.append('symmetric')\n",
    "alpha.append('asymmetric')\n",
    "# Beta parameter\n",
    "#beta = list(np.arange(0.01, 1, 0.3))\n",
    "#beta.append('symmetric')\n",
    "# Validation sets\n",
    "num_of_docs = len(corpus)\n",
    "#corpus_sets = [# gensim.utils.ClippedCorpus(corpus, num_of_docs*0.25), \n",
    "               # gensim.utils.ClippedCorpus(corpus, num_of_docs*0.5), \n",
    "#               gensim.utils.ClippedCorpus(corpus, num_of_docs*0.75), \n",
    "#               corpus]\n",
    "#corpus_title = ['75% Corpus', '100% Corpus']\n",
    "model_results = {'Validation_Set': [],\n",
    "                 'Topics': [],\n",
    "                 'Alpha': [],\n",
    "                 'Coherence': []\n",
    "                }\n",
    "# Can take a long time to run\n",
    "if 1 == 1:\n",
    "    pbar = tqdm.tqdm(total=540)\n",
    "    \n",
    "    # iterate through validation corpuses\n",
    "    #for i in range(len(corpus_sets)):\n",
    "        # iterate through number of topics\n",
    "    for k in topics_range:\n",
    "            # iterate through alpha values\n",
    "        for a in alpha:\n",
    "                # iterare through beta values\n",
    "            #for b in beta:\n",
    "                    # get the coherence score for the given parameters\n",
    "            cv = compute_coherence_values(corpus=corpus, dictionary=idtoword, \n",
    "                                                  k=k, a=a)\n",
    "                    # Save the model results\n",
    "                #model_results['Validation_Set'].append(corpus_title[i])\n",
    "            model_results['Topics'].append(k)\n",
    "            model_results['Alpha'].append(a)\n",
    "            #model_results['Beta'].append(b)\n",
    "            model_results['Coherence'].append(cv)\n",
    "                    \n",
    "            pbar.update(1)\n",
    "    pd.DataFrame(model_results).to_csv('lda_tuning_results.csv', index=False)\n",
    "    pbar.close()"
   ]
  },
  {
   "cell_type": "code",
   "execution_count": null,
   "metadata": {},
   "outputs": [],
   "source": []
  },
  {
   "cell_type": "code",
   "execution_count": null,
   "metadata": {},
   "outputs": [],
   "source": []
  }
 ],
 "metadata": {
  "colab": {
   "authorship_tag": "ABX9TyO/mrQMX3V/5GQ7tvsCM8CW",
   "machine_shape": "hm",
   "name": "Classification.ipynb",
   "provenance": [],
   "toc_visible": true
  },
  "kernelspec": {
   "display_name": "Python 3",
   "language": "python",
   "name": "python3"
  },
  "language_info": {
   "codemirror_mode": {
    "name": "ipython",
    "version": 3
   },
   "file_extension": ".py",
   "mimetype": "text/x-python",
   "name": "python",
   "nbconvert_exporter": "python",
   "pygments_lexer": "ipython3",
   "version": "3.7.3"
  }
 },
 "nbformat": 4,
 "nbformat_minor": 1
}
