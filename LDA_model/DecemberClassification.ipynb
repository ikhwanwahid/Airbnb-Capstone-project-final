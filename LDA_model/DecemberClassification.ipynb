{
 "cells": [
  {
   "cell_type": "code",
   "execution_count": 2,
   "metadata": {
    "colab": {},
    "colab_type": "code",
    "id": "8TjqY0RrDsin"
   },
   "outputs": [],
   "source": [
    "import pandas as pd\n",
    "import numpy as np\n",
    "import matplotlib.pyplot as plt\n",
    "import seaborn as sns\n",
    "from sklearn.cluster import KMeans\n",
    "import nltk\n",
    "import string\n",
    "import re\n",
    "from nltk.stem import WordNetLemmatizer\n",
    "from nltk.corpus import wordnet as wn\n",
    "from tqdm import tqdm"
   ]
  },
  {
   "cell_type": "code",
   "execution_count": 54,
   "metadata": {
    "colab": {},
    "colab_type": "code",
    "id": "cw4YLqDOD5yZ"
   },
   "outputs": [],
   "source": [
    "comments=pd.read_csv('dec_reviews.csv.gz')\n",
    "translated=pd.read_csv('final_december.csv')"
   ]
  },
  {
   "cell_type": "code",
   "execution_count": 55,
   "metadata": {},
   "outputs": [],
   "source": [
    "comments.dropna(inplace=True)"
   ]
  },
  {
   "cell_type": "code",
   "execution_count": 56,
   "metadata": {},
   "outputs": [],
   "source": [
    "comments.reset_index(inplace=True)"
   ]
  },
  {
   "cell_type": "code",
   "execution_count": 59,
   "metadata": {},
   "outputs": [
    {
     "data": {
      "text/html": [
       "<div>\n",
       "<style scoped>\n",
       "    .dataframe tbody tr th:only-of-type {\n",
       "        vertical-align: middle;\n",
       "    }\n",
       "\n",
       "    .dataframe tbody tr th {\n",
       "        vertical-align: top;\n",
       "    }\n",
       "\n",
       "    .dataframe thead th {\n",
       "        text-align: right;\n",
       "    }\n",
       "</style>\n",
       "<table border=\"1\" class=\"dataframe\">\n",
       "  <thead>\n",
       "    <tr style=\"text-align: right;\">\n",
       "      <th></th>\n",
       "      <th>translated</th>\n",
       "    </tr>\n",
       "  </thead>\n",
       "  <tbody>\n",
       "    <tr>\n",
       "      <th>0</th>\n",
       "      <td>Our stay of three nights.\\nWe appreciate The a...</td>\n",
       "    </tr>\n",
       "    <tr>\n",
       "      <th>1</th>\n",
       "      <td>Great experience.</td>\n",
       "    </tr>\n",
       "    <tr>\n",
       "      <th>2</th>\n",
       "      <td>I've stayed with my friend at the Midtown Cast...</td>\n",
       "    </tr>\n",
       "    <tr>\n",
       "      <th>3</th>\n",
       "      <td>We've been staying here for about 9 nights, en...</td>\n",
       "    </tr>\n",
       "    <tr>\n",
       "      <th>4</th>\n",
       "      <td>We had a wonderful stay at Jennifer's charming...</td>\n",
       "    </tr>\n",
       "  </tbody>\n",
       "</table>\n",
       "</div>"
      ],
      "text/plain": [
       "                                          translated\n",
       "0  Our stay of three nights.\\nWe appreciate The a...\n",
       "1                                  Great experience.\n",
       "2  I've stayed with my friend at the Midtown Cast...\n",
       "3  We've been staying here for about 9 nights, en...\n",
       "4  We had a wonderful stay at Jennifer's charming..."
      ]
     },
     "execution_count": 59,
     "metadata": {},
     "output_type": "execute_result"
    }
   ],
   "source": [
    "translated.head()"
   ]
  },
  {
   "cell_type": "code",
   "execution_count": 58,
   "metadata": {},
   "outputs": [],
   "source": [
    "translated.rename(columns={\"comments\": \"translated\"},inplace=True)"
   ]
  },
  {
   "cell_type": "code",
   "execution_count": 60,
   "metadata": {
    "colab": {
     "base_uri": "https://localhost:8080/",
     "height": 34
    },
    "colab_type": "code",
    "executionInfo": {
     "elapsed": 12219,
     "status": "ok",
     "timestamp": 1579097466419,
     "user": {
      "displayName": "ikhwan wahid",
      "photoUrl": "",
      "userId": "01550124214470849109"
     },
     "user_tz": -480
    },
    "id": "FsTIoVz8EDvA",
    "outputId": "050b8c7b-97eb-47cf-8925-260ace2d4998"
   },
   "outputs": [
    {
     "name": "stdout",
     "output_type": "stream",
     "text": [
      "(1254650, 7)\n",
      "(1254646, 1)\n"
     ]
    }
   ],
   "source": [
    "print(comments.shape)\n",
    "print(translated.shape)"
   ]
  },
  {
   "cell_type": "code",
   "execution_count": 61,
   "metadata": {
    "colab": {
     "base_uri": "https://localhost:8080/",
     "height": 134
    },
    "colab_type": "code",
    "executionInfo": {
     "elapsed": 12208,
     "status": "ok",
     "timestamp": 1579097466420,
     "user": {
      "displayName": "ikhwan wahid",
      "photoUrl": "",
      "userId": "01550124214470849109"
     },
     "user_tz": -480
    },
    "id": "JsZAgdE-RoGC",
    "outputId": "33fdd86a-c350-463e-b6e8-a0f322f0cd90"
   },
   "outputs": [],
   "source": [
    "frame=[comments,translated]\n",
    "final_df=pd.concat(frame,axis=1)"
   ]
  },
  {
   "cell_type": "code",
   "execution_count": 62,
   "metadata": {
    "colab": {
     "base_uri": "https://localhost:8080/",
     "height": 195
    },
    "colab_type": "code",
    "executionInfo": {
     "elapsed": 12196,
     "status": "ok",
     "timestamp": 1579097466421,
     "user": {
      "displayName": "ikhwan wahid",
      "photoUrl": "",
      "userId": "01550124214470849109"
     },
     "user_tz": -480
    },
    "id": "KwV4Wg5pEG8K",
    "outputId": "bae6898d-7541-46ff-9bb5-19723470132d"
   },
   "outputs": [
    {
     "data": {
      "text/plain": [
       "(1254650, 8)"
      ]
     },
     "execution_count": 62,
     "metadata": {},
     "output_type": "execute_result"
    }
   ],
   "source": [
    "final_df.shape"
   ]
  },
  {
   "cell_type": "code",
   "execution_count": 63,
   "metadata": {
    "colab": {
     "base_uri": "https://localhost:8080/",
     "height": 134
    },
    "colab_type": "code",
    "executionInfo": {
     "elapsed": 12169,
     "status": "ok",
     "timestamp": 1579097466423,
     "user": {
      "displayName": "ikhwan wahid",
      "photoUrl": "",
      "userId": "01550124214470849109"
     },
     "user_tz": -480
    },
    "id": "OszTOhNfR09j",
    "outputId": "54e01240-38ba-4ecb-b6a1-d0ed565c0ec9",
    "scrolled": true
   },
   "outputs": [
    {
     "data": {
      "text/plain": [
       "index            0\n",
       "listing_id       0\n",
       "id               0\n",
       "date             0\n",
       "reviewer_id      0\n",
       "reviewer_name    0\n",
       "comments         0\n",
       "translated       4\n",
       "dtype: int64"
      ]
     },
     "execution_count": 63,
     "metadata": {},
     "output_type": "execute_result"
    }
   ],
   "source": [
    "final_df.isnull().sum()"
   ]
  },
  {
   "cell_type": "code",
   "execution_count": 64,
   "metadata": {},
   "outputs": [],
   "source": [
    "final_df.dropna(inplace=True)"
   ]
  },
  {
   "cell_type": "code",
   "execution_count": 65,
   "metadata": {
    "scrolled": true
   },
   "outputs": [
    {
     "data": {
      "text/html": [
       "<div>\n",
       "<style scoped>\n",
       "    .dataframe tbody tr th:only-of-type {\n",
       "        vertical-align: middle;\n",
       "    }\n",
       "\n",
       "    .dataframe tbody tr th {\n",
       "        vertical-align: top;\n",
       "    }\n",
       "\n",
       "    .dataframe thead th {\n",
       "        text-align: right;\n",
       "    }\n",
       "</style>\n",
       "<table border=\"1\" class=\"dataframe\">\n",
       "  <thead>\n",
       "    <tr style=\"text-align: right;\">\n",
       "      <th></th>\n",
       "      <th>index</th>\n",
       "      <th>listing_id</th>\n",
       "      <th>id</th>\n",
       "      <th>date</th>\n",
       "      <th>reviewer_id</th>\n",
       "      <th>reviewer_name</th>\n",
       "      <th>comments</th>\n",
       "      <th>translated</th>\n",
       "    </tr>\n",
       "  </thead>\n",
       "  <tbody>\n",
       "    <tr>\n",
       "      <th>0</th>\n",
       "      <td>0</td>\n",
       "      <td>2595</td>\n",
       "      <td>17857</td>\n",
       "      <td>2009-11-21</td>\n",
       "      <td>50679</td>\n",
       "      <td>Jean</td>\n",
       "      <td>Notre séjour de trois nuits.\\r\\nNous avons app...</td>\n",
       "      <td>Our stay of three nights.\\nWe appreciate The a...</td>\n",
       "    </tr>\n",
       "    <tr>\n",
       "      <th>1</th>\n",
       "      <td>1</td>\n",
       "      <td>2595</td>\n",
       "      <td>19176</td>\n",
       "      <td>2009-12-05</td>\n",
       "      <td>53267</td>\n",
       "      <td>Cate</td>\n",
       "      <td>Great experience.</td>\n",
       "      <td>Great experience.</td>\n",
       "    </tr>\n",
       "    <tr>\n",
       "      <th>2</th>\n",
       "      <td>2</td>\n",
       "      <td>2595</td>\n",
       "      <td>19760</td>\n",
       "      <td>2009-12-10</td>\n",
       "      <td>38960</td>\n",
       "      <td>Anita</td>\n",
       "      <td>I've stayed with my friend at the Midtown Cast...</td>\n",
       "      <td>I've stayed with my friend at the Midtown Cast...</td>\n",
       "    </tr>\n",
       "    <tr>\n",
       "      <th>3</th>\n",
       "      <td>3</td>\n",
       "      <td>2595</td>\n",
       "      <td>34320</td>\n",
       "      <td>2010-04-09</td>\n",
       "      <td>71130</td>\n",
       "      <td>Kai-Uwe</td>\n",
       "      <td>We've been staying here for about 9 nights, en...</td>\n",
       "      <td>We've been staying here for about 9 nights, en...</td>\n",
       "    </tr>\n",
       "    <tr>\n",
       "      <th>4</th>\n",
       "      <td>4</td>\n",
       "      <td>2595</td>\n",
       "      <td>46312</td>\n",
       "      <td>2010-05-25</td>\n",
       "      <td>117113</td>\n",
       "      <td>Alicia</td>\n",
       "      <td>We had a wonderful stay at Jennifer's charming...</td>\n",
       "      <td>We had a wonderful stay at Jennifer's charming...</td>\n",
       "    </tr>\n",
       "  </tbody>\n",
       "</table>\n",
       "</div>"
      ],
      "text/plain": [
       "   index  listing_id     id        date  reviewer_id reviewer_name  \\\n",
       "0      0        2595  17857  2009-11-21        50679          Jean   \n",
       "1      1        2595  19176  2009-12-05        53267          Cate   \n",
       "2      2        2595  19760  2009-12-10        38960         Anita   \n",
       "3      3        2595  34320  2010-04-09        71130       Kai-Uwe   \n",
       "4      4        2595  46312  2010-05-25       117113        Alicia   \n",
       "\n",
       "                                            comments  \\\n",
       "0  Notre séjour de trois nuits.\\r\\nNous avons app...   \n",
       "1                                  Great experience.   \n",
       "2  I've stayed with my friend at the Midtown Cast...   \n",
       "3  We've been staying here for about 9 nights, en...   \n",
       "4  We had a wonderful stay at Jennifer's charming...   \n",
       "\n",
       "                                          translated  \n",
       "0  Our stay of three nights.\\nWe appreciate The a...  \n",
       "1                                  Great experience.  \n",
       "2  I've stayed with my friend at the Midtown Cast...  \n",
       "3  We've been staying here for about 9 nights, en...  \n",
       "4  We had a wonderful stay at Jennifer's charming...  "
      ]
     },
     "execution_count": 65,
     "metadata": {},
     "output_type": "execute_result"
    }
   ],
   "source": [
    "final_df.head()"
   ]
  },
  {
   "cell_type": "code",
   "execution_count": 66,
   "metadata": {},
   "outputs": [
    {
     "data": {
      "text/plain": [
       "0          Notre séjour de trois nuits.\\r\\nNous avons app...\n",
       "1                                          Great experience.\n",
       "2          I've stayed with my friend at the Midtown Cast...\n",
       "3          We've been staying here for about 9 nights, en...\n",
       "4          We had a wonderful stay at Jennifer's charming...\n",
       "                                 ...                        \n",
       "1254641    I enjoyed my stay in the private room, very co...\n",
       "1254642    The host canceled this reservation 24 days bef...\n",
       "1254643    The host canceled this reservation 25 days bef...\n",
       "1254644    The host canceled this reservation 11 days bef...\n",
       "1254645    The host canceled this reservation 27 days bef...\n",
       "Name: comments, Length: 1254646, dtype: object"
      ]
     },
     "execution_count": 66,
     "metadata": {},
     "output_type": "execute_result"
    }
   ],
   "source": [
    "final_df.comments"
   ]
  },
  {
   "cell_type": "code",
   "execution_count": 67,
   "metadata": {
    "colab": {},
    "colab_type": "code",
    "id": "F7wQ4VtrEJNd"
   },
   "outputs": [],
   "source": [
    "import re\n",
    "import numpy as np"
   ]
  },
  {
   "cell_type": "code",
   "execution_count": 68,
   "metadata": {
    "colab": {},
    "colab_type": "code",
    "id": "M0ijcOxpFD7q"
   },
   "outputs": [],
   "source": [
    "import gensim"
   ]
  },
  {
   "cell_type": "code",
   "execution_count": 69,
   "metadata": {
    "colab": {},
    "colab_type": "code",
    "id": "o6n0OUfgG_qL"
   },
   "outputs": [],
   "source": [
    "import gensim.corpora as corpora\n",
    "from gensim.utils import simple_preprocess\n",
    "from gensim.models import CoherenceModel"
   ]
  },
  {
   "cell_type": "code",
   "execution_count": 70,
   "metadata": {
    "colab": {},
    "colab_type": "code",
    "id": "JMQ86soEHCXa"
   },
   "outputs": [],
   "source": [
    "import spacy"
   ]
  },
  {
   "cell_type": "code",
   "execution_count": 71,
   "metadata": {
    "colab": {
     "base_uri": "https://localhost:8080/",
     "height": 330
    },
    "colab_type": "code",
    "executionInfo": {
     "elapsed": 3717,
     "status": "error",
     "timestamp": 1579104688249,
     "user": {
      "displayName": "ikhwan wahid",
      "photoUrl": "",
      "userId": "01550124214470849109"
     },
     "user_tz": -480
    },
    "id": "aIQIt1S1HDut",
    "outputId": "ba5a77f7-24ac-4cfe-ca95-11489b2454a4"
   },
   "outputs": [],
   "source": [
    "# for plotting\n",
    "import pyLDAvis\n",
    "import pyLDAvis.gensim\n",
    "import matplotlib.pyplot as plt"
   ]
  },
  {
   "cell_type": "code",
   "execution_count": 72,
   "metadata": {
    "colab": {
     "base_uri": "https://localhost:8080/",
     "height": 67
    },
    "colab_type": "code",
    "executionInfo": {
     "elapsed": 1090,
     "status": "ok",
     "timestamp": 1579104688731,
     "user": {
      "displayName": "ikhwan wahid",
      "photoUrl": "",
      "userId": "01550124214470849109"
     },
     "user_tz": -480
    },
    "id": "Id0ziFwXHHpJ",
    "outputId": "86d00c5e-75aa-4666-8a52-33c371f33ac8"
   },
   "outputs": [
    {
     "name": "stderr",
     "output_type": "stream",
     "text": [
      "[nltk_data] Downloading package stopwords to\n",
      "[nltk_data]     /Users/ikhyvicky/nltk_data...\n",
      "[nltk_data]   Package stopwords is already up-to-date!\n"
     ]
    },
    {
     "data": {
      "text/plain": [
       "True"
      ]
     },
     "execution_count": 72,
     "metadata": {},
     "output_type": "execute_result"
    }
   ],
   "source": [
    "import nltk\n",
    "nltk.download('stopwords')"
   ]
  },
  {
   "cell_type": "code",
   "execution_count": 73,
   "metadata": {
    "colab": {},
    "colab_type": "code",
    "id": "ZPjf6vPnHNRe"
   },
   "outputs": [],
   "source": [
    "from nltk.corpus import stopwords\n",
    "stop_words = stopwords.words('english')"
   ]
  },
  {
   "cell_type": "code",
   "execution_count": 77,
   "metadata": {
    "colab": {},
    "colab_type": "code",
    "id": "ZWKVUZ8QHYVf"
   },
   "outputs": [],
   "source": [
    "# Convert email body to list\n",
    "data = final_df.translated.values.tolist()"
   ]
  },
  {
   "cell_type": "code",
   "execution_count": 78,
   "metadata": {
    "colab": {},
    "colab_type": "code",
    "id": "9GvMXkp0Hijx"
   },
   "outputs": [],
   "source": [
    "# tokenize - break down each sentence into a list of words\n",
    "def sent_to_words(sentences):\n",
    "    for sentence in sentences:\n",
    "        yield(gensim.utils.simple_preprocess(str(sentence), deacc=True))  # deacc=True removes punctuations"
   ]
  },
  {
   "cell_type": "code",
   "execution_count": 79,
   "metadata": {
    "colab": {},
    "colab_type": "code",
    "id": "4RIkIqjOHjaj"
   },
   "outputs": [],
   "source": [
    "data_words=list(sent_to_words(data))"
   ]
  },
  {
   "cell_type": "code",
   "execution_count": 80,
   "metadata": {
    "colab": {
     "base_uri": "https://localhost:8080/",
     "height": 54
    },
    "colab_type": "code",
    "executionInfo": {
     "elapsed": 56077,
     "status": "ok",
     "timestamp": 1579097510415,
     "user": {
      "displayName": "ikhwan wahid",
      "photoUrl": "",
      "userId": "01550124214470849109"
     },
     "user_tz": -480
    },
    "id": "cvLuG8taH83O",
    "outputId": "b443b349-d652-4404-affe-5fac9a3e3208"
   },
   "outputs": [
    {
     "name": "stdout",
     "output_type": "stream",
     "text": [
      "['we', 've', 'been', 'staying', 'here', 'for', 'about', 'nights', 'enjoying', 'to', 'be', 'in', 'the', 'center', 'of', 'the', 'city', 'that', 'never', 'sleeps', 'short', 'ways', 'to', 'everywhere', 'in', 'manhattan', 'by', 'subway', 'or', 'by', 'walk', 'midtown', 'castle', 'is', 'beauftiful', 'and', 'tastful', 'place', 'jennifer', 'and', 'tori', 'relaxed', 'and', 'friendly', 'hosts', 'thats', 'why', 'we', 'the', 'three', 'berliners', 'recommand', 'that', 'place', 'good', 'to', 'have', 'wifi', 'and', 'little', 'kitchen', 'too']\n"
     ]
    }
   ],
   "source": [
    "print(data_words[3])"
   ]
  },
  {
   "cell_type": "code",
   "execution_count": 81,
   "metadata": {
    "colab": {},
    "colab_type": "code",
    "id": "OD7FEQ-YIY5w"
   },
   "outputs": [],
   "source": [
    "from gensim.models.phrases import Phrases, Phraser"
   ]
  },
  {
   "cell_type": "code",
   "execution_count": 82,
   "metadata": {
    "colab": {
     "base_uri": "https://localhost:8080/",
     "height": 70
    },
    "colab_type": "code",
    "executionInfo": {
     "elapsed": 184555,
     "status": "ok",
     "timestamp": 1579097638912,
     "user": {
      "displayName": "ikhwan wahid",
      "photoUrl": "",
      "userId": "01550124214470849109"
     },
     "user_tz": -480
    },
    "id": "I3cxLZj2Ihe7",
    "outputId": "968903dc-75ed-4a5c-94f3-62cc8de90fca"
   },
   "outputs": [],
   "source": [
    "# Build the bigram and trigram models\n",
    "bigram = Phrases(data_words, min_count=5, threshold=100) # higher threshold fewer phrases.\n",
    "trigram = Phrases(bigram[data_words], threshold=100)"
   ]
  },
  {
   "cell_type": "code",
   "execution_count": 83,
   "metadata": {
    "colab": {},
    "colab_type": "code",
    "id": "Wd-NghitJPxO"
   },
   "outputs": [],
   "source": [
    "bigram_mod = Phraser(bigram)\n",
    "trigram_mod = Phraser(trigram)"
   ]
  },
  {
   "cell_type": "code",
   "execution_count": 84,
   "metadata": {
    "colab": {
     "base_uri": "https://localhost:8080/",
     "height": 54
    },
    "colab_type": "code",
    "executionInfo": {
     "elapsed": 222576,
     "status": "ok",
     "timestamp": 1579097676953,
     "user": {
      "displayName": "ikhwan wahid",
      "photoUrl": "",
      "userId": "01550124214470849109"
     },
     "user_tz": -480
    },
    "id": "Ip2KmEs4KCYd",
    "outputId": "39e242af-5075-44ba-a589-f6546669d64a"
   },
   "outputs": [
    {
     "name": "stdout",
     "output_type": "stream",
     "text": [
      "['the', 'location', 'made', 'getting', 'to', 'time', 'square', 'easily', 'accessible', 'apartment', 'was', 'quiet', 'and', 'no', 'disturbances', 'from', 'neighbors', 'at', 'all']\n"
     ]
    }
   ],
   "source": [
    "print(trigram_mod[bigram_mod[data_words[35]]])"
   ]
  },
  {
   "cell_type": "code",
   "execution_count": 85,
   "metadata": {
    "colab": {},
    "colab_type": "code",
    "id": "Mtf5G5poKORL"
   },
   "outputs": [],
   "source": [
    "#remove stop_words, make bigrams and lemmatize\n",
    "def remove_stopwords(texts):\n",
    "    return [[word for word in simple_preprocess(str(doc)) if word not in stop_words] for doc in texts]\n",
    "\n",
    "def make_bigrams(texts):\n",
    "    return [bigram_mod[doc] for doc in texts]\n",
    "\n",
    "def make_trigrams(texts):\n",
    "    return [trigram_mod[bigram_mod[doc]] for doc in texts]\n",
    "\n",
    "def lemmatization(texts, allowed_postags=['NOUN', 'ADJ', 'VERB', 'ADV']):\n",
    "    \"\"\"https://spacy.io/api/annotation\"\"\"\n",
    "    texts_out = []\n",
    "    for sent in texts:\n",
    "        doc = nlp(\" \".join(sent))\n",
    "        texts_out.append([token.lemma_ for token in doc if token.pos_ in allowed_postags])\n",
    "    return texts_out"
   ]
  },
  {
   "cell_type": "code",
   "execution_count": 86,
   "metadata": {
    "colab": {},
    "colab_type": "code",
    "id": "tpB1xfluOXif"
   },
   "outputs": [],
   "source": [
    "data_words_nostops = remove_stopwords(data_words)"
   ]
  },
  {
   "cell_type": "code",
   "execution_count": 87,
   "metadata": {
    "colab": {},
    "colab_type": "code",
    "id": "MxUE-FPXPelY"
   },
   "outputs": [],
   "source": [
    "data_words_bigrams = make_bigrams(data_words_nostops)"
   ]
  },
  {
   "cell_type": "code",
   "execution_count": 88,
   "metadata": {},
   "outputs": [],
   "source": [
    "import en_core_web_sm"
   ]
  },
  {
   "cell_type": "code",
   "execution_count": 89,
   "metadata": {
    "colab": {},
    "colab_type": "code",
    "id": "NuyG5xmRQpSH",
    "scrolled": true
   },
   "outputs": [],
   "source": [
    "# Initialize spacy 'en' model, keeping only tagger component (for efficiency)\n",
    "nlp = en_core_web_sm.load(disable=['parser', 'ner'])"
   ]
  },
  {
   "cell_type": "code",
   "execution_count": 90,
   "metadata": {
    "colab": {},
    "colab_type": "code",
    "id": "27PGc8xmQyvt"
   },
   "outputs": [],
   "source": [
    "data_lemmatized = lemmatization(data_words_bigrams, allowed_postags=['NOUN', 'ADJ', 'VERB', 'ADV'])"
   ]
  },
  {
   "cell_type": "code",
   "execution_count": 91,
   "metadata": {
    "colab": {},
    "colab_type": "code",
    "id": "N_nrrjOwA9UF"
   },
   "outputs": [],
   "source": [
    "import pickle"
   ]
  },
  {
   "cell_type": "code",
   "execution_count": 92,
   "metadata": {
    "colab": {},
    "colab_type": "code",
    "id": "SMuFo4jlodpl"
   },
   "outputs": [],
   "source": [
    "f=open(\"./model/data_lemmatized_december.pkl\",'wb')\n",
    "pickle.dump(data_lemmatized,f)\n",
    "f.close()"
   ]
  },
  {
   "cell_type": "code",
   "execution_count": 93,
   "metadata": {
    "colab": {
     "base_uri": "https://localhost:8080/",
     "height": 34
    },
    "colab_type": "code",
    "executionInfo": {
     "elapsed": 1023,
     "status": "ok",
     "timestamp": 1579104938749,
     "user": {
      "displayName": "ikhwan wahid",
      "photoUrl": "",
      "userId": "01550124214470849109"
     },
     "user_tz": -480
    },
    "id": "Osx_IOgF_NcU",
    "outputId": "bf3bd02b-dedb-401a-b85b-dff12b8c0cb6"
   },
   "outputs": [
    {
     "data": {
      "text/plain": [
       "1254646"
      ]
     },
     "execution_count": 93,
     "metadata": {},
     "output_type": "execute_result"
    }
   ],
   "source": [
    "len(data_lemmatized)"
   ]
  },
  {
   "cell_type": "code",
   "execution_count": 94,
   "metadata": {
    "colab": {},
    "colab_type": "code",
    "id": "H9xYcI2DUUKn"
   },
   "outputs": [],
   "source": [
    "#create a dictionary and corpus for (LDA topic modeling)\n",
    "\n",
    "#creating the dictionary\n",
    "\n",
    "idtoword=corpora.Dictionary(data_lemmatized)\n",
    "#create corpus\n",
    "\n",
    "texts=data_lemmatized\n",
    "\n",
    "corpus=[idtoword.doc2bow(text) for text in texts]"
   ]
  },
  {
   "cell_type": "code",
   "execution_count": 95,
   "metadata": {},
   "outputs": [
    {
     "data": {
      "text/plain": [
       "1254646"
      ]
     },
     "execution_count": 95,
     "metadata": {},
     "output_type": "execute_result"
    }
   ],
   "source": [
    "len(corpus)"
   ]
  },
  {
   "cell_type": "markdown",
   "metadata": {
    "colab_type": "text",
    "id": "NMURl6ybVDVK"
   },
   "source": [
    "# Gensim LDA Model -Topic Modeling"
   ]
  },
  {
   "cell_type": "code",
   "execution_count": 96,
   "metadata": {
    "colab": {
     "base_uri": "https://localhost:8080/",
     "height": 337
    },
    "colab_type": "code",
    "executionInfo": {
     "elapsed": 195355,
     "status": "error",
     "timestamp": 1579124928690,
     "user": {
      "displayName": "ikhwan wahid",
      "photoUrl": "",
      "userId": "01550124214470849109"
     },
     "user_tz": -480
    },
    "id": "Iku129aeVHIA",
    "outputId": "6b53b1f2-8381-4710-94a2-1db4c989381d"
   },
   "outputs": [],
   "source": [
    "#build our LDA model\n",
    "lda_model = gensim.models.LdaMulticore(corpus=corpus,\n",
    "                                           id2word=idtoword,\n",
    "                                           num_topics=5,\n",
    "                                           workers=3,\n",
    "                                           random_state=100,\n",
    "                                           eval_every=1,\n",
    "                                           chunksize=100,\n",
    "                                           passes=10,\n",
    "                                           alpha=1)\n"
   ]
  },
  {
   "cell_type": "code",
   "execution_count": 97,
   "metadata": {},
   "outputs": [],
   "source": [
    "f=open(\"./model/lda_model_december.pkl\",'wb')\n",
    "pickle.dump(lda_model,f)\n",
    "f.close()"
   ]
  },
  {
   "cell_type": "code",
   "execution_count": 98,
   "metadata": {},
   "outputs": [],
   "source": [
    "f=open(\"./model/idtoword_december.pkl\",'wb')\n",
    "pickle.dump(idtoword,f)\n",
    "f.close()"
   ]
  },
  {
   "cell_type": "code",
   "execution_count": 99,
   "metadata": {},
   "outputs": [],
   "source": [
    "f=open(\"./model/corpus_december.pkl\",'wb')\n",
    "pickle.dump(corpus,f)\n",
    "f.close()"
   ]
  },
  {
   "cell_type": "code",
   "execution_count": 89,
   "metadata": {},
   "outputs": [],
   "source": [
    "#pickle.dump(lda_model, open(\"./model/lda.pickle\", \"wb\"))\n",
    "#pickle.dump(idtoword, open(\"./model/idatoword_final.pickle\", \"wb\"))\n",
    "#pickle.dump(corpus, open(\"./model/corpus_final.pickle\", \"wb\"))\n"
   ]
  },
  {
   "cell_type": "code",
   "execution_count": 100,
   "metadata": {
    "colab": {},
    "colab_type": "code",
    "id": "mbOKW8bdfDvg"
   },
   "outputs": [
    {
     "name": "stdout",
     "output_type": "stream",
     "text": [
      "[(0, '0.072*\"apartment\" + 0.065*\"clean\" + 0.061*\"recommend\" + 0.049*\"comfortable\" + 0.034*\"well\" + 0.032*\"check\" + 0.029*\"space\" + 0.025*\"need\" + 0.023*\"host\" + 0.023*\"highly\"'), (1, '0.039*\"stay\" + 0.033*\"time\" + 0.032*\"host\" + 0.030*\"make\" + 0.025*\"feel\" + 0.022*\"thank\" + 0.022*\"home\" + 0.019*\"day\" + 0.019*\"come\" + 0.017*\"back\"'), (2, '0.038*\"room\" + 0.017*\"night\" + 0.016*\"bathroom\" + 0.016*\"bed\" + 0.011*\"small\" + 0.010*\"bedroom\" + 0.010*\"kitchen\" + 0.009*\"use\" + 0.009*\"get\" + 0.009*\"sleep\"'), (3, '0.156*\"place\" + 0.155*\"great\" + 0.087*\"stay\" + 0.087*\"location\" + 0.060*\"nice\" + 0.053*\"good\" + 0.041*\"host\" + 0.040*\"really\" + 0.034*\"clean\" + 0.031*\"super\"'), (4, '0.046*\"close\" + 0.035*\"walk\" + 0.030*\"subway\" + 0.026*\"neighborhood\" + 0.026*\"area\" + 0.024*\"restaurant\" + 0.023*\"minute\" + 0.019*\"station\" + 0.019*\"lot\" + 0.018*\"train\"')]\n"
     ]
    }
   ],
   "source": [
    "print(lda_model.print_topics())"
   ]
  },
  {
   "cell_type": "code",
   "execution_count": 101,
   "metadata": {
    "colab": {},
    "colab_type": "code",
    "id": "i_ZjS6EpvIcT"
   },
   "outputs": [],
   "source": [
    "lda_model.save('lda_december.model')"
   ]
  },
  {
   "cell_type": "code",
   "execution_count": 102,
   "metadata": {
    "colab": {},
    "colab_type": "code",
    "id": "1Msqfp6Tk0eq",
    "scrolled": true
   },
   "outputs": [
    {
     "name": "stderr",
     "output_type": "stream",
     "text": [
      "/Users/ikhyvicky/anaconda3/lib/python3.7/site-packages/pyLDAvis/_prepare.py:257: FutureWarning: Sorting because non-concatenation axis is not aligned. A future version\n",
      "of pandas will change to not sort by default.\n",
      "\n",
      "To accept the future behavior, pass 'sort=False'.\n",
      "\n",
      "To retain the current behavior and silence the warning, pass 'sort=True'.\n",
      "\n",
      "  return pd.concat([default_term_info] + list(topic_dfs))\n"
     ]
    },
    {
     "data": {
      "text/html": [
       "\n",
       "<link rel=\"stylesheet\" type=\"text/css\" href=\"https://cdn.rawgit.com/bmabey/pyLDAvis/files/ldavis.v1.0.0.css\">\n",
       "\n",
       "\n",
       "<div id=\"ldavis_el840441179838216401667643853\"></div>\n",
       "<script type=\"text/javascript\">\n",
       "\n",
       "var ldavis_el840441179838216401667643853_data = {\"mdsDat\": {\"x\": [0.20018235804713327, 0.004646305356285727, 0.2722469193614546, -0.19097191233842184, -0.2861036704264518], \"y\": [0.12529872814970983, 0.2540121582067472, -0.20222763321207513, -0.22990357685005194, 0.052820323705669935], \"topics\": [1, 2, 3, 4, 5], \"cluster\": [1, 1, 1, 1, 1], \"Freq\": [24.117691040039062, 22.208255767822266, 19.840747833251953, 17.685745239257812, 16.14756202697754]}, \"tinfo\": {\"Category\": [\"Default\", \"Default\", \"Default\", \"Default\", \"Default\", \"Default\", \"Default\", \"Default\", \"Default\", \"Default\", \"Default\", \"Default\", \"Default\", \"Default\", \"Default\", \"Default\", \"Default\", \"Default\", \"Default\", \"Default\", \"Default\", \"Default\", \"Default\", \"Default\", \"Default\", \"Default\", \"Default\", \"Default\", \"Default\", \"Default\", \"Topic1\", \"Topic1\", \"Topic1\", \"Topic1\", \"Topic1\", \"Topic1\", \"Topic1\", \"Topic1\", \"Topic1\", \"Topic1\", \"Topic1\", \"Topic1\", \"Topic1\", \"Topic1\", \"Topic1\", \"Topic1\", \"Topic1\", \"Topic1\", \"Topic1\", \"Topic1\", \"Topic1\", \"Topic1\", \"Topic1\", \"Topic1\", \"Topic1\", \"Topic1\", \"Topic1\", \"Topic1\", \"Topic1\", \"Topic1\", \"Topic1\", \"Topic1\", \"Topic1\", \"Topic1\", \"Topic1\", \"Topic1\", \"Topic1\", \"Topic1\", \"Topic1\", \"Topic1\", \"Topic1\", \"Topic1\", \"Topic1\", \"Topic1\", \"Topic1\", \"Topic1\", \"Topic1\", \"Topic1\", \"Topic2\", \"Topic2\", \"Topic2\", \"Topic2\", \"Topic2\", \"Topic2\", \"Topic2\", \"Topic2\", \"Topic2\", \"Topic2\", \"Topic2\", \"Topic2\", \"Topic2\", \"Topic2\", \"Topic2\", \"Topic2\", \"Topic2\", \"Topic2\", \"Topic2\", \"Topic2\", \"Topic2\", \"Topic2\", \"Topic2\", \"Topic2\", \"Topic2\", \"Topic2\", \"Topic2\", \"Topic2\", \"Topic2\", \"Topic2\", \"Topic2\", \"Topic2\", \"Topic2\", \"Topic2\", \"Topic2\", \"Topic2\", \"Topic2\", \"Topic2\", \"Topic2\", \"Topic2\", \"Topic2\", \"Topic2\", \"Topic2\", \"Topic2\", \"Topic2\", \"Topic2\", \"Topic2\", \"Topic2\", \"Topic2\", \"Topic2\", \"Topic2\", \"Topic2\", \"Topic2\", \"Topic2\", \"Topic3\", \"Topic3\", \"Topic3\", \"Topic3\", \"Topic3\", \"Topic3\", \"Topic3\", \"Topic3\", \"Topic3\", \"Topic3\", \"Topic3\", \"Topic3\", \"Topic3\", \"Topic3\", \"Topic3\", \"Topic3\", \"Topic3\", \"Topic3\", \"Topic3\", \"Topic3\", \"Topic3\", \"Topic3\", \"Topic3\", \"Topic3\", \"Topic3\", \"Topic3\", \"Topic3\", \"Topic3\", \"Topic3\", \"Topic3\", \"Topic3\", \"Topic3\", \"Topic3\", \"Topic3\", \"Topic3\", \"Topic3\", \"Topic3\", \"Topic3\", \"Topic3\", \"Topic3\", \"Topic3\", \"Topic3\", \"Topic3\", \"Topic3\", \"Topic4\", \"Topic4\", \"Topic4\", \"Topic4\", \"Topic4\", \"Topic4\", \"Topic4\", \"Topic4\", \"Topic4\", \"Topic4\", \"Topic4\", \"Topic4\", \"Topic4\", \"Topic4\", \"Topic4\", \"Topic4\", \"Topic4\", \"Topic4\", \"Topic4\", \"Topic4\", \"Topic4\", \"Topic4\", \"Topic4\", \"Topic4\", \"Topic4\", \"Topic4\", \"Topic4\", \"Topic4\", \"Topic4\", \"Topic4\", \"Topic4\", \"Topic4\", \"Topic4\", \"Topic4\", \"Topic4\", \"Topic4\", \"Topic4\", \"Topic4\", \"Topic4\", \"Topic4\", \"Topic4\", \"Topic4\", \"Topic4\", \"Topic4\", \"Topic4\", \"Topic4\", \"Topic4\", \"Topic4\", \"Topic4\", \"Topic5\", \"Topic5\", \"Topic5\", \"Topic5\", \"Topic5\", \"Topic5\", \"Topic5\", \"Topic5\", \"Topic5\", \"Topic5\", \"Topic5\", \"Topic5\", \"Topic5\", \"Topic5\", \"Topic5\", \"Topic5\", \"Topic5\", \"Topic5\", \"Topic5\", \"Topic5\", \"Topic5\", \"Topic5\", \"Topic5\", \"Topic5\", \"Topic5\", \"Topic5\", \"Topic5\", \"Topic5\", \"Topic5\", \"Topic5\", \"Topic5\", \"Topic5\", \"Topic5\", \"Topic5\", \"Topic5\", \"Topic5\", \"Topic5\", \"Topic5\", \"Topic5\", \"Topic5\", \"Topic5\", \"Topic5\", \"Topic5\", \"Topic5\", \"Topic5\", \"Topic5\", \"Topic5\", \"Topic5\", \"Topic5\", \"Topic5\", \"Topic5\", \"Topic5\", \"Topic5\", \"Topic5\", \"Topic5\", \"Topic5\", \"Topic5\", \"Topic5\", \"Topic5\", \"Topic5\"], \"Freq\": [621504.0, 615655.0, 344739.0, 656495.0, 265644.0, 431266.0, 399037.0, 240386.0, 211851.0, 225114.0, 285488.0, 161392.0, 171578.0, 439124.0, 273984.0, 184805.0, 163468.0, 152694.0, 148783.0, 122322.0, 164684.0, 126281.0, 134602.0, 148976.0, 133043.0, 116572.0, 114137.0, 118716.0, 173477.0, 99742.0, 95994.609375, 60799.48046875, 60288.19921875, 54211.30078125, 52895.1328125, 39270.85546875, 39395.73828125, 37529.609375, 36876.69140625, 32664.1953125, 31863.5, 30854.3515625, 30119.150390625, 28803.931640625, 26226.994140625, 23934.279296875, 22542.201171875, 22497.140625, 22010.37890625, 21592.341796875, 21378.544921875, 19939.197265625, 19732.439453125, 19438.904296875, 19116.7890625, 18822.279296875, 16677.634765625, 16212.2998046875, 16247.7138671875, 15808.4287109375, 62638.1015625, 51784.74609375, 31545.677734375, 101709.5859375, 225902.5625, 95053.4375, 52437.6015625, 34224.91796875, 38046.3359375, 44740.2890625, 31323.267578125, 53541.2890625, 29670.14453125, 48244.52734375, 30181.951171875, 42064.26171875, 30863.849609375, 29697.3203125, 163467.75, 134601.59375, 118715.328125, 94442.6015625, 91132.3203125, 64827.98046875, 61388.765625, 60039.56640625, 56302.953125, 53930.49609375, 50650.88671875, 42813.3671875, 39898.99609375, 39518.71484375, 33478.734375, 32022.359375, 19875.09765625, 17758.076171875, 17323.880859375, 16215.6796875, 14170.84765625, 13704.248046875, 12602.8291015625, 12491.6826171875, 10748.09765625, 10524.3271484375, 9110.0498046875, 8533.3154296875, 7964.22705078125, 7490.65771484375, 35002.79296875, 102251.59375, 62755.80078125, 13766.87109375, 178354.890625, 32456.9921875, 22620.68359375, 16113.939453125, 121900.890625, 73410.296875, 78796.828125, 103742.3671875, 49075.234375, 63801.2734375, 39251.58203125, 92830.8125, 55286.8515625, 57387.3671875, 176804.65625, 50501.40625, 215996.265625, 54912.78125, 57863.7265625, 40394.79296875, 225114.0, 171578.015625, 148783.03125, 126281.0078125, 116571.34375, 114136.984375, 95143.5, 89510.921875, 85347.546875, 82358.75, 61527.44140625, 55111.98828125, 53353.7890625, 53645.1640625, 47002.69140625, 44487.9375, 44572.99609375, 42435.69140625, 38967.953125, 34345.1796875, 34106.71484375, 33600.75, 32991.05078125, 29620.466796875, 26945.58203125, 26599.953125, 26481.064453125, 25121.400390625, 20990.146484375, 19319.69921875, 52189.70703125, 22818.201171875, 61637.8203125, 125576.578125, 91792.1328125, 58211.52734375, 82957.203125, 70161.96875, 81173.921875, 75411.7890625, 65145.91015625, 45894.69921875, 45279.05078125, 62187.71484375, 99741.6875, 85503.46875, 79236.3203125, 72481.2734375, 66409.09375, 57565.515625, 57036.796875, 55897.5390625, 43759.3671875, 43154.109375, 38026.24609375, 36765.15234375, 34746.421875, 33269.63671875, 32960.984375, 30517.5390625, 25780.02734375, 23514.951171875, 23373.1328125, 21530.56640625, 19546.1484375, 18787.146484375, 17191.884765625, 16910.33203125, 16307.2841796875, 16044.0283203125, 14905.0859375, 14001.037109375, 10985.6884765625, 9923.8818359375, 265596.90625, 211819.328125, 74349.8515625, 146568.453125, 139589.28125, 313042.40625, 124370.0390625, 75988.2578125, 285161.53125, 24971.865234375, 107986.140625, 98064.625, 51909.4609375, 31755.64453125, 37857.81640625, 100029.0625, 95309.7109375, 55571.0078125, 42257.2109375, 615654.8125, 621503.0625, 344738.75, 122321.171875, 47352.109375, 34545.8125, 22983.603515625, 6596.16552734375, 3548.29296875, 3185.535888671875, 3105.505126953125, 2004.619873046875, 1599.05029296875, 1118.670654296875, 1096.044189453125, 1067.6085205078125, 925.4927978515625, 931.526611328125, 811.7033081054688, 772.1790771484375, 712.2885131835938, 559.7935791015625, 563.1311645507812, 573.3427124023438, 523.3348999023438, 518.0848999023438, 503.3001403808594, 484.83734130859375, 493.4763488769531, 447.10101318359375, 238901.828125, 48610.6875, 157957.140625, 5858.7412109375, 15462.81640625, 209933.640625, 5629.39306640625, 9758.115234375, 94145.7421875, 345189.1875, 35643.82421875, 50037.35546875, 4968.693359375, 4717.6015625, 64754.5390625, 39673.92578125, 9487.2236328125, 162290.640625, 73864.1640625, 16488.455078125, 134308.40625, 16380.58203125, 23607.951171875, 28490.271484375, 26620.046875, 18731.904296875, 48081.015625, 15542.8359375, 18620.505859375, 16068.0693359375], \"Term\": [\"place\", \"great\", \"location\", \"stay\", \"recommend\", \"clean\", \"apartment\", \"nice\", \"comfortable\", \"close\", \"good\", \"really\", \"walk\", \"host\", \"room\", \"time\", \"make\", \"well\", \"subway\", \"super\", \"check\", \"neighborhood\", \"feel\", \"space\", \"area\", \"restaurant\", \"minute\", \"home\", \"easy\", \"highly\", \"bathroom\", \"bedroom\", \"kitchen\", \"use\", \"sleep\", \"floor\", \"bit\", \"door\", \"issue\", \"towel\", \"problem\", \"shower\", \"late\", \"noise\", \"water\", \"air\", \"window\", \"key\", \"however\", \"early\", \"open\", \"tv\", \"unit\", \"bad\", \"hot\", \"flight\", \"fine\", \"hear\", \"bring\", \"pay\", \"small\", \"work\", \"share\", \"night\", \"room\", \"bed\", \"people\", \"leave\", \"thing\", \"little\", \"guest\", \"get\", \"live\", \"also\", \"overall\", \"good\", \"find\", \"even\", \"make\", \"feel\", \"home\", \"back\", \"experience\", \"book\", \"welcome\", \"help\", \"trip\", \"arrival\", \"sure\", \"friend\", \"reservation\", \"cancel\", \"hospitality\", \"ever\", \"future\", \"happy\", \"care\", \"hope\", \"truly\", \"expectation\", \"incredible\", \"soon\", \"wish\", \"best\", \"gem\", \"willing\", \"gorgeous\", \"greet\", \"touch\", \"come\", \"give\", \"star\", \"time\", \"warm\", \"thoughtful\", \"detail\", \"thank\", \"much\", \"love\", \"day\", \"family\", \"airbnb\", \"kind\", \"go\", \"visit\", \"wonderful\", \"host\", \"next\", \"stay\", \"even\", \"amazing\", \"definitely\", \"close\", \"walk\", \"subway\", \"neighborhood\", \"restaurant\", \"minute\", \"station\", \"train\", \"away\", \"safe\", \"block\", \"access\", \"distance\", \"shop\", \"short\", \"store\", \"nearby\", \"bar\", \"line\", \"bus\", \"local\", \"park\", \"stop\", \"eat\", \"central\", \"transportation\", \"explore\", \"public\", \"corner\", \"grocery\", \"food\", \"easily\", \"many\", \"area\", \"lot\", \"right\", \"quiet\", \"city\", \"also\", \"easy\", \"get\", \"take\", \"convenient\", \"apartment\", \"highly\", \"quick\", \"communication\", \"responsive\", \"excellent\", \"question\", \"respond\", \"accommodate\", \"extremely\", \"amenity\", \"quickly\", \"exactly\", \"fantastic\", \"stylish\", \"response\", \"answer\", \"describe\", \"modern\", \"communicate\", \"decorate\", \"equip\", \"sparkle\", \"attentive\", \"conveniently\", \"perfectly\", \"flexible\", \"communicative\", \"process\", \"nicely\", \"staying\", \"recommend\", \"comfortable\", \"spacious\", \"well\", \"check\", \"apartment\", \"space\", \"locate\", \"clean\", \"fast\", \"need\", \"easy\", \"helpful\", \"available\", \"lovely\", \"host\", \"stay\", \"definitely\", \"bed\", \"great\", \"place\", \"location\", \"super\", \"value\", \"awesome\", \"cute\", \"appartment\", \"loved\", \"confortable\", \"def\", \"communicating\", \"appartement\", \"reccomend\", \"recomend\", \"layover\", \"helpfull\", \"definetly\", \"definately\", \"pic\", \"easygoe\", \"apartament\", \"uncomplicated\", \"heather\", \"excelent\", \"victor\", \"carlo\", \"ubication\", \"convinient\", \"recomende\", \"nice\", \"cozy\", \"really\", \"beat\", \"comfy\", \"good\", \"cosy\", \"affordable\", \"perfect\", \"stay\", \"price\", \"friendly\", \"rooftop\", \"crash\", \"amazing\", \"enjoy\", \"worth\", \"host\", \"definitely\", \"cool\", \"clean\", \"view\", \"spot\", \"convenient\", \"helpful\", \"overall\", \"room\", \"private\", \"look\", \"thank\"], \"Total\": [621504.0, 615655.0, 344739.0, 656495.0, 265644.0, 431266.0, 399037.0, 240386.0, 211851.0, 225114.0, 285488.0, 161392.0, 171578.0, 439124.0, 273984.0, 184805.0, 163468.0, 152694.0, 148783.0, 122322.0, 164684.0, 126281.0, 134602.0, 148976.0, 133043.0, 116572.0, 114137.0, 118716.0, 173477.0, 99742.0, 95995.5859375, 60800.45703125, 60289.17578125, 54212.28125, 52896.10546875, 39271.82421875, 39396.71484375, 37530.58203125, 36877.6640625, 32665.16796875, 31864.478515625, 30855.322265625, 30120.130859375, 28804.904296875, 26227.96875, 23935.251953125, 22543.171875, 22498.11328125, 22011.349609375, 21593.322265625, 21379.521484375, 19940.171875, 19733.41796875, 19439.873046875, 19117.759765625, 18823.25390625, 16678.607421875, 16213.26953125, 16248.6904296875, 15809.400390625, 62943.609375, 52003.0234375, 31886.40625, 108500.015625, 273984.375, 137311.390625, 67316.1171875, 43665.31640625, 54420.96484375, 70642.625, 44115.01953125, 134297.75, 41475.98046875, 155080.40625, 48914.6328125, 285488.0, 71256.078125, 84610.8125, 163468.703125, 134602.546875, 118716.2734375, 94443.546875, 91133.265625, 64828.9296875, 61389.70703125, 60040.51953125, 56303.90625, 53931.4375, 50651.83203125, 42814.3203125, 39899.9296875, 39519.64453125, 33479.67578125, 32023.302734375, 19876.044921875, 17759.025390625, 17324.830078125, 16216.625, 14171.791015625, 13705.193359375, 12603.77734375, 12492.626953125, 10749.046875, 10525.2744140625, 9111.0009765625, 8534.2646484375, 7965.17529296875, 7491.60400390625, 35159.4375, 103989.765625, 63879.51953125, 13802.34765625, 184805.265625, 32884.3203125, 22863.001953125, 16285.859375, 137969.703125, 81966.3828125, 90849.953125, 124993.5625, 55687.171875, 75598.140625, 43597.828125, 120772.75, 67501.3671875, 75042.5546875, 439124.875, 64989.97265625, 656495.6875, 84610.8125, 122619.015625, 169830.46875, 225114.9375, 171578.953125, 148783.96875, 126281.9453125, 116572.2734375, 114137.921875, 95144.4296875, 89511.8515625, 85348.484375, 82359.6875, 61528.375, 55112.92578125, 53354.71875, 53646.09375, 47003.6328125, 44488.87109375, 44573.9296875, 42436.625, 38968.88671875, 34346.109375, 34107.6484375, 33601.68359375, 32991.984375, 29621.40234375, 26946.517578125, 26600.884765625, 26482.0, 25122.330078125, 20991.080078125, 19320.62890625, 52233.6875, 22825.96484375, 62961.8515625, 133043.78125, 99031.9765625, 68029.1875, 105732.609375, 87911.59375, 155080.40625, 173477.109375, 134297.75, 69312.9140625, 73770.0546875, 399037.375, 99742.6640625, 85504.4453125, 79237.296875, 72482.25, 66410.0703125, 57566.4921875, 57037.7734375, 55898.51953125, 43760.34765625, 43155.08984375, 38027.22265625, 36766.12890625, 34747.3984375, 33270.61328125, 32961.9609375, 30518.517578125, 25781.00390625, 23515.9296875, 23374.111328125, 21531.541015625, 19547.123046875, 18788.125, 17192.861328125, 16911.3046875, 16308.26171875, 16045.00390625, 14906.0634765625, 14002.0107421875, 10986.6650390625, 9924.861328125, 265644.09375, 211851.953125, 74383.1875, 152694.203125, 164684.375, 399037.375, 148976.40625, 91709.7734375, 431266.71875, 26369.25, 186480.5, 173477.109375, 78530.28125, 38307.0625, 53360.5390625, 439124.875, 656495.6875, 169830.46875, 137311.390625, 615655.8125, 621504.0625, 344739.75, 122322.1875, 47353.1171875, 34546.8203125, 22984.6171875, 6597.1787109375, 3549.3056640625, 3186.54638671875, 3106.5166015625, 2005.630615234375, 1600.05615234375, 1119.6759033203125, 1097.0501708984375, 1068.61181640625, 926.4964599609375, 932.5390014648438, 812.7245483398438, 773.2064819335938, 713.3107299804688, 560.802978515625, 564.150390625, 574.3836669921875, 524.3377075195312, 519.1162109375, 504.3351135253906, 485.8363952636719, 494.49517822265625, 448.1029968261719, 240386.578125, 49010.5, 161392.890625, 6164.47021484375, 17217.044921875, 285488.0, 6522.39306640625, 11757.2451171875, 140321.625, 656495.6875, 55750.33984375, 83240.1875, 6287.935546875, 5949.68359375, 122619.015625, 74401.7734375, 13915.603515625, 439124.875, 169830.46875, 28731.224609375, 431266.71875, 31515.72265625, 54110.9140625, 73770.0546875, 78530.28125, 48914.6328125, 273984.375, 36118.1328125, 72245.5078125, 137969.703125], \"loglift\": [30.0, 29.0, 28.0, 27.0, 26.0, 25.0, 24.0, 23.0, 22.0, 21.0, 20.0, 19.0, 18.0, 17.0, 16.0, 15.0, 14.0, 13.0, 12.0, 11.0, 10.0, 9.0, 8.0, 7.0, 6.0, 5.0, 4.0, 3.0, 2.0, 1.0, 1.4221999645233154, 1.4221999645233154, 1.4221999645233154, 1.4221999645233154, 1.4221999645233154, 1.4221999645233154, 1.4221999645233154, 1.4221999645233154, 1.4221999645233154, 1.4221999645233154, 1.4221999645233154, 1.4221999645233154, 1.4221999645233154, 1.4221999645233154, 1.4221999645233154, 1.4221999645233154, 1.4221999645233154, 1.4221999645233154, 1.4221999645233154, 1.4221999645233154, 1.4221999645233154, 1.4221999645233154, 1.4221999645233154, 1.4221999645233154, 1.4221999645233154, 1.4221999645233154, 1.4221999645233154, 1.4221999645233154, 1.4221999645233154, 1.4221999645233154, 1.4174000024795532, 1.4179999828338623, 1.4114999771118164, 1.3575999736785889, 1.2293000221252441, 1.0543999671936035, 1.1723999977111816, 1.1785999536514282, 1.0642999410629272, 0.965499997138977, 1.079800009727478, 0.5026000142097473, 1.0872999429702759, 0.25459998846054077, 0.9394000172615051, -0.4927999973297119, 0.5855000019073486, 0.3752000033855438, 1.504699945449829, 1.504699945449829, 1.504699945449829, 1.504699945449829, 1.504699945449829, 1.504699945449829, 1.504699945449829, 1.504699945449829, 1.504699945449829, 1.504699945449829, 1.504699945449829, 1.504699945449829, 1.504699945449829, 1.504699945449829, 1.504699945449829, 1.504699945449829, 1.504699945449829, 1.504699945449829, 1.504699945449829, 1.5046000480651855, 1.5046000480651855, 1.5046000480651855, 1.5046000480651855, 1.5046000480651855, 1.5046000480651855, 1.5046000480651855, 1.5046000480651855, 1.5046000480651855, 1.5046000480651855, 1.5046000480651855, 1.5002000331878662, 1.4878000020980835, 1.4869999885559082, 1.5020999908447266, 1.4692000150680542, 1.4916000366210938, 1.4940999746322632, 1.4940999746322632, 1.3809000253677368, 1.3945000171661377, 1.3624000549316406, 1.3184000253677368, 1.3782999515533447, 1.3350000381469727, 1.3997000455856323, 1.2416000366210938, 1.3050999641418457, 1.2365000247955322, 0.5950000286102295, 1.252500057220459, 0.39309999346733093, 1.0723999738693237, 0.7537000179290771, 0.06859999895095825, 1.617400050163269, 1.617400050163269, 1.617400050163269, 1.617400050163269, 1.617400050163269, 1.617400050163269, 1.617400050163269, 1.617400050163269, 1.617400050163269, 1.617400050163269, 1.617400050163269, 1.617400050163269, 1.617400050163269, 1.617400050163269, 1.617400050163269, 1.617400050163269, 1.617400050163269, 1.617400050163269, 1.617400050163269, 1.617400050163269, 1.617400050163269, 1.617400050163269, 1.617400050163269, 1.617400050163269, 1.617400050163269, 1.617400050163269, 1.617400050163269, 1.617400050163269, 1.617400050163269, 1.617400050163269, 1.6166000366210938, 1.6171000003814697, 1.5961999893188477, 1.5597000122070312, 1.5414999723434448, 1.4615999460220337, 1.3747999668121338, 1.3918999433517456, 0.9700999855995178, 0.7843999862670898, 0.8939999938011169, 1.205199956893921, 1.1292999982833862, -0.24150000512599945, 1.7323999404907227, 1.7323999404907227, 1.7323999404907227, 1.7323999404907227, 1.7323999404907227, 1.7323999404907227, 1.7323999404907227, 1.7323999404907227, 1.7323999404907227, 1.7323999404907227, 1.7323999404907227, 1.7323999404907227, 1.7323999404907227, 1.7323999404907227, 1.7323999404907227, 1.7323999404907227, 1.7323999404907227, 1.7323999404907227, 1.7323999404907227, 1.7323999404907227, 1.7323999404907227, 1.7323999404907227, 1.7323999404907227, 1.7323999404907227, 1.7323999404907227, 1.7323999404907227, 1.732300043106079, 1.732300043106079, 1.732300043106079, 1.732300043106079, 1.732200026512146, 1.732300043106079, 1.7319999933242798, 1.691499948501587, 1.5671000480651855, 1.4896999597549438, 1.551900029182434, 1.5443999767303467, 1.3186999559402466, 1.6779999732971191, 1.1861000061035156, 1.1619999408721924, 1.3184000253677368, 1.544800043106079, 1.38919997215271, 0.2531000077724457, -0.19740000367164612, 0.6152999997138977, 0.5539000034332275, 1.8234000205993652, 1.8234000205993652, 1.8234000205993652, 1.8234000205993652, 1.8234000205993652, 1.8234000205993652, 1.8234000205993652, 1.823199987411499, 1.823099970817566, 1.823099970817566, 1.823099970817566, 1.8229000568389893, 1.8228000402450562, 1.8224999904632568, 1.8224999904632568, 1.8224999904632568, 1.8222999572753906, 1.8222999572753906, 1.822100043296814, 1.822100043296814, 1.8220000267028809, 1.8215999603271484, 1.8215999603271484, 1.8215999603271484, 1.8214999437332153, 1.8214000463485718, 1.8213000297546387, 1.8213000297546387, 1.8213000297546387, 1.8212000131607056, 1.817199945449829, 1.8151999711990356, 1.801900029182434, 1.7725000381469727, 1.71589994430542, 1.5160000324249268, 1.676200032234192, 1.6369999647140503, 1.424299955368042, 1.1806000471115112, 1.376099944114685, 1.3143999576568604, 1.5879000425338745, 1.5914000272750854, 1.1849000453948975, 1.194599986076355, 1.4402999877929688, 0.828000009059906, 0.9908000230789185, 1.2681000232696533, 0.6567999720573425, 1.1690000295639038, 0.9939000010490417, 0.871999979019165, 0.741599977016449, 0.8636000156402588, 0.08320000022649765, 0.9801999926567078, 0.4675999879837036, -0.32679998874664307], \"logprob\": [30.0, 29.0, 28.0, 27.0, 26.0, 25.0, 24.0, 23.0, 22.0, 21.0, 20.0, 19.0, 18.0, 17.0, 16.0, 15.0, 14.0, 13.0, 12.0, 11.0, 10.0, 9.0, 8.0, 7.0, 6.0, 5.0, 4.0, 3.0, 2.0, 1.0, -4.125999927520752, -4.582699775695801, -4.591100215911865, -4.697400093078613, -4.7220001220703125, -5.019800186157227, -5.016600131988525, -5.065100193023682, -5.082699775695801, -5.203999996185303, -5.228799819946289, -5.261000156402588, -5.285099983215332, -5.329800128936768, -5.423500061035156, -5.514999866485596, -5.574900150299072, -5.576900005340576, -5.598800182342529, -5.6178998947143555, -5.627900123596191, -5.6975998878479, -5.708000183105469, -5.7230000495910645, -5.739699840545654, -5.755199909210205, -5.876200199127197, -5.9045000076293945, -5.902299880981445, -5.929699897766113, -4.5528998374938965, -4.743199825286865, -5.238800048828125, -4.0680999755859375, -3.27020001411438, -4.135799884796143, -4.730599880218506, -5.157299995422363, -5.051499843597412, -4.889400005340576, -5.2459001541137695, -4.709799766540527, -5.300099849700928, -4.814000129699707, -5.2829999923706055, -4.951099872589111, -5.260700225830078, -5.299200057983398, -3.511199951171875, -3.7054998874664307, -3.8310999870300293, -4.059800148010254, -4.0954999923706055, -4.436100006103516, -4.490600109100342, -4.512800216674805, -4.577000141143799, -4.620100021362305, -4.682799816131592, -4.850900173187256, -4.92140007019043, -4.931000232696533, -5.09689998626709, -5.14139986038208, -5.618299961090088, -5.730899810791016, -5.75570011138916, -5.821800231933594, -5.956600189208984, -5.990099906921387, -6.07390022277832, -6.082699775695801, -6.233099937438965, -6.2540998458862305, -6.398399829864502, -6.463799953460693, -6.532800197601318, -6.594099998474121, -5.0524001121521, -3.9804000854492188, -4.468500137329102, -5.985499858856201, -3.4240000247955322, -5.127900123596191, -5.488900184631348, -5.828100204467773, -3.8046000003814697, -4.311699867248535, -4.240900039672852, -3.96589994430542, -4.714399814605713, -4.452000141143799, -4.93779993057251, -4.077000141143799, -4.595300197601318, -4.558000087738037, -3.4326999187469482, -4.685800075531006, -3.2325000762939453, -4.6020002365112305, -4.549699783325195, -4.90910005569458, -3.0785000324249268, -3.3499999046325684, -3.4925999641418457, -3.656599998474121, -3.736599922180176, -3.757699966430664, -3.93969988822937, -4.000699996948242, -4.048299789428711, -4.084000110626221, -4.3755998611450195, -4.4857001304626465, -4.518099784851074, -4.512700080871582, -4.644899845123291, -4.69980001449585, -4.69789981842041, -4.747099876403809, -4.832300186157227, -4.958600044250488, -4.96560001373291, -4.980500221252441, -4.998799800872803, -5.106599807739258, -5.201200008392334, -5.214200019836426, -5.218599796295166, -5.271299839019775, -5.451000213623047, -5.533899784088135, -4.540200233459473, -5.367499828338623, -4.373799800872803, -3.662100076675415, -3.9755001068115234, -4.431000232696533, -4.076700210571289, -4.24429988861084, -4.098499774932861, -4.172100067138672, -4.318399906158447, -4.668700218200684, -4.682199954986572, -4.3649001121521, -3.7774999141693115, -3.93149995803833, -4.007599830627441, -4.096799850463867, -4.184199810028076, -4.327199935913086, -4.336400032043457, -4.356599807739258, -4.601399898529053, -4.615300178527832, -4.741799831390381, -4.7754998207092285, -4.831999778747559, -4.875400066375732, -4.884799957275391, -4.9618000984191895, -5.130499839782715, -5.222400188446045, -5.228499889373779, -5.3105998039245605, -5.407299995422363, -5.446899890899658, -5.535600185394287, -5.552199840545654, -5.588500022888184, -5.604700088500977, -5.678400039672852, -5.741000175476074, -5.983500003814697, -6.085100173950195, -2.798099994659424, -3.0243000984191895, -4.071300029754639, -3.3926000595092773, -3.4414000511169434, -2.633699893951416, -3.55679988861084, -4.049499988555908, -2.7269999980926514, -5.162300109863281, -3.6981000900268555, -3.7945001125335693, -4.430600166320801, -4.921999931335449, -4.746200084686279, -3.774600028991699, -3.822999954223633, -4.362400054931641, -4.636300086975098, -1.8664000034332275, -1.8569999933242798, -2.4463000297546387, -3.4823999404907227, -4.43149995803833, -4.746799945831299, -5.154300212860107, -6.402599811553955, -7.022600173950195, -7.130499839782715, -7.155900001525879, -7.593599796295166, -7.819699764251709, -8.177000045776367, -8.197400093078613, -8.223699569702148, -8.366499900817871, -8.359999656677246, -8.497699737548828, -8.547599792480469, -8.628399848937988, -8.86929988861084, -8.863300323486328, -8.845399856567383, -8.936599731445312, -8.946700096130371, -8.975700378417969, -9.012999534606934, -8.995400428771973, -9.094099998474121, -2.812999963760376, -4.405200004577637, -3.226799964904785, -6.521200180053711, -5.5507001876831055, -2.9423000812530518, -6.561100006103516, -6.011000156402588, -3.7441999912261963, -2.444999933242798, -4.7154998779296875, -4.376299858093262, -6.6859002113342285, -6.737800121307373, -4.118500232696533, -4.608399868011475, -6.039100170135498, -3.199700117111206, -3.9869000911712646, -5.486400127410889, -3.3889999389648438, -5.493000030517578, -5.127500057220459, -4.939499855041504, -5.007400035858154, -5.35890007019043, -4.416200160980225, -5.545499801635742, -5.364799976348877, -5.51230001449585]}, \"token.table\": {\"Topic\": [3, 4, 3, 5, 1, 1, 2, 1, 2, 3, 2, 5, 4, 4, 5, 1, 3, 4, 5, 5, 1, 3, 2, 4, 1, 2, 4, 3, 5, 2, 1, 3, 1, 1, 5, 1, 4, 1, 2, 1, 3, 2, 1, 3, 2, 2, 5, 3, 1, 4, 2, 3, 1, 4, 5, 3, 1, 2, 2, 3, 4, 1, 5, 4, 5, 4, 4, 5, 3, 5, 4, 5, 1, 3, 5, 3, 3, 5, 2, 4, 5, 1, 5, 5, 1, 2, 4, 5, 5, 5, 2, 4, 5, 4, 1, 2, 3, 1, 1, 1, 3, 3, 4, 5, 3, 2, 3, 5, 4, 1, 2, 2, 4, 5, 4, 2, 2, 3, 4, 2, 3, 4, 1, 3, 4, 2, 1, 2, 3, 1, 4, 1, 1, 1, 3, 2, 2, 3, 4, 5, 2, 2, 1, 2, 3, 1, 2, 1, 2, 3, 1, 3, 5, 2, 5, 2, 3, 1, 2, 2, 1, 5, 2, 4, 5, 5, 4, 2, 2, 2, 2, 4, 5, 1, 1, 2, 1, 1, 2, 5, 1, 1, 5, 1, 2, 3, 1, 3, 1, 2, 3, 3, 3, 4, 5, 1, 2, 3, 4, 5, 1, 3, 2, 3, 5, 5, 2, 3, 4, 2, 1, 3, 3, 4, 1, 2, 3, 1, 2, 3, 4, 3, 1, 2, 3, 1, 5, 4, 1, 3, 1, 1, 1, 5, 3, 1, 1, 2, 3, 5, 2, 3, 4, 5, 4, 5, 5, 1, 5, 1, 3, 5, 1, 4, 3, 4, 4, 4, 3, 4, 1, 5, 5, 5, 5, 4, 5, 2, 4, 4, 4, 3, 1, 2, 3, 3, 5, 1, 5, 3, 1, 2, 3, 3, 1, 1, 1, 3, 2, 1, 2, 3, 4, 3, 4, 4, 3, 5, 1, 2, 3, 2, 4, 5, 4, 3, 3, 4, 3, 5, 2, 1, 2, 3, 2, 5, 1, 2, 3, 2, 4, 1, 2, 2, 4, 1, 3, 3, 2, 2, 1, 5, 5, 1, 1, 5, 5, 2, 3, 5, 2, 3, 4, 3, 1, 2, 1, 2, 1, 4, 2, 1, 2, 2, 4, 1, 4, 1, 5], \"Freq\": [0.9999831914901733, 0.999990701675415, 0.16993777453899384, 0.8299563527107239, 0.9999476671218872, 0.15603558719158173, 0.8439493179321289, 0.3110966682434082, 0.16547544300556183, 0.5234317183494568, 0.47190070152282715, 0.5280991792678833, 0.9999747276306152, 0.999983012676239, 0.9985681772232056, 0.059661079198122025, 0.155845046043396, 0.7844929099082947, 0.9993399381637573, 0.9998213052749634, 0.056124381721019745, 0.9438772797584534, 0.9999733567237854, 0.9999498724937439, 0.10731702297925949, 0.06369582563638687, 0.8289855122566223, 0.9999943375587463, 0.9999762773513794, 0.9999942183494568, 0.9999551177024841, 0.9999852776527405, 0.9999939203262329, 0.04947708174586296, 0.9504466652870178, 0.6922441124916077, 0.3077457845211029, 0.9999760389328003, 0.9998789429664612, 0.9999818801879883, 0.9999776482582092, 0.9999856352806091, 0.9999575018882751, 0.9999676942825317, 0.9999836683273315, 0.9999520778656006, 0.9973527193069458, 0.9999808073043823, 0.15237632393836975, 0.8476153016090393, 0.20189601182937622, 0.7980972528457642, 0.0273519828915596, 0.661219596862793, 0.3114267587661743, 0.9999958276748657, 0.016703566536307335, 0.9832890629768372, 1.4160832506604493e-05, 0.00013688804756384343, 0.9998444318771362, 0.10181770473718643, 0.8981215953826904, 0.9999524354934692, 0.9996855854988098, 0.9999836087226868, 0.9999286532402039, 0.9998285174369812, 0.6137856245040894, 0.38620007038116455, 0.9999228715896606, 0.996976375579834, 0.06414623558521271, 0.3619407117366791, 0.5738704204559326, 0.9999485611915588, 0.13675962388515472, 0.8630267977714539, 0.007406576070934534, 0.0007345365011133254, 0.9918487071990967, 0.20690175890922546, 0.79298335313797, 0.9999731183052063, 0.17000874876976013, 0.8299787640571594, 0.9999748468399048, 0.9998337030410767, 0.9991084933280945, 0.999422013759613, 0.23785485327243805, 0.3272145390510559, 0.4349278509616852, 0.9999610781669617, 0.010499906726181507, 0.989447295665741, 0.9999865293502808, 0.9999845027923584, 0.9999387860298157, 0.0003066683129873127, 0.9996510744094849, 0.4347086548805237, 0.5652907490730286, 0.9981624484062195, 0.9999526739120483, 0.33933329582214355, 0.12741631269454956, 0.5332399606704712, 0.9999425411224365, 0.35098350048065186, 0.6490069031715393, 0.9999592900276184, 0.9999693036079407, 0.997448742389679, 0.9999839067459106, 0.9999129176139832, 0.9999861121177673, 0.9999622106552124, 0.9999691843986511, 0.8812621831893921, 0.11871674656867981, 0.9999597668647766, 0.013083420693874359, 0.0398949533700943, 0.9470121264457703, 0.9999959468841553, 0.4331420063972473, 0.1439456194639206, 0.42291128635406494, 0.9999635815620422, 0.9999374151229858, 0.9999333620071411, 0.9999790191650391, 0.0008232234977185726, 0.9991636276245117, 0.9999691843986511, 0.05452894791960716, 0.00016818799485918134, 0.3441726863384247, 0.601115882396698, 0.9999474287033081, 0.999890148639679, 0.3986738324165344, 0.11623426526784897, 0.4850863218307495, 0.01757996901869774, 0.9824119210243225, 0.11498454958200455, 0.7686419486999512, 0.11637558788061142, 0.14734070003032684, 0.11730790883302689, 0.7353513836860657, 0.9998524188995361, 0.9999986886978149, 0.9999193549156189, 0.9999674558639526, 0.7100302577018738, 0.28994661569595337, 0.9999422430992126, 0.9999216794967651, 0.9975910186767578, 0.9999913573265076, 0.6610061526298523, 0.33897751569747925, 0.9983848333358765, 0.9999933242797852, 0.9999892711639404, 0.9999614357948303, 0.9999797940254211, 0.40263035893440247, 0.2277916967868805, 0.3695782423019409, 0.9999602437019348, 0.9999386668205261, 0.9999383091926575, 0.9999819993972778, 0.9999505281448364, 0.9003200531005859, 0.09966092556715012, 0.9999805092811584, 0.9999624490737915, 0.9994274377822876, 0.78380286693573, 0.2161898910999298, 0.9999772310256958, 0.6333286762237549, 0.36666247248649597, 0.715353786945343, 0.2224661111831665, 0.06215645745396614, 0.9999809861183167, 0.17142120003700256, 0.8285703659057617, 0.9999978542327881, 0.247627854347229, 0.23828470706939697, 0.013038872741162777, 0.24329540133476257, 0.2577461302280426, 0.0730976015329361, 0.9268925189971924, 0.8673312067985535, 0.0016070454148575664, 0.13106225430965424, 0.9996321201324463, 0.2488730549812317, 0.04164125770330429, 0.709475576877594, 0.9999957084655762, 0.021012723445892334, 0.9789737462997437, 0.9999918937683105, 0.9999604821205139, 0.1043720543384552, 0.895611047744751, 0.9999791383743286, 0.0687471330165863, 0.20126500725746155, 0.15091657638549805, 0.579073965549469, 0.9999924898147583, 0.04734576493501663, 0.7770583629608154, 0.1755809336900711, 0.006173389498144388, 0.9938241839408875, 0.9999394416809082, 0.9374192357063293, 0.0625806376338005, 0.9999685883522034, 0.9999756217002869, 0.6170341968536377, 0.38295289874076843, 0.9999796748161316, 0.9999114274978638, 0.7789813280105591, 0.011809950694441795, 0.01873251236975193, 0.19047445058822632, 0.08405689150094986, 0.2044232338666916, 0.04058533534407616, 0.6709300875663757, 0.9999226331710815, 0.998439610004425, 0.9999982714653015, 0.36064353585243225, 0.6393503546714783, 0.5622937679290771, 0.007364721968770027, 0.4303378462791443, 0.9999849796295166, 0.999927818775177, 0.9999470710754395, 0.9999914765357971, 0.9999830722808838, 0.9999678730964661, 0.7845923900604248, 0.21540185809135437, 0.0212834645062685, 0.9787110090255737, 0.9993963241577148, 0.9990427494049072, 0.9975385069847107, 0.999822735786438, 0.0001731640222715214, 0.9999766945838928, 0.9999864101409912, 0.9999708533287048, 0.9999827742576599, 0.9999890923500061, 0.030428115278482437, 0.11389228701591492, 0.8556915521621704, 0.20976677536964417, 0.7902434468269348, 0.8245105147361755, 0.17548811435699463, 0.9999916553497314, 0.9893243908882141, 0.010662850923836231, 0.9999796152114868, 0.9999865293502808, 0.9999571442604065, 0.9999790787696838, 0.9951447248458862, 0.004845607094466686, 0.9999498128890991, 0.16190482676029205, 0.0008591964724473655, 0.0024097776040434837, 0.8348301649093628, 0.0004436486342456192, 0.9995538592338562, 0.9999400973320007, 0.5636940598487854, 0.43628907203674316, 0.002535800449550152, 0.9974390268325806, 0.9999954700469971, 0.3290135860443115, 0.14517992734909058, 0.5258054137229919, 0.999913215637207, 0.9999701380729675, 0.9999804496765137, 0.9999815821647644, 0.9999935030937195, 0.9999902844429016, 0.999983549118042, 0.28671425580978394, 0.05114487186074257, 0.6621420979499817, 0.8835345506668091, 0.11646035313606262, 0.6991055607795715, 0.23580986261367798, 0.06506683677434921, 0.9894151091575623, 0.010584786534309387, 0.03490160405635834, 0.9650969505310059, 0.9955506324768066, 0.004436931107193232, 0.9999642372131348, 0.9999904632568359, 0.9999667406082153, 0.9999839067459106, 0.9999442100524902, 0.9999412298202515, 0.9982784390449524, 0.9979608654975891, 0.9999281167984009, 0.9999763369560242, 0.999976396560669, 0.9978497624397278, 0.0383300743997097, 0.4419064223766327, 0.5197722911834717, 0.8190500736236572, 0.18085560202598572, 0.00010370160453021526, 0.9999944567680359, 0.012984911911189556, 0.987005352973938, 0.9999630451202393, 0.9999884963035583, 0.040112853050231934, 0.9598792791366577, 0.9998518228530884, 0.9999480247497559, 0.999902606010437, 0.7647261023521423, 0.23525318503379822, 0.9958074688911438, 0.0041920640505850315, 0.31820395588874817, 0.6817526817321777], \"Term\": [\"access\", \"accommodate\", \"affordable\", \"affordable\", \"air\", \"airbnb\", \"airbnb\", \"also\", \"also\", \"also\", \"amazing\", \"amazing\", \"amenity\", \"answer\", \"apartament\", \"apartment\", \"apartment\", \"apartment\", \"appartement\", \"appartment\", \"area\", \"area\", \"arrival\", \"attentive\", \"available\", \"available\", \"available\", \"away\", \"awesome\", \"back\", \"bad\", \"bar\", \"bathroom\", \"beat\", \"beat\", \"bed\", \"bed\", \"bedroom\", \"best\", \"bit\", \"block\", \"book\", \"bring\", \"bus\", \"cancel\", \"care\", \"carlo\", \"central\", \"check\", \"check\", \"city\", \"city\", \"clean\", \"clean\", \"clean\", \"close\", \"come\", \"come\", \"comfortable\", \"comfortable\", \"comfortable\", \"comfy\", \"comfy\", \"communicate\", \"communicating\", \"communication\", \"communicative\", \"confortable\", \"convenient\", \"convenient\", \"conveniently\", \"convinient\", \"cool\", \"cool\", \"cool\", \"corner\", \"cosy\", \"cosy\", \"cozy\", \"cozy\", \"cozy\", \"crash\", \"crash\", \"cute\", \"day\", \"day\", \"decorate\", \"def\", \"definately\", \"definetly\", \"definitely\", \"definitely\", \"definitely\", \"describe\", \"detail\", \"detail\", \"distance\", \"door\", \"early\", \"easily\", \"easily\", \"easy\", \"easy\", \"easygoe\", \"eat\", \"enjoy\", \"enjoy\", \"enjoy\", \"equip\", \"even\", \"even\", \"ever\", \"exactly\", \"excelent\", \"excellent\", \"expectation\", \"experience\", \"explore\", \"extremely\", \"family\", \"family\", \"fantastic\", \"fast\", \"fast\", \"fast\", \"feel\", \"find\", \"find\", \"find\", \"fine\", \"flexible\", \"flight\", \"floor\", \"food\", \"food\", \"friend\", \"friendly\", \"friendly\", \"friendly\", \"friendly\", \"future\", \"gem\", \"get\", \"get\", \"get\", \"give\", \"give\", \"go\", \"go\", \"go\", \"good\", \"good\", \"good\", \"gorgeous\", \"great\", \"greet\", \"grocery\", \"guest\", \"guest\", \"happy\", \"hear\", \"heather\", \"help\", \"helpful\", \"helpful\", \"helpfull\", \"highly\", \"home\", \"hope\", \"hospitality\", \"host\", \"host\", \"host\", \"hot\", \"however\", \"incredible\", \"issue\", \"key\", \"kind\", \"kind\", \"kitchen\", \"late\", \"layover\", \"leave\", \"leave\", \"line\", \"little\", \"little\", \"live\", \"live\", \"live\", \"local\", \"locate\", \"locate\", \"location\", \"look\", \"look\", \"look\", \"look\", \"look\", \"lot\", \"lot\", \"love\", \"love\", \"love\", \"loved\", \"lovely\", \"lovely\", \"lovely\", \"make\", \"many\", \"many\", \"minute\", \"modern\", \"much\", \"much\", \"nearby\", \"need\", \"need\", \"need\", \"need\", \"neighborhood\", \"next\", \"next\", \"next\", \"nice\", \"nice\", \"nicely\", \"night\", \"night\", \"noise\", \"open\", \"overall\", \"overall\", \"park\", \"pay\", \"people\", \"people\", \"people\", \"people\", \"perfect\", \"perfect\", \"perfect\", \"perfect\", \"perfectly\", \"pic\", \"place\", \"price\", \"price\", \"private\", \"private\", \"private\", \"problem\", \"process\", \"public\", \"question\", \"quick\", \"quickly\", \"quiet\", \"quiet\", \"really\", \"really\", \"reccomend\", \"recomend\", \"recomende\", \"recommend\", \"recommend\", \"reservation\", \"respond\", \"response\", \"responsive\", \"restaurant\", \"right\", \"right\", \"right\", \"rooftop\", \"rooftop\", \"room\", \"room\", \"safe\", \"share\", \"share\", \"shop\", \"short\", \"shower\", \"sleep\", \"small\", \"small\", \"soon\", \"space\", \"space\", \"space\", \"space\", \"spacious\", \"spacious\", \"sparkle\", \"spot\", \"spot\", \"star\", \"star\", \"station\", \"stay\", \"stay\", \"stay\", \"staying\", \"stop\", \"store\", \"stylish\", \"subway\", \"super\", \"sure\", \"take\", \"take\", \"take\", \"thank\", \"thank\", \"thing\", \"thing\", \"thing\", \"thoughtful\", \"thoughtful\", \"time\", \"time\", \"touch\", \"touch\", \"towel\", \"train\", \"transportation\", \"trip\", \"truly\", \"tv\", \"ubication\", \"uncomplicated\", \"unit\", \"use\", \"value\", \"victor\", \"view\", \"view\", \"view\", \"visit\", \"visit\", \"visit\", \"walk\", \"warm\", \"warm\", \"water\", \"welcome\", \"well\", \"well\", \"willing\", \"window\", \"wish\", \"wonderful\", \"wonderful\", \"work\", \"work\", \"worth\", \"worth\"]}, \"R\": 30, \"lambda.step\": 0.01, \"plot.opts\": {\"xlab\": \"PC1\", \"ylab\": \"PC2\"}, \"topic.order\": [3, 2, 5, 1, 4]};\n",
       "\n",
       "function LDAvis_load_lib(url, callback){\n",
       "  var s = document.createElement('script');\n",
       "  s.src = url;\n",
       "  s.async = true;\n",
       "  s.onreadystatechange = s.onload = callback;\n",
       "  s.onerror = function(){console.warn(\"failed to load library \" + url);};\n",
       "  document.getElementsByTagName(\"head\")[0].appendChild(s);\n",
       "}\n",
       "\n",
       "if(typeof(LDAvis) !== \"undefined\"){\n",
       "   // already loaded: just create the visualization\n",
       "   !function(LDAvis){\n",
       "       new LDAvis(\"#\" + \"ldavis_el840441179838216401667643853\", ldavis_el840441179838216401667643853_data);\n",
       "   }(LDAvis);\n",
       "}else if(typeof define === \"function\" && define.amd){\n",
       "   // require.js is available: use it to load d3/LDAvis\n",
       "   require.config({paths: {d3: \"https://cdnjs.cloudflare.com/ajax/libs/d3/3.5.5/d3.min\"}});\n",
       "   require([\"d3\"], function(d3){\n",
       "      window.d3 = d3;\n",
       "      LDAvis_load_lib(\"https://cdn.rawgit.com/bmabey/pyLDAvis/files/ldavis.v1.0.0.js\", function(){\n",
       "        new LDAvis(\"#\" + \"ldavis_el840441179838216401667643853\", ldavis_el840441179838216401667643853_data);\n",
       "      });\n",
       "    });\n",
       "}else{\n",
       "    // require.js not available: dynamically load d3 & LDAvis\n",
       "    LDAvis_load_lib(\"https://cdnjs.cloudflare.com/ajax/libs/d3/3.5.5/d3.min.js\", function(){\n",
       "         LDAvis_load_lib(\"https://cdn.rawgit.com/bmabey/pyLDAvis/files/ldavis.v1.0.0.js\", function(){\n",
       "                 new LDAvis(\"#\" + \"ldavis_el840441179838216401667643853\", ldavis_el840441179838216401667643853_data);\n",
       "            })\n",
       "         });\n",
       "}\n",
       "</script>"
      ],
      "text/plain": [
       "<IPython.core.display.HTML object>"
      ]
     },
     "execution_count": 102,
     "metadata": {},
     "output_type": "execute_result"
    }
   ],
   "source": [
    "# Visualize the topics\n",
    "pyLDAvis.enable_notebook(sort=True)\n",
    "vis = pyLDAvis.gensim.prepare(lda_model, corpus, idtoword)\n",
    "pyLDAvis.display(vis)"
   ]
  },
  {
   "cell_type": "code",
   "execution_count": 161,
   "metadata": {},
   "outputs": [],
   "source": [
    "pyLDAvis.save_html(vis, 'December_lda.html')"
   ]
  },
  {
   "cell_type": "markdown",
   "metadata": {},
   "source": [
    "### TOPICS ARE\n",
    "    0:Aparment Amenities\n",
    "    1:Host Experience\n",
    "    2:Location\n",
    "    3:Host Communication\n",
    "    4:Overall Experience"
   ]
  },
  {
   "cell_type": "code",
   "execution_count": 103,
   "metadata": {
    "colab": {},
    "colab_type": "code",
    "id": "fSsk4bWA3Obg"
   },
   "outputs": [
    {
     "name": "stdout",
     "output_type": "stream",
     "text": [
      "\n",
      "Perplexity:  -6.533763486670208\n"
     ]
    }
   ],
   "source": [
    "# Compute Perplexity\n",
    "print('\\nPerplexity: ', lda_model.log_perplexity(corpus))\n"
   ]
  },
  {
   "cell_type": "code",
   "execution_count": 104,
   "metadata": {
    "scrolled": false
   },
   "outputs": [
    {
     "name": "stderr",
     "output_type": "stream",
     "text": [
      "/Users/ikhyvicky/anaconda3/lib/python3.7/site-packages/scipy/sparse/lil.py:504: FutureWarning: future versions will not create a writeable array from broadcast_array. Set the writable flag explicitly to avoid this warning.\n",
      "  if not i.flags.writeable or i.dtype not in (np.int32, np.int64):\n",
      "/Users/ikhyvicky/anaconda3/lib/python3.7/site-packages/scipy/sparse/lil.py:506: FutureWarning: future versions will not create a writeable array from broadcast_array. Set the writable flag explicitly to avoid this warning.\n",
      "  if not j.flags.writeable or j.dtype not in (np.int32, np.int64):\n",
      "/Users/ikhyvicky/anaconda3/lib/python3.7/site-packages/scipy/sparse/lil.py:320: DeprecationWarning: Numpy has detected that you (may be) writing to an array with\n",
      "overlapping memory from np.broadcast_arrays. If this is intentional\n",
      "set the WRITEABLE flag True or make a copy immediately before writing.\n",
      "  i, j, x)\n",
      "/Users/ikhyvicky/anaconda3/lib/python3.7/site-packages/scipy/sparse/lil.py:320: DeprecationWarning: Numpy has detected that you (may be) writing to an array with\n",
      "overlapping memory from np.broadcast_arrays. If this is intentional\n",
      "set the WRITEABLE flag True or make a copy immediately before writing.\n",
      "  i, j, x)\n",
      "/Users/ikhyvicky/anaconda3/lib/python3.7/site-packages/scipy/sparse/lil.py:320: DeprecationWarning: Numpy has detected that you (may be) writing to an array with\n",
      "overlapping memory from np.broadcast_arrays. If this is intentional\n",
      "set the WRITEABLE flag True or make a copy immediately before writing.\n",
      "  i, j, x)\n",
      "/Users/ikhyvicky/anaconda3/lib/python3.7/site-packages/scipy/sparse/lil.py:320: DeprecationWarning: Numpy has detected that you (may be) writing to an array with\n",
      "overlapping memory from np.broadcast_arrays. If this is intentional\n",
      "set the WRITEABLE flag True or make a copy immediately before writing.\n",
      "  i, j, x)\n",
      "/Users/ikhyvicky/anaconda3/lib/python3.7/site-packages/scipy/sparse/lil.py:320: DeprecationWarning: Numpy has detected that you (may be) writing to an array with\n",
      "overlapping memory from np.broadcast_arrays. If this is intentional\n",
      "set the WRITEABLE flag True or make a copy immediately before writing.\n",
      "  i, j, x)\n",
      "/Users/ikhyvicky/anaconda3/lib/python3.7/site-packages/scipy/sparse/lil.py:320: DeprecationWarning: Numpy has detected that you (may be) writing to an array with\n",
      "overlapping memory from np.broadcast_arrays. If this is intentional\n",
      "set the WRITEABLE flag True or make a copy immediately before writing.\n",
      "  i, j, x)\n",
      "/Users/ikhyvicky/anaconda3/lib/python3.7/site-packages/scipy/sparse/lil.py:320: DeprecationWarning: Numpy has detected that you (may be) writing to an array with\n",
      "overlapping memory from np.broadcast_arrays. If this is intentional\n",
      "set the WRITEABLE flag True or make a copy immediately before writing.\n",
      "  i, j, x)\n",
      "/Users/ikhyvicky/anaconda3/lib/python3.7/site-packages/scipy/sparse/lil.py:320: DeprecationWarning: Numpy has detected that you (may be) writing to an array with\n",
      "overlapping memory from np.broadcast_arrays. If this is intentional\n",
      "set the WRITEABLE flag True or make a copy immediately before writing.\n",
      "  i, j, x)\n",
      "/Users/ikhyvicky/anaconda3/lib/python3.7/site-packages/scipy/sparse/lil.py:320: DeprecationWarning: Numpy has detected that you (may be) writing to an array with\n",
      "overlapping memory from np.broadcast_arrays. If this is intentional\n",
      "set the WRITEABLE flag True or make a copy immediately before writing.\n",
      "  i, j, x)\n",
      "/Users/ikhyvicky/anaconda3/lib/python3.7/site-packages/scipy/sparse/lil.py:320: DeprecationWarning: Numpy has detected that you (may be) writing to an array with\n",
      "overlapping memory from np.broadcast_arrays. If this is intentional\n",
      "set the WRITEABLE flag True or make a copy immediately before writing.\n",
      "  i, j, x)\n",
      "/Users/ikhyvicky/anaconda3/lib/python3.7/site-packages/scipy/sparse/lil.py:320: DeprecationWarning: Numpy has detected that you (may be) writing to an array with\n",
      "overlapping memory from np.broadcast_arrays. If this is intentional\n",
      "set the WRITEABLE flag True or make a copy immediately before writing.\n",
      "  i, j, x)\n",
      "/Users/ikhyvicky/anaconda3/lib/python3.7/site-packages/scipy/sparse/lil.py:320: DeprecationWarning: Numpy has detected that you (may be) writing to an array with\n",
      "overlapping memory from np.broadcast_arrays. If this is intentional\n",
      "set the WRITEABLE flag True or make a copy immediately before writing.\n",
      "  i, j, x)\n",
      "/Users/ikhyvicky/anaconda3/lib/python3.7/site-packages/scipy/sparse/lil.py:320: DeprecationWarning: Numpy has detected that you (may be) writing to an array with\n",
      "overlapping memory from np.broadcast_arrays. If this is intentional\n",
      "set the WRITEABLE flag True or make a copy immediately before writing.\n",
      "  i, j, x)\n",
      "/Users/ikhyvicky/anaconda3/lib/python3.7/site-packages/scipy/sparse/lil.py:320: DeprecationWarning: Numpy has detected that you (may be) writing to an array with\n",
      "overlapping memory from np.broadcast_arrays. If this is intentional\n",
      "set the WRITEABLE flag True or make a copy immediately before writing.\n",
      "  i, j, x)\n",
      "/Users/ikhyvicky/anaconda3/lib/python3.7/site-packages/scipy/sparse/lil.py:320: DeprecationWarning: Numpy has detected that you (may be) writing to an array with\n",
      "overlapping memory from np.broadcast_arrays. If this is intentional\n",
      "set the WRITEABLE flag True or make a copy immediately before writing.\n",
      "  i, j, x)\n",
      "/Users/ikhyvicky/anaconda3/lib/python3.7/site-packages/scipy/sparse/lil.py:320: DeprecationWarning: Numpy has detected that you (may be) writing to an array with\n",
      "overlapping memory from np.broadcast_arrays. If this is intentional\n",
      "set the WRITEABLE flag True or make a copy immediately before writing.\n",
      "  i, j, x)\n",
      "/Users/ikhyvicky/anaconda3/lib/python3.7/site-packages/scipy/sparse/lil.py:320: DeprecationWarning: Numpy has detected that you (may be) writing to an array with\n",
      "overlapping memory from np.broadcast_arrays. If this is intentional\n",
      "set the WRITEABLE flag True or make a copy immediately before writing.\n",
      "  i, j, x)\n",
      "/Users/ikhyvicky/anaconda3/lib/python3.7/site-packages/scipy/sparse/lil.py:320: DeprecationWarning: Numpy has detected that you (may be) writing to an array with\n",
      "overlapping memory from np.broadcast_arrays. If this is intentional\n",
      "set the WRITEABLE flag True or make a copy immediately before writing.\n",
      "  i, j, x)\n",
      "/Users/ikhyvicky/anaconda3/lib/python3.7/site-packages/scipy/sparse/lil.py:320: DeprecationWarning: Numpy has detected that you (may be) writing to an array with\n",
      "overlapping memory from np.broadcast_arrays. If this is intentional\n",
      "set the WRITEABLE flag True or make a copy immediately before writing.\n",
      "  i, j, x)\n",
      "/Users/ikhyvicky/anaconda3/lib/python3.7/site-packages/scipy/sparse/lil.py:320: DeprecationWarning: Numpy has detected that you (may be) writing to an array with\n",
      "overlapping memory from np.broadcast_arrays. If this is intentional\n",
      "set the WRITEABLE flag True or make a copy immediately before writing.\n",
      "  i, j, x)\n",
      "/Users/ikhyvicky/anaconda3/lib/python3.7/site-packages/scipy/sparse/lil.py:320: DeprecationWarning: Numpy has detected that you (may be) writing to an array with\n",
      "overlapping memory from np.broadcast_arrays. If this is intentional\n",
      "set the WRITEABLE flag True or make a copy immediately before writing.\n",
      "  i, j, x)\n",
      "/Users/ikhyvicky/anaconda3/lib/python3.7/site-packages/scipy/sparse/lil.py:320: DeprecationWarning: Numpy has detected that you (may be) writing to an array with\n",
      "overlapping memory from np.broadcast_arrays. If this is intentional\n",
      "set the WRITEABLE flag True or make a copy immediately before writing.\n",
      "  i, j, x)\n",
      "/Users/ikhyvicky/anaconda3/lib/python3.7/site-packages/scipy/sparse/lil.py:320: DeprecationWarning: Numpy has detected that you (may be) writing to an array with\n",
      "overlapping memory from np.broadcast_arrays. If this is intentional\n",
      "set the WRITEABLE flag True or make a copy immediately before writing.\n",
      "  i, j, x)\n",
      "/Users/ikhyvicky/anaconda3/lib/python3.7/site-packages/scipy/sparse/lil.py:320: DeprecationWarning: Numpy has detected that you (may be) writing to an array with\n",
      "overlapping memory from np.broadcast_arrays. If this is intentional\n",
      "set the WRITEABLE flag True or make a copy immediately before writing.\n",
      "  i, j, x)\n",
      "/Users/ikhyvicky/anaconda3/lib/python3.7/site-packages/scipy/sparse/lil.py:320: DeprecationWarning: Numpy has detected that you (may be) writing to an array with\n",
      "overlapping memory from np.broadcast_arrays. If this is intentional\n",
      "set the WRITEABLE flag True or make a copy immediately before writing.\n",
      "  i, j, x)\n",
      "/Users/ikhyvicky/anaconda3/lib/python3.7/site-packages/scipy/sparse/lil.py:320: DeprecationWarning: Numpy has detected that you (may be) writing to an array with\n",
      "overlapping memory from np.broadcast_arrays. If this is intentional\n",
      "set the WRITEABLE flag True or make a copy immediately before writing.\n",
      "  i, j, x)\n",
      "/Users/ikhyvicky/anaconda3/lib/python3.7/site-packages/scipy/sparse/lil.py:320: DeprecationWarning: Numpy has detected that you (may be) writing to an array with\n",
      "overlapping memory from np.broadcast_arrays. If this is intentional\n",
      "set the WRITEABLE flag True or make a copy immediately before writing.\n",
      "  i, j, x)\n",
      "/Users/ikhyvicky/anaconda3/lib/python3.7/site-packages/scipy/sparse/lil.py:320: DeprecationWarning: Numpy has detected that you (may be) writing to an array with\n",
      "overlapping memory from np.broadcast_arrays. If this is intentional\n",
      "set the WRITEABLE flag True or make a copy immediately before writing.\n",
      "  i, j, x)\n",
      "/Users/ikhyvicky/anaconda3/lib/python3.7/site-packages/scipy/sparse/lil.py:320: DeprecationWarning: Numpy has detected that you (may be) writing to an array with\n",
      "overlapping memory from np.broadcast_arrays. If this is intentional\n",
      "set the WRITEABLE flag True or make a copy immediately before writing.\n",
      "  i, j, x)\n",
      "/Users/ikhyvicky/anaconda3/lib/python3.7/site-packages/scipy/sparse/lil.py:320: DeprecationWarning: Numpy has detected that you (may be) writing to an array with\n",
      "overlapping memory from np.broadcast_arrays. If this is intentional\n",
      "set the WRITEABLE flag True or make a copy immediately before writing.\n",
      "  i, j, x)\n"
     ]
    },
    {
     "name": "stdout",
     "output_type": "stream",
     "text": [
      "\n",
      "Coherence Score:  0.6041837351012622\n"
     ]
    }
   ],
   "source": [
    "# Compute Coherence Score\n",
    "coherence_model_lda = CoherenceModel(model=lda_model, texts=data_lemmatized, dictionary=idtoword, coherence='c_v')\n",
    "coherence_lda = coherence_model_lda.get_coherence()\n",
    "print('\\nCoherence Score: ', coherence_lda)"
   ]
  },
  {
   "cell_type": "code",
   "execution_count": 108,
   "metadata": {},
   "outputs": [],
   "source": [
    "def format_topics_sentences(ldamodel=lda_model, corpus=corpus, texts=data):\n",
    "    # Init output\n",
    "    sent_topics_df = pd.DataFrame()\n",
    "\n",
    "    # Get main topic in each document\n",
    "    for i, row in enumerate(ldamodel[corpus]):\n",
    "        row = sorted(row, key=lambda x: (x[1]), reverse=True)\n",
    "        # Get the Dominant topic, Perc Contribution and Keywords for each document\n",
    "        for j, (topic_num, prop_topic) in enumerate(row):\n",
    "            if j == 0:  # => dominant topic\n",
    "                wp = ldamodel.show_topic(topic_num)\n",
    "                topic_keywords = \", \".join([word for word, prop in wp])\n",
    "                sent_topics_df = sent_topics_df.append(pd.Series([int(topic_num), round(prop_topic,4), topic_keywords]), ignore_index=True)\n",
    "            else:\n",
    "                break\n",
    "    sent_topics_df.columns = ['Dominant_Topic', 'Perc_Contribution', 'Topic_Keywords']\n",
    "\n",
    "    # Add original text to the end of the output\n",
    "    contents = pd.Series(texts)\n",
    "    sent_topics_df = pd.concat([sent_topics_df, contents], axis=1)\n",
    "    return(sent_topics_df)"
   ]
  },
  {
   "cell_type": "code",
   "execution_count": 109,
   "metadata": {},
   "outputs": [],
   "source": [
    "df_topic_sents_keywords = format_topics_sentences(ldamodel=lda_model, corpus=corpus, texts=data)"
   ]
  },
  {
   "cell_type": "code",
   "execution_count": 110,
   "metadata": {},
   "outputs": [],
   "source": [
    "df_dominant_topic = df_topic_sents_keywords.reset_index()\n",
    "df_dominant_topic.columns = ['Document_No', 'Dominant_Topic', 'Topic_Perc_Contrib', 'Keywords', 'Text']"
   ]
  },
  {
   "cell_type": "code",
   "execution_count": 111,
   "metadata": {},
   "outputs": [
    {
     "data": {
      "text/plain": [
       "(1254646, 5)"
      ]
     },
     "execution_count": 111,
     "metadata": {},
     "output_type": "execute_result"
    }
   ],
   "source": [
    "df_dominant_topic.shape"
   ]
  },
  {
   "cell_type": "code",
   "execution_count": 112,
   "metadata": {
    "scrolled": true
   },
   "outputs": [
    {
     "data": {
      "text/html": [
       "<div>\n",
       "<style scoped>\n",
       "    .dataframe tbody tr th:only-of-type {\n",
       "        vertical-align: middle;\n",
       "    }\n",
       "\n",
       "    .dataframe tbody tr th {\n",
       "        vertical-align: top;\n",
       "    }\n",
       "\n",
       "    .dataframe thead th {\n",
       "        text-align: right;\n",
       "    }\n",
       "</style>\n",
       "<table border=\"1\" class=\"dataframe\">\n",
       "  <thead>\n",
       "    <tr style=\"text-align: right;\">\n",
       "      <th></th>\n",
       "      <th>Document_No</th>\n",
       "      <th>Dominant_Topic</th>\n",
       "      <th>Topic_Perc_Contrib</th>\n",
       "      <th>Keywords</th>\n",
       "      <th>Text</th>\n",
       "    </tr>\n",
       "  </thead>\n",
       "  <tbody>\n",
       "    <tr>\n",
       "      <th>0</th>\n",
       "      <td>0</td>\n",
       "      <td>2.0</td>\n",
       "      <td>0.4564</td>\n",
       "      <td>room, night, bathroom, bed, small, bedroom, ki...</td>\n",
       "      <td>Our stay of three nights.\\nWe appreciate The a...</td>\n",
       "    </tr>\n",
       "    <tr>\n",
       "      <th>1</th>\n",
       "      <td>1</td>\n",
       "      <td>3.0</td>\n",
       "      <td>0.2857</td>\n",
       "      <td>place, great, stay, location, nice, good, host...</td>\n",
       "      <td>Great experience.</td>\n",
       "    </tr>\n",
       "    <tr>\n",
       "      <th>2</th>\n",
       "      <td>2</td>\n",
       "      <td>3.0</td>\n",
       "      <td>0.3274</td>\n",
       "      <td>place, great, stay, location, nice, good, host...</td>\n",
       "      <td>I've stayed with my friend at the Midtown Cast...</td>\n",
       "    </tr>\n",
       "    <tr>\n",
       "      <th>3</th>\n",
       "      <td>3</td>\n",
       "      <td>3.0</td>\n",
       "      <td>0.3450</td>\n",
       "      <td>place, great, stay, location, nice, good, host...</td>\n",
       "      <td>We've been staying here for about 9 nights, en...</td>\n",
       "    </tr>\n",
       "    <tr>\n",
       "      <th>4</th>\n",
       "      <td>4</td>\n",
       "      <td>0.0</td>\n",
       "      <td>0.4837</td>\n",
       "      <td>apartment, clean, recommend, comfortable, well...</td>\n",
       "      <td>We had a wonderful stay at Jennifer's charming...</td>\n",
       "    </tr>\n",
       "    <tr>\n",
       "      <th>5</th>\n",
       "      <td>5</td>\n",
       "      <td>0.0</td>\n",
       "      <td>0.2470</td>\n",
       "      <td>apartment, clean, recommend, comfortable, well...</td>\n",
       "      <td>Hi to everyone!\\nWould say our greatest compli...</td>\n",
       "    </tr>\n",
       "    <tr>\n",
       "      <th>6</th>\n",
       "      <td>6</td>\n",
       "      <td>3.0</td>\n",
       "      <td>0.3273</td>\n",
       "      <td>place, great, stay, location, nice, good, host...</td>\n",
       "      <td>Jennifer was very friendly and helpful, and he...</td>\n",
       "    </tr>\n",
       "    <tr>\n",
       "      <th>7</th>\n",
       "      <td>7</td>\n",
       "      <td>2.0</td>\n",
       "      <td>0.5383</td>\n",
       "      <td>room, night, bathroom, bed, small, bedroom, ki...</td>\n",
       "      <td>This apartment is like a real castle old and u...</td>\n",
       "    </tr>\n",
       "    <tr>\n",
       "      <th>8</th>\n",
       "      <td>8</td>\n",
       "      <td>1.0</td>\n",
       "      <td>0.2633</td>\n",
       "      <td>stay, time, host, make, feel, thank, home, day...</td>\n",
       "      <td>Jennifer's place was in a great midtown locati...</td>\n",
       "    </tr>\n",
       "    <tr>\n",
       "      <th>9</th>\n",
       "      <td>9</td>\n",
       "      <td>0.0</td>\n",
       "      <td>0.3455</td>\n",
       "      <td>apartment, clean, recommend, comfortable, well...</td>\n",
       "      <td>Jennifer is a very nice host. Everything is cl...</td>\n",
       "    </tr>\n",
       "  </tbody>\n",
       "</table>\n",
       "</div>"
      ],
      "text/plain": [
       "   Document_No  Dominant_Topic  Topic_Perc_Contrib  \\\n",
       "0            0             2.0              0.4564   \n",
       "1            1             3.0              0.2857   \n",
       "2            2             3.0              0.3274   \n",
       "3            3             3.0              0.3450   \n",
       "4            4             0.0              0.4837   \n",
       "5            5             0.0              0.2470   \n",
       "6            6             3.0              0.3273   \n",
       "7            7             2.0              0.5383   \n",
       "8            8             1.0              0.2633   \n",
       "9            9             0.0              0.3455   \n",
       "\n",
       "                                            Keywords  \\\n",
       "0  room, night, bathroom, bed, small, bedroom, ki...   \n",
       "1  place, great, stay, location, nice, good, host...   \n",
       "2  place, great, stay, location, nice, good, host...   \n",
       "3  place, great, stay, location, nice, good, host...   \n",
       "4  apartment, clean, recommend, comfortable, well...   \n",
       "5  apartment, clean, recommend, comfortable, well...   \n",
       "6  place, great, stay, location, nice, good, host...   \n",
       "7  room, night, bathroom, bed, small, bedroom, ki...   \n",
       "8  stay, time, host, make, feel, thank, home, day...   \n",
       "9  apartment, clean, recommend, comfortable, well...   \n",
       "\n",
       "                                                Text  \n",
       "0  Our stay of three nights.\\nWe appreciate The a...  \n",
       "1                                  Great experience.  \n",
       "2  I've stayed with my friend at the Midtown Cast...  \n",
       "3  We've been staying here for about 9 nights, en...  \n",
       "4  We had a wonderful stay at Jennifer's charming...  \n",
       "5  Hi to everyone!\\nWould say our greatest compli...  \n",
       "6  Jennifer was very friendly and helpful, and he...  \n",
       "7  This apartment is like a real castle old and u...  \n",
       "8  Jennifer's place was in a great midtown locati...  \n",
       "9  Jennifer is a very nice host. Everything is cl...  "
      ]
     },
     "execution_count": 112,
     "metadata": {},
     "output_type": "execute_result"
    }
   ],
   "source": [
    "df_dominant_topic.head(10)"
   ]
  },
  {
   "cell_type": "code",
   "execution_count": 113,
   "metadata": {},
   "outputs": [],
   "source": [
    "from nltk.sentiment.vader import SentimentIntensityAnalyzer"
   ]
  },
  {
   "cell_type": "code",
   "execution_count": 114,
   "metadata": {},
   "outputs": [],
   "source": [
    "sia = SentimentIntensityAnalyzer()"
   ]
  },
  {
   "cell_type": "code",
   "execution_count": 115,
   "metadata": {},
   "outputs": [],
   "source": [
    "example=df_dominant_topic.loc[:10,:]"
   ]
  },
  {
   "cell_type": "code",
   "execution_count": 116,
   "metadata": {},
   "outputs": [
    {
     "data": {
      "text/plain": [
       "(11, 5)"
      ]
     },
     "execution_count": 116,
     "metadata": {},
     "output_type": "execute_result"
    }
   ],
   "source": [
    "example.shape"
   ]
  },
  {
   "cell_type": "code",
   "execution_count": 117,
   "metadata": {
    "scrolled": true
   },
   "outputs": [
    {
     "name": "stdout",
     "output_type": "stream",
     "text": [
      "Our stay of three nights.\n",
      "We appreciate The apartment is great. Nice, clean and well groomed. This is ideal for a family of 3 or 4 people.\n",
      "Glitches arriving there was no one to receive us, and missing the shower soap, dishwashing liquid, we have received two days later. There is also the sound of the Metro NY, so the first night difficult if not used. Jennifer is the correct refund was very fast. Apart from these small details our short stay went well.\n",
      "If I have the opportunity to return to NY for the holidays, I will return to \"The Midtown Castle\"\n",
      "Jeans\n",
      "Possession - Reunion Island\n",
      "\n",
      "0.9545\n",
      "\n",
      "\n",
      "Great experience.\n",
      "0.6249\n",
      "\n",
      "\n",
      "I've stayed with my friend at the Midtown Castle for six days and it was a lovely place to be. A big spacious room with a pointy roof, which really makes you feel like staying in a castle. The location is perfect. It is just a few steps from Macy's Time Square and Theatre District. Everything worked just perfect with the keys etc. Thank you so much Jennifer, we had a great time in New York.\n",
      "Attention: it's on the 4th floor without a lift :-) but definetely worth it!\n",
      "0.9248\n",
      "\n",
      "\n",
      "We've been staying here for about 9 nights, enjoying to be in the center of the city, that never sleeps...short ways to everywhere in Manhattan, by subway or by walk. Midtown castle is a beauftiful and tastful place, Jennifer and Tori relaxed and friendly hosts - thats why we - the three Berliners - recommand that place! Good to have WiFi and a little kitchen too!\n",
      "0.9229\n",
      "\n",
      "\n",
      "We had a wonderful stay at Jennifer's charming apartment! They were very organized and helpful; I would definitely recommend staying at the Midtown Castle!\n",
      "0.9464\n",
      "\n",
      "\n",
      "Hi to everyone!\n",
      "Would say our greatest compliments to Jennifer, the host of Midtown Castle. We spent in this lovely apartment in the heart of Manhattan one month (April, 2012) and will remember this time as ours best.\n",
      "The apartment is pretty spacious and great located - the 5-th Ave right around the corner. There is everything you can need during your short or long stay. Jennifer is very friendly, vigorous and very responsible host. Thanks her and highly recomend this apartment for everyone who are looking for a quiet place right in the center of the boiling Midtown!\n",
      "0.9869\n",
      "\n",
      "\n",
      "Jennifer was very friendly and helpful, and her place is exactly as advertised. The location is very convenient, and it was a pleasure to stay at the Midtown Castle. I definitely recommend it :)\n",
      "\n",
      "Thanks !\n",
      "0.9668\n",
      "\n",
      "\n",
      "This apartment is like a real castle old and unique. The age- related stains on the bathroom floor and dark discolorations in the carpet too indeed indicate that the building was built a long, long time ago. \n",
      "We weren’t happy with the way the apartment was cleaned. Jennifer, the host sent in a cleaning lady right the next morning and therefore did everything she thought was appropriate to make our stay comfortable. She let us know that guest satisfaction is important to her.   \n",
      "After we found out that the key for the main entrance was missing by locking ourselves out in the middle of the night she was so kind to bring us the missing key within an hour. \n",
      "We had to leave the apartment a few days earlier because we suffered from an allergic reaction (which has never happened before and never after) related to the air conditioner as our doctor told us. \n",
      "The apartment is located in a great area! Subway stations are just two minutes away! The area seems quite safe although there are “special” adult video stores located in the same street nearby.  \n",
      "A deli/grocery store is next to the building, a 24 hours open pharmacy is across the end of the street! \n",
      "\n",
      "0.9567\n",
      "\n",
      "\n",
      "Jennifer's place was in a great midtown location, close to the subway, Bryant Park and Times Square.  She met us after midnight to give us keys to the place, which we appreciated.\n",
      "\n",
      "The apartment is spacious for two people; a deli next door is perfect for last minute toiletries.\n",
      "\n",
      "Thanks for allowing us to stay!\n",
      "0.9359\n",
      "\n",
      "\n",
      "Jennifer is a very nice host. Everything is clean and she really takes care of her guests. We can only recommend her apartment to others.\n",
      "0.895\n",
      "\n",
      "\n",
      "This is a cute studio in a wonderful location with some quirky and interesting traits including a giant translucent skylight (makes the neatest noise when rain falls on it, sounds like clapping!), warm couch, and trinkets that are fun (hoola hoops, juggling pins? sure, why not!?). \n",
      "\n",
      "Great place, great location!\n",
      "0.9842\n",
      "\n",
      "\n"
     ]
    }
   ],
   "source": [
    "for sentence in example.Text:\n",
    "    # Assess sentiment.\n",
    "    sentiment = sia.polarity_scores(sentence)[\"compound\"]\n",
    "    print(sentence)\n",
    "    print(sentiment)\n",
    "    print('\\n')"
   ]
  },
  {
   "cell_type": "code",
   "execution_count": 118,
   "metadata": {},
   "outputs": [],
   "source": [
    "sentiment_scores=[]\n",
    "for sentence in df_dominant_topic.Text:\n",
    "    sentiment = sia.polarity_scores(sentence)[\"compound\"]\n",
    "    sentiment_scores.append(sentiment)\n",
    "    "
   ]
  },
  {
   "cell_type": "code",
   "execution_count": 119,
   "metadata": {},
   "outputs": [],
   "source": [
    "df_dominant_topic['sentiment_score'] = pd.Series(sentiment_scores, index=df_dominant_topic.index)"
   ]
  },
  {
   "cell_type": "code",
   "execution_count": 120,
   "metadata": {},
   "outputs": [
    {
     "data": {
      "text/plain": [
       "(1254646, 6)"
      ]
     },
     "execution_count": 120,
     "metadata": {},
     "output_type": "execute_result"
    }
   ],
   "source": [
    "df_dominant_topic.shape"
   ]
  },
  {
   "cell_type": "code",
   "execution_count": 121,
   "metadata": {},
   "outputs": [
    {
     "data": {
      "text/html": [
       "<div>\n",
       "<style scoped>\n",
       "    .dataframe tbody tr th:only-of-type {\n",
       "        vertical-align: middle;\n",
       "    }\n",
       "\n",
       "    .dataframe tbody tr th {\n",
       "        vertical-align: top;\n",
       "    }\n",
       "\n",
       "    .dataframe thead th {\n",
       "        text-align: right;\n",
       "    }\n",
       "</style>\n",
       "<table border=\"1\" class=\"dataframe\">\n",
       "  <thead>\n",
       "    <tr style=\"text-align: right;\">\n",
       "      <th></th>\n",
       "      <th>Document_No</th>\n",
       "      <th>Dominant_Topic</th>\n",
       "      <th>Topic_Perc_Contrib</th>\n",
       "      <th>Keywords</th>\n",
       "      <th>Text</th>\n",
       "      <th>sentiment_score</th>\n",
       "    </tr>\n",
       "  </thead>\n",
       "  <tbody>\n",
       "    <tr>\n",
       "      <th>0</th>\n",
       "      <td>0</td>\n",
       "      <td>2.0</td>\n",
       "      <td>0.4564</td>\n",
       "      <td>room, night, bathroom, bed, small, bedroom, ki...</td>\n",
       "      <td>Our stay of three nights.\\nWe appreciate The a...</td>\n",
       "      <td>0.9545</td>\n",
       "    </tr>\n",
       "    <tr>\n",
       "      <th>1</th>\n",
       "      <td>1</td>\n",
       "      <td>3.0</td>\n",
       "      <td>0.2857</td>\n",
       "      <td>place, great, stay, location, nice, good, host...</td>\n",
       "      <td>Great experience.</td>\n",
       "      <td>0.6249</td>\n",
       "    </tr>\n",
       "    <tr>\n",
       "      <th>2</th>\n",
       "      <td>2</td>\n",
       "      <td>3.0</td>\n",
       "      <td>0.3274</td>\n",
       "      <td>place, great, stay, location, nice, good, host...</td>\n",
       "      <td>I've stayed with my friend at the Midtown Cast...</td>\n",
       "      <td>0.9248</td>\n",
       "    </tr>\n",
       "    <tr>\n",
       "      <th>3</th>\n",
       "      <td>3</td>\n",
       "      <td>3.0</td>\n",
       "      <td>0.3450</td>\n",
       "      <td>place, great, stay, location, nice, good, host...</td>\n",
       "      <td>We've been staying here for about 9 nights, en...</td>\n",
       "      <td>0.9229</td>\n",
       "    </tr>\n",
       "    <tr>\n",
       "      <th>4</th>\n",
       "      <td>4</td>\n",
       "      <td>0.0</td>\n",
       "      <td>0.4837</td>\n",
       "      <td>apartment, clean, recommend, comfortable, well...</td>\n",
       "      <td>We had a wonderful stay at Jennifer's charming...</td>\n",
       "      <td>0.9464</td>\n",
       "    </tr>\n",
       "  </tbody>\n",
       "</table>\n",
       "</div>"
      ],
      "text/plain": [
       "   Document_No  Dominant_Topic  Topic_Perc_Contrib  \\\n",
       "0            0             2.0              0.4564   \n",
       "1            1             3.0              0.2857   \n",
       "2            2             3.0              0.3274   \n",
       "3            3             3.0              0.3450   \n",
       "4            4             0.0              0.4837   \n",
       "\n",
       "                                            Keywords  \\\n",
       "0  room, night, bathroom, bed, small, bedroom, ki...   \n",
       "1  place, great, stay, location, nice, good, host...   \n",
       "2  place, great, stay, location, nice, good, host...   \n",
       "3  place, great, stay, location, nice, good, host...   \n",
       "4  apartment, clean, recommend, comfortable, well...   \n",
       "\n",
       "                                                Text  sentiment_score  \n",
       "0  Our stay of three nights.\\nWe appreciate The a...           0.9545  \n",
       "1                                  Great experience.           0.6249  \n",
       "2  I've stayed with my friend at the Midtown Cast...           0.9248  \n",
       "3  We've been staying here for about 9 nights, en...           0.9229  \n",
       "4  We had a wonderful stay at Jennifer's charming...           0.9464  "
      ]
     },
     "execution_count": 121,
     "metadata": {},
     "output_type": "execute_result"
    }
   ],
   "source": [
    "df_dominant_topic.head()"
   ]
  },
  {
   "cell_type": "code",
   "execution_count": 122,
   "metadata": {},
   "outputs": [],
   "source": [
    "#to get a sense of what negative comments will look like\n",
    "negative_sentiments=df_dominant_topic[df_dominant_topic['sentiment_score']<0]"
   ]
  },
  {
   "cell_type": "code",
   "execution_count": 123,
   "metadata": {},
   "outputs": [],
   "source": [
    "negative_sentiments.reset_index(drop=True,inplace=True)"
   ]
  },
  {
   "cell_type": "code",
   "execution_count": 124,
   "metadata": {},
   "outputs": [
    {
     "data": {
      "text/plain": [
       "(21795, 6)"
      ]
     },
     "execution_count": 124,
     "metadata": {},
     "output_type": "execute_result"
    }
   ],
   "source": [
    "negative_sentiments.shape"
   ]
  },
  {
   "cell_type": "code",
   "execution_count": 125,
   "metadata": {},
   "outputs": [
    {
     "data": {
      "text/html": [
       "<div>\n",
       "<style scoped>\n",
       "    .dataframe tbody tr th:only-of-type {\n",
       "        vertical-align: middle;\n",
       "    }\n",
       "\n",
       "    .dataframe tbody tr th {\n",
       "        vertical-align: top;\n",
       "    }\n",
       "\n",
       "    .dataframe thead th {\n",
       "        text-align: right;\n",
       "    }\n",
       "</style>\n",
       "<table border=\"1\" class=\"dataframe\">\n",
       "  <thead>\n",
       "    <tr style=\"text-align: right;\">\n",
       "      <th></th>\n",
       "      <th>Document_No</th>\n",
       "      <th>Dominant_Topic</th>\n",
       "      <th>Topic_Perc_Contrib</th>\n",
       "      <th>Keywords</th>\n",
       "      <th>Text</th>\n",
       "      <th>sentiment_score</th>\n",
       "    </tr>\n",
       "  </thead>\n",
       "  <tbody>\n",
       "    <tr>\n",
       "      <th>6313</th>\n",
       "      <td>446162</td>\n",
       "      <td>2.0</td>\n",
       "      <td>0.6093</td>\n",
       "      <td>room, night, bathroom, bed, small, bedroom, ki...</td>\n",
       "      <td>I’ve used Airbnb close to 30 times and this by...</td>\n",
       "      <td>-0.9980</td>\n",
       "    </tr>\n",
       "    <tr>\n",
       "      <th>20415</th>\n",
       "      <td>1207614</td>\n",
       "      <td>2.0</td>\n",
       "      <td>0.6894</td>\n",
       "      <td>room, night, bathroom, bed, small, bedroom, ki...</td>\n",
       "      <td>I had the worse experience with AIRBNB for the...</td>\n",
       "      <td>-0.9973</td>\n",
       "    </tr>\n",
       "    <tr>\n",
       "      <th>7760</th>\n",
       "      <td>535392</td>\n",
       "      <td>2.0</td>\n",
       "      <td>0.5869</td>\n",
       "      <td>room, night, bathroom, bed, small, bedroom, ki...</td>\n",
       "      <td>READ BEFORE BOOKING!!!!!!!!!!!!!!!!!!!!!!!!!!!...</td>\n",
       "      <td>-0.9969</td>\n",
       "    </tr>\n",
       "    <tr>\n",
       "      <th>9808</th>\n",
       "      <td>646203</td>\n",
       "      <td>2.0</td>\n",
       "      <td>0.6407</td>\n",
       "      <td>room, night, bathroom, bed, small, bedroom, ki...</td>\n",
       "      <td>The worst mistake of our trip to NY // THE WOR...</td>\n",
       "      <td>-0.9967</td>\n",
       "    </tr>\n",
       "    <tr>\n",
       "      <th>26</th>\n",
       "      <td>753</td>\n",
       "      <td>2.0</td>\n",
       "      <td>0.6911</td>\n",
       "      <td>room, night, bathroom, bed, small, bedroom, ki...</td>\n",
       "      <td>The host was present in the department every n...</td>\n",
       "      <td>-0.9966</td>\n",
       "    </tr>\n",
       "    <tr>\n",
       "      <th>2476</th>\n",
       "      <td>186753</td>\n",
       "      <td>2.0</td>\n",
       "      <td>0.7800</td>\n",
       "      <td>room, night, bathroom, bed, small, bedroom, ki...</td>\n",
       "      <td>I stayed here for a month and commuted to Linc...</td>\n",
       "      <td>-0.9966</td>\n",
       "    </tr>\n",
       "    <tr>\n",
       "      <th>3699</th>\n",
       "      <td>270451</td>\n",
       "      <td>2.0</td>\n",
       "      <td>0.7805</td>\n",
       "      <td>room, night, bathroom, bed, small, bedroom, ki...</td>\n",
       "      <td>OUR WORST EXPERIENCE WITH AIRBNB The apartment...</td>\n",
       "      <td>-0.9964</td>\n",
       "    </tr>\n",
       "    <tr>\n",
       "      <th>4920</th>\n",
       "      <td>350802</td>\n",
       "      <td>2.0</td>\n",
       "      <td>0.6418</td>\n",
       "      <td>room, night, bathroom, bed, small, bedroom, ki...</td>\n",
       "      <td>Thanksgiving family vacation gone bad. Jin was...</td>\n",
       "      <td>-0.9964</td>\n",
       "    </tr>\n",
       "    <tr>\n",
       "      <th>2579</th>\n",
       "      <td>195597</td>\n",
       "      <td>2.0</td>\n",
       "      <td>0.6861</td>\n",
       "      <td>room, night, bathroom, bed, small, bedroom, ki...</td>\n",
       "      <td>Shame there are listings such as this on Airbn...</td>\n",
       "      <td>-0.9963</td>\n",
       "    </tr>\n",
       "    <tr>\n",
       "      <th>4522</th>\n",
       "      <td>328225</td>\n",
       "      <td>2.0</td>\n",
       "      <td>0.6934</td>\n",
       "      <td>room, night, bathroom, bed, small, bedroom, ki...</td>\n",
       "      <td>We stayed for three months at Williams and Ana...</td>\n",
       "      <td>-0.9963</td>\n",
       "    </tr>\n",
       "    <tr>\n",
       "      <th>9990</th>\n",
       "      <td>656501</td>\n",
       "      <td>2.0</td>\n",
       "      <td>0.6891</td>\n",
       "      <td>room, night, bathroom, bed, small, bedroom, ki...</td>\n",
       "      <td>DO NOT GO TO THIS PLACE.\\nWe are not super pic...</td>\n",
       "      <td>-0.9963</td>\n",
       "    </tr>\n",
       "    <tr>\n",
       "      <th>14769</th>\n",
       "      <td>983432</td>\n",
       "      <td>2.0</td>\n",
       "      <td>0.7293</td>\n",
       "      <td>room, night, bathroom, bed, small, bedroom, ki...</td>\n",
       "      <td>An overall awful nightmarish and inconvenient ...</td>\n",
       "      <td>-0.9960</td>\n",
       "    </tr>\n",
       "    <tr>\n",
       "      <th>3181</th>\n",
       "      <td>236415</td>\n",
       "      <td>2.0</td>\n",
       "      <td>0.6942</td>\n",
       "      <td>room, night, bathroom, bed, small, bedroom, ki...</td>\n",
       "      <td>this was so bad it made me cry.\\ni am a disabl...</td>\n",
       "      <td>-0.9958</td>\n",
       "    </tr>\n",
       "    <tr>\n",
       "      <th>18604</th>\n",
       "      <td>1143183</td>\n",
       "      <td>2.0</td>\n",
       "      <td>0.6960</td>\n",
       "      <td>room, night, bathroom, bed, small, bedroom, ki...</td>\n",
       "      <td>There was a snow storm earlier in the week and...</td>\n",
       "      <td>-0.9957</td>\n",
       "    </tr>\n",
       "    <tr>\n",
       "      <th>21531</th>\n",
       "      <td>1245715</td>\n",
       "      <td>2.0</td>\n",
       "      <td>0.6953</td>\n",
       "      <td>room, night, bathroom, bed, small, bedroom, ki...</td>\n",
       "      <td>This place is a scam it looks nothing like the...</td>\n",
       "      <td>-0.9954</td>\n",
       "    </tr>\n",
       "    <tr>\n",
       "      <th>20016</th>\n",
       "      <td>1194215</td>\n",
       "      <td>2.0</td>\n",
       "      <td>0.6689</td>\n",
       "      <td>room, night, bathroom, bed, small, bedroom, ki...</td>\n",
       "      <td>It was a really bad experience for my journey....</td>\n",
       "      <td>-0.9953</td>\n",
       "    </tr>\n",
       "    <tr>\n",
       "      <th>14525</th>\n",
       "      <td>970934</td>\n",
       "      <td>2.0</td>\n",
       "      <td>0.8065</td>\n",
       "      <td>room, night, bathroom, bed, small, bedroom, ki...</td>\n",
       "      <td>The first night in the house we thought we saw...</td>\n",
       "      <td>-0.9952</td>\n",
       "    </tr>\n",
       "    <tr>\n",
       "      <th>13751</th>\n",
       "      <td>889990</td>\n",
       "      <td>2.0</td>\n",
       "      <td>0.7019</td>\n",
       "      <td>room, night, bathroom, bed, small, bedroom, ki...</td>\n",
       "      <td>I deeply advise to check on other places befor...</td>\n",
       "      <td>-0.9951</td>\n",
       "    </tr>\n",
       "    <tr>\n",
       "      <th>2083</th>\n",
       "      <td>158731</td>\n",
       "      <td>2.0</td>\n",
       "      <td>0.7515</td>\n",
       "      <td>room, night, bathroom, bed, small, bedroom, ki...</td>\n",
       "      <td>This appartment,. not only din't reacht our ex...</td>\n",
       "      <td>-0.9951</td>\n",
       "    </tr>\n",
       "    <tr>\n",
       "      <th>19367</th>\n",
       "      <td>1173354</td>\n",
       "      <td>2.0</td>\n",
       "      <td>0.7693</td>\n",
       "      <td>room, night, bathroom, bed, small, bedroom, ki...</td>\n",
       "      <td>It really bothers me to have to write a negati...</td>\n",
       "      <td>-0.9948</td>\n",
       "    </tr>\n",
       "  </tbody>\n",
       "</table>\n",
       "</div>"
      ],
      "text/plain": [
       "       Document_No  Dominant_Topic  Topic_Perc_Contrib  \\\n",
       "6313        446162             2.0              0.6093   \n",
       "20415      1207614             2.0              0.6894   \n",
       "7760        535392             2.0              0.5869   \n",
       "9808        646203             2.0              0.6407   \n",
       "26             753             2.0              0.6911   \n",
       "2476        186753             2.0              0.7800   \n",
       "3699        270451             2.0              0.7805   \n",
       "4920        350802             2.0              0.6418   \n",
       "2579        195597             2.0              0.6861   \n",
       "4522        328225             2.0              0.6934   \n",
       "9990        656501             2.0              0.6891   \n",
       "14769       983432             2.0              0.7293   \n",
       "3181        236415             2.0              0.6942   \n",
       "18604      1143183             2.0              0.6960   \n",
       "21531      1245715             2.0              0.6953   \n",
       "20016      1194215             2.0              0.6689   \n",
       "14525       970934             2.0              0.8065   \n",
       "13751       889990             2.0              0.7019   \n",
       "2083        158731             2.0              0.7515   \n",
       "19367      1173354             2.0              0.7693   \n",
       "\n",
       "                                                Keywords  \\\n",
       "6313   room, night, bathroom, bed, small, bedroom, ki...   \n",
       "20415  room, night, bathroom, bed, small, bedroom, ki...   \n",
       "7760   room, night, bathroom, bed, small, bedroom, ki...   \n",
       "9808   room, night, bathroom, bed, small, bedroom, ki...   \n",
       "26     room, night, bathroom, bed, small, bedroom, ki...   \n",
       "2476   room, night, bathroom, bed, small, bedroom, ki...   \n",
       "3699   room, night, bathroom, bed, small, bedroom, ki...   \n",
       "4920   room, night, bathroom, bed, small, bedroom, ki...   \n",
       "2579   room, night, bathroom, bed, small, bedroom, ki...   \n",
       "4522   room, night, bathroom, bed, small, bedroom, ki...   \n",
       "9990   room, night, bathroom, bed, small, bedroom, ki...   \n",
       "14769  room, night, bathroom, bed, small, bedroom, ki...   \n",
       "3181   room, night, bathroom, bed, small, bedroom, ki...   \n",
       "18604  room, night, bathroom, bed, small, bedroom, ki...   \n",
       "21531  room, night, bathroom, bed, small, bedroom, ki...   \n",
       "20016  room, night, bathroom, bed, small, bedroom, ki...   \n",
       "14525  room, night, bathroom, bed, small, bedroom, ki...   \n",
       "13751  room, night, bathroom, bed, small, bedroom, ki...   \n",
       "2083   room, night, bathroom, bed, small, bedroom, ki...   \n",
       "19367  room, night, bathroom, bed, small, bedroom, ki...   \n",
       "\n",
       "                                                    Text  sentiment_score  \n",
       "6313   I’ve used Airbnb close to 30 times and this by...          -0.9980  \n",
       "20415  I had the worse experience with AIRBNB for the...          -0.9973  \n",
       "7760   READ BEFORE BOOKING!!!!!!!!!!!!!!!!!!!!!!!!!!!...          -0.9969  \n",
       "9808   The worst mistake of our trip to NY // THE WOR...          -0.9967  \n",
       "26     The host was present in the department every n...          -0.9966  \n",
       "2476   I stayed here for a month and commuted to Linc...          -0.9966  \n",
       "3699   OUR WORST EXPERIENCE WITH AIRBNB The apartment...          -0.9964  \n",
       "4920   Thanksgiving family vacation gone bad. Jin was...          -0.9964  \n",
       "2579   Shame there are listings such as this on Airbn...          -0.9963  \n",
       "4522   We stayed for three months at Williams and Ana...          -0.9963  \n",
       "9990   DO NOT GO TO THIS PLACE.\\nWe are not super pic...          -0.9963  \n",
       "14769  An overall awful nightmarish and inconvenient ...          -0.9960  \n",
       "3181   this was so bad it made me cry.\\ni am a disabl...          -0.9958  \n",
       "18604  There was a snow storm earlier in the week and...          -0.9957  \n",
       "21531  This place is a scam it looks nothing like the...          -0.9954  \n",
       "20016  It was a really bad experience for my journey....          -0.9953  \n",
       "14525  The first night in the house we thought we saw...          -0.9952  \n",
       "13751  I deeply advise to check on other places befor...          -0.9951  \n",
       "2083   This appartment,. not only din't reacht our ex...          -0.9951  \n",
       "19367  It really bothers me to have to write a negati...          -0.9948  "
      ]
     },
     "execution_count": 125,
     "metadata": {},
     "output_type": "execute_result"
    }
   ],
   "source": [
    "negative_sentiments.sort_values('sentiment_score').head(20)"
   ]
  },
  {
   "cell_type": "code",
   "execution_count": 129,
   "metadata": {},
   "outputs": [
    {
     "data": {
      "text/plain": [
       "'READ BEFORE BOOKING!!!!!!!!!!!!!!!!!!!!!!!!!!!\\n\\nHello, I am so livid, and dont know who else can help me get some justice. These people need to be called out in a major way!!!! \\n\\n I was a resident of 702 44th St, BK, the site of the huge 6 alarm fire in Sunset Park on Wed April 4. My family and I are safe, but we lost everything. I have a 5 month old baby, and we evacuated the building with nothing but the clothes on our backs. \\n\\nI had my first day back from Maternity Leave on April 4, the day of the fire, and my mother is visiting to help with childcare, we booked this for her. After evacuating, my mother, newborn and I raced barefoot back to the AirBnB, while my husband stayed in the park with our 12 year old dog, Tilly. Tilly had a procedure at the vet Tues night and is currently wearing a cone, and on pain med.\\nUpon frantically arriving to the AirBnB, we greeted our host, who was watching news coverage of the fire. We explained that it was my building and now my family, including my my baby and injured dog had nowhere to go. I told her my dog was potty trained, very old and quite, and she stated \"Of Course. Anything you need. I am so sorry this is happening.\"\\n\\nThe following day, Thursday, my mom, baby and I were taking the dog on a walk when our host, Haydee, came out of our unit. She immediately yelled, \"What is a dog doing here?\" I reminded her of the fire and her saying its was ok. She said this conversation never took place and we all needed to leave immediately. I pleaded with her that my family, had no where to go, no transportation, and none of our belongings. She stated \"This is not my problems. People have allergies and we cannot have a dog here.\" \\n\\nI obviously became very upset, starting to have a panic attack. Our hosts daughter, Annette, then called me and said she was on the phone with AirBnB telling them we were breaking their rules and that we had to leave immediately. \\n\\nNever in my life have I been treated so cruel. This fire is, by far, the most traumatic thing that has ever happened to me or my young family. My son is only 5 months old! My dog is old and sick!  Everything we have is gone, and this woman literally kicked us out on the street. \\n\\nNot sure how you can use this story, but I feel like it needs to be told. Just righting a review about this does not seem to suffice the trauma it caused me. \\n\\nCant imagine anyone doing business with such cruel people.'"
      ]
     },
     "execution_count": 129,
     "metadata": {},
     "output_type": "execute_result"
    }
   ],
   "source": [
    "negative_sentiments.Text.iloc[7760]"
   ]
  },
  {
   "cell_type": "code",
   "execution_count": 127,
   "metadata": {},
   "outputs": [
    {
     "data": {
      "text/plain": [
       "5"
      ]
     },
     "execution_count": 127,
     "metadata": {},
     "output_type": "execute_result"
    }
   ],
   "source": [
    "negative_sentiments.Dominant_Topic.nunique() #this just means people  can talk negative things for each topic"
   ]
  },
  {
   "cell_type": "code",
   "execution_count": 130,
   "metadata": {
    "scrolled": true
   },
   "outputs": [
    {
     "data": {
      "text/html": [
       "<div>\n",
       "<style scoped>\n",
       "    .dataframe tbody tr th:only-of-type {\n",
       "        vertical-align: middle;\n",
       "    }\n",
       "\n",
       "    .dataframe tbody tr th {\n",
       "        vertical-align: top;\n",
       "    }\n",
       "\n",
       "    .dataframe thead th {\n",
       "        text-align: right;\n",
       "    }\n",
       "</style>\n",
       "<table border=\"1\" class=\"dataframe\">\n",
       "  <thead>\n",
       "    <tr style=\"text-align: right;\">\n",
       "      <th></th>\n",
       "      <th>index</th>\n",
       "      <th>listing_id</th>\n",
       "      <th>id</th>\n",
       "      <th>date</th>\n",
       "      <th>reviewer_id</th>\n",
       "      <th>reviewer_name</th>\n",
       "      <th>comments</th>\n",
       "      <th>translated</th>\n",
       "    </tr>\n",
       "  </thead>\n",
       "  <tbody>\n",
       "    <tr>\n",
       "      <th>0</th>\n",
       "      <td>0</td>\n",
       "      <td>2595</td>\n",
       "      <td>17857</td>\n",
       "      <td>2009-11-21</td>\n",
       "      <td>50679</td>\n",
       "      <td>Jean</td>\n",
       "      <td>Notre séjour de trois nuits.\\r\\nNous avons app...</td>\n",
       "      <td>Our stay of three nights.\\nWe appreciate The a...</td>\n",
       "    </tr>\n",
       "    <tr>\n",
       "      <th>1</th>\n",
       "      <td>1</td>\n",
       "      <td>2595</td>\n",
       "      <td>19176</td>\n",
       "      <td>2009-12-05</td>\n",
       "      <td>53267</td>\n",
       "      <td>Cate</td>\n",
       "      <td>Great experience.</td>\n",
       "      <td>Great experience.</td>\n",
       "    </tr>\n",
       "    <tr>\n",
       "      <th>2</th>\n",
       "      <td>2</td>\n",
       "      <td>2595</td>\n",
       "      <td>19760</td>\n",
       "      <td>2009-12-10</td>\n",
       "      <td>38960</td>\n",
       "      <td>Anita</td>\n",
       "      <td>I've stayed with my friend at the Midtown Cast...</td>\n",
       "      <td>I've stayed with my friend at the Midtown Cast...</td>\n",
       "    </tr>\n",
       "    <tr>\n",
       "      <th>3</th>\n",
       "      <td>3</td>\n",
       "      <td>2595</td>\n",
       "      <td>34320</td>\n",
       "      <td>2010-04-09</td>\n",
       "      <td>71130</td>\n",
       "      <td>Kai-Uwe</td>\n",
       "      <td>We've been staying here for about 9 nights, en...</td>\n",
       "      <td>We've been staying here for about 9 nights, en...</td>\n",
       "    </tr>\n",
       "    <tr>\n",
       "      <th>4</th>\n",
       "      <td>4</td>\n",
       "      <td>2595</td>\n",
       "      <td>46312</td>\n",
       "      <td>2010-05-25</td>\n",
       "      <td>117113</td>\n",
       "      <td>Alicia</td>\n",
       "      <td>We had a wonderful stay at Jennifer's charming...</td>\n",
       "      <td>We had a wonderful stay at Jennifer's charming...</td>\n",
       "    </tr>\n",
       "  </tbody>\n",
       "</table>\n",
       "</div>"
      ],
      "text/plain": [
       "   index  listing_id     id        date  reviewer_id reviewer_name  \\\n",
       "0      0        2595  17857  2009-11-21        50679          Jean   \n",
       "1      1        2595  19176  2009-12-05        53267          Cate   \n",
       "2      2        2595  19760  2009-12-10        38960         Anita   \n",
       "3      3        2595  34320  2010-04-09        71130       Kai-Uwe   \n",
       "4      4        2595  46312  2010-05-25       117113        Alicia   \n",
       "\n",
       "                                            comments  \\\n",
       "0  Notre séjour de trois nuits.\\r\\nNous avons app...   \n",
       "1                                  Great experience.   \n",
       "2  I've stayed with my friend at the Midtown Cast...   \n",
       "3  We've been staying here for about 9 nights, en...   \n",
       "4  We had a wonderful stay at Jennifer's charming...   \n",
       "\n",
       "                                          translated  \n",
       "0  Our stay of three nights.\\nWe appreciate The a...  \n",
       "1                                  Great experience.  \n",
       "2  I've stayed with my friend at the Midtown Cast...  \n",
       "3  We've been staying here for about 9 nights, en...  \n",
       "4  We had a wonderful stay at Jennifer's charming...  "
      ]
     },
     "execution_count": 130,
     "metadata": {},
     "output_type": "execute_result"
    }
   ],
   "source": [
    "#putting them back together\n",
    "final_df.head()"
   ]
  },
  {
   "cell_type": "code",
   "execution_count": 131,
   "metadata": {},
   "outputs": [
    {
     "data": {
      "text/plain": [
       "(1254646, 8)"
      ]
     },
     "execution_count": 131,
     "metadata": {},
     "output_type": "execute_result"
    }
   ],
   "source": [
    "final_df.shape"
   ]
  },
  {
   "cell_type": "code",
   "execution_count": 132,
   "metadata": {},
   "outputs": [
    {
     "data": {
      "text/plain": [
       "(1254646, 6)"
      ]
     },
     "execution_count": 132,
     "metadata": {},
     "output_type": "execute_result"
    }
   ],
   "source": [
    "df_dominant_topic.shape"
   ]
  },
  {
   "cell_type": "code",
   "execution_count": 133,
   "metadata": {},
   "outputs": [
    {
     "data": {
      "text/html": [
       "<div>\n",
       "<style scoped>\n",
       "    .dataframe tbody tr th:only-of-type {\n",
       "        vertical-align: middle;\n",
       "    }\n",
       "\n",
       "    .dataframe tbody tr th {\n",
       "        vertical-align: top;\n",
       "    }\n",
       "\n",
       "    .dataframe thead th {\n",
       "        text-align: right;\n",
       "    }\n",
       "</style>\n",
       "<table border=\"1\" class=\"dataframe\">\n",
       "  <thead>\n",
       "    <tr style=\"text-align: right;\">\n",
       "      <th></th>\n",
       "      <th>Document_No</th>\n",
       "      <th>Dominant_Topic</th>\n",
       "      <th>Topic_Perc_Contrib</th>\n",
       "      <th>Keywords</th>\n",
       "      <th>Text</th>\n",
       "      <th>sentiment_score</th>\n",
       "    </tr>\n",
       "  </thead>\n",
       "  <tbody>\n",
       "    <tr>\n",
       "      <th>0</th>\n",
       "      <td>0</td>\n",
       "      <td>2.0</td>\n",
       "      <td>0.4564</td>\n",
       "      <td>room, night, bathroom, bed, small, bedroom, ki...</td>\n",
       "      <td>Our stay of three nights.\\nWe appreciate The a...</td>\n",
       "      <td>0.9545</td>\n",
       "    </tr>\n",
       "    <tr>\n",
       "      <th>1</th>\n",
       "      <td>1</td>\n",
       "      <td>3.0</td>\n",
       "      <td>0.2857</td>\n",
       "      <td>place, great, stay, location, nice, good, host...</td>\n",
       "      <td>Great experience.</td>\n",
       "      <td>0.6249</td>\n",
       "    </tr>\n",
       "    <tr>\n",
       "      <th>2</th>\n",
       "      <td>2</td>\n",
       "      <td>3.0</td>\n",
       "      <td>0.3274</td>\n",
       "      <td>place, great, stay, location, nice, good, host...</td>\n",
       "      <td>I've stayed with my friend at the Midtown Cast...</td>\n",
       "      <td>0.9248</td>\n",
       "    </tr>\n",
       "    <tr>\n",
       "      <th>3</th>\n",
       "      <td>3</td>\n",
       "      <td>3.0</td>\n",
       "      <td>0.3450</td>\n",
       "      <td>place, great, stay, location, nice, good, host...</td>\n",
       "      <td>We've been staying here for about 9 nights, en...</td>\n",
       "      <td>0.9229</td>\n",
       "    </tr>\n",
       "    <tr>\n",
       "      <th>4</th>\n",
       "      <td>4</td>\n",
       "      <td>0.0</td>\n",
       "      <td>0.4837</td>\n",
       "      <td>apartment, clean, recommend, comfortable, well...</td>\n",
       "      <td>We had a wonderful stay at Jennifer's charming...</td>\n",
       "      <td>0.9464</td>\n",
       "    </tr>\n",
       "  </tbody>\n",
       "</table>\n",
       "</div>"
      ],
      "text/plain": [
       "   Document_No  Dominant_Topic  Topic_Perc_Contrib  \\\n",
       "0            0             2.0              0.4564   \n",
       "1            1             3.0              0.2857   \n",
       "2            2             3.0              0.3274   \n",
       "3            3             3.0              0.3450   \n",
       "4            4             0.0              0.4837   \n",
       "\n",
       "                                            Keywords  \\\n",
       "0  room, night, bathroom, bed, small, bedroom, ki...   \n",
       "1  place, great, stay, location, nice, good, host...   \n",
       "2  place, great, stay, location, nice, good, host...   \n",
       "3  place, great, stay, location, nice, good, host...   \n",
       "4  apartment, clean, recommend, comfortable, well...   \n",
       "\n",
       "                                                Text  sentiment_score  \n",
       "0  Our stay of three nights.\\nWe appreciate The a...           0.9545  \n",
       "1                                  Great experience.           0.6249  \n",
       "2  I've stayed with my friend at the Midtown Cast...           0.9248  \n",
       "3  We've been staying here for about 9 nights, en...           0.9229  \n",
       "4  We had a wonderful stay at Jennifer's charming...           0.9464  "
      ]
     },
     "execution_count": 133,
     "metadata": {},
     "output_type": "execute_result"
    }
   ],
   "source": [
    "df_dominant_topic.head()"
   ]
  },
  {
   "cell_type": "code",
   "execution_count": 134,
   "metadata": {},
   "outputs": [],
   "source": [
    "#drop original non-translated comments\n",
    "final_df.drop(columns=['comments'],axis=1,inplace=True)"
   ]
  },
  {
   "cell_type": "code",
   "execution_count": 135,
   "metadata": {},
   "outputs": [],
   "source": [
    "final_df.reset_index(inplace=True)"
   ]
  },
  {
   "cell_type": "code",
   "execution_count": 136,
   "metadata": {},
   "outputs": [],
   "source": [
    "df_dominant_topic.drop(columns=['Document_No','Text'],axis=1,inplace=True)"
   ]
  },
  {
   "cell_type": "code",
   "execution_count": 137,
   "metadata": {},
   "outputs": [],
   "source": [
    "#combine the two together \n",
    "frames=[final_df,df_dominant_topic]\n",
    "finaldf=pd.concat(frames,axis=1)"
   ]
  },
  {
   "cell_type": "code",
   "execution_count": 151,
   "metadata": {
    "scrolled": true
   },
   "outputs": [
    {
     "data": {
      "text/html": [
       "<div>\n",
       "<style scoped>\n",
       "    .dataframe tbody tr th:only-of-type {\n",
       "        vertical-align: middle;\n",
       "    }\n",
       "\n",
       "    .dataframe tbody tr th {\n",
       "        vertical-align: top;\n",
       "    }\n",
       "\n",
       "    .dataframe thead th {\n",
       "        text-align: right;\n",
       "    }\n",
       "</style>\n",
       "<table border=\"1\" class=\"dataframe\">\n",
       "  <thead>\n",
       "    <tr style=\"text-align: right;\">\n",
       "      <th></th>\n",
       "      <th>listing_id</th>\n",
       "      <th>id</th>\n",
       "      <th>date</th>\n",
       "      <th>reviewer_id</th>\n",
       "      <th>reviewer_name</th>\n",
       "      <th>translated</th>\n",
       "      <th>Dominant_Topic</th>\n",
       "      <th>Topic_Perc_Contrib</th>\n",
       "      <th>Keywords</th>\n",
       "      <th>sentiment_score</th>\n",
       "    </tr>\n",
       "  </thead>\n",
       "  <tbody>\n",
       "    <tr>\n",
       "      <th>0</th>\n",
       "      <td>2595</td>\n",
       "      <td>17857</td>\n",
       "      <td>2009-11-21</td>\n",
       "      <td>50679</td>\n",
       "      <td>Jean</td>\n",
       "      <td>Our stay of three nights.\\nWe appreciate The a...</td>\n",
       "      <td>2.0</td>\n",
       "      <td>0.4564</td>\n",
       "      <td>room, night, bathroom, bed, small, bedroom, ki...</td>\n",
       "      <td>0.9545</td>\n",
       "    </tr>\n",
       "    <tr>\n",
       "      <th>1</th>\n",
       "      <td>2595</td>\n",
       "      <td>19176</td>\n",
       "      <td>2009-12-05</td>\n",
       "      <td>53267</td>\n",
       "      <td>Cate</td>\n",
       "      <td>Great experience.</td>\n",
       "      <td>3.0</td>\n",
       "      <td>0.2857</td>\n",
       "      <td>place, great, stay, location, nice, good, host...</td>\n",
       "      <td>0.6249</td>\n",
       "    </tr>\n",
       "    <tr>\n",
       "      <th>2</th>\n",
       "      <td>2595</td>\n",
       "      <td>19760</td>\n",
       "      <td>2009-12-10</td>\n",
       "      <td>38960</td>\n",
       "      <td>Anita</td>\n",
       "      <td>I've stayed with my friend at the Midtown Cast...</td>\n",
       "      <td>3.0</td>\n",
       "      <td>0.3274</td>\n",
       "      <td>place, great, stay, location, nice, good, host...</td>\n",
       "      <td>0.9248</td>\n",
       "    </tr>\n",
       "    <tr>\n",
       "      <th>3</th>\n",
       "      <td>2595</td>\n",
       "      <td>34320</td>\n",
       "      <td>2010-04-09</td>\n",
       "      <td>71130</td>\n",
       "      <td>Kai-Uwe</td>\n",
       "      <td>We've been staying here for about 9 nights, en...</td>\n",
       "      <td>3.0</td>\n",
       "      <td>0.3450</td>\n",
       "      <td>place, great, stay, location, nice, good, host...</td>\n",
       "      <td>0.9229</td>\n",
       "    </tr>\n",
       "    <tr>\n",
       "      <th>4</th>\n",
       "      <td>2595</td>\n",
       "      <td>46312</td>\n",
       "      <td>2010-05-25</td>\n",
       "      <td>117113</td>\n",
       "      <td>Alicia</td>\n",
       "      <td>We had a wonderful stay at Jennifer's charming...</td>\n",
       "      <td>0.0</td>\n",
       "      <td>0.4837</td>\n",
       "      <td>apartment, clean, recommend, comfortable, well...</td>\n",
       "      <td>0.9464</td>\n",
       "    </tr>\n",
       "  </tbody>\n",
       "</table>\n",
       "</div>"
      ],
      "text/plain": [
       "   listing_id     id        date  reviewer_id reviewer_name  \\\n",
       "0        2595  17857  2009-11-21        50679          Jean   \n",
       "1        2595  19176  2009-12-05        53267          Cate   \n",
       "2        2595  19760  2009-12-10        38960         Anita   \n",
       "3        2595  34320  2010-04-09        71130       Kai-Uwe   \n",
       "4        2595  46312  2010-05-25       117113        Alicia   \n",
       "\n",
       "                                          translated  Dominant_Topic  \\\n",
       "0  Our stay of three nights.\\nWe appreciate The a...             2.0   \n",
       "1                                  Great experience.             3.0   \n",
       "2  I've stayed with my friend at the Midtown Cast...             3.0   \n",
       "3  We've been staying here for about 9 nights, en...             3.0   \n",
       "4  We had a wonderful stay at Jennifer's charming...             0.0   \n",
       "\n",
       "   Topic_Perc_Contrib                                           Keywords  \\\n",
       "0              0.4564  room, night, bathroom, bed, small, bedroom, ki...   \n",
       "1              0.2857  place, great, stay, location, nice, good, host...   \n",
       "2              0.3274  place, great, stay, location, nice, good, host...   \n",
       "3              0.3450  place, great, stay, location, nice, good, host...   \n",
       "4              0.4837  apartment, clean, recommend, comfortable, well...   \n",
       "\n",
       "   sentiment_score  \n",
       "0           0.9545  \n",
       "1           0.6249  \n",
       "2           0.9248  \n",
       "3           0.9229  \n",
       "4           0.9464  "
      ]
     },
     "execution_count": 151,
     "metadata": {},
     "output_type": "execute_result"
    }
   ],
   "source": [
    "finaldf.head()"
   ]
  },
  {
   "cell_type": "code",
   "execution_count": 141,
   "metadata": {},
   "outputs": [],
   "source": [
    "finaldf.drop(columns=['level_0','index'],inplace=True)"
   ]
  },
  {
   "cell_type": "code",
   "execution_count": 142,
   "metadata": {},
   "outputs": [
    {
     "data": {
      "text/plain": [
       "(1254646, 10)"
      ]
     },
     "execution_count": 142,
     "metadata": {},
     "output_type": "execute_result"
    }
   ],
   "source": [
    "finaldf.shape"
   ]
  },
  {
   "cell_type": "code",
   "execution_count": 143,
   "metadata": {},
   "outputs": [
    {
     "data": {
      "text/plain": [
       "listing_id            0\n",
       "id                    0\n",
       "date                  0\n",
       "reviewer_id           0\n",
       "reviewer_name         0\n",
       "translated            0\n",
       "Dominant_Topic        0\n",
       "Topic_Perc_Contrib    0\n",
       "Keywords              0\n",
       "sentiment_score       0\n",
       "dtype: int64"
      ]
     },
     "execution_count": 143,
     "metadata": {},
     "output_type": "execute_result"
    }
   ],
   "source": [
    "finaldf.isnull().sum()"
   ]
  },
  {
   "cell_type": "code",
   "execution_count": 144,
   "metadata": {},
   "outputs": [],
   "source": [
    "finaldf.to_csv('./final_december_df',index=False)"
   ]
  },
  {
   "cell_type": "code",
   "execution_count": 145,
   "metadata": {},
   "outputs": [],
   "source": [
    "#now the tedious part is to link listing id to negative sentiment scores\n",
    "final_negative_sentiments=finaldf[finaldf['sentiment_score']<0]"
   ]
  },
  {
   "cell_type": "code",
   "execution_count": 146,
   "metadata": {},
   "outputs": [
    {
     "data": {
      "text/plain": [
       "(21795, 10)"
      ]
     },
     "execution_count": 146,
     "metadata": {},
     "output_type": "execute_result"
    }
   ],
   "source": [
    "final_negative_sentiments.shape  #8996 comments with negative comments"
   ]
  },
  {
   "cell_type": "code",
   "execution_count": 147,
   "metadata": {},
   "outputs": [
    {
     "data": {
      "text/plain": [
       "10276"
      ]
     },
     "execution_count": 147,
     "metadata": {},
     "output_type": "execute_result"
    }
   ],
   "source": [
    "final_negative_sentiments.listing_id.nunique() #10276 unique listings out of 40372 listings are negatively commented  25% of the listings"
   ]
  },
  {
   "cell_type": "code",
   "execution_count": 158,
   "metadata": {},
   "outputs": [
    {
     "data": {
      "text/plain": [
       "40372"
      ]
     },
     "execution_count": 158,
     "metadata": {},
     "output_type": "execute_result"
    }
   ],
   "source": [
    "finaldf.listing_id.nunique() "
   ]
  },
  {
   "cell_type": "code",
   "execution_count": 159,
   "metadata": {},
   "outputs": [],
   "source": [
    "listings_sentiments=finaldf.groupby(['listing_id','Dominant_Topic']).agg({'id':'count', 'sentiment_score':'mean'})"
   ]
  },
  {
   "cell_type": "code",
   "execution_count": 160,
   "metadata": {},
   "outputs": [
    {
     "data": {
      "text/html": [
       "<div>\n",
       "<style scoped>\n",
       "    .dataframe tbody tr th:only-of-type {\n",
       "        vertical-align: middle;\n",
       "    }\n",
       "\n",
       "    .dataframe tbody tr th {\n",
       "        vertical-align: top;\n",
       "    }\n",
       "\n",
       "    .dataframe thead th {\n",
       "        text-align: right;\n",
       "    }\n",
       "</style>\n",
       "<table border=\"1\" class=\"dataframe\">\n",
       "  <thead>\n",
       "    <tr style=\"text-align: right;\">\n",
       "      <th></th>\n",
       "      <th></th>\n",
       "      <th>id</th>\n",
       "      <th>sentiment_score</th>\n",
       "    </tr>\n",
       "    <tr>\n",
       "      <th>listing_id</th>\n",
       "      <th>Dominant_Topic</th>\n",
       "      <th></th>\n",
       "      <th></th>\n",
       "    </tr>\n",
       "  </thead>\n",
       "  <tbody>\n",
       "    <tr>\n",
       "      <th rowspan=\"5\" valign=\"top\">2595</th>\n",
       "      <th>0.0</th>\n",
       "      <td>10</td>\n",
       "      <td>0.890350</td>\n",
       "    </tr>\n",
       "    <tr>\n",
       "      <th>1.0</th>\n",
       "      <td>8</td>\n",
       "      <td>0.959125</td>\n",
       "    </tr>\n",
       "    <tr>\n",
       "      <th>2.0</th>\n",
       "      <td>13</td>\n",
       "      <td>0.692154</td>\n",
       "    </tr>\n",
       "    <tr>\n",
       "      <th>3.0</th>\n",
       "      <td>14</td>\n",
       "      <td>0.814600</td>\n",
       "    </tr>\n",
       "    <tr>\n",
       "      <th>4.0</th>\n",
       "      <td>3</td>\n",
       "      <td>0.492500</td>\n",
       "    </tr>\n",
       "    <tr>\n",
       "      <th rowspan=\"5\" valign=\"top\">3831</th>\n",
       "      <th>0.0</th>\n",
       "      <td>44</td>\n",
       "      <td>0.835307</td>\n",
       "    </tr>\n",
       "    <tr>\n",
       "      <th>1.0</th>\n",
       "      <td>66</td>\n",
       "      <td>0.874947</td>\n",
       "    </tr>\n",
       "    <tr>\n",
       "      <th>2.0</th>\n",
       "      <td>86</td>\n",
       "      <td>0.719660</td>\n",
       "    </tr>\n",
       "    <tr>\n",
       "      <th>3.0</th>\n",
       "      <td>52</td>\n",
       "      <td>0.834142</td>\n",
       "    </tr>\n",
       "    <tr>\n",
       "      <th>4.0</th>\n",
       "      <td>47</td>\n",
       "      <td>0.866843</td>\n",
       "    </tr>\n",
       "    <tr>\n",
       "      <th rowspan=\"5\" valign=\"top\">5099</th>\n",
       "      <th>0.0</th>\n",
       "      <td>12</td>\n",
       "      <td>0.896542</td>\n",
       "    </tr>\n",
       "    <tr>\n",
       "      <th>1.0</th>\n",
       "      <td>26</td>\n",
       "      <td>0.688173</td>\n",
       "    </tr>\n",
       "    <tr>\n",
       "      <th>2.0</th>\n",
       "      <td>16</td>\n",
       "      <td>0.701206</td>\n",
       "    </tr>\n",
       "    <tr>\n",
       "      <th>3.0</th>\n",
       "      <td>7</td>\n",
       "      <td>0.926729</td>\n",
       "    </tr>\n",
       "    <tr>\n",
       "      <th>4.0</th>\n",
       "      <td>17</td>\n",
       "      <td>0.877735</td>\n",
       "    </tr>\n",
       "    <tr>\n",
       "      <th rowspan=\"5\" valign=\"top\">5121</th>\n",
       "      <th>0.0</th>\n",
       "      <td>2</td>\n",
       "      <td>0.838650</td>\n",
       "    </tr>\n",
       "    <tr>\n",
       "      <th>1.0</th>\n",
       "      <td>28</td>\n",
       "      <td>0.910007</td>\n",
       "    </tr>\n",
       "    <tr>\n",
       "      <th>2.0</th>\n",
       "      <td>4</td>\n",
       "      <td>0.655975</td>\n",
       "    </tr>\n",
       "    <tr>\n",
       "      <th>3.0</th>\n",
       "      <td>10</td>\n",
       "      <td>0.880850</td>\n",
       "    </tr>\n",
       "    <tr>\n",
       "      <th>4.0</th>\n",
       "      <td>5</td>\n",
       "      <td>0.952900</td>\n",
       "    </tr>\n",
       "  </tbody>\n",
       "</table>\n",
       "</div>"
      ],
      "text/plain": [
       "                           id  sentiment_score\n",
       "listing_id Dominant_Topic                     \n",
       "2595       0.0             10         0.890350\n",
       "           1.0              8         0.959125\n",
       "           2.0             13         0.692154\n",
       "           3.0             14         0.814600\n",
       "           4.0              3         0.492500\n",
       "3831       0.0             44         0.835307\n",
       "           1.0             66         0.874947\n",
       "           2.0             86         0.719660\n",
       "           3.0             52         0.834142\n",
       "           4.0             47         0.866843\n",
       "5099       0.0             12         0.896542\n",
       "           1.0             26         0.688173\n",
       "           2.0             16         0.701206\n",
       "           3.0              7         0.926729\n",
       "           4.0             17         0.877735\n",
       "5121       0.0              2         0.838650\n",
       "           1.0             28         0.910007\n",
       "           2.0              4         0.655975\n",
       "           3.0             10         0.880850\n",
       "           4.0              5         0.952900"
      ]
     },
     "execution_count": 160,
     "metadata": {},
     "output_type": "execute_result"
    }
   ],
   "source": [
    "listings_sentiments.head(20)"
   ]
  },
  {
   "cell_type": "code",
   "execution_count": 90,
   "metadata": {},
   "outputs": [],
   "source": [
    "listings_sentiments.to_csv('./listings_sentiments.csv')"
   ]
  },
  {
   "cell_type": "code",
   "execution_count": null,
   "metadata": {},
   "outputs": [],
   "source": []
  }
 ],
 "metadata": {
  "colab": {
   "authorship_tag": "ABX9TyO/mrQMX3V/5GQ7tvsCM8CW",
   "machine_shape": "hm",
   "name": "Classification.ipynb",
   "provenance": [],
   "toc_visible": true
  },
  "kernelspec": {
   "display_name": "Python 3",
   "language": "python",
   "name": "python3"
  },
  "language_info": {
   "codemirror_mode": {
    "name": "ipython",
    "version": 3
   },
   "file_extension": ".py",
   "mimetype": "text/x-python",
   "name": "python",
   "nbconvert_exporter": "python",
   "pygments_lexer": "ipython3",
   "version": "3.7.3"
  }
 },
 "nbformat": 4,
 "nbformat_minor": 1
}
