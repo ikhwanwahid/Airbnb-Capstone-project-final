{
 "cells": [
  {
   "cell_type": "code",
   "execution_count": 1,
   "metadata": {
    "colab": {},
    "colab_type": "code",
    "id": "8TjqY0RrDsin"
   },
   "outputs": [],
   "source": [
    "import pandas as pd\n",
    "import numpy as np\n",
    "import matplotlib.pyplot as plt\n",
    "import seaborn as sns\n",
    "from sklearn.cluster import KMeans\n",
    "import nltk\n",
    "import string\n",
    "import re\n",
    "from nltk.stem import WordNetLemmatizer\n",
    "from nltk.corpus import wordnet as wn\n",
    "from tqdm import tqdm"
   ]
  },
  {
   "cell_type": "code",
   "execution_count": 2,
   "metadata": {
    "colab": {},
    "colab_type": "code",
    "id": "cw4YLqDOD5yZ"
   },
   "outputs": [],
   "source": [
    "comments=pd.read_csv('./final.csv')"
   ]
  },
  {
   "cell_type": "code",
   "execution_count": 3,
   "metadata": {
    "colab": {
     "base_uri": "https://localhost:8080/",
     "height": 34
    },
    "colab_type": "code",
    "executionInfo": {
     "elapsed": 12219,
     "status": "ok",
     "timestamp": 1579097466419,
     "user": {
      "displayName": "ikhwan wahid",
      "photoUrl": "",
      "userId": "01550124214470849109"
     },
     "user_tz": -480
    },
    "id": "FsTIoVz8EDvA",
    "outputId": "050b8c7b-97eb-47cf-8925-260ace2d4998"
   },
   "outputs": [
    {
     "data": {
      "text/plain": [
       "(346959, 1)"
      ]
     },
     "execution_count": 3,
     "metadata": {},
     "output_type": "execute_result"
    }
   ],
   "source": [
    "comments.shape"
   ]
  },
  {
   "cell_type": "code",
   "execution_count": 4,
   "metadata": {
    "colab": {
     "base_uri": "https://localhost:8080/",
     "height": 134
    },
    "colab_type": "code",
    "executionInfo": {
     "elapsed": 12208,
     "status": "ok",
     "timestamp": 1579097466420,
     "user": {
      "displayName": "ikhwan wahid",
      "photoUrl": "",
      "userId": "01550124214470849109"
     },
     "user_tz": -480
    },
    "id": "JsZAgdE-RoGC",
    "outputId": "33fdd86a-c350-463e-b6e8-a0f322f0cd90"
   },
   "outputs": [
    {
     "data": {
      "text/plain": [
       "comments    0\n",
       "dtype: int64"
      ]
     },
     "execution_count": 4,
     "metadata": {},
     "output_type": "execute_result"
    }
   ],
   "source": [
    "comments.isnull().sum()"
   ]
  },
  {
   "cell_type": "code",
   "execution_count": 5,
   "metadata": {
    "colab": {
     "base_uri": "https://localhost:8080/",
     "height": 195
    },
    "colab_type": "code",
    "executionInfo": {
     "elapsed": 12196,
     "status": "ok",
     "timestamp": 1579097466421,
     "user": {
      "displayName": "ikhwan wahid",
      "photoUrl": "",
      "userId": "01550124214470849109"
     },
     "user_tz": -480
    },
    "id": "KwV4Wg5pEG8K",
    "outputId": "bae6898d-7541-46ff-9bb5-19723470132d"
   },
   "outputs": [
    {
     "data": {
      "text/html": [
       "<div>\n",
       "<style scoped>\n",
       "    .dataframe tbody tr th:only-of-type {\n",
       "        vertical-align: middle;\n",
       "    }\n",
       "\n",
       "    .dataframe tbody tr th {\n",
       "        vertical-align: top;\n",
       "    }\n",
       "\n",
       "    .dataframe thead th {\n",
       "        text-align: right;\n",
       "    }\n",
       "</style>\n",
       "<table border=\"1\" class=\"dataframe\">\n",
       "  <thead>\n",
       "    <tr style=\"text-align: right;\">\n",
       "      <th></th>\n",
       "      <th>comments</th>\n",
       "    </tr>\n",
       "  </thead>\n",
       "  <tbody>\n",
       "    <tr>\n",
       "      <th>0</th>\n",
       "      <td>Stephanie was a wonderful host! Her apartment ...</td>\n",
       "    </tr>\n",
       "    <tr>\n",
       "      <th>1</th>\n",
       "      <td>Such a wonderful place and very close to the m...</td>\n",
       "    </tr>\n",
       "    <tr>\n",
       "      <th>2</th>\n",
       "      <td>I just got back from a trip to NYC during whic...</td>\n",
       "    </tr>\n",
       "    <tr>\n",
       "      <th>3</th>\n",
       "      <td>Stephanie's offered all the most important thi...</td>\n",
       "    </tr>\n",
       "    <tr>\n",
       "      <th>4</th>\n",
       "      <td>Stephanie was really nice, ftiendly and helpfu...</td>\n",
       "    </tr>\n",
       "  </tbody>\n",
       "</table>\n",
       "</div>"
      ],
      "text/plain": [
       "                                            comments\n",
       "0  Stephanie was a wonderful host! Her apartment ...\n",
       "1  Such a wonderful place and very close to the m...\n",
       "2  I just got back from a trip to NYC during whic...\n",
       "3  Stephanie's offered all the most important thi...\n",
       "4  Stephanie was really nice, ftiendly and helpfu..."
      ]
     },
     "execution_count": 5,
     "metadata": {},
     "output_type": "execute_result"
    }
   ],
   "source": [
    "comments.head()"
   ]
  },
  {
   "cell_type": "code",
   "execution_count": 6,
   "metadata": {
    "colab": {},
    "colab_type": "code",
    "id": "EgZGdEFfRtzc"
   },
   "outputs": [],
   "source": [
    "comments.dropna(inplace=True)"
   ]
  },
  {
   "cell_type": "code",
   "execution_count": 7,
   "metadata": {
    "colab": {
     "base_uri": "https://localhost:8080/",
     "height": 134
    },
    "colab_type": "code",
    "executionInfo": {
     "elapsed": 12169,
     "status": "ok",
     "timestamp": 1579097466423,
     "user": {
      "displayName": "ikhwan wahid",
      "photoUrl": "",
      "userId": "01550124214470849109"
     },
     "user_tz": -480
    },
    "id": "OszTOhNfR09j",
    "outputId": "54e01240-38ba-4ecb-b6a1-d0ed565c0ec9"
   },
   "outputs": [
    {
     "data": {
      "text/plain": [
       "comments    0\n",
       "dtype: int64"
      ]
     },
     "execution_count": 7,
     "metadata": {},
     "output_type": "execute_result"
    }
   ],
   "source": [
    "comments.isnull().sum()"
   ]
  },
  {
   "cell_type": "code",
   "execution_count": 8,
   "metadata": {
    "colab": {},
    "colab_type": "code",
    "id": "F7wQ4VtrEJNd"
   },
   "outputs": [],
   "source": [
    "import re\n",
    "import numpy as np"
   ]
  },
  {
   "cell_type": "code",
   "execution_count": 9,
   "metadata": {
    "colab": {},
    "colab_type": "code",
    "id": "M0ijcOxpFD7q"
   },
   "outputs": [],
   "source": [
    "import gensim"
   ]
  },
  {
   "cell_type": "code",
   "execution_count": 10,
   "metadata": {
    "colab": {},
    "colab_type": "code",
    "id": "o6n0OUfgG_qL"
   },
   "outputs": [],
   "source": [
    "import gensim.corpora as corpora\n",
    "from gensim.utils import simple_preprocess\n",
    "from gensim.models import CoherenceModel"
   ]
  },
  {
   "cell_type": "code",
   "execution_count": 11,
   "metadata": {
    "colab": {},
    "colab_type": "code",
    "id": "JMQ86soEHCXa"
   },
   "outputs": [],
   "source": [
    "import spacy"
   ]
  },
  {
   "cell_type": "code",
   "execution_count": 12,
   "metadata": {
    "colab": {
     "base_uri": "https://localhost:8080/",
     "height": 330
    },
    "colab_type": "code",
    "executionInfo": {
     "elapsed": 3717,
     "status": "error",
     "timestamp": 1579104688249,
     "user": {
      "displayName": "ikhwan wahid",
      "photoUrl": "",
      "userId": "01550124214470849109"
     },
     "user_tz": -480
    },
    "id": "aIQIt1S1HDut",
    "outputId": "ba5a77f7-24ac-4cfe-ca95-11489b2454a4"
   },
   "outputs": [],
   "source": [
    "# for plotting\n",
    "import pyLDAvis\n",
    "import pyLDAvis.gensim\n",
    "import matplotlib.pyplot as plt"
   ]
  },
  {
   "cell_type": "code",
   "execution_count": 13,
   "metadata": {
    "colab": {
     "base_uri": "https://localhost:8080/",
     "height": 67
    },
    "colab_type": "code",
    "executionInfo": {
     "elapsed": 1090,
     "status": "ok",
     "timestamp": 1579104688731,
     "user": {
      "displayName": "ikhwan wahid",
      "photoUrl": "",
      "userId": "01550124214470849109"
     },
     "user_tz": -480
    },
    "id": "Id0ziFwXHHpJ",
    "outputId": "86d00c5e-75aa-4666-8a52-33c371f33ac8"
   },
   "outputs": [
    {
     "name": "stderr",
     "output_type": "stream",
     "text": [
      "[nltk_data] Downloading package stopwords to\n",
      "[nltk_data]     /Users/ikhyvicky/nltk_data...\n",
      "[nltk_data]   Package stopwords is already up-to-date!\n"
     ]
    },
    {
     "data": {
      "text/plain": [
       "True"
      ]
     },
     "execution_count": 13,
     "metadata": {},
     "output_type": "execute_result"
    }
   ],
   "source": [
    "import nltk\n",
    "nltk.download('stopwords')"
   ]
  },
  {
   "cell_type": "code",
   "execution_count": 14,
   "metadata": {
    "colab": {},
    "colab_type": "code",
    "id": "ZPjf6vPnHNRe"
   },
   "outputs": [],
   "source": [
    "from nltk.corpus import stopwords\n",
    "stop_words = stopwords.words('english')"
   ]
  },
  {
   "cell_type": "code",
   "execution_count": 15,
   "metadata": {
    "colab": {},
    "colab_type": "code",
    "id": "ZWKVUZ8QHYVf"
   },
   "outputs": [],
   "source": [
    "# Convert email body to list\n",
    "data = comments.comments.values.tolist()"
   ]
  },
  {
   "cell_type": "code",
   "execution_count": 16,
   "metadata": {
    "colab": {},
    "colab_type": "code",
    "id": "9GvMXkp0Hijx"
   },
   "outputs": [],
   "source": [
    "# tokenize - break down each sentence into a list of words\n",
    "def sent_to_words(sentences):\n",
    "    for sentence in sentences:\n",
    "        yield(gensim.utils.simple_preprocess(str(sentence), deacc=True))  # deacc=True removes punctuations"
   ]
  },
  {
   "cell_type": "code",
   "execution_count": 17,
   "metadata": {
    "colab": {},
    "colab_type": "code",
    "id": "4RIkIqjOHjaj"
   },
   "outputs": [],
   "source": [
    "data_words=list(sent_to_words(data))"
   ]
  },
  {
   "cell_type": "code",
   "execution_count": 18,
   "metadata": {
    "colab": {
     "base_uri": "https://localhost:8080/",
     "height": 54
    },
    "colab_type": "code",
    "executionInfo": {
     "elapsed": 56077,
     "status": "ok",
     "timestamp": 1579097510415,
     "user": {
      "displayName": "ikhwan wahid",
      "photoUrl": "",
      "userId": "01550124214470849109"
     },
     "user_tz": -480
    },
    "id": "cvLuG8taH83O",
    "outputId": "b443b349-d652-4404-affe-5fac9a3e3208"
   },
   "outputs": [
    {
     "name": "stdout",
     "output_type": "stream",
     "text": [
      "['stephanie', 'offered', 'all', 'the', 'most', 'important', 'things', 'warm', 'welcome', 'into', 'comfortable', 'home', 'comfortable', 'bed', 'in', 'quiet', 'room', 'fresh', 'clean', 'towels', 'blankets', 'and', 'easy', 'access', 'to', 'manhattan', 'finding', 'myself', 'travelling', 'to', 'nyc', 'in', 'the', 'future', 'feel', 'already', 'have', 'open', 'invitation', 'to', 'make', 'home', 'away', 'from', 'home', 'through', 'stephanie', 'generousity']\n"
     ]
    }
   ],
   "source": [
    "print(data_words[3])"
   ]
  },
  {
   "cell_type": "code",
   "execution_count": 19,
   "metadata": {
    "colab": {},
    "colab_type": "code",
    "id": "OD7FEQ-YIY5w"
   },
   "outputs": [],
   "source": [
    "from gensim.models.phrases import Phrases, Phraser"
   ]
  },
  {
   "cell_type": "code",
   "execution_count": 20,
   "metadata": {
    "colab": {
     "base_uri": "https://localhost:8080/",
     "height": 70
    },
    "colab_type": "code",
    "executionInfo": {
     "elapsed": 184555,
     "status": "ok",
     "timestamp": 1579097638912,
     "user": {
      "displayName": "ikhwan wahid",
      "photoUrl": "",
      "userId": "01550124214470849109"
     },
     "user_tz": -480
    },
    "id": "I3cxLZj2Ihe7",
    "outputId": "968903dc-75ed-4a5c-94f3-62cc8de90fca"
   },
   "outputs": [],
   "source": [
    "# Build the bigram and trigram models\n",
    "bigram = Phrases(data_words, min_count=5, threshold=100) # higher threshold fewer phrases.\n",
    "trigram = Phrases(bigram[data_words], threshold=100)"
   ]
  },
  {
   "cell_type": "code",
   "execution_count": 21,
   "metadata": {
    "colab": {},
    "colab_type": "code",
    "id": "Wd-NghitJPxO"
   },
   "outputs": [],
   "source": [
    "bigram_mod = Phraser(bigram)\n",
    "trigram_mod = Phraser(trigram)"
   ]
  },
  {
   "cell_type": "code",
   "execution_count": 22,
   "metadata": {
    "colab": {
     "base_uri": "https://localhost:8080/",
     "height": 54
    },
    "colab_type": "code",
    "executionInfo": {
     "elapsed": 222576,
     "status": "ok",
     "timestamp": 1579097676953,
     "user": {
      "displayName": "ikhwan wahid",
      "photoUrl": "",
      "userId": "01550124214470849109"
     },
     "user_tz": -480
    },
    "id": "Ip2KmEs4KCYd",
    "outputId": "39e242af-5075-44ba-a589-f6546669d64a"
   },
   "outputs": [
    {
     "name": "stdout",
     "output_type": "stream",
     "text": [
      "['best', 'host', 'ever', 'had', 'stefanie', 'and', 'her', 'family', 'are', 'very', 'kind', 'helpful', 'and', 'accommodating', 'you', 'will', 'feel', 'at', 'home', 'here', 'immediately', 'the', 'place', 'is', 'very', 'nice', 'clean', 'and', 'you', 'can', 'beat', 'the', 'access', 'to', 'both', 'the', 'and', 'as', 'well', 'as', 'the', 'and', 'subway', 'lines', 'both', 'each', 'blocks', 'away', 'will', 'definitely', 'come', 'back']\n"
     ]
    }
   ],
   "source": [
    "print(trigram_mod[bigram_mod[data_words[35]]])"
   ]
  },
  {
   "cell_type": "code",
   "execution_count": 23,
   "metadata": {
    "colab": {},
    "colab_type": "code",
    "id": "Mtf5G5poKORL"
   },
   "outputs": [],
   "source": [
    "#remove stop_words, make bigrams and lemmatize\n",
    "def remove_stopwords(texts):\n",
    "    return [[word for word in simple_preprocess(str(doc)) if word not in stop_words] for doc in texts]\n",
    "\n",
    "def make_bigrams(texts):\n",
    "    return [bigram_mod[doc] for doc in texts]\n",
    "\n",
    "def make_trigrams(texts):\n",
    "    return [trigram_mod[bigram_mod[doc]] for doc in texts]\n",
    "\n",
    "def lemmatization(texts, allowed_postags=['NOUN', 'ADJ', 'VERB', 'ADV']):\n",
    "    \"\"\"https://spacy.io/api/annotation\"\"\"\n",
    "    texts_out = []\n",
    "    for sent in texts:\n",
    "        doc = nlp(\" \".join(sent))\n",
    "        texts_out.append([token.lemma_ for token in doc if token.pos_ in allowed_postags])\n",
    "    return texts_out"
   ]
  },
  {
   "cell_type": "code",
   "execution_count": 24,
   "metadata": {
    "colab": {},
    "colab_type": "code",
    "id": "tpB1xfluOXif"
   },
   "outputs": [],
   "source": [
    "data_words_nostops = remove_stopwords(data_words)"
   ]
  },
  {
   "cell_type": "code",
   "execution_count": 25,
   "metadata": {
    "colab": {},
    "colab_type": "code",
    "id": "MxUE-FPXPelY"
   },
   "outputs": [],
   "source": [
    "data_words_bigrams = make_bigrams(data_words_nostops)"
   ]
  },
  {
   "cell_type": "code",
   "execution_count": 26,
   "metadata": {},
   "outputs": [],
   "source": [
    "import en_core_web_sm"
   ]
  },
  {
   "cell_type": "code",
   "execution_count": 27,
   "metadata": {
    "colab": {},
    "colab_type": "code",
    "id": "NuyG5xmRQpSH",
    "scrolled": true
   },
   "outputs": [],
   "source": [
    "# Initialize spacy 'en' model, keeping only tagger component (for efficiency)\n",
    "nlp = en_core_web_sm.load(disable=['parser', 'ner'])"
   ]
  },
  {
   "cell_type": "code",
   "execution_count": 28,
   "metadata": {
    "colab": {},
    "colab_type": "code",
    "id": "27PGc8xmQyvt"
   },
   "outputs": [],
   "source": [
    "data_lemmatized = lemmatization(data_words_bigrams, allowed_postags=['NOUN', 'ADJ', 'VERB', 'ADV'])"
   ]
  },
  {
   "cell_type": "code",
   "execution_count": 29,
   "metadata": {
    "colab": {},
    "colab_type": "code",
    "id": "N_nrrjOwA9UF"
   },
   "outputs": [],
   "source": [
    "import pickle"
   ]
  },
  {
   "cell_type": "code",
   "execution_count": 30,
   "metadata": {
    "colab": {},
    "colab_type": "code",
    "id": "SMuFo4jlodpl"
   },
   "outputs": [],
   "source": [
    "f=open(\"./model/data_lemmatized.pkl\",'wb')\n",
    "pickle.dump(data_lemmatized,f)\n",
    "f.close()"
   ]
  },
  {
   "cell_type": "code",
   "execution_count": null,
   "metadata": {
    "colab": {},
    "colab_type": "code",
    "id": "qVDB7hIM8qA7"
   },
   "outputs": [],
   "source": [
    "#data_lemmatized = []\n",
    "#with (open(\"data_lemmatized.pkl\", \"rb\")) as openfile:\n",
    "    #while True:\n",
    "        #try:\n",
    "        #    data_lemmatized.append(pickle.load(openfile))\n",
    "        #except EOFError:\n",
    "        #    break"
   ]
  },
  {
   "cell_type": "code",
   "execution_count": 17,
   "metadata": {
    "colab": {},
    "colab_type": "code",
    "id": "hd3KaarzQ1U2"
   },
   "outputs": [],
   "source": [
    "#data_lemmatized=data_lemmatized[0]"
   ]
  },
  {
   "cell_type": "code",
   "execution_count": 31,
   "metadata": {
    "colab": {
     "base_uri": "https://localhost:8080/",
     "height": 34
    },
    "colab_type": "code",
    "executionInfo": {
     "elapsed": 1023,
     "status": "ok",
     "timestamp": 1579104938749,
     "user": {
      "displayName": "ikhwan wahid",
      "photoUrl": "",
      "userId": "01550124214470849109"
     },
     "user_tz": -480
    },
    "id": "Osx_IOgF_NcU",
    "outputId": "bf3bd02b-dedb-401a-b85b-dff12b8c0cb6"
   },
   "outputs": [
    {
     "data": {
      "text/plain": [
       "346959"
      ]
     },
     "execution_count": 31,
     "metadata": {},
     "output_type": "execute_result"
    }
   ],
   "source": [
    "len(data_lemmatized)"
   ]
  },
  {
   "cell_type": "code",
   "execution_count": 32,
   "metadata": {
    "colab": {},
    "colab_type": "code",
    "id": "H9xYcI2DUUKn"
   },
   "outputs": [],
   "source": [
    "#create a dictionary and corpus for (LDA topic modeling)\n",
    "\n",
    "#creating the dictionary\n",
    "\n",
    "idtoword=corpora.Dictionary(data_lemmatized)\n",
    "#create corpus\n",
    "\n",
    "texts=data_lemmatized\n",
    "\n",
    "corpus=[idtoword.doc2bow(text) for text in texts]"
   ]
  },
  {
   "cell_type": "code",
   "execution_count": 33,
   "metadata": {},
   "outputs": [
    {
     "data": {
      "text/plain": [
       "346959"
      ]
     },
     "execution_count": 33,
     "metadata": {},
     "output_type": "execute_result"
    }
   ],
   "source": [
    "len(corpus)"
   ]
  },
  {
   "cell_type": "markdown",
   "metadata": {
    "colab_type": "text",
    "id": "NMURl6ybVDVK"
   },
   "source": [
    "# Gensim LDA Model -Topic Modeling"
   ]
  },
  {
   "cell_type": "code",
   "execution_count": 34,
   "metadata": {
    "colab": {
     "base_uri": "https://localhost:8080/",
     "height": 337
    },
    "colab_type": "code",
    "executionInfo": {
     "elapsed": 195355,
     "status": "error",
     "timestamp": 1579124928690,
     "user": {
      "displayName": "ikhwan wahid",
      "photoUrl": "",
      "userId": "01550124214470849109"
     },
     "user_tz": -480
    },
    "id": "Iku129aeVHIA",
    "outputId": "6b53b1f2-8381-4710-94a2-1db4c989381d"
   },
   "outputs": [],
   "source": [
    "#build our LDA model\n",
    "lda_model = gensim.models.LdaMulticore(corpus=corpus,\n",
    "                                           id2word=idtoword,\n",
    "                                           num_topics=10,\n",
    "                                           workers=3,\n",
    "                                           random_state=100,\n",
    "                                           eval_every=1,\n",
    "                                           chunksize=100,\n",
    "                                           passes=10)\n"
   ]
  },
  {
   "cell_type": "code",
   "execution_count": 137,
   "metadata": {},
   "outputs": [],
   "source": [
    "f=open(\"./model/lda.pkl\",'wb')\n",
    "pickle.dump(lda_model,f)\n",
    "f.close()"
   ]
  },
  {
   "cell_type": "code",
   "execution_count": 138,
   "metadata": {},
   "outputs": [],
   "source": [
    "g=open(\"./model/idtoword.pkl\",'wb')\n",
    "pickle.dump(idtoword,g)\n",
    "g.close()"
   ]
  },
  {
   "cell_type": "code",
   "execution_count": 139,
   "metadata": {},
   "outputs": [],
   "source": [
    "h=open(\"./model/corpus.pkl\",'wb')\n",
    "pickle.dump(corpus,h)\n",
    "h.close()"
   ]
  },
  {
   "cell_type": "code",
   "execution_count": 68,
   "metadata": {},
   "outputs": [],
   "source": [
    "#pickle.dump(lda_model, open(\"./model/lda.pickle\", \"wb\"))\n",
    "#pickle.dump(idtoword, open(\"./model/idatoword.pickle\", \"wb\"))\n",
    "#pickle.dump(corpus, open(\"./model/corpus.pickle\", \"wb\"))\n"
   ]
  },
  {
   "cell_type": "code",
   "execution_count": 38,
   "metadata": {
    "colab": {},
    "colab_type": "code",
    "id": "mbOKW8bdfDvg"
   },
   "outputs": [
    {
     "name": "stdout",
     "output_type": "stream",
     "text": [
      "[(0, '0.054*\"place\" + 0.039*\"nice\" + 0.038*\"minute\" + 0.038*\"close\" + 0.038*\"subway\" + 0.031*\"walk\" + 0.031*\"station\" + 0.028*\"really\" + 0.026*\"stay\" + 0.025*\"good\"'), (1, '0.045*\"host\" + 0.040*\"day\" + 0.024*\"arrival\" + 0.021*\"reservation\" + 0.021*\"cancel\" + 0.015*\"door\" + 0.014*\"apartment\" + 0.012*\"floor\" + 0.011*\"say\" + 0.010*\"airbnb\"'), (2, '0.048*\"stay\" + 0.034*\"place\" + 0.027*\"home\" + 0.025*\"feel\" + 0.024*\"make\" + 0.022*\"back\" + 0.021*\"come\" + 0.020*\"time\" + 0.017*\"thank\" + 0.016*\"definitely\"'), (3, '0.068*\"question\" + 0.062*\"respond\" + 0.044*\"always\" + 0.042*\"quick\" + 0.041*\"quickly\" + 0.035*\"answer\" + 0.030*\"message\" + 0.023*\"describe\" + 0.023*\"transportation\" + 0.023*\"help\"'), (4, '0.098*\"check\" + 0.041*\"easy\" + 0.028*\"make\" + 0.028*\"stay\" + 0.021*\"get\" + 0.018*\"late\" + 0.018*\"time\" + 0.018*\"need\" + 0.015*\"accommodate\" + 0.014*\"night\"'), (5, '0.069*\"good\" + 0.040*\"location\" + 0.029*\"place\" + 0.029*\"apartment\" + 0.027*\"night\" + 0.023*\"price\" + 0.018*\"sleep\" + 0.017*\"noise\" + 0.017*\"little\" + 0.015*\"bit\"'), (6, '0.066*\"great\" + 0.057*\"restaurant\" + 0.038*\"walk\" + 0.030*\"close\" + 0.029*\"location\" + 0.026*\"lot\" + 0.025*\"apartment\" + 0.024*\"shop\" + 0.022*\"bar\" + 0.021*\"food\"'), (7, '0.097*\"apartment\" + 0.060*\"well\" + 0.049*\"locate\" + 0.035*\"clean\" + 0.028*\"recommend\" + 0.023*\"comfortable\" + 0.017*\"stay\" + 0.016*\"excellent\" + 0.014*\"spacious\" + 0.014*\"quiet\"'), (8, '0.079*\"room\" + 0.042*\"bed\" + 0.034*\"bathroom\" + 0.029*\"clean\" + 0.022*\"bedroom\" + 0.020*\"kitchen\" + 0.019*\"space\" + 0.018*\"nice\" + 0.017*\"comfortable\" + 0.014*\"small\"'), (9, '0.129*\"great\" + 0.074*\"place\" + 0.067*\"location\" + 0.064*\"stay\" + 0.048*\"host\" + 0.042*\"clean\" + 0.033*\"recommend\" + 0.025*\"apartment\" + 0.022*\"nice\" + 0.022*\"definitely\"')]\n"
     ]
    }
   ],
   "source": [
    "print(lda_model.print_topics())"
   ]
  },
  {
   "cell_type": "code",
   "execution_count": 39,
   "metadata": {
    "colab": {},
    "colab_type": "code",
    "id": "i_ZjS6EpvIcT"
   },
   "outputs": [],
   "source": [
    "lda_model.save('lda.model')"
   ]
  },
  {
   "cell_type": "code",
   "execution_count": 40,
   "metadata": {
    "colab": {},
    "colab_type": "code",
    "id": "1Msqfp6Tk0eq"
   },
   "outputs": [
    {
     "name": "stderr",
     "output_type": "stream",
     "text": [
      "/Users/ikhyvicky/anaconda3/lib/python3.7/site-packages/pyLDAvis/_prepare.py:257: FutureWarning: Sorting because non-concatenation axis is not aligned. A future version\n",
      "of pandas will change to not sort by default.\n",
      "\n",
      "To accept the future behavior, pass 'sort=False'.\n",
      "\n",
      "To retain the current behavior and silence the warning, pass 'sort=True'.\n",
      "\n",
      "  return pd.concat([default_term_info] + list(topic_dfs))\n"
     ]
    },
    {
     "data": {
      "text/html": [
       "\n",
       "<link rel=\"stylesheet\" type=\"text/css\" href=\"https://cdn.rawgit.com/bmabey/pyLDAvis/files/ldavis.v1.0.0.css\">\n",
       "\n",
       "\n",
       "<div id=\"ldavis_el884491149660399123863886622\"></div>\n",
       "<script type=\"text/javascript\">\n",
       "\n",
       "var ldavis_el884491149660399123863886622_data = {\"mdsDat\": {\"x\": [-0.012555105017492926, -0.18252334927988512, -0.007451521634877455, -0.15442460459259139, -0.19485271030075665, -0.11453950758780247, 0.28089748318277435, -0.022628018959460414, 0.10727741562513836, 0.3007999185649531], \"y\": [-0.05851723891294469, 0.07447462847450319, -0.15586571616444087, 0.01360632314224811, 0.11058088076810141, 0.08619739870756167, -0.1676359938964974, -0.15551939816957772, -0.06604890878206787, 0.31872802483311397], \"topics\": [1, 2, 3, 4, 5, 6, 7, 8, 9, 10], \"cluster\": [1, 1, 1, 1, 1, 1, 1, 1, 1, 1], \"Freq\": [15.761052131652832, 15.441033363342285, 10.880782127380371, 10.341261863708496, 9.701055526733398, 9.465799331665039, 8.406468391418457, 8.025496482849121, 7.801669120788574, 4.175382614135742]}, \"tinfo\": {\"Category\": [\"Default\", \"Default\", \"Default\", \"Default\", \"Default\", \"Default\", \"Default\", \"Default\", \"Default\", \"Default\", \"Default\", \"Default\", \"Default\", \"Default\", \"Default\", \"Default\", \"Default\", \"Default\", \"Default\", \"Default\", \"Default\", \"Default\", \"Default\", \"Default\", \"Default\", \"Default\", \"Default\", \"Default\", \"Default\", \"Default\", \"Topic1\", \"Topic1\", \"Topic1\", \"Topic1\", \"Topic1\", \"Topic1\", \"Topic1\", \"Topic1\", \"Topic1\", \"Topic1\", \"Topic1\", \"Topic1\", \"Topic1\", \"Topic1\", \"Topic1\", \"Topic1\", \"Topic1\", \"Topic1\", \"Topic1\", \"Topic1\", \"Topic1\", \"Topic1\", \"Topic1\", \"Topic1\", \"Topic1\", \"Topic1\", \"Topic1\", \"Topic1\", \"Topic1\", \"Topic1\", \"Topic1\", \"Topic1\", \"Topic1\", \"Topic1\", \"Topic1\", \"Topic1\", \"Topic1\", \"Topic1\", \"Topic1\", \"Topic1\", \"Topic1\", \"Topic1\", \"Topic1\", \"Topic1\", \"Topic1\", \"Topic1\", \"Topic1\", \"Topic1\", \"Topic1\", \"Topic1\", \"Topic1\", \"Topic1\", \"Topic1\", \"Topic1\", \"Topic1\", \"Topic1\", \"Topic1\", \"Topic1\", \"Topic1\", \"Topic1\", \"Topic1\", \"Topic1\", \"Topic1\", \"Topic1\", \"Topic1\", \"Topic1\", \"Topic1\", \"Topic1\", \"Topic1\", \"Topic2\", \"Topic2\", \"Topic2\", \"Topic2\", \"Topic2\", \"Topic2\", \"Topic2\", \"Topic2\", \"Topic2\", \"Topic2\", \"Topic2\", \"Topic2\", \"Topic2\", \"Topic2\", \"Topic2\", \"Topic2\", \"Topic2\", \"Topic2\", \"Topic2\", \"Topic2\", \"Topic2\", \"Topic2\", \"Topic2\", \"Topic2\", \"Topic2\", \"Topic2\", \"Topic2\", \"Topic2\", \"Topic2\", \"Topic2\", \"Topic2\", \"Topic2\", \"Topic2\", \"Topic2\", \"Topic2\", \"Topic2\", \"Topic2\", \"Topic2\", \"Topic2\", \"Topic2\", \"Topic2\", \"Topic2\", \"Topic2\", \"Topic2\", \"Topic2\", \"Topic2\", \"Topic2\", \"Topic2\", \"Topic2\", \"Topic2\", \"Topic2\", \"Topic2\", \"Topic2\", \"Topic2\", \"Topic2\", \"Topic2\", \"Topic2\", \"Topic2\", \"Topic2\", \"Topic2\", \"Topic2\", \"Topic2\", \"Topic2\", \"Topic2\", \"Topic2\", \"Topic2\", \"Topic2\", \"Topic3\", \"Topic3\", \"Topic3\", \"Topic3\", \"Topic3\", \"Topic3\", \"Topic3\", \"Topic3\", \"Topic3\", \"Topic3\", \"Topic3\", \"Topic3\", \"Topic3\", \"Topic3\", \"Topic3\", \"Topic3\", \"Topic3\", \"Topic3\", \"Topic3\", \"Topic3\", \"Topic3\", \"Topic3\", \"Topic3\", \"Topic3\", \"Topic3\", \"Topic3\", \"Topic3\", \"Topic3\", \"Topic3\", \"Topic3\", \"Topic3\", \"Topic3\", \"Topic3\", \"Topic3\", \"Topic3\", \"Topic3\", \"Topic3\", \"Topic3\", \"Topic3\", \"Topic3\", \"Topic3\", \"Topic3\", \"Topic3\", \"Topic3\", \"Topic3\", \"Topic3\", \"Topic3\", \"Topic3\", \"Topic3\", \"Topic3\", \"Topic3\", \"Topic3\", \"Topic3\", \"Topic3\", \"Topic3\", \"Topic3\", \"Topic3\", \"Topic3\", \"Topic3\", \"Topic3\", \"Topic3\", \"Topic3\", \"Topic3\", \"Topic4\", \"Topic4\", \"Topic4\", \"Topic4\", \"Topic4\", \"Topic4\", \"Topic4\", \"Topic4\", \"Topic4\", \"Topic4\", \"Topic4\", \"Topic4\", \"Topic4\", \"Topic4\", \"Topic4\", \"Topic4\", \"Topic4\", \"Topic4\", \"Topic4\", \"Topic4\", \"Topic4\", \"Topic4\", \"Topic4\", \"Topic4\", \"Topic4\", \"Topic4\", \"Topic4\", \"Topic4\", \"Topic4\", \"Topic4\", \"Topic4\", \"Topic4\", \"Topic4\", \"Topic4\", \"Topic4\", \"Topic4\", \"Topic4\", \"Topic4\", \"Topic4\", \"Topic4\", \"Topic4\", \"Topic4\", \"Topic4\", \"Topic4\", \"Topic4\", \"Topic4\", \"Topic4\", \"Topic4\", \"Topic4\", \"Topic4\", \"Topic4\", \"Topic4\", \"Topic4\", \"Topic4\", \"Topic4\", \"Topic4\", \"Topic4\", \"Topic4\", \"Topic4\", \"Topic4\", \"Topic4\", \"Topic4\", \"Topic4\", \"Topic5\", \"Topic5\", \"Topic5\", \"Topic5\", \"Topic5\", \"Topic5\", \"Topic5\", \"Topic5\", \"Topic5\", \"Topic5\", \"Topic5\", \"Topic5\", \"Topic5\", \"Topic5\", \"Topic5\", \"Topic5\", \"Topic5\", \"Topic5\", \"Topic5\", \"Topic5\", \"Topic5\", \"Topic5\", \"Topic5\", \"Topic5\", \"Topic5\", \"Topic5\", \"Topic5\", \"Topic5\", \"Topic5\", \"Topic5\", \"Topic5\", \"Topic5\", \"Topic5\", \"Topic5\", \"Topic5\", \"Topic5\", \"Topic5\", \"Topic5\", \"Topic5\", \"Topic5\", \"Topic5\", \"Topic5\", \"Topic5\", \"Topic5\", \"Topic5\", \"Topic5\", \"Topic5\", \"Topic5\", \"Topic5\", \"Topic5\", \"Topic5\", \"Topic5\", \"Topic5\", \"Topic5\", \"Topic5\", \"Topic5\", \"Topic5\", \"Topic5\", \"Topic5\", \"Topic5\", \"Topic6\", \"Topic6\", \"Topic6\", \"Topic6\", \"Topic6\", \"Topic6\", \"Topic6\", \"Topic6\", \"Topic6\", \"Topic6\", \"Topic6\", \"Topic6\", \"Topic6\", \"Topic6\", \"Topic6\", \"Topic6\", \"Topic6\", \"Topic6\", \"Topic6\", \"Topic6\", \"Topic6\", \"Topic6\", \"Topic6\", \"Topic6\", \"Topic6\", \"Topic6\", \"Topic6\", \"Topic6\", \"Topic6\", \"Topic6\", \"Topic6\", \"Topic6\", \"Topic6\", \"Topic6\", \"Topic6\", \"Topic6\", \"Topic6\", \"Topic6\", \"Topic6\", \"Topic6\", \"Topic6\", \"Topic6\", \"Topic6\", \"Topic6\", \"Topic6\", \"Topic6\", \"Topic6\", \"Topic6\", \"Topic6\", \"Topic6\", \"Topic6\", \"Topic6\", \"Topic6\", \"Topic6\", \"Topic6\", \"Topic6\", \"Topic6\", \"Topic6\", \"Topic6\", \"Topic6\", \"Topic6\", \"Topic6\", \"Topic6\", \"Topic6\", \"Topic7\", \"Topic7\", \"Topic7\", \"Topic7\", \"Topic7\", \"Topic7\", \"Topic7\", \"Topic7\", \"Topic7\", \"Topic7\", \"Topic7\", \"Topic7\", \"Topic7\", \"Topic7\", \"Topic7\", \"Topic7\", \"Topic7\", \"Topic7\", \"Topic7\", \"Topic7\", \"Topic7\", \"Topic7\", \"Topic7\", \"Topic7\", \"Topic7\", \"Topic7\", \"Topic7\", \"Topic7\", \"Topic7\", \"Topic7\", \"Topic7\", \"Topic7\", \"Topic7\", \"Topic7\", \"Topic7\", \"Topic7\", \"Topic7\", \"Topic7\", \"Topic7\", \"Topic7\", \"Topic7\", \"Topic7\", \"Topic7\", \"Topic7\", \"Topic7\", \"Topic7\", \"Topic7\", \"Topic7\", \"Topic7\", \"Topic7\", \"Topic7\", \"Topic7\", \"Topic7\", \"Topic7\", \"Topic7\", \"Topic7\", \"Topic7\", \"Topic7\", \"Topic8\", \"Topic8\", \"Topic8\", \"Topic8\", \"Topic8\", \"Topic8\", \"Topic8\", \"Topic8\", \"Topic8\", \"Topic8\", \"Topic8\", \"Topic8\", \"Topic8\", \"Topic8\", \"Topic8\", \"Topic8\", \"Topic8\", \"Topic8\", \"Topic8\", \"Topic8\", \"Topic8\", \"Topic8\", \"Topic8\", \"Topic8\", \"Topic8\", \"Topic8\", \"Topic8\", \"Topic8\", \"Topic8\", \"Topic8\", \"Topic8\", \"Topic8\", \"Topic8\", \"Topic8\", \"Topic8\", \"Topic8\", \"Topic8\", \"Topic8\", \"Topic8\", \"Topic8\", \"Topic8\", \"Topic8\", \"Topic8\", \"Topic8\", \"Topic8\", \"Topic8\", \"Topic8\", \"Topic8\", \"Topic8\", \"Topic8\", \"Topic8\", \"Topic8\", \"Topic8\", \"Topic8\", \"Topic8\", \"Topic8\", \"Topic8\", \"Topic8\", \"Topic8\", \"Topic8\", \"Topic8\", \"Topic8\", \"Topic9\", \"Topic9\", \"Topic9\", \"Topic9\", \"Topic9\", \"Topic9\", \"Topic9\", \"Topic9\", \"Topic9\", \"Topic9\", \"Topic9\", \"Topic9\", \"Topic9\", \"Topic9\", \"Topic9\", \"Topic9\", \"Topic9\", \"Topic9\", \"Topic9\", \"Topic9\", \"Topic9\", \"Topic9\", \"Topic9\", \"Topic9\", \"Topic9\", \"Topic9\", \"Topic9\", \"Topic9\", \"Topic9\", \"Topic9\", \"Topic9\", \"Topic9\", \"Topic9\", \"Topic9\", \"Topic9\", \"Topic9\", \"Topic9\", \"Topic9\", \"Topic9\", \"Topic9\", \"Topic9\", \"Topic9\", \"Topic9\", \"Topic9\", \"Topic9\", \"Topic9\", \"Topic9\", \"Topic9\", \"Topic9\", \"Topic9\", \"Topic9\", \"Topic9\", \"Topic9\", \"Topic9\", \"Topic9\", \"Topic9\", \"Topic9\", \"Topic9\", \"Topic9\", \"Topic9\", \"Topic10\", \"Topic10\", \"Topic10\", \"Topic10\", \"Topic10\", \"Topic10\", \"Topic10\", \"Topic10\", \"Topic10\", \"Topic10\", \"Topic10\", \"Topic10\", \"Topic10\", \"Topic10\", \"Topic10\", \"Topic10\", \"Topic10\", \"Topic10\", \"Topic10\", \"Topic10\", \"Topic10\", \"Topic10\", \"Topic10\", \"Topic10\", \"Topic10\", \"Topic10\", \"Topic10\", \"Topic10\", \"Topic10\", \"Topic10\", \"Topic10\", \"Topic10\", \"Topic10\", \"Topic10\", \"Topic10\", \"Topic10\", \"Topic10\", \"Topic10\", \"Topic10\", \"Topic10\", \"Topic10\", \"Topic10\", \"Topic10\", \"Topic10\", \"Topic10\", \"Topic10\", \"Topic10\", \"Topic10\", \"Topic10\", \"Topic10\", \"Topic10\"], \"Freq\": [191111.0, 55529.0, 118502.0, 79640.0, 189731.0, 151113.0, 39973.0, 94791.0, 52332.0, 116314.0, 50158.0, 114265.0, 33415.0, 59181.0, 42523.0, 186200.0, 42020.0, 74702.0, 28752.0, 20394.0, 71191.0, 46764.0, 50726.0, 18798.0, 26840.0, 30357.0, 37742.0, 23005.0, 25333.0, 17720.0, 30356.630859375, 25361.966796875, 8004.4482421875, 5380.51904296875, 3818.046142578125, 3534.72216796875, 2124.074951171875, 1806.8179931640625, 1633.796630859375, 1437.373779296875, 1384.434814453125, 1251.212158203125, 1132.62353515625, 1071.297119140625, 961.40087890625, 709.0971069335938, 693.4641723632812, 691.9024658203125, 672.5126342773438, 628.2256469726562, 601.7029418945312, 584.5360717773438, 576.1542358398438, 565.3221435546875, 561.2206420898438, 550.225830078125, 536.805908203125, 531.6880493164062, 511.495849609375, 503.14599609375, 24232.427734375, 28401.625, 13340.5947265625, 1800.0350341796875, 3219.357177734375, 2950.37451171875, 1859.62353515625, 27039.271484375, 15803.0927734375, 10097.3857421875, 9668.7236328125, 14139.921875, 19877.59765625, 16187.958984375, 5532.01416015625, 4243.22119140625, 16133.3056640625, 22475.068359375, 9687.515625, 6904.57568359375, 54911.1015625, 18458.642578125, 10553.63671875, 7841.36962890625, 9150.94140625, 5835.02978515625, 8600.2392578125, 38400.87109375, 8424.0458984375, 9701.828125, 8925.392578125, 7221.576171875, 13099.4326171875, 17851.458984375, 7994.4306640625, 9994.0634765625, 8508.8701171875, 9675.474609375, 8024.32470703125, 2390.354736328125, 1268.6390380859375, 834.9954833984375, 825.5482788085938, 556.9690551757812, 539.232666015625, 529.0863037109375, 398.1828308105469, 324.7882995605469, 318.3275146484375, 267.9975280761719, 257.3066711425781, 243.6123504638672, 237.61480712890625, 231.24700927734375, 217.63816833496094, 208.9685516357422, 203.25650024414062, 190.9572296142578, 179.31724548339844, 177.47323608398438, 177.37855529785156, 174.73770141601562, 167.3951416015625, 164.76344299316406, 162.67379760742188, 161.9324493408203, 160.6794891357422, 156.56976318359375, 156.49795532226562, 143595.109375, 74883.84375, 8170.89599609375, 16151.2802734375, 37056.1171875, 24106.0625, 82723.1328125, 53726.5234375, 17360.333984375, 2677.591796875, 483.4336242675781, 12152.482421875, 7898.85107421875, 47334.51171875, 71955.5625, 15302.22265625, 10300.267578125, 19347.791015625, 11275.27734375, 1051.9893798828125, 4555.36376953125, 6015.35498046875, 7518.18896484375, 24168.75, 10017.9990234375, 8016.8466796875, 7558.23486328125, 17313.3828125, 6705.2685546875, 7730.232421875, 11520.314453125, 27848.28125, 11173.5498046875, 13501.9931640625, 16741.302734375, 11671.119140625, 9615.81640625, 26839.4375, 10829.8369140625, 8548.734375, 6068.47900390625, 4607.24365234375, 3327.534912109375, 3145.027587890625, 3069.588623046875, 2950.02685546875, 2941.576904296875, 2646.57275390625, 2480.748046875, 2127.645751953125, 1964.5926513671875, 1820.204345703125, 1705.526611328125, 1584.3363037109375, 1576.0865478515625, 1501.1533203125, 1461.9600830078125, 1311.37646484375, 1268.1416015625, 1254.1732177734375, 1189.57373046875, 1133.7666015625, 1049.860107421875, 993.6507568359375, 986.1985473632812, 957.889404296875, 934.5789794921875, 2662.55322265625, 16118.7568359375, 2575.43017578125, 62291.99609375, 4951.2109375, 33330.109375, 7902.3857421875, 8628.7373046875, 17344.478515625, 5557.76416015625, 3568.770263671875, 5079.8291015625, 11308.7294921875, 8008.16015625, 9245.4091796875, 3853.482421875, 14650.0087890625, 6190.6025390625, 6541.84033203125, 23114.62890625, 7566.84912109375, 13362.99609375, 4470.99560546875, 14365.15625, 11018.2861328125, 7154.34033203125, 5663.38232421875, 8097.2958984375, 5323.69921875, 5314.1875, 6566.04541015625, 6436.98583984375, 6230.5693359375, 28750.98046875, 23004.111328125, 9500.759765625, 7117.9951171875, 4772.521484375, 3967.16748046875, 2945.314453125, 1430.066162109375, 1217.197021484375, 1216.2640380859375, 1200.5582275390625, 1052.9969482421875, 999.2960205078125, 833.8580322265625, 828.3114013671875, 784.3869018554688, 728.846435546875, 712.1156005859375, 613.607666015625, 575.9445190429688, 534.4660034179688, 515.4027709960938, 495.12353515625, 468.5631103515625, 464.0695495605469, 452.97467041015625, 445.93707275390625, 440.3561706542969, 419.49090576171875, 399.2706604003906, 1884.8055419921875, 3614.335693359375, 15532.6162109375, 5139.681640625, 28380.416015625, 6360.904296875, 6972.24169921875, 10890.248046875, 28489.744140625, 23296.671875, 12704.3818359375, 1552.3326416015625, 28937.41796875, 3700.606689453125, 2922.184326171875, 8999.9619140625, 20811.71484375, 8376.345703125, 40160.9765625, 18693.716796875, 4056.620849609375, 10503.5341796875, 17134.265625, 8016.12109375, 9031.4267578125, 10356.404296875, 19091.21484375, 7928.07275390625, 6324.42529296875, 10445.646484375, 7581.3896484375, 7426.58642578125, 5797.14599609375, 39972.3984375, 16623.873046875, 15122.734375, 14429.904296875, 9823.470703125, 4395.15771484375, 4220.6689453125, 3943.750244140625, 3321.086669921875, 3250.935791015625, 2676.085205078125, 2606.75634765625, 2206.873779296875, 2174.444091796875, 1735.8671875, 1494.0118408203125, 1473.5303955078125, 1391.9989013671875, 1333.8433837890625, 1311.8109130859375, 1293.7960205078125, 1267.0784912109375, 1262.8121337890625, 1198.255615234375, 1099.044677734375, 1084.6195068359375, 1073.36083984375, 1060.6201171875, 1047.56201171875, 996.5785522460938, 10620.71484375, 9780.5625, 12973.5322265625, 13972.892578125, 7498.3271484375, 4813.2890625, 7260.47607421875, 17937.744140625, 5068.720703125, 26860.8671875, 6828.515625, 6566.494140625, 2614.650146484375, 1941.262939453125, 9570.0390625, 20923.509765625, 46612.8125, 14141.8125, 4107.556640625, 6632.52783203125, 20530.751953125, 10359.9619140625, 9705.8515625, 8085.1455078125, 17665.765625, 7058.61279296875, 8432.4248046875, 7103.0771484375, 5637.78125, 5204.2958984375, 33414.640625, 8572.4482421875, 6238.587890625, 6181.3095703125, 5718.18505859375, 5435.84130859375, 3901.22021484375, 2292.19384765625, 2212.725830078125, 2116.866943359375, 2117.225341796875, 1738.1812744140625, 1682.8675537109375, 1652.7843017578125, 1212.4090576171875, 1083.4512939453125, 1023.76171875, 1012.18505859375, 995.5389404296875, 969.2537231445312, 968.8389282226562, 907.99072265625, 814.1842651367188, 701.3523559570312, 694.2459106445312, 686.7188110351562, 683.3446044921875, 655.5747680664062, 645.3958129882812, 627.4073486328125, 40814.6796875, 1169.9747314453125, 3119.8232421875, 66138.1953125, 5030.59716796875, 2458.136962890625, 1822.2840576171875, 10616.880859375, 2279.20654296875, 3904.1396484375, 3277.732666015625, 9551.2666015625, 6641.623046875, 19419.29296875, 1736.095947265625, 9330.224609375, 15593.7158203125, 24093.576171875, 8808.796875, 5457.37158203125, 4533.50390625, 5691.68408203125, 3808.969482421875, 4642.4111328125, 6283.18310546875, 4493.0380859375, 5129.09716796875, 6240.75634765625, 11434.16796875, 7230.4580078125, 7197.916015625, 6747.7236328125, 5470.3466796875, 5478.44580078125, 12685.0078125, 12601.859375, 5845.265625, 4428.91943359375, 4230.4033203125, 4030.9609375, 3570.390869140625, 3276.95947265625, 3199.57763671875, 3066.011474609375, 2567.0146484375, 1978.9771728515625, 1869.6494140625, 1837.3966064453125, 1445.43017578125, 1410.829345703125, 1337.39501953125, 1335.0565185546875, 1279.422607421875, 1278.77783203125, 1196.9046630859375, 1172.6033935546875, 1132.853759765625, 1095.974853515625, 1092.612060546875, 1085.719482421875, 1053.2711181640625, 1025.7193603515625, 982.4699096679688, 968.6494140625, 14725.611328125, 2225.24267578125, 3691.568115234375, 3918.556884765625, 9080.4306640625, 24065.376953125, 2257.68505859375, 6906.97412109375, 2557.024169921875, 7420.5126953125, 27613.38671875, 2652.40478515625, 5446.99658203125, 4526.724609375, 5278.3720703125, 5302.48583984375, 5922.75, 3663.400146484375, 3475.051513671875, 3252.90380859375, 4546.421875, 8740.9580078125, 3354.912353515625, 3562.4658203125, 4319.25439453125, 3850.965576171875, 3564.569580078125, 3288.1640625, 10154.669921875, 4559.0830078125, 4125.52001953125, 3836.335205078125, 3474.092041015625, 2363.113037109375, 1989.338134765625, 1961.2877197265625, 1958.7266845703125, 1896.828125, 1645.8646240234375, 1497.8729248046875, 1453.30322265625, 1397.4649658203125, 1305.611572265625, 1254.367919921875, 1253.1334228515625, 1228.574951171875, 1159.12109375, 1134.3861083984375, 1058.23291015625, 1053.277099609375, 1041.77294921875, 989.47900390625, 973.6832885742188, 942.29638671875, 900.181884765625, 803.5502319335938, 802.6860961914062, 795.33740234375, 13442.7861328125, 4145.46923828125, 3474.79638671875, 8851.3330078125, 40325.10546875, 1856.1959228515625, 10159.7275390625, 15495.712890625, 7350.328125, 1919.1990966796875, 9915.4873046875, 7602.59033203125, 7483.49609375, 3406.135986328125, 2769.539306640625, 6210.77001953125, 2964.14111328125, 23086.6640625, 4681.2255859375, 7310.68408203125, 4753.2783203125, 7125.16162109375, 3394.17724609375, 16696.791015625, 17096.126953125, 4442.3720703125, 3411.017822265625, 4832.6943359375, 6541.69677734375, 3760.58251953125, 3662.58447265625, 3514.801513671875, 55528.84375, 10379.2568359375, 7117.08740234375, 6570.14697265625, 2709.1552734375, 2621.397216796875, 2446.3740234375, 2235.110595703125, 1804.7476806640625, 1726.8887939453125, 1712.712158203125, 1692.0771484375, 1486.7857666015625, 1353.9385986328125, 1257.3414306640625, 1189.2646484375, 1171.3438720703125, 1106.7193603515625, 1039.2559814453125, 985.8431396484375, 960.5797729492188, 930.7904052734375, 867.9714965820312, 862.1981201171875, 852.8932495117188, 846.7730712890625, 811.9224853515625, 804.6458740234375, 796.5717163085938, 746.8651123046875, 6281.65380859375, 4927.04443359375, 4666.66796875, 4701.06689453125, 3920.98779296875, 2936.285400390625, 3988.460693359375, 23041.041015625, 8521.30859375, 5271.73291015625, 6008.4658203125, 7138.3291015625, 15967.146484375, 2142.484130859375, 4548.14892578125, 12047.8876953125, 5613.83203125, 7721.541015625, 6655.9384765625, 3749.96435546875, 8181.49755859375, 10286.8203125, 9929.6513671875, 15917.6728515625, 6693.8193359375, 6065.73046875, 3437.911865234375, 6812.0634765625, 3960.0224609375, 4418.81494140625, 20393.18359375, 18797.71875, 12357.1064453125, 10480.4853515625, 9129.1298828125, 6925.4189453125, 5283.9873046875, 4725.1689453125, 4560.08056640625, 4256.53271484375, 4168.41064453125, 2381.778564453125, 2065.8505859375, 1582.035888671875, 1523.26806640625, 1353.92431640625, 1263.3365478515625, 1220.306884765625, 1070.478759765625, 1065.2786865234375, 1065.489501953125, 891.7487182617188, 888.8624267578125, 787.5253295898438, 769.434814453125, 764.4506225585938, 745.4303588867188, 722.1986694335938, 717.3886108398438, 711.50048828125, 7092.8818359375, 13185.6015625, 2604.408447265625, 12785.0126953125, 2338.781005859375, 5033.7958984375, 5911.1328125, 6524.3759765625, 6904.76708984375, 2030.8739013671875, 1546.21142578125, 1887.7562255859375, 3613.735107421875, 5172.3076171875, 6729.21533203125, 3407.292236328125, 3039.0732421875, 2283.20849609375, 2287.956787109375, 3412.889404296875, 2433.60498046875], \"Term\": [\"great\", \"check\", \"location\", \"room\", \"place\", \"apartment\", \"restaurant\", \"good\", \"well\", \"host\", \"walk\", \"clean\", \"locate\", \"close\", \"subway\", \"stay\", \"bed\", \"nice\", \"minute\", \"question\", \"recommend\", \"make\", \"easy\", \"respond\", \"bathroom\", \"home\", \"day\", \"station\", \"quick\", \"always\", \"home\", \"back\", \"ever\", \"hope\", \"soon\", \"truly\", \"brand\", \"favorite\", \"exceed\", \"treat\", \"loved\", \"deli\", \"invite\", \"refund\", \"appartement\", \"texte\", \"community\", \"minimal\", \"fruit\", \"claudio\", \"financial_district\", \"birthday\", \"energy\", \"spending\", \"instantly\", \"dollar\", \"overlook\", \"smile\", \"rough\", \"memorable\", \"come\", \"feel\", \"airbnb\", \"gem\", \"hospitable\", \"expectation\", \"special\", \"make\", \"experience\", \"welcome\", \"first\", \"love\", \"thank\", \"amazing\", \"absolutely\", \"tip\", \"go\", \"time\", \"give\", \"friend\", \"stay\", \"definitely\", \"much\", \"sure\", \"wonderful\", \"way\", \"next\", \"place\", \"visit\", \"even\", \"enjoy\", \"book\", \"really\", \"host\", \"want\", \"perfect\", \"city\", \"good\", \"comfortable\", \"sparkle\", \"williamsburg\", \"unbeatable\", \"amenitie\", \"bunch\", \"bustle\", \"crazy\", \"grand\", \"flawless\", \"pet\", \"nicole\", \"escape\", \"hairdryer\", \"coffee_maker\", \"cookie\", \"recent\", \"sorry\", \"elena\", \"student\", \"laura\", \"favourite\", \"stacy\", \"law\", \"lily\", \"minimalist\", \"antonio\", \"apartament\", \"derek\", \"earth\", \"bigger\", \"great\", \"location\", \"awesome\", \"highly\", \"recommend\", \"definitely\", \"place\", \"host\", \"super\", \"communicative\", \"reliable\", \"communication\", \"value\", \"clean\", \"stay\", \"amazing\", \"responsive\", \"perfect\", \"helpful\", \"adorable\", \"stylish\", \"fantastic\", \"cozy\", \"nice\", \"friendly\", \"excellent\", \"wonderful\", \"comfortable\", \"accommodate\", \"convenient\", \"space\", \"apartment\", \"thank\", \"really\", \"good\", \"easy\", \"need\", \"bathroom\", \"towel\", \"private\", \"tv\", \"living\", \"dog\", \"linen\", \"pillow\", \"bath\", \"heater\", \"table\", \"closet\", \"sofa\", \"uncomfortable\", \"separate\", \"fan\", \"thin\", \"checkin\", \"microwave\", \"vibe\", \"utensil\", \"double\", \"chair\", \"patio\", \"solve\", \"pro\", \"roomy\", \"common_area\", \"stain\", \"desk\", \"turn\", \"kitchen\", \"fridge\", \"room\", \"comfy\", \"bed\", \"share\", \"shower\", \"bedroom\", \"hot\", \"sheet\", \"water\", \"small\", \"big\", \"use\", \"light\", \"space\", \"large\", \"live\", \"clean\", \"sleep\", \"comfortable\", \"window\", \"nice\", \"also\", \"people\", \"guest\", \"really\", \"provide\", \"work\", \"need\", \"well\", \"stay\", \"minute\", \"station\", \"response\", \"bus\", \"downtown\", \"ride\", \"appartment\", \"ferry\", \"understanding\", \"near\", \"confortable\", \"girlfriend\", \"date\", \"careful\", \"chelsea_market\", \"hold\", \"condo\", \"figure\", \"express\", \"unsafe\", \"neighbour\", \"accomodation\", \"complex\", \"hallway\", \"emergency\", \"reception\", \"okay\", \"transfer\", \"staten_island\", \"flushing\", \"metro\", \"anywhere\", \"train\", \"square\", \"subway\", \"stop\", \"line\", \"take\", \"close\", \"walk\", \"away\", \"snack\", \"nice\", \"money\", \"less\", \"block\", \"really\", \"safe\", \"place\", \"good\", \"far\", \"also\", \"clean\", \"neighborhood\", \"get\", \"time\", \"stay\", \"go\", \"convenient\", \"room\", \"easy\", \"recommend\", \"quiet\", \"restaurant\", \"shop\", \"bar\", \"food\", \"store\", \"low\", \"grocery\", \"ton\", \"village\", \"address\", \"blanket\", \"shopping\", \"break\", \"hair\", \"walkable\", \"essential\", \"bite\", \"toiletry\", \"museum\", \"lively\", \"delicious\", \"necessity\", \"inside\", \"catch\", \"serve\", \"east\", \"eatery\", \"listing\", \"parent\", \"communicator\", \"nearby\", \"coffee\", \"distance\", \"many\", \"park\", \"option\", \"eat\", \"lot\", \"corner\", \"walk\", \"plenty\", \"local\", \"market\", \"convenience\", \"block\", \"close\", \"great\", \"subway\", \"side\", \"spot\", \"location\", \"area\", \"neighborhood\", \"away\", \"apartment\", \"right\", \"easy\", \"also\", \"access\", \"perfect\", \"locate\", \"modern\", \"equip\", \"perfectly\", \"conveniently\", \"decorate\", \"nicely\", \"centrally\", \"breeze\", \"furnish\", \"situate\", \"public_transport\", \"appoint\", \"commute\", \"yet\", \"renovate\", \"beautifully\", \"inquiry\", \"ideally\", \"chic\", \"seamless\", \"generally\", \"spotlessly\", \"impeccable\", \"team\", \"outdoor\", \"equipped\", \"without_hesitation\", \"department\", \"immaculately\", \"well\", \"transport\", \"service\", \"apartment\", \"accommodation\", \"fully\", \"necessary\", \"excellent\", \"spotless\", \"group\", \"accessible\", \"spacious\", \"amenity\", \"recommend\", \"facility\", \"quiet\", \"comfortable\", \"clean\", \"highly\", \"building\", \"large\", \"beautiful\", \"build\", \"view\", \"neighborhood\", \"family\", \"responsive\", \"area\", \"stay\", \"nice\", \"host\", \"good\", \"perfect\", \"need\", \"reservation\", \"cancel\", \"bad\", \"stair\", \"process\", \"dirty\", \"lock\", \"mattress\", \"elevator\", \"heat\", \"fix\", \"adult\", \"aware\", \"enter\", \"wrong\", \"state\", \"curtain\", \"toilet_paper\", \"construction\", \"suitcase\", \"housing\", \"landlord\", \"climb\", \"cover\", \"code\", \"hostel\", \"cleaning\", \"control\", \"charge\", \"shampoo\", \"arrival\", \"unfortunately\", \"pay\", \"tell\", \"door\", \"day\", \"review\", \"say\", \"smell\", \"floor\", \"host\", \"call\", \"issue\", \"key\", \"leave\", \"first\", \"airbnb\", \"never\", \"however\", \"open\", \"take\", \"apartment\", \"ask\", \"problem\", \"go\", \"get\", \"work\", \"find\", \"noise\", \"min\", \"loud\", \"noisy\", \"description\", \"common\", \"lack\", \"reasonable\", \"sound\", \"heating\", \"earplug\", \"traffic\", \"soho\", \"chinatown\", \"dish\", \"light_sleeper\", \"road\", \"suitable\", \"minor\", \"grocery_store\", \"prime\", \"luxury\", \"typical\", \"sized\", \"surprisingly\", \"though\", \"tenant\", \"timely\", \"solid\", \"additional\", \"price\", \"hear\", \"main\", \"bit\", \"good\", \"level\", \"sleep\", \"night\", \"street\", \"accurate\", \"little\", \"expect\", \"overall\", \"old\", \"deal\", \"value\", \"basic\", \"location\", \"quite\", \"people\", \"pretty\", \"small\", \"fine\", \"apartment\", \"place\", \"building\", \"however\", \"look\", \"stay\", \"bedroom\", \"much\", \"get\", \"check\", \"late\", \"early\", \"parking\", \"pick\", \"crash\", \"head\", \"drop\", \"checkout\", \"delay\", \"schedule\", \"drive\", \"somewhere\", \"decor\", \"chill\", \"improve\", \"arrange\", \"read\", \"smoothly\", \"meeting\", \"bonus\", \"type\", \"fault\", \"effort\", \"def\", \"arrangement\", \"mile\", \"vibrant\", \"heartbeat\", \"flexibility\", \"let\", \"flexible\", \"simple\", \"flight\", \"allow\", \"bag\", \"luggage\", \"easy\", \"accommodate\", \"able\", \"arrive\", \"sure\", \"make\", \"later\", \"key\", \"get\", \"leave\", \"even\", \"find\", \"hour\", \"night\", \"time\", \"need\", \"stay\", \"also\", \"go\", \"appreciate\", \"place\", \"super\", \"apartment\", \"question\", \"respond\", \"quickly\", \"answer\", \"message\", \"transportation\", \"public\", \"instruction\", \"request\", \"reply\", \"clear\", \"willing\", \"promptly\", \"understand\", \"prior\", \"bottle\", \"ease\", \"dust\", \"query\", \"detailed\", \"disappointed\", \"agree\", \"safety\", \"reactive\", \"correct\", \"surely\", \"encounter\", \"connected\", \"availability\", \"lounge\", \"describe\", \"always\", \"concern\", \"quick\", \"immediately\", \"fast\", \"exactly\", \"available\", \"help\", \"property\", \"maintain\", \"information\", \"picture\", \"need\", \"host\", \"give\", \"provide\", \"show\", \"photo\", \"apartment\", \"helpful\"], \"Total\": [191111.0, 55529.0, 118502.0, 79640.0, 189731.0, 151113.0, 39973.0, 94791.0, 52332.0, 116314.0, 50158.0, 114265.0, 33415.0, 59181.0, 42523.0, 186200.0, 42020.0, 74702.0, 28752.0, 20394.0, 71191.0, 46764.0, 50726.0, 18798.0, 26840.0, 30357.0, 37742.0, 23005.0, 25333.0, 17720.0, 30357.75390625, 25363.08984375, 8005.5732421875, 5381.64404296875, 3819.171875, 3535.84765625, 2125.201416015625, 1807.9434814453125, 1634.9222412109375, 1438.4993896484375, 1385.560302734375, 1252.337890625, 1133.7490234375, 1072.4227294921875, 962.5263671875, 710.2229614257812, 694.5897827148438, 693.0282592773438, 673.6383056640625, 629.35498046875, 602.8287963867188, 585.6615600585938, 577.27978515625, 566.4478149414062, 562.3462524414062, 551.3516235351562, 537.931640625, 532.8135375976562, 512.6215209960938, 504.271484375, 28966.103515625, 34605.59375, 19264.35546875, 2069.333251953125, 4054.207763671875, 3675.464111328125, 2191.396728515625, 46764.75390625, 25652.8359375, 15345.001953125, 14972.2216796875, 23503.021484375, 38745.40234375, 31491.2109375, 8542.6640625, 6249.251953125, 34447.12109375, 54436.96484375, 18553.138671875, 12112.185546875, 186200.046875, 45144.26171875, 21726.2578125, 14980.6943359375, 18918.15234375, 10093.6533203125, 18353.23828125, 189731.78125, 18513.421875, 24999.666015625, 22641.638671875, 14928.4208984375, 55511.22265625, 116314.6484375, 19896.03125, 43036.13671875, 25347.97265625, 94791.5, 58687.61328125, 2391.516845703125, 1269.8006591796875, 836.1573486328125, 826.7103271484375, 558.1309814453125, 540.3944702148438, 530.24951171875, 399.3447570800781, 325.95025634765625, 319.4896240234375, 269.159423828125, 258.4690856933594, 244.77488708496094, 238.7771453857422, 232.40899658203125, 218.80039978027344, 210.1315460205078, 204.41831970214844, 192.11949157714844, 180.48165893554688, 178.63511657714844, 178.54107666015625, 175.9003143310547, 168.55825805664062, 165.92556762695312, 163.8363037109375, 163.09425354003906, 161.8421630859375, 157.7321319580078, 157.65989685058594, 191111.625, 118502.1640625, 11432.2666015625, 24961.09765625, 71191.2109375, 45144.26171875, 189731.78125, 116314.6484375, 33115.15625, 3993.74853515625, 559.7625122070312, 23180.517578125, 14110.6591796875, 114265.75, 186200.046875, 31491.2109375, 20172.03515625, 43036.13671875, 22742.291015625, 1380.6519775390625, 7925.333984375, 11196.1806640625, 15479.1123046875, 74702.5625, 24191.7734375, 19773.74609375, 18918.15234375, 58687.61328125, 16468.208984375, 20902.15234375, 37437.9609375, 151113.6875, 38745.40234375, 55511.22265625, 94791.5, 50726.73828125, 54220.92578125, 26840.5703125, 10830.970703125, 8549.8681640625, 6069.61328125, 4608.3779296875, 3328.66943359375, 3146.162109375, 3070.72314453125, 2951.1611328125, 2942.711669921875, 2647.70703125, 2481.88232421875, 2128.780029296875, 1965.7269287109375, 1821.3387451171875, 1706.660888671875, 1585.4705810546875, 1577.2210693359375, 1502.2877197265625, 1463.0946044921875, 1312.5108642578125, 1269.2762451171875, 1255.3076171875, 1190.708251953125, 1134.9012451171875, 1050.994384765625, 994.7852172851562, 987.3330078125, 959.0238037109375, 935.7135009765625, 2738.529541015625, 17887.298828125, 2706.502685546875, 79640.3671875, 5438.625, 42020.23046875, 8983.11328125, 9941.6298828125, 21106.0703125, 6778.7822265625, 4371.47021484375, 6998.626953125, 22076.484375, 14397.234375, 18147.72265625, 5392.1796875, 37437.9609375, 10725.1015625, 12635.171875, 114265.75, 17727.587890625, 58687.61328125, 7203.548828125, 74702.5625, 43895.765625, 21742.521484375, 12842.6201171875, 55511.22265625, 16320.7783203125, 17440.556640625, 54220.92578125, 52332.94921875, 186200.046875, 28752.107421875, 23005.23828125, 9501.8876953125, 7119.123046875, 4773.6494140625, 3968.295654296875, 2946.4423828125, 1431.1942138671875, 1218.3251953125, 1217.3919677734375, 1201.6864013671875, 1054.1251220703125, 1000.4243774414062, 834.9865112304688, 829.4395141601562, 785.5152587890625, 729.9747314453125, 713.2439575195312, 614.73583984375, 577.0726928710938, 535.5942993164062, 516.5308837890625, 496.2518615722656, 469.691650390625, 465.1981506347656, 454.1029052734375, 447.0653076171875, 441.4842224121094, 420.6190490722656, 400.39886474609375, 2022.45068359375, 4061.208984375, 20416.603515625, 6462.89794921875, 42523.22265625, 8893.6103515625, 10949.93359375, 18540.21484375, 59181.22265625, 50158.53125, 24672.111328125, 1928.28857421875, 74702.5625, 5793.5048828125, 4314.11083984375, 18570.986328125, 55511.22265625, 20554.033203125, 189731.78125, 94791.5, 8787.8505859375, 43895.765625, 114265.75, 31535.236328125, 40201.69921875, 54436.96484375, 186200.046875, 34447.12109375, 20902.15234375, 79640.3671875, 50726.73828125, 71191.2109375, 27105.85546875, 39973.51953125, 16624.986328125, 15123.8505859375, 14431.0205078125, 9824.5869140625, 4396.27392578125, 4221.78515625, 3944.86669921875, 3322.203125, 3252.052490234375, 2677.201904296875, 2607.872802734375, 2207.990478515625, 2175.560791015625, 1736.9835205078125, 1495.1282958984375, 1474.6468505859375, 1393.1153564453125, 1334.959716796875, 1312.92724609375, 1294.912353515625, 1268.1949462890625, 1263.9288330078125, 1199.3724365234375, 1100.1611328125, 1085.7357177734375, 1074.477294921875, 1061.73681640625, 1048.678466796875, 997.6948852539062, 12296.451171875, 11822.7138671875, 16294.9873046875, 18610.93359375, 9374.357421875, 6019.20068359375, 10067.5029296875, 29767.34375, 6632.58251953125, 50158.53125, 9836.3193359375, 9455.3466796875, 3100.494384765625, 2122.729736328125, 18570.986328125, 59181.22265625, 191111.625, 42523.22265625, 6258.0048828125, 14981.3125, 118502.1640625, 34212.7734375, 31535.236328125, 24672.111328125, 151113.6875, 20330.0390625, 50726.73828125, 43895.765625, 15569.736328125, 43036.13671875, 33415.7578125, 8573.564453125, 6239.70458984375, 6182.42626953125, 5719.3017578125, 5436.9580078125, 3902.336669921875, 2293.310302734375, 2213.8427734375, 2117.983642578125, 2118.342041015625, 1739.2978515625, 1683.984130859375, 1653.901123046875, 1213.5260009765625, 1084.5679931640625, 1024.8782958984375, 1013.3018188476562, 996.655517578125, 970.3704223632812, 969.9556274414062, 909.1074829101562, 815.3009033203125, 702.468994140625, 695.3626098632812, 687.8355712890625, 684.4612426757812, 656.69140625, 646.5125122070312, 628.5239868164062, 52332.94921875, 1264.64501953125, 3947.22802734375, 151113.6875, 7183.35009765625, 3148.056396484375, 2218.151611328125, 19773.74609375, 2936.70166015625, 5926.6796875, 4850.91748046875, 20410.37109375, 14673.537109375, 71191.2109375, 2205.800048828125, 27105.85546875, 58687.61328125, 114265.75, 24961.09765625, 12702.5, 10725.1015625, 16571.279296875, 8391.4345703125, 13908.4375, 31535.236328125, 13796.4287109375, 20172.03515625, 34212.7734375, 186200.046875, 74702.5625, 116314.6484375, 94791.5, 43036.13671875, 54220.92578125, 12686.1494140625, 12603.0009765625, 5846.4072265625, 4430.06103515625, 4231.54541015625, 4032.102783203125, 3571.532958984375, 3278.1015625, 3200.719970703125, 3067.153564453125, 2568.156494140625, 1980.119140625, 1870.79150390625, 1838.5386962890625, 1446.572265625, 1411.97119140625, 1338.5369873046875, 1336.198486328125, 1280.5645751953125, 1279.9197998046875, 1198.0467529296875, 1173.7454833984375, 1133.99560546875, 1097.1168212890625, 1093.7540283203125, 1086.8614501953125, 1054.4130859375, 1026.861328125, 983.6118774414062, 969.79150390625, 16647.99609375, 2309.0068359375, 4204.833984375, 4643.93115234375, 12139.455078125, 37742.34375, 2583.014404296875, 10749.189453125, 3119.314453125, 13060.5732421875, 116314.6484375, 3795.596435546875, 11576.4765625, 9075.8857421875, 13119.2314453125, 14972.2216796875, 19264.35546875, 7709.3193359375, 7347.0849609375, 6982.408203125, 18540.21484375, 151113.6875, 8353.4912109375, 10893.5283203125, 34447.12109375, 40201.69921875, 17440.556640625, 20981.861328125, 10155.802734375, 4560.2158203125, 4126.65283203125, 3837.468017578125, 3475.22509765625, 2364.24609375, 1990.4710693359375, 1962.4207763671875, 1959.859619140625, 1897.961181640625, 1646.9974365234375, 1499.005859375, 1454.436279296875, 1398.5980224609375, 1306.7447509765625, 1255.500732421875, 1254.266357421875, 1229.7080078125, 1160.254150390625, 1135.519287109375, 1059.365966796875, 1054.4100341796875, 1042.9058837890625, 990.6119995117188, 974.8162841796875, 943.4293823242188, 901.3148803710938, 804.6832885742188, 803.8190307617188, 796.4703979492188, 17139.232421875, 4984.6728515625, 4219.38525390625, 12850.966796875, 94791.5, 2157.17431640625, 17727.587890625, 34672.62109375, 13993.5546875, 2353.264892578125, 22255.947265625, 15687.62109375, 15723.5810546875, 5217.67431640625, 4068.8623046875, 14110.6591796875, 4553.2021484375, 118502.1640625, 10189.4072265625, 21742.521484375, 10518.6787109375, 22076.484375, 6031.1484375, 151113.6875, 189731.78125, 12702.5, 7347.0849609375, 22135.525390625, 186200.046875, 21106.0703125, 21726.2578125, 40201.69921875, 55529.97265625, 10380.3837890625, 7118.21435546875, 6571.27392578125, 2710.282470703125, 2622.5244140625, 2447.501220703125, 2236.23779296875, 1805.8746337890625, 1728.0157470703125, 1713.839111328125, 1693.2042236328125, 1487.9129638671875, 1355.065673828125, 1258.468505859375, 1190.3919677734375, 1172.4710693359375, 1107.8465576171875, 1040.3829345703125, 986.9702758789062, 961.7069702148438, 931.9176025390625, 869.0986328125, 863.3253173828125, 854.0203247070312, 847.9002075195312, 813.0496215820312, 805.7730712890625, 797.6988525390625, 747.9921875, 7344.74462890625, 5926.4189453125, 5801.33349609375, 6059.4853515625, 5076.97119140625, 3722.1748046875, 5583.5048828125, 50726.73828125, 16468.208984375, 9004.6201171875, 10781.087890625, 14980.6943359375, 46764.75390625, 2831.286376953125, 9075.8857421875, 40201.69921875, 13119.2314453125, 24999.666015625, 20981.861328125, 7585.96044921875, 34672.62109375, 54436.96484375, 54220.92578125, 186200.046875, 43895.765625, 34447.12109375, 7206.44384765625, 189731.78125, 33115.15625, 151113.6875, 20394.3046875, 18798.83984375, 12358.2265625, 10481.60546875, 9130.25, 6926.53955078125, 5285.10791015625, 4726.28955078125, 4561.201171875, 4257.6533203125, 4169.53125, 2382.89892578125, 2066.970947265625, 1583.156494140625, 1524.3885498046875, 1355.044921875, 1264.45703125, 1221.427490234375, 1071.59912109375, 1066.3990478515625, 1066.610107421875, 892.8692626953125, 889.98291015625, 788.645751953125, 770.5552368164062, 765.5711059570312, 746.5509033203125, 723.3191528320312, 718.5090942382812, 712.62109375, 8866.26171875, 17720.576171875, 3227.816162109375, 25333.6953125, 3227.78076171875, 8773.58203125, 11389.015625, 13418.392578125, 16699.892578125, 2994.951171875, 2009.393310546875, 3116.82373046875, 12287.24609375, 54220.92578125, 116314.6484375, 18553.138671875, 16320.7783203125, 6810.91552734375, 6939.5244140625, 151113.6875, 22742.291015625], \"loglift\": [30.0, 29.0, 28.0, 27.0, 26.0, 25.0, 24.0, 23.0, 22.0, 21.0, 20.0, 19.0, 18.0, 17.0, 16.0, 15.0, 14.0, 13.0, 12.0, 11.0, 10.0, 9.0, 8.0, 7.0, 6.0, 5.0, 4.0, 3.0, 2.0, 1.0, 1.847599983215332, 1.847599983215332, 1.847499966621399, 1.8473999500274658, 1.8473000526428223, 1.8473000526428223, 1.847100019454956, 1.847000002861023, 1.8468999862670898, 1.8467999696731567, 1.8467999696731567, 1.8466999530792236, 1.84660005569458, 1.84660005569458, 1.846500039100647, 1.8459999561309814, 1.8459999561309814, 1.8459999561309814, 1.8459999561309814, 1.8458000421524048, 1.8458000421524048, 1.8457000255584717, 1.8457000255584717, 1.8456000089645386, 1.8456000089645386, 1.8456000089645386, 1.8454999923706055, 1.8454999923706055, 1.8453999757766724, 1.8453999757766724, 1.6691999435424805, 1.6500999927520752, 1.4802000522613525, 1.7081999778747559, 1.6171000003814697, 1.6279000043869019, 1.683500051498413, 1.2998000383377075, 1.3631999492645264, 1.4291000366210938, 1.4103000164031982, 1.3394999504089355, 1.1801999807357788, 1.1821999549865723, 1.413100004196167, 1.4605000019073486, 1.0891000032424927, 0.9629999995231628, 1.1978000402450562, 1.285599946975708, 0.6265000104904175, 0.9532999992370605, 1.125599980354309, 1.2002999782562256, 1.121399998664856, 1.2996000051498413, 1.0895999670028687, 0.2500999867916107, 1.0601999759674072, 0.9010999798774719, 0.916700005531311, 1.121399998664856, 0.4036000072956085, -0.026599999517202377, 0.9358999729156494, 0.38760000467300415, 0.7559999823570251, -0.4345000088214874, -0.1421000063419342, 1.8676999807357788, 1.8672000169754028, 1.8667999505996704, 1.8667000532150269, 1.8660999536514282, 1.8660000562667847, 1.8659000396728516, 1.8652000427246094, 1.8645999431610107, 1.8645000457763672, 1.863800048828125, 1.8636000156402588, 1.8633999824523926, 1.8632999658584595, 1.8631000518798828, 1.8628000020980835, 1.8625999689102173, 1.8624000549316406, 1.8621000051498413, 1.8617000579833984, 1.8616000413894653, 1.8616000413894653, 1.8615000247955322, 1.861199975013733, 1.8610999584197998, 1.8609999418258667, 1.8609999418258667, 1.8609000444412231, 1.860700011253357, 1.860700011253357, 1.5822999477386475, 1.40910005569458, 1.5322999954223633, 1.432800054550171, 1.2151999473571777, 1.2407000064849854, 1.0379999876022339, 1.0957000255584717, 1.2223000526428223, 1.4682999849319458, 1.721500039100647, 1.2223999500274658, 1.2878999710083008, 0.9868999719619751, 0.9174000024795532, 1.146399974822998, 1.1959999799728394, 1.0686999559402466, 1.1664999723434448, 1.5963000059127808, 1.3143999576568604, 1.246899962425232, 1.1460000276565552, 0.7397000193595886, 0.9865000247955322, 0.9653000235557556, 0.9506999850273132, 0.6474000215530396, 0.9696000218391418, 0.8733999729156494, 0.6895999908447266, 0.1768999993801117, 0.6247000098228455, 0.4544000029563904, 0.13429999351501465, 0.39879998564720154, 0.13850000500679016, 2.218100070953369, 2.218100070953369, 2.2179999351501465, 2.2179999351501465, 2.217900037765503, 2.2177999019622803, 2.2177999019622803, 2.2177999019622803, 2.2177999019622803, 2.2177999019622803, 2.2177000045776367, 2.2177000045776367, 2.217600107192993, 2.217600107192993, 2.2174999713897705, 2.2174999713897705, 2.2174999713897705, 2.2174999713897705, 2.217400074005127, 2.217400074005127, 2.2172999382019043, 2.2172999382019043, 2.2172999382019043, 2.2172000408172607, 2.2172000408172607, 2.217099905014038, 2.2170000076293945, 2.2170000076293945, 2.2170000076293945, 2.2170000076293945, 2.190000057220459, 2.1140999794006348, 2.1684999465942383, 1.972499966621399, 2.124300003051758, 1.9865000247955322, 2.0899999141693115, 2.0764999389648438, 2.021899938583374, 2.0195999145507812, 2.0153000354766846, 1.8976999521255493, 1.5492000579833984, 1.631600022315979, 1.5437999963760376, 1.882200002670288, 1.2798999547958374, 1.6685999631881714, 1.5599000453948975, 0.6201000213623047, 1.3667999505996704, 0.7383999824523926, 1.7411999702453613, 0.5695000290870667, 0.8359000086784363, 1.106600046157837, 1.399399995803833, 0.2930999994277954, 1.0979000329971313, 1.0298000574111938, 0.10700000077486038, 0.1225999966263771, -1.1792000532150269, 2.2690000534057617, 2.2690000534057617, 2.268899917602539, 2.268899917602539, 2.2688000202178955, 2.268699884414673, 2.2685999870300293, 2.268199920654297, 2.2681000232696533, 2.2681000232696533, 2.2681000232696533, 2.2679998874664307, 2.267899990081787, 2.267699956893921, 2.267699956893921, 2.2676000595092773, 2.2674999237060547, 2.267400026321411, 2.267199993133545, 2.2671000957489014, 2.266900062561035, 2.2667999267578125, 2.2667999267578125, 2.2665998935699463, 2.2665998935699463, 2.2664999961853027, 2.2664999961853027, 2.2664999961853027, 2.2662999629974365, 2.266200065612793, 2.198499917984009, 2.1524999141693115, 1.9955999851226807, 2.039900064468384, 1.8646999597549438, 1.933899998664856, 1.8176000118255615, 1.7369999885559082, 1.5379999876022339, 1.5022000074386597, 1.605299949645996, 2.0522000789642334, 1.3206000328063965, 1.8207999467849731, 1.8795000314712524, 1.544600009918213, 1.2879999876022339, 1.371399998664856, 0.7163000106811523, 0.6455000042915344, 1.496000051498413, 0.8389000296592712, 0.3716000020503998, 0.899399995803833, 0.7757999897003174, 0.6096000075340271, -0.00860000029206276, 0.800000011920929, 1.0736000537872314, 0.23770000040531158, 0.3682999908924103, 0.008700000122189522, 0.7265999913215637, 2.332900047302246, 2.332900047302246, 2.332900047302246, 2.332900047302246, 2.3327999114990234, 2.33270001411438, 2.33270001411438, 2.33270001411438, 2.3326001167297363, 2.3326001167297363, 2.3324999809265137, 2.3324999809265137, 2.33240008354187, 2.33240008354187, 2.3322999477386475, 2.332200050354004, 2.332200050354004, 2.3320999145507812, 2.3320999145507812, 2.3320999145507812, 2.3320999145507812, 2.3320999145507812, 2.3320999145507812, 2.3320000171661377, 2.331899881362915, 2.331899881362915, 2.331899881362915, 2.331899881362915, 2.331899881362915, 2.3317999839782715, 2.1863999366760254, 2.1433000564575195, 2.1050000190734863, 2.046299934387207, 2.109600067138672, 2.1094000339508057, 2.0060999393463135, 1.8264000415802002, 2.063999891281128, 1.708400011062622, 1.968000054359436, 1.9682999849319458, 2.1624999046325684, 2.2435998916625977, 1.6699999570846558, 1.2932000160217285, 0.921999990940094, 1.2319999933242798, 1.9119000434875488, 1.5181000232696533, 0.5799000263214111, 1.1382999420166016, 1.1546000242233276, 1.2173000574111938, 0.18649999797344208, 1.2750999927520752, 0.5386000275611877, 0.5116000175476074, 1.3171000480651855, 0.22040000557899475, 2.3575000762939453, 2.3573999404907227, 2.357300043106079, 2.357300043106079, 2.357300043106079, 2.357300043106079, 2.3571999073028564, 2.3570001125335693, 2.3570001125335693, 2.3570001125335693, 2.3570001125335693, 2.356800079345703, 2.356800079345703, 2.356800079345703, 2.356600046157837, 2.3564999103546143, 2.3564000129699707, 2.3564000129699707, 2.3564000129699707, 2.356300115585327, 2.356300115585327, 2.356300115585327, 2.356100082397461, 2.3559000492095947, 2.3559000492095947, 2.3559000492095947, 2.3559000492095947, 2.355799913406372, 2.355799913406372, 2.3557000160217285, 2.1089000701904297, 2.2797000408172607, 2.1222000122070312, 1.5312000513076782, 2.001300096511841, 2.110100030899048, 2.160900115966797, 1.7355999946594238, 2.1040000915527344, 1.9400999546051025, 1.965499997138977, 1.598099946975708, 1.5648000240325928, 1.05840003490448, 2.118000030517578, 1.2910000085830688, 1.032099962234497, 0.8008999824523926, 1.3158999681472778, 1.5126999616622925, 1.496399998664856, 1.2888000011444092, 1.5676000118255615, 1.260200023651123, 0.7443000078201294, 1.2355999946594238, 0.988099992275238, 0.656000018119812, -0.4327000081539154, 0.022299999371170998, -0.42500001192092896, -0.2849999964237213, 0.2948000133037567, 0.06520000100135803, 2.476099967956543, 2.476099967956543, 2.4760000705718994, 2.4758999347686768, 2.4758999347686768, 2.4758999347686768, 2.475800037384033, 2.475800037384033, 2.475800037384033, 2.475800037384033, 2.4756999015808105, 2.475600004196167, 2.475600004196167, 2.4755001068115234, 2.475399971008301, 2.475399971008301, 2.4753000736236572, 2.4753000736236572, 2.4753000736236572, 2.4753000736236572, 2.4751999378204346, 2.4751999378204346, 2.4751999378204346, 2.475100040435791, 2.475100040435791, 2.475100040435791, 2.475100040435791, 2.475100040435791, 2.4749999046325684, 2.4749999046325684, 2.3534998893737793, 2.439199924468994, 2.3459999561309814, 2.306299924850464, 2.185800075531006, 2.02620005607605, 2.341599941253662, 2.033900022506714, 2.277400016784668, 1.9107999801635742, 1.0382000207901, 2.117799997329712, 1.7223000526428223, 1.780500054359436, 1.5657000541687012, 1.438099980354309, 1.2967000007629395, 1.732100009918213, 1.7274999618530273, 1.7122999429702759, 1.0706000328063965, -0.37380000948905945, 1.5638999938964844, 1.3585000038146973, 0.39980000257492065, 0.1306000053882599, 0.8884000182151794, 0.6227999925613403, 2.52239990234375, 2.5223000049591064, 2.5223000049591064, 2.5223000049591064, 2.522200107574463, 2.5220999717712402, 2.5220000743865967, 2.5220000743865967, 2.5220000743865967, 2.521899938583374, 2.521899938583374, 2.5218000411987305, 2.5218000411987305, 2.521699905395508, 2.521699905395508, 2.5216000080108643, 2.5216000080108643, 2.5216000080108643, 2.5216000080108643, 2.5215001106262207, 2.5215001106262207, 2.5215001106262207, 2.5215001106262207, 2.521399974822998, 2.521399974822998, 2.5213000774383545, 2.5213000774383545, 2.5211000442504883, 2.5211000442504883, 2.5211000442504883, 2.279599905014038, 2.338200092315674, 2.328399896621704, 2.1496999263763428, 1.667799949645996, 2.372299909591675, 1.96589994430542, 1.7172000408172607, 1.8787000179290771, 2.318700075149536, 1.7139999866485596, 1.798200011253357, 1.7800999879837036, 2.096100091934204, 2.1379001140594482, 1.7019000053405762, 2.0933001041412354, 0.886900007724762, 1.7447999715805054, 1.4326000213623047, 1.7281999588012695, 1.391700029373169, 1.947700023651123, 0.3197000026702881, 0.11580000072717667, 1.4718999862670898, 1.7553000450134277, 1.0008000135421753, -0.8260999917984009, 0.7975999712944031, 0.7422000169754028, 0.08560000360012054, 2.550800085067749, 2.5506999492645264, 2.5506999492645264, 2.5506999492645264, 2.5504000186920166, 2.5504000186920166, 2.5504000186920166, 2.550299882888794, 2.5501999855041504, 2.5501999855041504, 2.5501999855041504, 2.5501999855041504, 2.550100088119507, 2.549999952316284, 2.5499000549316406, 2.5499000549316406, 2.5499000549316406, 2.549799919128418, 2.5497000217437744, 2.5497000217437744, 2.5497000217437744, 2.5495998859405518, 2.549499988555908, 2.549499988555908, 2.549499988555908, 2.549499988555908, 2.5494000911712646, 2.5494000911712646, 2.5494000911712646, 2.549299955368042, 2.3945000171661377, 2.3661999702453613, 2.333199977874756, 2.296999931335449, 2.2925000190734863, 2.313699960708618, 2.214400053024292, 1.7617000341415405, 1.8919999599456787, 2.015500068664551, 1.9661999940872192, 1.809499979019165, 1.476199984550476, 2.2720999717712402, 1.8598999977111816, 1.3458000421524048, 1.7020000219345093, 1.3760000467300415, 1.4026999473571777, 1.8463000059127808, 1.1067999601364136, 0.8847000002861023, 0.8532999753952026, 0.09139999747276306, 0.670199990272522, 0.8141000270843506, 1.8107000589370728, -0.7760999798774719, 0.4271000027656555, -0.9812999963760376, 3.1758999824523926, 3.1758999824523926, 3.1758999824523926, 3.1758999824523926, 3.175800085067749, 3.175800085067749, 3.175800085067749, 3.1756999492645264, 3.1756999492645264, 3.1756999492645264, 3.1756999492645264, 3.17549991607666, 3.1754000186920166, 3.175299882888794, 3.1751999855041504, 3.175100088119507, 3.175100088119507, 3.174999952316284, 3.1749000549316406, 3.1749000549316406, 3.1749000549316406, 3.1747000217437744, 3.1747000217437744, 3.174499988555908, 3.174499988555908, 3.174499988555908, 3.174499988555908, 3.1744000911712646, 3.1744000911712646, 3.1744000911712646, 2.9528000354766846, 2.8803999423980713, 2.961400032043457, 2.4921000003814697, 2.853800058364868, 2.6203999519348145, 2.52020001411438, 2.454900026321411, 2.292799949645996, 2.7874999046325684, 2.9138998985290527, 2.674499988555908, 1.9521000385284424, 0.826200008392334, 0.3260999917984009, 1.4811999797821045, 1.4951000213623047, 2.0829999446868896, 2.0664000511169434, -0.6144999861717224, 0.941100001335144], \"logprob\": [30.0, 29.0, 28.0, 27.0, 26.0, 25.0, 24.0, 23.0, 22.0, 21.0, 20.0, 19.0, 18.0, 17.0, 16.0, 15.0, 14.0, 13.0, 12.0, 11.0, 10.0, 9.0, 8.0, 7.0, 6.0, 5.0, 4.0, 3.0, 2.0, 1.0, -3.625699996948242, -3.805500030517578, -4.958700180053711, -5.355899810791016, -5.698999881744385, -5.776100158691406, -6.285399913787842, -6.4471001625061035, -6.547800064086914, -6.675899982452393, -6.713399887084961, -6.814599990844727, -6.9141998291015625, -6.969799995422363, -7.078100204467773, -7.382500171661377, -7.404799938201904, -7.4070000648498535, -7.435400009155273, -7.503600120544434, -7.5467000007629395, -7.5756001472473145, -7.590099811553955, -7.609099864959717, -7.616399765014648, -7.636099815368652, -7.660799980163574, -7.670400142669678, -7.709099769592285, -7.725599765777588, -3.8510000705718994, -3.6923000812530518, -4.44789981842041, -6.450900077819824, -5.869500160217285, -5.9567999839782715, -6.418300151824951, -3.7414000034332275, -4.278500080108643, -4.726399898529053, -4.769800186157227, -4.389699935913086, -4.049099922180176, -4.25439977645874, -5.328199863433838, -5.593400001525879, -4.257800102233887, -3.926300048828125, -4.767899990081787, -5.106500148773193, -3.0329999923706055, -4.123199939727783, -4.682199954986572, -4.979300022125244, -4.824900150299072, -5.274799823760986, -4.886899948120117, -3.3905999660491943, -4.907599925994873, -4.76639986038208, -4.849800109863281, -5.061600208282471, -4.466100215911865, -4.156599998474121, -4.960000038146973, -4.736700057983398, -4.897600173950195, -4.769100189208984, -4.956200122833252, -6.1468000411987305, -6.780300140380859, -7.198500156402588, -7.20989990234375, -7.603400230407715, -7.635799884796143, -7.654799938201904, -7.939000129699707, -8.142800331115723, -8.1628999710083, -8.335000038146973, -8.375699996948242, -8.430399894714355, -8.455300331115723, -8.482500076293945, -8.543100357055664, -8.583800315856934, -8.611499786376953, -8.67389965057373, -8.736800193786621, -8.747099876403809, -8.747699737548828, -8.762700080871582, -8.8056001663208, -8.821399688720703, -8.834199905395508, -8.838800430297852, -8.846500396728516, -8.872400283813477, -8.872900009155273, -2.0511999130249023, -2.7023000717163086, -4.917600154876709, -4.236199855804443, -3.4058001041412354, -3.835700035095215, -2.6026999950408936, -3.0343000888824463, -4.164000034332275, -6.033299922943115, -7.744999885559082, -4.520699977874756, -4.951499938964844, -3.1610000133514404, -2.7421000003814697, -4.290200233459473, -4.685999870300293, -4.055600166320801, -4.595600128173828, -6.96750020980835, -5.5019001960754395, -5.223899841308594, -5.000899791717529, -3.8331000804901123, -4.713799953460693, -4.936699867248535, -4.99560022354126, -4.1666998863220215, -5.115300178527832, -4.973100185394287, -4.574100017547607, -3.6914000511169434, -4.604599952697754, -4.41540002822876, -4.200300216674805, -4.561100006103516, -4.754799842834473, -3.3782999515533447, -4.285900115966797, -4.52239990234375, -4.865099906921387, -5.140500068664551, -5.46589994430542, -5.522299766540527, -5.546599864959717, -5.586400032043457, -5.589200019836426, -5.694900035858154, -5.7596001625061035, -5.913099765777588, -5.9928998947143555, -6.069200038909912, -6.134300231933594, -6.208000183105469, -6.213200092315674, -6.261899948120117, -6.288400173187256, -6.39709997177124, -6.430600166320801, -6.441699981689453, -6.49459981918335, -6.542600154876709, -6.619500160217285, -6.674499988555908, -6.68209981918335, -6.71120023727417, -6.735799789428711, -5.688899993896484, -3.888200044631958, -5.722099781036377, -2.53629994392395, -5.06850004196167, -3.1617000102996826, -4.60099983215332, -4.5131001472473145, -3.8148999214172363, -4.953000068664551, -5.395899772644043, -5.042900085449219, -4.242599964141846, -4.587699890136719, -4.443999767303467, -5.319200038909912, -3.9837000370025635, -4.845099925994873, -4.789899826049805, -3.5276999473571777, -4.644400119781494, -4.075699806213379, -5.170599937438965, -4.003399848937988, -4.268599987030029, -4.700399875640869, -4.934100151062012, -4.576600074768066, -4.995999813079834, -4.997799873352051, -4.786300182342529, -4.806099891662598, -4.838699817657471, -3.2585999965667725, -3.481600046157837, -4.365900039672852, -4.654699802398682, -5.0543999671936035, -5.239299774169922, -5.537099838256836, -6.2596001625061035, -6.42080020904541, -6.421500205993652, -6.434500217437744, -6.565700054168701, -6.618000030517578, -6.798999786376953, -6.805699825286865, -6.860199928283691, -6.933599948883057, -6.9567999839782715, -7.1057000160217285, -7.169099807739258, -7.243800163269043, -7.280099868774414, -7.320300102233887, -7.375400066375732, -7.385000228881836, -7.409200191497803, -7.424900054931641, -7.4375, -7.486000061035156, -7.535399913787842, -5.983500003814697, -5.332399845123291, -3.8743999004364014, -4.980299949645996, -3.2716000080108643, -4.767099857330322, -4.6753997802734375, -4.229400157928467, -3.2678000926971436, -3.4690001010894775, -4.075399875640869, -6.177599906921387, -3.25219988822937, -5.308800220489502, -5.545000076293945, -4.420100212097168, -3.5817999839782715, -4.4918999671936035, -2.9244000911712646, -3.6891000270843506, -5.2170000076293945, -4.265600204467773, -3.77620005607605, -4.535900115966797, -4.416600227355957, -4.279699802398682, -3.668100118637085, -4.546899795532227, -4.772900104522705, -4.271100044250488, -4.591599941253662, -4.612199783325195, -4.859899997711182, -2.8652000427246094, -3.7425999641418457, -3.8371999263763428, -3.8840999603271484, -4.268599987030029, -5.07289981842041, -5.113399982452393, -5.181300163269043, -5.353099822998047, -5.374499797821045, -5.568999767303467, -5.595300197601318, -5.7617998123168945, -5.776599884033203, -6.0019001960754395, -6.151899814605713, -6.1656999588012695, -6.222700119018555, -6.2652997970581055, -6.2820000648498535, -6.29580020904541, -6.316699981689453, -6.320099830627441, -6.372499942779541, -6.459000110626221, -6.4721999168396, -6.482600212097168, -6.494500160217285, -6.506899833679199, -6.55679988861084, -4.1905999183654785, -4.2729997634887695, -3.990499973297119, -3.916300058364868, -4.538700103759766, -4.98199987411499, -4.571000099182129, -3.6665000915527344, -4.930300235748291, -3.262700080871582, -4.632299900054932, -4.67140007019043, -5.592299938201904, -5.890100002288818, -4.2947998046875, -3.512500047683716, -2.7114999294281006, -3.9042999744415283, -5.140600204467773, -4.661399841308594, -3.5315001010894775, -4.2154998779296875, -4.280700206756592, -4.463399887084961, -3.68179988861084, -4.5991997718811035, -4.421299934387207, -4.592899799346924, -4.82390022277832, -4.903900146484375, -3.01990008354187, -4.380300045013428, -4.6981000900268555, -4.707300186157227, -4.785200119018555, -4.8358001708984375, -5.167600154876709, -5.6992998123168945, -5.734600067138672, -5.778900146484375, -5.77869987487793, -5.97599983215332, -6.008399963378906, -6.026400089263916, -6.33620023727417, -6.448699951171875, -6.50540018081665, -6.51669979095459, -6.533299922943115, -6.560100078582764, -6.560500144958496, -6.625400066375732, -6.734399795532227, -6.883600234985352, -6.893799781799316, -6.904699802398682, -6.909599781036377, -6.951099872589111, -6.966700077056885, -6.994999885559082, -2.8197999000549316, -6.3719000816345215, -5.39109992980957, -2.337100028991699, -4.913300037384033, -5.62939977645874, -5.928800106048584, -4.166399955749512, -5.704999923706055, -5.166800022125244, -5.341700077056885, -4.272200107574463, -4.635499954223633, -3.5625998973846436, -5.977200031280518, -4.295599937438965, -3.7820000648498535, -3.34689998626709, -4.353099822998047, -4.831900119781494, -5.017399787902832, -4.78980016708374, -5.191500186920166, -4.993599891662598, -4.690999984741211, -5.026299953460693, -4.893899917602539, -4.697800159454346, -4.092199802398682, -4.55049991607666, -4.555099964141846, -4.61959981918335, -4.829500198364258, -4.828000068664551, -3.8696999549865723, -3.876300096511841, -4.644499778747559, -4.921999931335449, -4.967899799346924, -5.016200065612793, -5.137499809265137, -5.223299980163574, -5.247099876403809, -5.28980016708374, -5.467400074005127, -5.72760009765625, -5.78439998626709, -5.801799774169922, -6.041800022125244, -6.065999984741211, -6.1194000244140625, -6.121200084686279, -6.16379976272583, -6.164299964904785, -6.230400085449219, -6.250899791717529, -6.285399913787842, -6.31850004196167, -6.321599960327148, -6.327899932861328, -6.35830020904541, -6.384799957275391, -6.4278998374938965, -6.441999912261963, -3.720599889755249, -5.610300064086914, -5.104100227355957, -5.044400215148926, -4.203999996185303, -3.2293999195098877, -5.595799922943115, -4.47760009765625, -5.47130012512207, -4.405900001525879, -3.091900110244751, -5.434700012207031, -4.715099811553955, -4.900199890136719, -4.746600151062012, -4.742000102996826, -4.631400108337402, -5.111800193786621, -5.164599895477295, -5.230599880218506, -4.8958001136779785, -4.242099761962891, -5.199699878692627, -5.139699935913086, -4.9471001625061035, -5.061800003051758, -5.139100074768066, -5.219799995422363, -4.045899868011475, -4.846700191497803, -4.946599960327148, -5.0192999839782715, -5.118500232696533, -5.503799915313721, -5.676000118255615, -5.690199851989746, -5.691500186920166, -5.723599910736084, -5.865499973297119, -5.959700107574463, -5.989999771118164, -6.029099941253662, -6.097099781036377, -6.137199878692627, -6.1381001472473145, -6.157899856567383, -6.216100215911865, -6.23769998550415, -6.307199954986572, -6.3119001388549805, -6.32289981842041, -6.3744001388549805, -6.390500068664551, -6.4232001304626465, -6.468900203704834, -6.582499980926514, -6.583600044250488, -6.592800140380859, -3.7653000354766846, -4.941800117492676, -5.118299961090088, -4.183199882507324, -2.666800022125244, -5.745299816131592, -4.045400142669678, -3.623199939727783, -4.36899995803833, -5.711900234222412, -4.069699764251709, -4.335299968719482, -4.351099967956543, -5.138199806213379, -5.345099925994873, -4.537499904632568, -5.277200222015381, -3.2244999408721924, -4.820199966430664, -4.374499797821045, -4.804999828338623, -4.400199890136719, -5.14169979095459, -3.5485999584198, -3.524899959564209, -4.872600078582764, -5.1367998123168945, -4.788400173187256, -4.485599994659424, -5.0391998291015625, -5.0655999183654785, -5.106800079345703, -2.3185999393463135, -3.995699882507324, -4.373000144958496, -4.453000068664551, -5.338900089263916, -5.371799945831299, -5.440899848937988, -5.531199932098389, -5.745100021362305, -5.7891998291015625, -5.797399997711182, -5.809500217437744, -5.938899993896484, -6.03249979019165, -6.106500148773193, -6.162199974060059, -6.1774001121521, -6.234099864959717, -6.296999931335449, -6.349800109863281, -6.375699996948242, -6.407199859619141, -6.477099895477295, -6.483799934387207, -6.49459981918335, -6.501800060272217, -6.543900012969971, -6.5528998374938965, -6.562900066375732, -6.627399921417236, -4.497900009155273, -4.740799903869629, -4.795100212097168, -4.787700176239014, -4.969200134277344, -5.258399963378906, -4.952099800109863, -3.198199987411499, -4.19290018081665, -4.673099994659424, -4.542300224304199, -4.369999885559082, -3.565000057220459, -5.573500156402588, -4.820799827575684, -3.84660005569458, -4.610300064086914, -4.291500091552734, -4.440000057220459, -5.013800144195557, -4.23360013961792, -4.0046000480651855, -4.039999961853027, -3.5680999755859375, -4.434299945831299, -4.532800197601318, -5.100599765777588, -4.416800022125244, -4.9593000411987305, -4.849599838256836, -2.695199966430664, -2.776599884033203, -3.1960999965667725, -3.3608999252319336, -3.4988999366760254, -3.7751998901367188, -4.0457000732421875, -4.15749979019165, -4.192999839782715, -4.261899948120117, -4.282800197601318, -4.84250020980835, -4.984799861907959, -5.251699924468994, -5.2895002365112305, -5.407400131225586, -5.476600170135498, -5.511300086975098, -5.642300128936768, -5.64709997177124, -5.646900177001953, -5.824900150299072, -5.828199863433838, -5.94920015335083, -5.972499847412109, -5.979000091552734, -6.004199981689453, -6.035799980163574, -6.042500019073486, -6.05079984664917, -3.751300096511841, -3.131200075149536, -4.753200054168701, -3.162100076675415, -4.8607001304626465, -4.094200134277344, -3.933500051498413, -3.8348000049591064, -3.7781999111175537, -5.0019001960754395, -5.274600028991699, -5.074999809265137, -4.425600051879883, -4.0671000480651855, -3.8039000034332275, -4.484499931335449, -4.598800182342529, -4.884799957275391, -4.882699966430664, -4.482800006866455, -4.821000099182129]}, \"token.table\": {\"Topic\": [1, 3, 4, 5, 7, 8, 9, 1, 2, 6, 2, 3, 4, 5, 6, 8, 9, 10, 4, 6, 2, 6, 9, 6, 8, 10, 4, 2, 8, 8, 5, 2, 9, 7, 10, 1, 7, 3, 6, 7, 9, 1, 3, 4, 5, 6, 7, 9, 10, 1, 10, 1, 2, 2, 1, 3, 5, 6, 8, 9, 10, 2, 4, 8, 2, 1, 2, 3, 4, 5, 6, 7, 8, 9, 10, 1, 4, 6, 1, 3, 6, 9, 1, 2, 3, 4, 5, 6, 8, 9, 9, 9, 7, 9, 10, 1, 7, 9, 10, 1, 2, 7, 9, 10, 10, 3, 6, 9, 10, 7, 1, 4, 5, 1, 2, 1, 7, 7, 9, 5, 5, 7, 8, 9, 3, 3, 1, 2, 6, 6, 2, 3, 6, 3, 8, 1, 2, 3, 4, 6, 8, 2, 1, 3, 4, 8, 9, 5, 5, 4, 5, 9, 1, 2, 7, 9, 10, 1, 5, 6, 6, 7, 8, 6, 7, 8, 2, 4, 2, 1, 7, 9, 7, 4, 5, 6, 3, 7, 9, 3, 9, 4, 6, 9, 8, 1, 2, 4, 5, 6, 8, 9, 1, 2, 3, 4, 6, 9, 7, 10, 7, 2, 4, 5, 6, 3, 7, 1, 5, 2, 1, 7, 9, 1, 2, 3, 4, 6, 3, 9, 8, 3, 2, 6, 7, 8, 9, 10, 2, 6, 9, 5, 1, 6, 4, 7, 8, 10, 4, 4, 10, 7, 7, 5, 8, 2, 3, 4, 5, 6, 8, 9, 6, 2, 4, 5, 8, 10, 7, 1, 2, 3, 4, 5, 6, 9, 2, 7, 4, 1, 4, 7, 9, 6, 8, 9, 9, 6, 9, 1, 2, 9, 9, 1, 5, 6, 2, 9, 10, 8, 3, 10, 7, 10, 8, 4, 5, 3, 1, 3, 7, 8, 3, 4, 9, 9, 10, 9, 8, 2, 10, 5, 2, 4, 5, 9, 1, 3, 4, 5, 5, 9, 2, 7, 4, 10, 1, 1, 2, 4, 5, 6, 7, 6, 6, 2, 5, 1, 3, 4, 7, 9, 10, 1, 2, 9, 10, 1, 2, 6, 8, 10, 1, 2, 3, 8, 9, 1, 10, 1, 2, 7, 8, 10, 4, 6, 8, 10, 1, 2, 3, 5, 6, 8, 3, 1, 2, 5, 6, 1, 4, 8, 4, 10, 9, 1, 2, 1, 3, 4, 4, 4, 1, 1, 3, 4, 5, 6, 7, 8, 9, 3, 4, 7, 8, 1, 7, 7, 2, 9, 2, 9, 7, 9, 3, 7, 8, 4, 5, 1, 3, 1, 2, 3, 4, 6, 7, 9, 1, 2, 3, 4, 6, 10, 1, 3, 6, 6, 1, 6, 6, 1, 3, 4, 5, 7, 8, 9, 4, 1, 3, 4, 5, 7, 9, 10, 1, 4, 7, 9, 1, 2, 3, 4, 6, 8, 2, 2, 5, 8, 9, 5, 8, 2, 6, 1, 3, 7, 9, 10, 5, 2, 4, 9, 3, 7, 8, 9, 7, 3, 8, 1, 4, 9, 10, 1, 2, 4, 6, 9, 10, 2, 6, 4, 1, 1, 1, 6, 1, 2, 4, 6, 7, 9, 10, 7, 3, 7, 4, 7, 9, 7, 3, 7, 8, 6, 6, 1, 7, 10, 6, 9, 1, 6, 9, 10, 6, 5, 1, 10, 1, 7, 8, 9, 10, 7, 9, 3, 6, 8, 7, 3, 6, 9, 7, 9, 2, 2, 1, 7, 9, 4, 5, 7, 7, 9, 3, 8, 1, 3, 5, 8, 8, 2, 4, 5, 6, 3, 5, 1, 3, 4, 5, 8, 9, 1, 3, 4, 5, 8, 5, 3, 1, 5, 6, 2, 5, 8, 7, 1, 2, 3, 4, 7, 8, 9, 10, 1, 3, 4, 5, 8, 10, 1, 2, 5, 1, 5, 7, 9, 8, 3, 8, 5, 10, 1, 3, 9, 1, 5, 6, 7, 8, 4, 5, 7, 9, 1, 10, 4, 6, 3, 9, 8, 1, 2, 8, 4, 6, 3, 4, 1, 2, 3, 4, 8, 9, 5, 4, 4, 5, 3, 6, 5, 1, 2, 3, 4, 5, 6, 8, 9, 10, 1, 2, 4, 5, 6, 4, 1, 3, 4, 7, 8, 9, 10, 1, 2, 4, 5, 7, 8, 9, 2, 3, 4, 6, 6, 2, 1, 3, 4, 7, 8, 9, 8, 8, 4, 7, 8, 1, 3, 5, 7, 5, 8, 6, 2, 3, 8, 9, 1, 5, 4, 5, 9, 3, 3, 7, 1, 2, 3, 4, 6, 7, 8, 1, 2, 4, 5, 6, 9, 6, 2, 6, 7, 8, 10, 9, 1, 2, 3, 4, 7, 8, 9, 10, 3, 1, 2, 3, 4, 5, 8, 9, 3, 5, 3, 4, 8, 9, 2, 8, 8, 10, 3, 3, 3, 4, 7, 8, 9, 10, 7, 10, 8, 10, 1, 3, 5, 6, 9, 10, 10, 6, 10, 10, 2, 4, 9, 10, 10, 2, 3, 4, 5, 6, 8, 3, 4, 8, 10, 9, 1, 2, 3, 4, 8, 2, 4, 1, 2, 4, 6, 1, 2, 7, 6, 10, 10, 7, 10, 4, 2, 6, 8, 9, 10, 5, 1, 7, 4, 1, 4, 5, 8, 9, 8, 2, 3, 4, 3, 1, 1, 2, 3, 4, 5, 6, 10, 1, 7, 9, 6, 3, 5, 6, 7, 7, 1, 3, 3, 7, 5, 5, 1, 3, 4, 7, 9, 10, 3, 7, 3, 5, 8, 3, 9, 6, 8, 3, 8, 3, 5, 6, 8, 3, 7, 1, 9, 4, 8, 3, 8, 8, 3, 9, 1, 2, 8, 1, 2, 3, 5, 9, 2, 3, 4, 5, 6, 2, 1, 6, 1, 1, 2, 5, 9, 6, 9, 6, 4, 8, 2, 3, 7, 7, 4, 4, 1, 2, 3, 4, 5, 6, 8, 9, 4, 5, 5, 5, 8, 9, 2, 1, 2, 6, 4, 5, 8, 7, 1, 2, 3, 4, 5, 6, 9, 1, 9, 10, 8, 3, 1, 4, 7, 6, 1, 7, 8, 1, 1, 2, 4, 6, 9, 3, 8, 1, 2, 3, 4, 7, 8, 9, 8, 1, 4, 5, 10, 7, 5, 5, 3, 8, 4, 5, 4, 6, 10, 10, 1, 1, 3, 10, 3, 9, 8, 2, 3, 10, 4, 7, 10, 4, 1, 3, 4, 7, 8, 9, 3, 2, 8, 3, 9, 1, 2, 3, 6, 5, 1, 2, 4, 5, 6, 9, 4, 5, 5, 1, 2, 3, 4, 5, 7, 8, 9, 3, 7, 1, 4, 7, 9, 1, 2, 4, 6, 1, 3, 6, 2, 10, 3, 7, 8, 6, 1, 2, 6, 2, 3, 6, 7, 8, 9, 7, 6], \"Freq\": [0.15980684757232666, 0.09484020620584488, 0.04886380583047867, 0.07496152073144913, 0.0333162322640419, 0.0025542443618178368, 0.5854772329330444, 0.6475731730461121, 0.2821134030818939, 0.07023569941520691, 0.1700093001127243, 0.05825403705239296, 0.16904589533805847, 0.36211276054382324, 0.10751627385616302, 6.422716251108795e-05, 0.11458125710487366, 0.01843319647014141, 0.32406240701675415, 0.6757484674453735, 0.4071480929851532, 0.07535731792449951, 0.5174211859703064, 0.7003695964813232, 0.19809699058532715, 0.10148467868566513, 0.9970362186431885, 0.1839996874332428, 0.8154628276824951, 0.9981538653373718, 0.9996763467788696, 0.7619588375091553, 0.2375689148902893, 0.9994348287582397, 0.9990264177322388, 0.6925225257873535, 0.3074590265750885, 0.06913571059703827, 0.13846838474273682, 0.019893750548362732, 0.7723108530044556, 0.14591383934020996, 0.2510037124156952, 0.2392941564321518, 0.16181515157222748, 0.0016402492765337229, 0.0032804985530674458, 0.15249761939048767, 0.04458288848400116, 0.25586074590682983, 0.7441067099571228, 0.5140482187271118, 0.48591336607933044, 0.9991407990455627, 0.13459603488445282, 0.08614146709442139, 0.15047496557235718, 0.45265159010887146, 0.09268385916948318, 0.08341547101736069, 0.9998468160629272, 0.9948955178260803, 0.8898828029632568, 0.10981951653957367, 0.9932906627655029, 0.007901336066424847, 0.18428508937358856, 0.00011249808449065313, 0.03296193853020668, 0.11690536141395569, 0.4376704692840576, 0.05784386768937111, 0.11049296706914902, 0.02924288436770439, 0.022585643455386162, 0.9984142184257507, 0.9995104670524597, 0.9994155764579773, 0.2952912747859955, 0.152641162276268, 0.07493294030427933, 0.4770730435848236, 0.092012420296669, 0.08903107792139053, 0.0946430116891861, 0.14345519244670868, 0.3028108775615692, 0.18241724371910095, 0.09496453404426575, 0.0007014923612587154, 0.998745322227478, 0.9989383220672607, 0.884550929069519, 0.08367373049259186, 0.031715527176856995, 0.11696407943964005, 0.269824355840683, 0.5572721362113953, 0.05583852156996727, 0.28347429633140564, 0.07769206911325455, 0.4016284942626953, 0.08403672277927399, 0.15310963988304138, 0.9978997111320496, 0.1410750150680542, 0.21910224854946136, 0.1535206288099289, 0.4861983358860016, 0.9995769262313843, 0.15734364092350006, 0.5149133801460266, 0.3276979327201843, 0.28515779972076416, 0.7147313952445984, 0.9999570250511169, 0.999759316444397, 0.21089820563793182, 0.7887861728668213, 0.999943733215332, 0.20600886642932892, 0.02635507844388485, 0.650970458984375, 0.11640159785747528, 0.9996065497398376, 0.9999414682388306, 0.3929690718650818, 0.2635282278060913, 0.34348586201667786, 0.9991430044174194, 0.09971387684345245, 0.7931893467903137, 0.1070912703871727, 0.8217540979385376, 0.17819517850875854, 0.13537321984767914, 0.04410569369792938, 0.5562179088592529, 0.13391460478305817, 0.020212214440107346, 0.11009059101343155, 0.9894716739654541, 0.9988704323768616, 0.21282444894313812, 0.0582057386636734, 0.6887419819831848, 0.040152620524168015, 0.9995613694190979, 0.9995510578155518, 0.4846269190311432, 0.5153199434280396, 0.9992648959159851, 0.48377519845962524, 0.1614370346069336, 0.1547383964061737, 0.2000211626291275, 0.9992288947105408, 0.9994347095489502, 0.9995514154434204, 0.9996193051338196, 0.45391523838043213, 0.21796034276485443, 0.3280726373195648, 0.42960047721862793, 0.22058649361133575, 0.3496949374675751, 0.997973620891571, 0.9998422265052795, 0.997419536113739, 0.19311852753162384, 0.6987044215202332, 0.10775645077228546, 0.9999205470085144, 0.9988185167312622, 0.998855710029602, 0.9994286298751831, 0.9989583492279053, 0.9983612895011902, 0.999982476234436, 0.9992257952690125, 0.9995156526565552, 0.998264491558075, 0.9985877275466919, 0.9988331198692322, 0.9988574385643005, 0.3356876075267792, 0.16076236963272095, 0.19622871279716492, 0.12020685523748398, 0.026826603338122368, 0.06276635825634003, 0.0975620448589325, 0.9978470206260681, 0.4142536222934723, 0.2022915929555893, 0.14994870126247406, 0.21085932850837708, 0.02264895662665367, 0.9986598491668701, 0.9996327757835388, 0.9991220235824585, 0.11067699640989304, 0.4814026951789856, 0.35355809330940247, 0.054358456283807755, 0.9996445178985596, 0.9993106126785278, 0.1726337969303131, 0.827305793762207, 0.9967452883720398, 0.8365640044212341, 0.10374195128679276, 0.059621412307024, 0.13672390580177307, 0.29500263929367065, 0.22769710421562195, 0.07485395669937134, 0.2657119333744049, 0.9103403687477112, 0.08936081826686859, 0.9994729161262512, 0.9986498951911926, 0.524233341217041, 0.15763238072395325, 0.0015530283562839031, 0.111559197306633, 0.1631542444229126, 0.04180234670639038, 0.6705479621887207, 0.07061035186052322, 0.25865423679351807, 0.9993035197257996, 0.997711181640625, 0.9994551539421082, 0.9974773526191711, 0.10874225199222565, 0.08395769447088242, 0.8067374229431152, 0.9986646771430969, 0.9994288086891174, 0.9981762766838074, 0.998778223991394, 0.9991611838340759, 0.9143886566162109, 0.0847964733839035, 0.3698183596134186, 4.784196426044218e-05, 0.30255258083343506, 0.14697051048278809, 0.02258140593767166, 0.0978846549987793, 0.060137346386909485, 0.9997723698616028, 0.9939374327659607, 0.2128884196281433, 0.7642573714256287, 0.022766396403312683, 0.9979816675186157, 0.9989820122718811, 0.2019495666027069, 0.4856867790222168, 0.0227403212338686, 0.13611891865730286, 0.03495032340288162, 0.11848224699497223, 0.9994187355041504, 0.9976435303688049, 0.9988517165184021, 0.9985762238502502, 0.17958609759807587, 0.09501264989376068, 0.6376127600669861, 0.08775289356708527, 0.061688005924224854, 0.6807799935340881, 0.2573200762271881, 0.9992135763168335, 0.999823808670044, 0.9988052845001221, 0.40888917446136475, 0.5339770317077637, 0.057127971202135086, 0.9994121789932251, 0.9989317059516907, 0.9992954134941101, 0.9976605176925659, 0.9947963953018188, 0.19985875487327576, 0.799998939037323, 0.9996474981307983, 0.9992374777793884, 0.9986880421638489, 0.9997264742851257, 0.9984904527664185, 0.9994300603866577, 0.20374363660812378, 0.7961957454681396, 0.9997988939285278, 0.997548520565033, 0.11590305715799332, 0.7479742765426636, 0.1360028088092804, 0.9989945292472839, 0.9998639822006226, 0.99928879737854, 0.9994465112686157, 0.9988312721252441, 0.9998294115066528, 0.999394416809082, 0.995358407497406, 0.9988477230072021, 0.9993223547935486, 0.2300758957862854, 0.14944781363010406, 0.16622397303581238, 0.4542180597782135, 0.14889492094516754, 9.932949615176767e-05, 0.12982365489006042, 0.7211321592330933, 0.9986250996589661, 0.9984648823738098, 0.9930616617202759, 0.9997750520706177, 0.9974244236946106, 0.9979225993156433, 0.9977830648422241, 0.39418524503707886, 0.28933417797088623, 0.15723243355751038, 0.05595884844660759, 0.10321690887212753, 0.9991630911827087, 0.9998871088027954, 0.9978651404380798, 0.9943162202835083, 0.9992453455924988, 0.38808518648147583, 0.18540248274803162, 0.06152082234621048, 0.05296070873737335, 0.3088841140270233, 0.0031600422225892544, 0.9998034834861755, 0.27429938316345215, 0.2066025733947754, 0.5190088748931885, 0.9994359016418457, 0.40543657541275024, 0.5369240641593933, 0.0408116914331913, 0.016789939254522324, 0.15477171540260315, 0.10849318653345108, 0.13367228209972382, 0.484649658203125, 0.11837358772754669, 0.8026197552680969, 0.19698192179203033, 0.6160332560539246, 0.21194538474082947, 0.06065606325864792, 0.10778535157442093, 0.0035473660100251436, 0.9988030195236206, 0.7870160341262817, 0.2121679186820984, 0.0004533502506092191, 0.3980015516281128, 0.11546466499567032, 0.01826559565961361, 0.10249029099941254, 0.3256639838218689, 0.040082838386297226, 0.9996127486228943, 0.17854303121566772, 0.537236750125885, 0.20730283856391907, 0.07681190967559814, 0.3260182738304138, 0.46166011691093445, 0.2122248262166977, 0.42616572976112366, 0.573767900466919, 0.9987359046936035, 0.9994781613349915, 0.9908466339111328, 0.8207343816757202, 0.09929030388593674, 0.07995817065238953, 0.9991655945777893, 0.9982559084892273, 0.9986251592636108, 0.13368690013885498, 0.020684532821178436, 0.08636030554771423, 0.0948914885520935, 0.047278933227062225, 0.1567067801952362, 0.14312362670898438, 0.317226380109787, 0.2689371705055237, 0.06748300045728683, 0.1008099913597107, 0.562745213508606, 0.6457959413528442, 0.35412245988845825, 0.9995496869087219, 0.9970846772193909, 0.9986735582351685, 0.16839848458766937, 0.8313620686531067, 0.22394640743732452, 0.7758084535598755, 0.21591702103614807, 0.5681986212730408, 0.2158404439687729, 0.9965063333511353, 0.9999293088912964, 0.04803246632218361, 0.9514123201370239, 0.5700870156288147, 0.16850799322128296, 0.041858673095703125, 0.057462792843580246, 0.03938182815909386, 0.016429735347628593, 0.1062566265463829, 0.2062271237373352, 0.41410771012306213, 0.04137770086526871, 0.20126676559448242, 0.11904873698949814, 0.017939982935786247, 0.9990524649620056, 0.21886520087718964, 0.7807992100715637, 0.9995355606079102, 0.8698453903198242, 0.1295103132724762, 0.9987818002700806, 0.1424069106578827, 0.08390192687511444, 0.22464224696159363, 0.06614148616790771, 0.09579197317361832, 0.08743411302566528, 0.29968881607055664, 0.9989326596260071, 0.5221757888793945, 0.04198750481009483, 0.029536781832575798, 0.032878533005714417, 0.09189819544553757, 0.09793490916490555, 0.1836346983909607, 0.46834102272987366, 0.23014985024929047, 0.12538057565689087, 0.17609599232673645, 0.10206611454486847, 0.17660866677761078, 0.027513016015291214, 0.19721177220344543, 0.0711878165602684, 0.425407350063324, 0.9966325759887695, 0.7513671517372131, 0.24390457570552826, 0.0032389448024332523, 0.0014860425144433975, 0.9998140335083008, 0.9986620545387268, 0.3411691188812256, 0.6587162017822266, 0.2557889223098755, 0.44095364212989807, 0.21272917091846466, 0.053260158747434616, 0.03714195266366005, 0.9992825984954834, 0.9968342781066895, 0.9985274076461792, 0.9993866086006165, 0.1267886608839035, 0.04152729734778404, 0.8315490484237671, 0.9991239309310913, 0.9996238946914673, 0.9997581839561462, 0.9994935989379883, 0.3196427822113037, 0.0883239209651947, 0.17856402695178986, 0.41347572207450867, 0.13798081874847412, 0.4957723915576935, 0.12012861669063568, 0.08530363440513611, 0.0537324920296669, 0.10702528059482574, 0.6470468640327454, 0.3529091477394104, 0.998071014881134, 0.9999751448631287, 0.999880313873291, 0.793989896774292, 0.2057121992111206, 0.15347164869308472, 0.4619108736515045, 0.026926960796117783, 0.06188386678695679, 0.237399160861969, 0.0005502316635102034, 0.057851698249578476, 0.9992073774337769, 0.8199113011360168, 0.17997333407402039, 0.15120036900043488, 0.35433879494667053, 0.49433425068855286, 0.9991262555122375, 0.06260986626148224, 0.4729767143726349, 0.46426576375961304, 0.9993422627449036, 0.9975752830505371, 0.1626504510641098, 0.11246117204427719, 0.7246465086936951, 0.9979088306427002, 0.9988306760787964, 0.15271957218647003, 0.16298644244670868, 0.07828482240438461, 0.6057448983192444, 0.9987152814865112, 0.9992651343345642, 0.9976059794425964, 0.9997271299362183, 0.9993393421173096, 0.4705231189727783, 0.2944764792919159, 0.15496943891048431, 0.07998979836702347, 0.498794287443161, 0.5011081099510193, 0.9011422395706177, 0.09884108603000641, 0.9992609620094299, 0.9993648529052734, 0.5772439241409302, 0.42274656891822815, 0.9998666644096375, 0.2429990917444229, 0.7565465569496155, 0.9917905330657959, 0.9948816895484924, 0.1696745753288269, 0.40231016278266907, 0.4279214143753052, 0.6773121953010559, 0.10314987599849701, 0.219280406832695, 0.14459317922592163, 0.8553054332733154, 0.13907082378864288, 0.8603848218917847, 0.022625358775258064, 0.7145533561706543, 0.15392662584781647, 0.10867590457201004, 0.9988046884536743, 0.9907553791999817, 0.6367161870002747, 0.23278680443763733, 0.13041174411773682, 0.9996306300163269, 0.9993060231208801, 0.10150095820426941, 0.20475426316261292, 0.06344371289014816, 0.11803586781024933, 0.44549891352653503, 0.06672374159097672, 0.28040772676467896, 0.5177610516548157, 0.026434147730469704, 0.05832924321293831, 0.11705420166254044, 0.9992937445640564, 0.9997010231018066, 0.3054356575012207, 0.6944219470024109, 0.9999773502349854, 0.6319209337234497, 0.17325422167778015, 0.19482344388961792, 0.9995707869529724, 0.2878178656101227, 0.22140879929065704, 0.09911669045686722, 0.058367714285850525, 0.017573561519384384, 0.2183368057012558, 0.06433098018169403, 0.03302383795380592, 0.14677157998085022, 0.16185522079467773, 0.08878857642412186, 0.6026066541671753, 0.9998418092727661, 0.9991284608840942, 0.6016247868537903, 0.2699652910232544, 0.12836647033691406, 0.9988738894462585, 0.999710202217102, 0.28548377752304077, 0.7142466902732849, 0.9986627101898193, 0.17632900178432465, 0.8235796689987183, 0.2299201488494873, 0.7693864703178406, 0.578191876411438, 0.08033828437328339, 0.3414323627948761, 0.1402938812971115, 0.7507952451705933, 0.07409623265266418, 0.024770384654402733, 0.010047856718301773, 0.15642666816711426, 0.8434138894081116, 0.9996639490127563, 0.9990169405937195, 0.9974785447120667, 0.9998630881309509, 0.9320375323295593, 0.06773959845304489, 0.9991428256034851, 0.9987090229988098, 0.9997333884239197, 0.9985162615776062, 0.9944217801094055, 0.9989190697669983, 0.9999614953994751, 0.9998175501823425, 0.36109402775764465, 0.6388188004493713, 0.48577165603637695, 0.09509231150150299, 0.1257004290819168, 0.05573900416493416, 0.16859783232212067, 0.06908690929412842, 0.999281108379364, 0.9988566040992737, 0.13621816039085388, 0.8637451529502869, 0.17807619273662567, 0.8214046359062195, 0.9990577697753906, 0.14763672649860382, 0.17734850943088531, 0.1210971549153328, 0.10313361138105392, 0.048228610306978226, 0.1010311022400856, 0.023016944527626038, 0.1831396222114563, 0.0953875258564949, 0.11212854087352753, 0.12665197253227234, 0.2541918456554413, 0.30778267979621887, 0.19923745095729828, 0.9970232844352722, 0.2325756549835205, 0.11103444546461105, 0.031001439318060875, 0.47513923048973083, 0.049031566828489304, 0.0642080008983612, 0.036838531494140625, 0.4685821533203125, 0.06636431068181992, 0.16792677342891693, 0.0913735181093216, 0.08243776857852936, 0.06369448453187943, 0.059608008712530136, 0.3235364258289337, 0.19229595363140106, 0.38736289739608765, 0.0967838317155838, 0.9996574521064758, 0.9956924319267273, 0.07804428786039352, 0.12932394444942474, 0.08704274147748947, 0.022726865485310555, 0.44692322611808777, 0.23594985902309418, 0.9999209642410278, 0.9996174573898315, 0.9976171255111694, 0.3470894992351532, 0.6527812480926514, 0.09953586012125015, 0.34672850370407104, 0.0877920612692833, 0.46588510274887085, 0.7996078133583069, 0.20019268989562988, 0.9987851977348328, 0.19429415464401245, 0.2006540298461914, 0.47590941190719604, 0.129041850566864, 0.9982681274414062, 0.9993530511856079, 0.20001371204853058, 0.7998414635658264, 0.9998061656951904, 0.9994052052497864, 0.12176461517810822, 0.8780370354652405, 0.0869724303483963, 0.06236627325415611, 0.32903268933296204, 0.12813600897789001, 0.0562492273747921, 0.0009658493218012154, 0.3362535536289215, 0.23222345113754272, 0.44957566261291504, 0.06868646293878555, 0.12092163413763046, 0.12710249423980713, 0.0014638860011473298, 0.9997693300247192, 0.9953374862670898, 0.28762778639793396, 0.13531187176704407, 0.24713508784770966, 0.3297055959701538, 0.9995267987251282, 0.12142672389745712, 0.17180415987968445, 0.14307518303394318, 0.07047958672046661, 0.035402562469244, 0.0948137566447258, 0.06893326342105865, 0.29412612318992615, 0.9997645020484924, 0.2023962438106537, 0.43599969148635864, 0.012860259972512722, 0.21167249977588654, 0.011057714931666851, 0.09010614454746246, 0.035903315991163254, 0.3057037889957428, 0.694263756275177, 0.1742614358663559, 0.29366806149482727, 0.4518628418445587, 0.08014314621686935, 0.21558724343776703, 0.7843408584594727, 0.998710572719574, 0.9990891218185425, 0.9998984336853027, 0.9990538358688354, 0.15458719432353973, 0.13062801957130432, 0.32698312401771545, 0.17037639021873474, 0.09565312415361404, 0.12172364443540573, 0.9996348023414612, 0.9995302557945251, 0.3215411305427551, 0.6781412959098816, 0.19655925035476685, 0.3262099325656891, 0.10685764998197556, 0.05091669037938118, 0.13320443034172058, 0.18620435893535614, 0.999790370464325, 0.9992538094520569, 0.9985077381134033, 0.999936044216156, 0.20904964208602905, 0.17036598920822144, 0.11589308083057404, 0.5046638250350952, 0.999900758266449, 0.17789514362812042, 0.06157341226935387, 0.2138652354478836, 0.14447063207626343, 0.3442060649394989, 0.057957958430051804, 0.262723833322525, 0.27773940563201904, 0.45939865708351135, 0.9991812109947205, 0.9992358684539795, 0.23597030341625214, 0.24323008954524994, 0.1458624005317688, 0.3749151825904846, 0.9992759823799133, 0.9963418841362, 0.9975712299346924, 0.1023721843957901, 0.5205137133598328, 0.10432467609643936, 0.2727724313735962, 0.9986733794212341, 0.8628659248352051, 0.13398538529872894, 0.9985542893409729, 0.9998465776443481, 0.9997366666793823, 0.9999094009399414, 0.9999552965164185, 0.999906599521637, 0.510607898235321, 0.25426289439201355, 0.06186782941222191, 0.1360298991203308, 0.037180185317993164, 0.9999619722366333, 0.12543484568595886, 0.8741724491119385, 0.9996734857559204, 0.2977859377861023, 0.1796356588602066, 0.34722018241882324, 0.13920287787914276, 0.0361533984541893, 0.9989903569221497, 0.0866645947098732, 0.7821661829948425, 0.13116464018821716, 0.9992106556892395, 0.99683678150177, 0.2202000916004181, 0.0705944150686264, 0.03609997034072876, 0.40751126408576965, 0.13856160640716553, 0.12698237597942352, 0.9988955855369568, 0.35732927918434143, 0.6425600647926331, 0.9995104074478149, 0.9990147948265076, 0.9992649555206299, 0.9989445805549622, 0.790428102016449, 0.20926077663898468, 0.9991838335990906, 0.12022557854652405, 0.8796504735946655, 0.8164301514625549, 0.18346230685710907, 0.9999406933784485, 0.9996653199195862, 0.26721811294555664, 0.07766944169998169, 0.04155094921588898, 0.09778421372175217, 0.18044564127922058, 0.33519724011421204, 0.86796635389328, 0.13197031617164612, 0.1366250067949295, 0.6564392447471619, 0.20693495869636536, 0.19547230005264282, 0.8044702410697937, 0.9993664622306824, 0.9983727335929871, 0.426848828792572, 0.5731180310249329, 0.5122645497322083, 0.0751478374004364, 0.08982408791780472, 0.3227415978908539, 0.17984721064567566, 0.8197314143180847, 0.9984731078147888, 0.998670756816864, 0.8048588037490845, 0.19447296857833862, 0.9996335506439209, 0.9990124702453613, 0.9989810585975647, 0.9992058873176575, 0.9993864297866821, 0.9996931552886963, 0.9946150779724121, 0.9995613694190979, 0.15481612086296082, 0.30770906805992126, 0.3913140594959259, 0.11822225153446198, 0.027912845835089684, 0.30744174122810364, 0.11895912885665894, 0.0551680326461792, 0.05041554570198059, 0.46794837713241577, 0.9993657469749451, 0.848773717880249, 0.15104521811008453, 0.9974440336227417, 0.09538549929857254, 0.34830060601234436, 0.44275158643722534, 0.11354145407676697, 0.7760406732559204, 0.22372037172317505, 0.9984043836593628, 0.7953088879585266, 0.20455220341682434, 0.9913685321807861, 0.9989324808120728, 0.9997605085372925, 0.999312162399292, 0.99615079164505, 0.9999461770057678, 0.2949032485485077, 0.3864445984363556, 0.03346400707960129, 0.10252951085567474, 0.0006337270024232566, 0.061407074332237244, 0.03513425588607788, 0.0854886993765831, 0.7152326107025146, 0.2846987843513489, 0.9998384714126587, 0.35609251260757446, 0.5252417922019958, 0.11855457723140717, 0.9941729307174683, 0.165923610329628, 0.5747391581535339, 0.2591688930988312, 0.6674000024795532, 0.33257120847702026, 0.9994242191314697, 0.9992813467979431, 0.13634240627288818, 0.5242312550544739, 0.04306185245513916, 0.1672345995903015, 0.0007247437024489045, 0.008817714639008045, 0.11958270519971848, 0.523406982421875, 0.4764799177646637, 0.9979478120803833, 0.9991626143455505, 0.9997329711914062, 0.1673659086227417, 0.587371826171875, 0.24519672989845276, 0.9980404376983643, 0.15590240061283112, 0.8438971042633057, 0.9985411763191223, 0.9982780814170837, 0.5130414962768555, 0.288395494222641, 0.05616150051355362, 0.0925271064043045, 0.04988979175686836, 0.9990724921226501, 0.9984849095344543, 0.4128628373146057, 0.11376460641622543, 1.8369870304013602e-05, 0.19023838639259338, 0.04640229418873787, 0.04770655557513237, 0.18897086381912231, 0.9991508722305298, 0.6789612770080566, 0.0019202298717573285, 0.20466449856758118, 0.11441369354724884, 0.9991030693054199, 0.999199390411377, 0.9997802972793579, 0.9999103546142578, 0.9993289709091187, 0.7608023285865784, 0.23916809260845184, 0.9966381192207336, 0.925160825252533, 0.07432916015386581, 0.9997777342796326, 0.9989576935768127, 0.9997602701187134, 0.9724196791648865, 0.02738695964217186, 0.9997342228889465, 0.9990153312683105, 0.9991313815116882, 0.9986158609390259, 0.9996302127838135, 0.9992694854736328, 0.9989122748374939, 0.963617742061615, 0.03594619035720825, 0.9981411695480347, 0.1827777475118637, 0.5094302892684937, 0.002314340090379119, 0.1307051032781601, 0.10601881146430969, 0.0686587542295456, 0.9988488554954529, 0.5597895979881287, 0.4401637017726898, 0.9992518424987793, 0.9990406036376953, 0.2683263421058655, 0.3965218961238861, 0.0013660772237926722, 0.3337542414665222, 0.9996378421783447, 0.4550212323665619, 0.22659236192703247, 0.13536125421524048, 0.00016204459825530648, 0.18246221542358398, 0.00043211891897954047, 0.4644673466682434, 0.5355220437049866, 0.9994337558746338, 0.4017886817455292, 0.06177111342549324, 0.0556894987821579, 0.20230165123939514, 0.09449120610952377, 0.01698831282556057, 0.15555866062641144, 0.011359049007296562, 0.7258566617965698, 0.27405375242233276, 0.5780860185623169, 0.07044029980897903, 0.17397069931030273, 0.17733916640281677, 0.6579992771148682, 0.13874223828315735, 0.03551645204424858, 0.16761158406734467, 0.09707077592611313, 0.12300090491771698, 0.7799102067947388, 0.9993694424629211, 0.9996227622032166, 0.6206663250923157, 0.1250772327184677, 0.254041463136673, 0.9989471435546875, 0.48371532559394836, 0.3995104730129242, 0.11671330034732819, 0.0641607940196991, 0.3046921193599701, 0.1233905553817749, 0.20440861582756042, 0.10578791052103043, 0.19758543372154236, 0.9989131093025208, 0.9987425208091736], \"Term\": [\"able\", \"able\", \"able\", \"able\", \"able\", \"able\", \"able\", \"absolutely\", \"absolutely\", \"absolutely\", \"access\", \"access\", \"access\", \"access\", \"access\", \"access\", \"access\", \"access\", \"accessible\", \"accessible\", \"accommodate\", \"accommodate\", \"accommodate\", \"accommodation\", \"accommodation\", \"accommodation\", \"accomodation\", \"accurate\", \"accurate\", \"additional\", \"address\", \"adorable\", \"adorable\", \"adult\", \"agree\", \"airbnb\", \"airbnb\", \"allow\", \"allow\", \"allow\", \"allow\", \"also\", \"also\", \"also\", \"also\", \"also\", \"also\", \"also\", \"also\", \"always\", \"always\", \"amazing\", \"amazing\", \"amenitie\", \"amenity\", \"amenity\", \"amenity\", \"amenity\", \"amenity\", \"amenity\", \"answer\", \"antonio\", \"anywhere\", \"anywhere\", \"apartament\", \"apartment\", \"apartment\", \"apartment\", \"apartment\", \"apartment\", \"apartment\", \"apartment\", \"apartment\", \"apartment\", \"apartment\", \"appartement\", \"appartment\", \"appoint\", \"appreciate\", \"appreciate\", \"appreciate\", \"appreciate\", \"area\", \"area\", \"area\", \"area\", \"area\", \"area\", \"area\", \"area\", \"arrange\", \"arrangement\", \"arrival\", \"arrival\", \"arrival\", \"arrive\", \"arrive\", \"arrive\", \"arrive\", \"ask\", \"ask\", \"ask\", \"ask\", \"ask\", \"availability\", \"available\", \"available\", \"available\", \"available\", \"aware\", \"away\", \"away\", \"away\", \"awesome\", \"awesome\", \"back\", \"bad\", \"bag\", \"bag\", \"bar\", \"basic\", \"basic\", \"basic\", \"basic\", \"bath\", \"bathroom\", \"beautiful\", \"beautiful\", \"beautiful\", \"beautifully\", \"bed\", \"bed\", \"bed\", \"bedroom\", \"bedroom\", \"big\", \"big\", \"big\", \"big\", \"big\", \"big\", \"bigger\", \"birthday\", \"bit\", \"bit\", \"bit\", \"bit\", \"bite\", \"blanket\", \"block\", \"block\", \"bonus\", \"book\", \"book\", \"book\", \"book\", \"bottle\", \"brand\", \"break\", \"breeze\", \"build\", \"build\", \"build\", \"building\", \"building\", \"building\", \"bunch\", \"bus\", \"bustle\", \"call\", \"call\", \"call\", \"cancel\", \"careful\", \"catch\", \"centrally\", \"chair\", \"charge\", \"check\", \"checkin\", \"checkout\", \"chelsea_market\", \"chic\", \"chill\", \"chinatown\", \"city\", \"city\", \"city\", \"city\", \"city\", \"city\", \"city\", \"claudio\", \"clean\", \"clean\", \"clean\", \"clean\", \"clean\", \"cleaning\", \"clear\", \"climb\", \"close\", \"close\", \"close\", \"close\", \"closet\", \"code\", \"coffee\", \"coffee\", \"coffee_maker\", \"come\", \"come\", \"come\", \"comfortable\", \"comfortable\", \"comfortable\", \"comfortable\", \"comfortable\", \"comfy\", \"comfy\", \"common\", \"common_area\", \"communication\", \"communication\", \"communication\", \"communication\", \"communication\", \"communication\", \"communicative\", \"communicative\", \"communicative\", \"communicator\", \"community\", \"commute\", \"complex\", \"concern\", \"concern\", \"concern\", \"condo\", \"confortable\", \"connected\", \"construction\", \"control\", \"convenience\", \"convenience\", \"convenient\", \"convenient\", \"convenient\", \"convenient\", \"convenient\", \"convenient\", \"convenient\", \"conveniently\", \"cookie\", \"corner\", \"corner\", \"corner\", \"correct\", \"cover\", \"cozy\", \"cozy\", \"cozy\", \"cozy\", \"cozy\", \"cozy\", \"crash\", \"crazy\", \"curtain\", \"date\", \"day\", \"day\", \"day\", \"day\", \"deal\", \"deal\", \"deal\", \"decor\", \"decorate\", \"def\", \"definitely\", \"definitely\", \"definitely\", \"delay\", \"deli\", \"delicious\", \"department\", \"derek\", \"describe\", \"describe\", \"description\", \"desk\", \"detailed\", \"dirty\", \"disappointed\", \"dish\", \"distance\", \"distance\", \"dog\", \"dollar\", \"door\", \"door\", \"door\", \"double\", \"downtown\", \"drive\", \"drop\", \"dust\", \"early\", \"earplug\", \"earth\", \"ease\", \"east\", \"easy\", \"easy\", \"easy\", \"easy\", \"eat\", \"eat\", \"eat\", \"eat\", \"eatery\", \"effort\", \"elena\", \"elevator\", \"emergency\", \"encounter\", \"energy\", \"enjoy\", \"enjoy\", \"enjoy\", \"enjoy\", \"enjoy\", \"enter\", \"equip\", \"equipped\", \"escape\", \"essential\", \"even\", \"even\", \"even\", \"even\", \"even\", \"even\", \"ever\", \"exactly\", \"exactly\", \"exactly\", \"exceed\", \"excellent\", \"excellent\", \"excellent\", \"excellent\", \"expect\", \"expect\", \"expect\", \"expect\", \"expect\", \"expectation\", \"expectation\", \"experience\", \"experience\", \"experience\", \"experience\", \"experience\", \"express\", \"facility\", \"facility\", \"facility\", \"family\", \"family\", \"family\", \"family\", \"family\", \"family\", \"fan\", \"fantastic\", \"fantastic\", \"fantastic\", \"fantastic\", \"far\", \"far\", \"far\", \"fast\", \"fast\", \"fault\", \"favorite\", \"favourite\", \"feel\", \"feel\", \"feel\", \"ferry\", \"figure\", \"financial_district\", \"find\", \"find\", \"find\", \"find\", \"find\", \"find\", \"find\", \"find\", \"fine\", \"fine\", \"fine\", \"fine\", \"first\", \"first\", \"fix\", \"flawless\", \"flexibility\", \"flexible\", \"flexible\", \"flight\", \"flight\", \"floor\", \"floor\", \"floor\", \"flushing\", \"food\", \"fridge\", \"fridge\", \"friend\", \"friend\", \"friend\", \"friend\", \"friend\", \"friend\", \"friend\", \"friendly\", \"friendly\", \"friendly\", \"friendly\", \"friendly\", \"friendly\", \"fruit\", \"fully\", \"fully\", \"furnish\", \"gem\", \"gem\", \"generally\", \"get\", \"get\", \"get\", \"get\", \"get\", \"get\", \"get\", \"girlfriend\", \"give\", \"give\", \"give\", \"give\", \"give\", \"give\", \"give\", \"go\", \"go\", \"go\", \"go\", \"good\", \"good\", \"good\", \"good\", \"good\", \"good\", \"grand\", \"great\", \"great\", \"great\", \"great\", \"grocery\", \"grocery_store\", \"group\", \"group\", \"guest\", \"guest\", \"guest\", \"guest\", \"guest\", \"hair\", \"hairdryer\", \"hallway\", \"head\", \"hear\", \"hear\", \"hear\", \"heartbeat\", \"heat\", \"heater\", \"heating\", \"help\", \"help\", \"help\", \"help\", \"helpful\", \"helpful\", \"helpful\", \"helpful\", \"helpful\", \"helpful\", \"highly\", \"highly\", \"hold\", \"home\", \"hope\", \"hospitable\", \"hospitable\", \"host\", \"host\", \"host\", \"host\", \"host\", \"host\", \"host\", \"hostel\", \"hot\", \"hot\", \"hour\", \"hour\", \"hour\", \"housing\", \"however\", \"however\", \"however\", \"ideally\", \"immaculately\", \"immediately\", \"immediately\", \"immediately\", \"impeccable\", \"improve\", \"information\", \"information\", \"information\", \"information\", \"inquiry\", \"inside\", \"instantly\", \"instruction\", \"invite\", \"issue\", \"issue\", \"issue\", \"issue\", \"key\", \"key\", \"kitchen\", \"kitchen\", \"lack\", \"landlord\", \"large\", \"large\", \"late\", \"later\", \"later\", \"laura\", \"law\", \"leave\", \"leave\", \"leave\", \"less\", \"less\", \"less\", \"let\", \"let\", \"level\", \"level\", \"light\", \"light\", \"light\", \"light\", \"light_sleeper\", \"lily\", \"line\", \"line\", \"line\", \"linen\", \"listing\", \"little\", \"little\", \"little\", \"little\", \"little\", \"little\", \"live\", \"live\", \"live\", \"live\", \"live\", \"lively\", \"living\", \"local\", \"local\", \"locate\", \"location\", \"location\", \"location\", \"lock\", \"look\", \"look\", \"look\", \"look\", \"look\", \"look\", \"look\", \"look\", \"lot\", \"lot\", \"lot\", \"lot\", \"loud\", \"lounge\", \"love\", \"love\", \"love\", \"loved\", \"low\", \"luggage\", \"luggage\", \"luxury\", \"main\", \"main\", \"maintain\", \"maintain\", \"make\", \"make\", \"make\", \"many\", \"many\", \"many\", \"many\", \"many\", \"market\", \"market\", \"mattress\", \"meeting\", \"memorable\", \"message\", \"metro\", \"metro\", \"microwave\", \"mile\", \"min\", \"minimal\", \"minimalist\", \"minor\", \"minute\", \"modern\", \"money\", \"money\", \"much\", \"much\", \"much\", \"much\", \"much\", \"much\", \"museum\", \"near\", \"nearby\", \"nearby\", \"necessary\", \"necessary\", \"necessity\", \"need\", \"need\", \"need\", \"need\", \"need\", \"need\", \"need\", \"need\", \"need\", \"neighborhood\", \"neighborhood\", \"neighborhood\", \"neighborhood\", \"neighborhood\", \"neighbour\", \"never\", \"never\", \"never\", \"never\", \"never\", \"never\", \"never\", \"next\", \"next\", \"next\", \"next\", \"next\", \"next\", \"next\", \"nice\", \"nice\", \"nice\", \"nice\", \"nicely\", \"nicole\", \"night\", \"night\", \"night\", \"night\", \"night\", \"night\", \"noise\", \"noisy\", \"okay\", \"old\", \"old\", \"open\", \"open\", \"open\", \"open\", \"option\", \"option\", \"outdoor\", \"overall\", \"overall\", \"overall\", \"overall\", \"overlook\", \"parent\", \"park\", \"park\", \"parking\", \"patio\", \"pay\", \"pay\", \"people\", \"people\", \"people\", \"people\", \"people\", \"people\", \"people\", \"perfect\", \"perfect\", \"perfect\", \"perfect\", \"perfect\", \"perfect\", \"perfectly\", \"pet\", \"photo\", \"photo\", \"photo\", \"photo\", \"pick\", \"picture\", \"picture\", \"picture\", \"picture\", \"picture\", \"picture\", \"picture\", \"picture\", \"pillow\", \"place\", \"place\", \"place\", \"place\", \"place\", \"place\", \"place\", \"plenty\", \"plenty\", \"pretty\", \"pretty\", \"pretty\", \"pretty\", \"price\", \"price\", \"prime\", \"prior\", \"private\", \"pro\", \"problem\", \"problem\", \"problem\", \"problem\", \"problem\", \"problem\", \"process\", \"promptly\", \"property\", \"property\", \"provide\", \"provide\", \"provide\", \"provide\", \"provide\", \"provide\", \"public\", \"public_transport\", \"query\", \"question\", \"quick\", \"quick\", \"quick\", \"quick\", \"quickly\", \"quiet\", \"quiet\", \"quiet\", \"quiet\", \"quiet\", \"quiet\", \"quite\", \"quite\", \"quite\", \"reactive\", \"read\", \"really\", \"really\", \"really\", \"really\", \"reasonable\", \"recent\", \"reception\", \"recommend\", \"recommend\", \"recommend\", \"recommend\", \"refund\", \"reliable\", \"reliable\", \"renovate\", \"reply\", \"request\", \"reservation\", \"respond\", \"response\", \"responsive\", \"responsive\", \"responsive\", \"responsive\", \"responsive\", \"restaurant\", \"review\", \"review\", \"ride\", \"right\", \"right\", \"right\", \"right\", \"right\", \"road\", \"room\", \"room\", \"room\", \"roomy\", \"rough\", \"safe\", \"safe\", \"safe\", \"safe\", \"safe\", \"safe\", \"safety\", \"say\", \"say\", \"schedule\", \"seamless\", \"separate\", \"serve\", \"service\", \"service\", \"shampoo\", \"share\", \"share\", \"sheet\", \"sheet\", \"shop\", \"shopping\", \"show\", \"show\", \"show\", \"show\", \"show\", \"show\", \"shower\", \"shower\", \"side\", \"side\", \"side\", \"simple\", \"simple\", \"situate\", \"sized\", \"sleep\", \"sleep\", \"small\", \"small\", \"small\", \"small\", \"smell\", \"smell\", \"smile\", \"smoothly\", \"snack\", \"snack\", \"sofa\", \"soho\", \"solid\", \"solve\", \"somewhere\", \"soon\", \"sorry\", \"sound\", \"space\", \"space\", \"space\", \"space\", \"space\", \"spacious\", \"spacious\", \"spacious\", \"spacious\", \"spacious\", \"sparkle\", \"special\", \"special\", \"spending\", \"spot\", \"spot\", \"spot\", \"spot\", \"spotless\", \"spotless\", \"spotlessly\", \"square\", \"square\", \"stacy\", \"stain\", \"stair\", \"state\", \"staten_island\", \"station\", \"stay\", \"stay\", \"stay\", \"stay\", \"stay\", \"stay\", \"stay\", \"stay\", \"stop\", \"stop\", \"store\", \"street\", \"street\", \"street\", \"student\", \"stylish\", \"stylish\", \"stylish\", \"subway\", \"subway\", \"suitable\", \"suitcase\", \"super\", \"super\", \"super\", \"super\", \"super\", \"super\", \"super\", \"sure\", \"sure\", \"surely\", \"surprisingly\", \"table\", \"take\", \"take\", \"take\", \"team\", \"tell\", \"tell\", \"tenant\", \"texte\", \"thank\", \"thank\", \"thank\", \"thank\", \"thank\", \"thin\", \"though\", \"time\", \"time\", \"time\", \"time\", \"time\", \"time\", \"time\", \"timely\", \"tip\", \"tip\", \"tip\", \"tip\", \"toilet_paper\", \"toiletry\", \"ton\", \"towel\", \"traffic\", \"train\", \"train\", \"transfer\", \"transport\", \"transport\", \"transportation\", \"treat\", \"truly\", \"turn\", \"turn\", \"tv\", \"type\", \"typical\", \"unbeatable\", \"uncomfortable\", \"understand\", \"understanding\", \"unfortunately\", \"unfortunately\", \"unsafe\", \"use\", \"use\", \"use\", \"use\", \"use\", \"use\", \"utensil\", \"value\", \"value\", \"vibe\", \"vibrant\", \"view\", \"view\", \"view\", \"view\", \"village\", \"visit\", \"visit\", \"visit\", \"visit\", \"visit\", \"visit\", \"walk\", \"walk\", \"walkable\", \"want\", \"want\", \"want\", \"want\", \"want\", \"want\", \"want\", \"want\", \"water\", \"water\", \"way\", \"way\", \"way\", \"way\", \"welcome\", \"welcome\", \"welcome\", \"welcome\", \"well\", \"well\", \"well\", \"williamsburg\", \"willing\", \"window\", \"window\", \"window\", \"without_hesitation\", \"wonderful\", \"wonderful\", \"wonderful\", \"work\", \"work\", \"work\", \"work\", \"work\", \"work\", \"wrong\", \"yet\"]}, \"R\": 30, \"lambda.step\": 0.01, \"plot.opts\": {\"xlab\": \"PC1\", \"ylab\": \"PC2\"}, \"topic.order\": [3, 10, 9, 1, 7, 8, 2, 6, 5, 4]};\n",
       "\n",
       "function LDAvis_load_lib(url, callback){\n",
       "  var s = document.createElement('script');\n",
       "  s.src = url;\n",
       "  s.async = true;\n",
       "  s.onreadystatechange = s.onload = callback;\n",
       "  s.onerror = function(){console.warn(\"failed to load library \" + url);};\n",
       "  document.getElementsByTagName(\"head\")[0].appendChild(s);\n",
       "}\n",
       "\n",
       "if(typeof(LDAvis) !== \"undefined\"){\n",
       "   // already loaded: just create the visualization\n",
       "   !function(LDAvis){\n",
       "       new LDAvis(\"#\" + \"ldavis_el884491149660399123863886622\", ldavis_el884491149660399123863886622_data);\n",
       "   }(LDAvis);\n",
       "}else if(typeof define === \"function\" && define.amd){\n",
       "   // require.js is available: use it to load d3/LDAvis\n",
       "   require.config({paths: {d3: \"https://cdnjs.cloudflare.com/ajax/libs/d3/3.5.5/d3.min\"}});\n",
       "   require([\"d3\"], function(d3){\n",
       "      window.d3 = d3;\n",
       "      LDAvis_load_lib(\"https://cdn.rawgit.com/bmabey/pyLDAvis/files/ldavis.v1.0.0.js\", function(){\n",
       "        new LDAvis(\"#\" + \"ldavis_el884491149660399123863886622\", ldavis_el884491149660399123863886622_data);\n",
       "      });\n",
       "    });\n",
       "}else{\n",
       "    // require.js not available: dynamically load d3 & LDAvis\n",
       "    LDAvis_load_lib(\"https://cdnjs.cloudflare.com/ajax/libs/d3/3.5.5/d3.min.js\", function(){\n",
       "         LDAvis_load_lib(\"https://cdn.rawgit.com/bmabey/pyLDAvis/files/ldavis.v1.0.0.js\", function(){\n",
       "                 new LDAvis(\"#\" + \"ldavis_el884491149660399123863886622\", ldavis_el884491149660399123863886622_data);\n",
       "            })\n",
       "         });\n",
       "}\n",
       "</script>"
      ],
      "text/plain": [
       "<IPython.core.display.HTML object>"
      ]
     },
     "execution_count": 40,
     "metadata": {},
     "output_type": "execute_result"
    }
   ],
   "source": [
    "# Visualize the topics\n",
    "pyLDAvis.enable_notebook(sort=True)\n",
    "vis = pyLDAvis.gensim.prepare(lda_model, corpus, idtoword)\n",
    "pyLDAvis.display(vis)"
   ]
  },
  {
   "cell_type": "code",
   "execution_count": 41,
   "metadata": {
    "colab": {},
    "colab_type": "code",
    "id": "fSsk4bWA3Obg"
   },
   "outputs": [
    {
     "name": "stdout",
     "output_type": "stream",
     "text": [
      "\n",
      "Perplexity:  -6.8720646171631525\n"
     ]
    }
   ],
   "source": [
    "# Compute Perplexity\n",
    "print('\\nPerplexity: ', lda_model.log_perplexity(corpus))\n"
   ]
  },
  {
   "cell_type": "code",
   "execution_count": 42,
   "metadata": {
    "scrolled": false
   },
   "outputs": [
    {
     "name": "stderr",
     "output_type": "stream",
     "text": [
      "/Users/ikhyvicky/anaconda3/lib/python3.7/site-packages/scipy/sparse/lil.py:504: FutureWarning: future versions will not create a writeable array from broadcast_array. Set the writable flag explicitly to avoid this warning.\n",
      "  if not i.flags.writeable or i.dtype not in (np.int32, np.int64):\n",
      "/Users/ikhyvicky/anaconda3/lib/python3.7/site-packages/scipy/sparse/lil.py:506: FutureWarning: future versions will not create a writeable array from broadcast_array. Set the writable flag explicitly to avoid this warning.\n",
      "  if not j.flags.writeable or j.dtype not in (np.int32, np.int64):\n",
      "/Users/ikhyvicky/anaconda3/lib/python3.7/site-packages/scipy/sparse/lil.py:320: DeprecationWarning: Numpy has detected that you (may be) writing to an array with\n",
      "overlapping memory from np.broadcast_arrays. If this is intentional\n",
      "set the WRITEABLE flag True or make a copy immediately before writing.\n",
      "  i, j, x)\n",
      "/Users/ikhyvicky/anaconda3/lib/python3.7/site-packages/scipy/sparse/lil.py:320: DeprecationWarning: Numpy has detected that you (may be) writing to an array with\n",
      "overlapping memory from np.broadcast_arrays. If this is intentional\n",
      "set the WRITEABLE flag True or make a copy immediately before writing.\n",
      "  i, j, x)\n",
      "/Users/ikhyvicky/anaconda3/lib/python3.7/site-packages/scipy/sparse/lil.py:320: DeprecationWarning: Numpy has detected that you (may be) writing to an array with\n",
      "overlapping memory from np.broadcast_arrays. If this is intentional\n",
      "set the WRITEABLE flag True or make a copy immediately before writing.\n",
      "  i, j, x)\n",
      "/Users/ikhyvicky/anaconda3/lib/python3.7/site-packages/scipy/sparse/lil.py:320: DeprecationWarning: Numpy has detected that you (may be) writing to an array with\n",
      "overlapping memory from np.broadcast_arrays. If this is intentional\n",
      "set the WRITEABLE flag True or make a copy immediately before writing.\n",
      "  i, j, x)\n",
      "/Users/ikhyvicky/anaconda3/lib/python3.7/site-packages/scipy/sparse/lil.py:320: DeprecationWarning: Numpy has detected that you (may be) writing to an array with\n",
      "overlapping memory from np.broadcast_arrays. If this is intentional\n",
      "set the WRITEABLE flag True or make a copy immediately before writing.\n",
      "  i, j, x)\n",
      "/Users/ikhyvicky/anaconda3/lib/python3.7/site-packages/scipy/sparse/lil.py:320: DeprecationWarning: Numpy has detected that you (may be) writing to an array with\n",
      "overlapping memory from np.broadcast_arrays. If this is intentional\n",
      "set the WRITEABLE flag True or make a copy immediately before writing.\n",
      "  i, j, x)\n",
      "/Users/ikhyvicky/anaconda3/lib/python3.7/site-packages/scipy/sparse/lil.py:320: DeprecationWarning: Numpy has detected that you (may be) writing to an array with\n",
      "overlapping memory from np.broadcast_arrays. If this is intentional\n",
      "set the WRITEABLE flag True or make a copy immediately before writing.\n",
      "  i, j, x)\n",
      "/Users/ikhyvicky/anaconda3/lib/python3.7/site-packages/scipy/sparse/lil.py:320: DeprecationWarning: Numpy has detected that you (may be) writing to an array with\n",
      "overlapping memory from np.broadcast_arrays. If this is intentional\n",
      "set the WRITEABLE flag True or make a copy immediately before writing.\n",
      "  i, j, x)\n",
      "/Users/ikhyvicky/anaconda3/lib/python3.7/site-packages/scipy/sparse/lil.py:320: DeprecationWarning: Numpy has detected that you (may be) writing to an array with\n",
      "overlapping memory from np.broadcast_arrays. If this is intentional\n",
      "set the WRITEABLE flag True or make a copy immediately before writing.\n",
      "  i, j, x)\n",
      "/Users/ikhyvicky/anaconda3/lib/python3.7/site-packages/scipy/sparse/lil.py:320: DeprecationWarning: Numpy has detected that you (may be) writing to an array with\n",
      "overlapping memory from np.broadcast_arrays. If this is intentional\n",
      "set the WRITEABLE flag True or make a copy immediately before writing.\n",
      "  i, j, x)\n",
      "/Users/ikhyvicky/anaconda3/lib/python3.7/site-packages/scipy/sparse/lil.py:320: DeprecationWarning: Numpy has detected that you (may be) writing to an array with\n",
      "overlapping memory from np.broadcast_arrays. If this is intentional\n",
      "set the WRITEABLE flag True or make a copy immediately before writing.\n",
      "  i, j, x)\n",
      "/Users/ikhyvicky/anaconda3/lib/python3.7/site-packages/scipy/sparse/lil.py:320: DeprecationWarning: Numpy has detected that you (may be) writing to an array with\n",
      "overlapping memory from np.broadcast_arrays. If this is intentional\n",
      "set the WRITEABLE flag True or make a copy immediately before writing.\n",
      "  i, j, x)\n",
      "/Users/ikhyvicky/anaconda3/lib/python3.7/site-packages/scipy/sparse/lil.py:320: DeprecationWarning: Numpy has detected that you (may be) writing to an array with\n",
      "overlapping memory from np.broadcast_arrays. If this is intentional\n",
      "set the WRITEABLE flag True or make a copy immediately before writing.\n",
      "  i, j, x)\n",
      "/Users/ikhyvicky/anaconda3/lib/python3.7/site-packages/scipy/sparse/lil.py:320: DeprecationWarning: Numpy has detected that you (may be) writing to an array with\n",
      "overlapping memory from np.broadcast_arrays. If this is intentional\n",
      "set the WRITEABLE flag True or make a copy immediately before writing.\n",
      "  i, j, x)\n",
      "/Users/ikhyvicky/anaconda3/lib/python3.7/site-packages/scipy/sparse/lil.py:320: DeprecationWarning: Numpy has detected that you (may be) writing to an array with\n",
      "overlapping memory from np.broadcast_arrays. If this is intentional\n",
      "set the WRITEABLE flag True or make a copy immediately before writing.\n",
      "  i, j, x)\n",
      "/Users/ikhyvicky/anaconda3/lib/python3.7/site-packages/scipy/sparse/lil.py:320: DeprecationWarning: Numpy has detected that you (may be) writing to an array with\n",
      "overlapping memory from np.broadcast_arrays. If this is intentional\n",
      "set the WRITEABLE flag True or make a copy immediately before writing.\n",
      "  i, j, x)\n",
      "/Users/ikhyvicky/anaconda3/lib/python3.7/site-packages/scipy/sparse/lil.py:320: DeprecationWarning: Numpy has detected that you (may be) writing to an array with\n",
      "overlapping memory from np.broadcast_arrays. If this is intentional\n",
      "set the WRITEABLE flag True or make a copy immediately before writing.\n",
      "  i, j, x)\n",
      "/Users/ikhyvicky/anaconda3/lib/python3.7/site-packages/scipy/sparse/lil.py:320: DeprecationWarning: Numpy has detected that you (may be) writing to an array with\n",
      "overlapping memory from np.broadcast_arrays. If this is intentional\n",
      "set the WRITEABLE flag True or make a copy immediately before writing.\n",
      "  i, j, x)\n",
      "/Users/ikhyvicky/anaconda3/lib/python3.7/site-packages/scipy/sparse/lil.py:320: DeprecationWarning: Numpy has detected that you (may be) writing to an array with\n",
      "overlapping memory from np.broadcast_arrays. If this is intentional\n",
      "set the WRITEABLE flag True or make a copy immediately before writing.\n",
      "  i, j, x)\n",
      "/Users/ikhyvicky/anaconda3/lib/python3.7/site-packages/scipy/sparse/lil.py:320: DeprecationWarning: Numpy has detected that you (may be) writing to an array with\n",
      "overlapping memory from np.broadcast_arrays. If this is intentional\n",
      "set the WRITEABLE flag True or make a copy immediately before writing.\n",
      "  i, j, x)\n",
      "/Users/ikhyvicky/anaconda3/lib/python3.7/site-packages/scipy/sparse/lil.py:320: DeprecationWarning: Numpy has detected that you (may be) writing to an array with\n",
      "overlapping memory from np.broadcast_arrays. If this is intentional\n",
      "set the WRITEABLE flag True or make a copy immediately before writing.\n",
      "  i, j, x)\n",
      "/Users/ikhyvicky/anaconda3/lib/python3.7/site-packages/scipy/sparse/lil.py:320: DeprecationWarning: Numpy has detected that you (may be) writing to an array with\n",
      "overlapping memory from np.broadcast_arrays. If this is intentional\n",
      "set the WRITEABLE flag True or make a copy immediately before writing.\n",
      "  i, j, x)\n",
      "/Users/ikhyvicky/anaconda3/lib/python3.7/site-packages/scipy/sparse/lil.py:320: DeprecationWarning: Numpy has detected that you (may be) writing to an array with\n",
      "overlapping memory from np.broadcast_arrays. If this is intentional\n",
      "set the WRITEABLE flag True or make a copy immediately before writing.\n",
      "  i, j, x)\n",
      "/Users/ikhyvicky/anaconda3/lib/python3.7/site-packages/scipy/sparse/lil.py:320: DeprecationWarning: Numpy has detected that you (may be) writing to an array with\n",
      "overlapping memory from np.broadcast_arrays. If this is intentional\n",
      "set the WRITEABLE flag True or make a copy immediately before writing.\n",
      "  i, j, x)\n",
      "/Users/ikhyvicky/anaconda3/lib/python3.7/site-packages/scipy/sparse/lil.py:320: DeprecationWarning: Numpy has detected that you (may be) writing to an array with\n",
      "overlapping memory from np.broadcast_arrays. If this is intentional\n",
      "set the WRITEABLE flag True or make a copy immediately before writing.\n",
      "  i, j, x)\n",
      "/Users/ikhyvicky/anaconda3/lib/python3.7/site-packages/scipy/sparse/lil.py:320: DeprecationWarning: Numpy has detected that you (may be) writing to an array with\n",
      "overlapping memory from np.broadcast_arrays. If this is intentional\n",
      "set the WRITEABLE flag True or make a copy immediately before writing.\n",
      "  i, j, x)\n",
      "/Users/ikhyvicky/anaconda3/lib/python3.7/site-packages/scipy/sparse/lil.py:320: DeprecationWarning: Numpy has detected that you (may be) writing to an array with\n",
      "overlapping memory from np.broadcast_arrays. If this is intentional\n",
      "set the WRITEABLE flag True or make a copy immediately before writing.\n",
      "  i, j, x)\n",
      "/Users/ikhyvicky/anaconda3/lib/python3.7/site-packages/scipy/sparse/lil.py:320: DeprecationWarning: Numpy has detected that you (may be) writing to an array with\n",
      "overlapping memory from np.broadcast_arrays. If this is intentional\n",
      "set the WRITEABLE flag True or make a copy immediately before writing.\n",
      "  i, j, x)\n",
      "/Users/ikhyvicky/anaconda3/lib/python3.7/site-packages/scipy/sparse/lil.py:320: DeprecationWarning: Numpy has detected that you (may be) writing to an array with\n",
      "overlapping memory from np.broadcast_arrays. If this is intentional\n",
      "set the WRITEABLE flag True or make a copy immediately before writing.\n",
      "  i, j, x)\n",
      "/Users/ikhyvicky/anaconda3/lib/python3.7/site-packages/scipy/sparse/lil.py:320: DeprecationWarning: Numpy has detected that you (may be) writing to an array with\n",
      "overlapping memory from np.broadcast_arrays. If this is intentional\n",
      "set the WRITEABLE flag True or make a copy immediately before writing.\n",
      "  i, j, x)\n"
     ]
    },
    {
     "name": "stdout",
     "output_type": "stream",
     "text": [
      "\n",
      "Coherence Score:  0.597899418023428\n"
     ]
    }
   ],
   "source": [
    "# Compute Coherence Score\n",
    "coherence_model_lda = CoherenceModel(model=lda_model, texts=data_lemmatized, dictionary=idtoword, coherence='c_v')\n",
    "coherence_lda = coherence_model_lda.get_coherence()\n",
    "print('\\nCoherence Score: ', coherence_lda)"
   ]
  },
  {
   "cell_type": "code",
   "execution_count": 43,
   "metadata": {},
   "outputs": [],
   "source": [
    "def format_topics_sentences(ldamodel=lda_model, corpus=corpus, texts=data):\n",
    "    # Init output\n",
    "    sent_topics_df = pd.DataFrame()\n",
    "\n",
    "    # Get main topic in each document\n",
    "    for i, row in enumerate(ldamodel[corpus]):\n",
    "        row = sorted(row, key=lambda x: (x[1]), reverse=True)\n",
    "        # Get the Dominant topic, Perc Contribution and Keywords for each document\n",
    "        for j, (topic_num, prop_topic) in enumerate(row):\n",
    "            if j == 0:  # => dominant topic\n",
    "                wp = ldamodel.show_topic(topic_num)\n",
    "                topic_keywords = \", \".join([word for word, prop in wp])\n",
    "                sent_topics_df = sent_topics_df.append(pd.Series([int(topic_num), round(prop_topic,4), topic_keywords]), ignore_index=True)\n",
    "            else:\n",
    "                break\n",
    "    sent_topics_df.columns = ['Dominant_Topic', 'Perc_Contribution', 'Topic_Keywords']\n",
    "\n",
    "    # Add original text to the end of the output\n",
    "    contents = pd.Series(texts)\n",
    "    sent_topics_df = pd.concat([sent_topics_df, contents], axis=1)\n",
    "    return(sent_topics_df)"
   ]
  },
  {
   "cell_type": "code",
   "execution_count": 44,
   "metadata": {},
   "outputs": [],
   "source": [
    "df_topic_sents_keywords = format_topics_sentences(ldamodel=lda_model, corpus=corpus, texts=data)"
   ]
  },
  {
   "cell_type": "code",
   "execution_count": 45,
   "metadata": {},
   "outputs": [],
   "source": [
    "df_dominant_topic = df_topic_sents_keywords.reset_index()\n",
    "df_dominant_topic.columns = ['Document_No', 'Dominant_Topic', 'Topic_Perc_Contrib', 'Keywords', 'Text']"
   ]
  },
  {
   "cell_type": "code",
   "execution_count": 46,
   "metadata": {},
   "outputs": [
    {
     "data": {
      "text/plain": [
       "(346959, 5)"
      ]
     },
     "execution_count": 46,
     "metadata": {},
     "output_type": "execute_result"
    }
   ],
   "source": [
    "df_dominant_topic.shape"
   ]
  },
  {
   "cell_type": "code",
   "execution_count": 47,
   "metadata": {
    "scrolled": true
   },
   "outputs": [
    {
     "data": {
      "text/html": [
       "<div>\n",
       "<style scoped>\n",
       "    .dataframe tbody tr th:only-of-type {\n",
       "        vertical-align: middle;\n",
       "    }\n",
       "\n",
       "    .dataframe tbody tr th {\n",
       "        vertical-align: top;\n",
       "    }\n",
       "\n",
       "    .dataframe thead th {\n",
       "        text-align: right;\n",
       "    }\n",
       "</style>\n",
       "<table border=\"1\" class=\"dataframe\">\n",
       "  <thead>\n",
       "    <tr style=\"text-align: right;\">\n",
       "      <th></th>\n",
       "      <th>Document_No</th>\n",
       "      <th>Dominant_Topic</th>\n",
       "      <th>Topic_Perc_Contrib</th>\n",
       "      <th>Keywords</th>\n",
       "      <th>Text</th>\n",
       "    </tr>\n",
       "  </thead>\n",
       "  <tbody>\n",
       "    <tr>\n",
       "      <th>0</th>\n",
       "      <td>0</td>\n",
       "      <td>9.0</td>\n",
       "      <td>0.7248</td>\n",
       "      <td>great, place, location, stay, host, clean, rec...</td>\n",
       "      <td>Stephanie was a wonderful host! Her apartment ...</td>\n",
       "    </tr>\n",
       "    <tr>\n",
       "      <th>1</th>\n",
       "      <td>1</td>\n",
       "      <td>2.0</td>\n",
       "      <td>0.3116</td>\n",
       "      <td>stay, place, home, feel, make, back, come, tim...</td>\n",
       "      <td>Such a wonderful place and very close to the m...</td>\n",
       "    </tr>\n",
       "    <tr>\n",
       "      <th>2</th>\n",
       "      <td>2</td>\n",
       "      <td>2.0</td>\n",
       "      <td>0.4839</td>\n",
       "      <td>stay, place, home, feel, make, back, come, tim...</td>\n",
       "      <td>I just got back from a trip to NYC during whic...</td>\n",
       "    </tr>\n",
       "    <tr>\n",
       "      <th>3</th>\n",
       "      <td>3</td>\n",
       "      <td>2.0</td>\n",
       "      <td>0.4605</td>\n",
       "      <td>stay, place, home, feel, make, back, come, tim...</td>\n",
       "      <td>Stephanie's offered all the most important thi...</td>\n",
       "    </tr>\n",
       "    <tr>\n",
       "      <th>4</th>\n",
       "      <td>4</td>\n",
       "      <td>0.0</td>\n",
       "      <td>0.5278</td>\n",
       "      <td>place, nice, minute, close, subway, walk, stat...</td>\n",
       "      <td>Stephanie was really nice, ftiendly and helpfu...</td>\n",
       "    </tr>\n",
       "    <tr>\n",
       "      <th>5</th>\n",
       "      <td>5</td>\n",
       "      <td>2.0</td>\n",
       "      <td>0.7294</td>\n",
       "      <td>stay, place, home, feel, make, back, come, tim...</td>\n",
       "      <td>I was pleasantly surprised with my whole stay ...</td>\n",
       "    </tr>\n",
       "    <tr>\n",
       "      <th>6</th>\n",
       "      <td>6</td>\n",
       "      <td>0.0</td>\n",
       "      <td>0.6768</td>\n",
       "      <td>place, nice, minute, close, subway, walk, stat...</td>\n",
       "      <td>Stephanie's apt was great. Very convenient to ...</td>\n",
       "    </tr>\n",
       "    <tr>\n",
       "      <th>7</th>\n",
       "      <td>7</td>\n",
       "      <td>2.0</td>\n",
       "      <td>0.2785</td>\n",
       "      <td>stay, place, home, feel, make, back, come, tim...</td>\n",
       "      <td>my husband and i had such a great time staying...</td>\n",
       "    </tr>\n",
       "    <tr>\n",
       "      <th>8</th>\n",
       "      <td>8</td>\n",
       "      <td>2.0</td>\n",
       "      <td>0.3413</td>\n",
       "      <td>stay, place, home, feel, make, back, come, tim...</td>\n",
       "      <td>When I first arrived at Stephanie's, she was v...</td>\n",
       "    </tr>\n",
       "    <tr>\n",
       "      <th>9</th>\n",
       "      <td>9</td>\n",
       "      <td>5.0</td>\n",
       "      <td>0.5499</td>\n",
       "      <td>good, location, place, apartment, night, price...</td>\n",
       "      <td>awesome couldn't have been better.</td>\n",
       "    </tr>\n",
       "  </tbody>\n",
       "</table>\n",
       "</div>"
      ],
      "text/plain": [
       "   Document_No  Dominant_Topic  Topic_Perc_Contrib  \\\n",
       "0            0             9.0              0.7248   \n",
       "1            1             2.0              0.3116   \n",
       "2            2             2.0              0.4839   \n",
       "3            3             2.0              0.4605   \n",
       "4            4             0.0              0.5278   \n",
       "5            5             2.0              0.7294   \n",
       "6            6             0.0              0.6768   \n",
       "7            7             2.0              0.2785   \n",
       "8            8             2.0              0.3413   \n",
       "9            9             5.0              0.5499   \n",
       "\n",
       "                                            Keywords  \\\n",
       "0  great, place, location, stay, host, clean, rec...   \n",
       "1  stay, place, home, feel, make, back, come, tim...   \n",
       "2  stay, place, home, feel, make, back, come, tim...   \n",
       "3  stay, place, home, feel, make, back, come, tim...   \n",
       "4  place, nice, minute, close, subway, walk, stat...   \n",
       "5  stay, place, home, feel, make, back, come, tim...   \n",
       "6  place, nice, minute, close, subway, walk, stat...   \n",
       "7  stay, place, home, feel, make, back, come, tim...   \n",
       "8  stay, place, home, feel, make, back, come, tim...   \n",
       "9  good, location, place, apartment, night, price...   \n",
       "\n",
       "                                                Text  \n",
       "0  Stephanie was a wonderful host! Her apartment ...  \n",
       "1  Such a wonderful place and very close to the m...  \n",
       "2  I just got back from a trip to NYC during whic...  \n",
       "3  Stephanie's offered all the most important thi...  \n",
       "4  Stephanie was really nice, ftiendly and helpfu...  \n",
       "5  I was pleasantly surprised with my whole stay ...  \n",
       "6  Stephanie's apt was great. Very convenient to ...  \n",
       "7  my husband and i had such a great time staying...  \n",
       "8  When I first arrived at Stephanie's, she was v...  \n",
       "9                 awesome couldn't have been better.  "
      ]
     },
     "execution_count": 47,
     "metadata": {},
     "output_type": "execute_result"
    }
   ],
   "source": [
    "df_dominant_topic.head(10)"
   ]
  },
  {
   "cell_type": "code",
   "execution_count": 48,
   "metadata": {},
   "outputs": [],
   "source": [
    "from nltk.sentiment.vader import SentimentIntensityAnalyzer"
   ]
  },
  {
   "cell_type": "code",
   "execution_count": 49,
   "metadata": {},
   "outputs": [],
   "source": [
    "sia = SentimentIntensityAnalyzer()"
   ]
  },
  {
   "cell_type": "code",
   "execution_count": 50,
   "metadata": {},
   "outputs": [],
   "source": [
    "example=df_dominant_topic.loc[:10,:]"
   ]
  },
  {
   "cell_type": "code",
   "execution_count": 51,
   "metadata": {},
   "outputs": [
    {
     "data": {
      "text/plain": [
       "(11, 5)"
      ]
     },
     "execution_count": 51,
     "metadata": {},
     "output_type": "execute_result"
    }
   ],
   "source": [
    "example.shape"
   ]
  },
  {
   "cell_type": "code",
   "execution_count": 52,
   "metadata": {
    "scrolled": true
   },
   "outputs": [
    {
     "name": "stdout",
     "output_type": "stream",
     "text": [
      "Stephanie was a wonderful host! Her apartment was beautiful and extremely clean. We had a very nice (and affordable!) stay in the city with private room and own bathroom.\n",
      "0.9357\n",
      "\n",
      "\n",
      "Such a wonderful place and very close to the metro station on the line 1 2 3. Your She was awesome with us, It was a pleasure to stay in her appt. she's french, so last word ...\n",
      "Stephanie thank you again for your hospitality. We had a great time with you. Very available for us with lots of advice, I would particularly recommend this address which is more for a reasonable price. The subway is just 1 block from the apartment and the 1-2-3 line is the central and most convenient NYC. her neighborhood is really very nice and more !!! Go there with closed eyes.\n",
      "0.9727\n",
      "\n",
      "\n",
      "I just got back from a trip to NYC during which I stayed at Stephanie's appartment. The bedroom and private bathroom that comes with it were both kept very clean and are spacious so that I could unpack my stuff and put my clothes away in the closet. I didn't have to live out of my rucksack for ten days which made me already feel comfortable.\n",
      "The appartment is situated right at the north end of Central Park in Harlem and very close to different subway stations. I could either start my day with a morning stroll through the park and into the Upper West or Upper East Side, or catch the subway to get to Midtown, South Manhattan or Brooklyn in no time. So from a geographical vantage point the appartment is perfectly situated to discover the city.\n",
      "But apart from all these facts it was above all Stephanie with her warm and welcoming nature that really made me feel comfortable during these days. It is very nice to come \"home\" in the evening, tired after a long day's strolling around, and end the day with a little chit-chat about one's experiences before falling into bed and, with thumb-in-mouth, sleep blissfully through till the next morning.\n",
      "NYC, I will be back, and I know where I'll be staying! Thank you, Stephanie!!!\n",
      "0.962\n",
      "\n",
      "\n",
      "Stephanie's offered all the most important things: a warm welcome into a comfortable home; a comfortable bed in a quiet room; fresh & clean towels & blankets; and easy access to Manhattan.  Finding myself travelling to NYC in the future I feel I already have a open invitation to make home away from home through Stephanie's generousity.\n",
      "0.9626\n",
      "\n",
      "\n",
      "Stephanie was really nice, ftiendly and helpful. The room was perfect and it was very easy to go around the town from there. :-)\n",
      "0.9335\n",
      "\n",
      "\n",
      "I was pleasantly surprised with my whole stay at Stepahnie's place. She is the most warm hearted and interesting person and her family is the same.\n",
      "The whole place is clean aand as described in the ad. I'd go there again any time and thank Stph again for the wonderful stay.\n",
      "Thanx\n",
      "0.9501\n",
      "\n",
      "\n",
      "Stephanie's apt was great. Very convenient to anywhere in NYC you would want to go. Subway stop a block away. I would highly recommend staying there if you get a chance.\n",
      "0.624\n",
      "\n",
      "\n",
      "my husband and i had such a great time staying with stephanie! we stayed at chez chic for 3 nights and felt right at home the minute we walked in.  the room is a perfect size, plenty of room for the two of us and a good sized closet for our suitcases, everything was immaculate, clean towels and linens, and the location is great.   not only is stephanie a great hostess, she is also a great resource for things to do in the city which made our stay even better.  i would recommend stephanie to anyone traveling to new york and we cant wait to get back to nyc to see her bed and breakfast!\n",
      "0.987\n",
      "\n",
      "\n",
      "When I first arrived at Stephanie's, she was very welcoming! I had no problem finding my way from the subway at Central Park North and I never felt unsafe walking from the subway to the apartment (a 5 min walk)When I got to the apartment complex at 7th ave (Chez Chic)there was no elevator but there was a really friendly neighbor that helped me carry my luggage up the stairs. I met Stephanie's very nice husband and her two beautiful children and they were never a bother! And she even let me use her laptop so I can check my email and keep in touch with my family.\n",
      "I was free to come and go anytime I wanted to and having my own bathroom was a bonus! The bed was REALLY comfy, the air conditioning was a relief and the closet was spacious.\n",
      " Not too far up the street there was a 24 hour market that was awesome with a lot of great stuff to choose from so I was always able to make my own breakfast, lunch and dinner!! Going to and from uptown to midtown Manhattan was very easy and convenient with the subways running 24 hours (only a 25 min ride to Time Square) and there was always people around so you never felt alone!!\n",
      "Over all I really enjoyed my stay at Chez Chic and New York was a great city! I recommend any place Stephanie has available!! \n",
      "Enjoy your time in New York!\n",
      "0.9973\n",
      "\n",
      "\n",
      "awesome couldn't have been better.\n",
      "0.4007\n",
      "\n",
      "\n",
      "It was a great week at \"chez chic\". Stephanie and her family were really friendly and she gave us some advices to visit the town. The room was comfortable and the flat was really well situated (5 minutes from subway). We would recommend this place to anyone!\n",
      "0.944\n",
      "\n",
      "\n"
     ]
    }
   ],
   "source": [
    "for sentence in example.Text:\n",
    "    # Assess sentiment.\n",
    "    sentiment = sia.polarity_scores(sentence)[\"compound\"]\n",
    "    print(sentence)\n",
    "    print(sentiment)\n",
    "    print('\\n')"
   ]
  },
  {
   "cell_type": "code",
   "execution_count": 53,
   "metadata": {},
   "outputs": [],
   "source": [
    "sentiment_scores=[]\n",
    "for sentence in df_dominant_topic.Text:\n",
    "    sentiment = sia.polarity_scores(sentence)[\"compound\"]\n",
    "    sentiment_scores.append(sentiment)\n",
    "    "
   ]
  },
  {
   "cell_type": "code",
   "execution_count": 54,
   "metadata": {},
   "outputs": [],
   "source": [
    "df_dominant_topic['sentiment_score'] = pd.Series(sentiment_scores, index=df_dominant_topic.index)"
   ]
  },
  {
   "cell_type": "code",
   "execution_count": 62,
   "metadata": {},
   "outputs": [
    {
     "data": {
      "text/plain": [
       "(346959, 6)"
      ]
     },
     "execution_count": 62,
     "metadata": {},
     "output_type": "execute_result"
    }
   ],
   "source": [
    "df_dominant_topic.shape"
   ]
  },
  {
   "cell_type": "code",
   "execution_count": 55,
   "metadata": {},
   "outputs": [
    {
     "data": {
      "text/html": [
       "<div>\n",
       "<style scoped>\n",
       "    .dataframe tbody tr th:only-of-type {\n",
       "        vertical-align: middle;\n",
       "    }\n",
       "\n",
       "    .dataframe tbody tr th {\n",
       "        vertical-align: top;\n",
       "    }\n",
       "\n",
       "    .dataframe thead th {\n",
       "        text-align: right;\n",
       "    }\n",
       "</style>\n",
       "<table border=\"1\" class=\"dataframe\">\n",
       "  <thead>\n",
       "    <tr style=\"text-align: right;\">\n",
       "      <th></th>\n",
       "      <th>Document_No</th>\n",
       "      <th>Dominant_Topic</th>\n",
       "      <th>Topic_Perc_Contrib</th>\n",
       "      <th>Keywords</th>\n",
       "      <th>Text</th>\n",
       "      <th>sentiment_score</th>\n",
       "    </tr>\n",
       "  </thead>\n",
       "  <tbody>\n",
       "    <tr>\n",
       "      <th>0</th>\n",
       "      <td>0</td>\n",
       "      <td>9.0</td>\n",
       "      <td>0.7248</td>\n",
       "      <td>great, place, location, stay, host, clean, rec...</td>\n",
       "      <td>Stephanie was a wonderful host! Her apartment ...</td>\n",
       "      <td>0.9357</td>\n",
       "    </tr>\n",
       "    <tr>\n",
       "      <th>1</th>\n",
       "      <td>1</td>\n",
       "      <td>2.0</td>\n",
       "      <td>0.3116</td>\n",
       "      <td>stay, place, home, feel, make, back, come, tim...</td>\n",
       "      <td>Such a wonderful place and very close to the m...</td>\n",
       "      <td>0.9727</td>\n",
       "    </tr>\n",
       "    <tr>\n",
       "      <th>2</th>\n",
       "      <td>2</td>\n",
       "      <td>2.0</td>\n",
       "      <td>0.4839</td>\n",
       "      <td>stay, place, home, feel, make, back, come, tim...</td>\n",
       "      <td>I just got back from a trip to NYC during whic...</td>\n",
       "      <td>0.9620</td>\n",
       "    </tr>\n",
       "    <tr>\n",
       "      <th>3</th>\n",
       "      <td>3</td>\n",
       "      <td>2.0</td>\n",
       "      <td>0.4605</td>\n",
       "      <td>stay, place, home, feel, make, back, come, tim...</td>\n",
       "      <td>Stephanie's offered all the most important thi...</td>\n",
       "      <td>0.9626</td>\n",
       "    </tr>\n",
       "    <tr>\n",
       "      <th>4</th>\n",
       "      <td>4</td>\n",
       "      <td>0.0</td>\n",
       "      <td>0.5278</td>\n",
       "      <td>place, nice, minute, close, subway, walk, stat...</td>\n",
       "      <td>Stephanie was really nice, ftiendly and helpfu...</td>\n",
       "      <td>0.9335</td>\n",
       "    </tr>\n",
       "  </tbody>\n",
       "</table>\n",
       "</div>"
      ],
      "text/plain": [
       "   Document_No  Dominant_Topic  Topic_Perc_Contrib  \\\n",
       "0            0             9.0              0.7248   \n",
       "1            1             2.0              0.3116   \n",
       "2            2             2.0              0.4839   \n",
       "3            3             2.0              0.4605   \n",
       "4            4             0.0              0.5278   \n",
       "\n",
       "                                            Keywords  \\\n",
       "0  great, place, location, stay, host, clean, rec...   \n",
       "1  stay, place, home, feel, make, back, come, tim...   \n",
       "2  stay, place, home, feel, make, back, come, tim...   \n",
       "3  stay, place, home, feel, make, back, come, tim...   \n",
       "4  place, nice, minute, close, subway, walk, stat...   \n",
       "\n",
       "                                                Text  sentiment_score  \n",
       "0  Stephanie was a wonderful host! Her apartment ...           0.9357  \n",
       "1  Such a wonderful place and very close to the m...           0.9727  \n",
       "2  I just got back from a trip to NYC during whic...           0.9620  \n",
       "3  Stephanie's offered all the most important thi...           0.9626  \n",
       "4  Stephanie was really nice, ftiendly and helpfu...           0.9335  "
      ]
     },
     "execution_count": 55,
     "metadata": {},
     "output_type": "execute_result"
    }
   ],
   "source": [
    "df_dominant_topic.head()"
   ]
  },
  {
   "cell_type": "code",
   "execution_count": 56,
   "metadata": {},
   "outputs": [],
   "source": [
    "#to get a sense of what negative comments will look like\n",
    "negative_sentiments=df_dominant_topic[df_dominant_topic['sentiment_score']<0]"
   ]
  },
  {
   "cell_type": "code",
   "execution_count": 57,
   "metadata": {},
   "outputs": [],
   "source": [
    "negative_sentiments.reset_index(drop=True,inplace=True)"
   ]
  },
  {
   "cell_type": "code",
   "execution_count": 58,
   "metadata": {},
   "outputs": [
    {
     "data": {
      "text/plain": [
       "(8996, 6)"
      ]
     },
     "execution_count": 58,
     "metadata": {},
     "output_type": "execute_result"
    }
   ],
   "source": [
    "negative_sentiments.shape"
   ]
  },
  {
   "cell_type": "code",
   "execution_count": 59,
   "metadata": {},
   "outputs": [
    {
     "data": {
      "text/html": [
       "<div>\n",
       "<style scoped>\n",
       "    .dataframe tbody tr th:only-of-type {\n",
       "        vertical-align: middle;\n",
       "    }\n",
       "\n",
       "    .dataframe tbody tr th {\n",
       "        vertical-align: top;\n",
       "    }\n",
       "\n",
       "    .dataframe thead th {\n",
       "        text-align: right;\n",
       "    }\n",
       "</style>\n",
       "<table border=\"1\" class=\"dataframe\">\n",
       "  <thead>\n",
       "    <tr style=\"text-align: right;\">\n",
       "      <th></th>\n",
       "      <th>Document_No</th>\n",
       "      <th>Dominant_Topic</th>\n",
       "      <th>Topic_Perc_Contrib</th>\n",
       "      <th>Keywords</th>\n",
       "      <th>Text</th>\n",
       "      <th>sentiment_score</th>\n",
       "    </tr>\n",
       "  </thead>\n",
       "  <tbody>\n",
       "    <tr>\n",
       "      <th>3565</th>\n",
       "      <td>162817</td>\n",
       "      <td>1.0</td>\n",
       "      <td>0.4476</td>\n",
       "      <td>host, day, arrival, reservation, cancel, door,...</td>\n",
       "      <td>This is a filthy hole in a filthy old building...</td>\n",
       "      <td>-0.9971</td>\n",
       "    </tr>\n",
       "    <tr>\n",
       "      <th>2277</th>\n",
       "      <td>111046</td>\n",
       "      <td>1.0</td>\n",
       "      <td>0.3777</td>\n",
       "      <td>host, day, arrival, reservation, cancel, door,...</td>\n",
       "      <td>Dangerous host \\nI really hate it when I write...</td>\n",
       "      <td>-0.9966</td>\n",
       "    </tr>\n",
       "    <tr>\n",
       "      <th>8788</th>\n",
       "      <td>338855</td>\n",
       "      <td>1.0</td>\n",
       "      <td>0.4437</td>\n",
       "      <td>host, day, arrival, reservation, cancel, door,...</td>\n",
       "      <td>We had a very bad experience with this Airbnb ...</td>\n",
       "      <td>-0.9965</td>\n",
       "    </tr>\n",
       "    <tr>\n",
       "      <th>3748</th>\n",
       "      <td>169226</td>\n",
       "      <td>1.0</td>\n",
       "      <td>0.4290</td>\n",
       "      <td>host, day, arrival, reservation, cancel, door,...</td>\n",
       "      <td>Here is a list of issues to consider. We reach...</td>\n",
       "      <td>-0.9963</td>\n",
       "    </tr>\n",
       "    <tr>\n",
       "      <th>7510</th>\n",
       "      <td>297779</td>\n",
       "      <td>1.0</td>\n",
       "      <td>0.4484</td>\n",
       "      <td>host, day, arrival, reservation, cancel, door,...</td>\n",
       "      <td>I really do not enjoy having to write bad revi...</td>\n",
       "      <td>-0.9963</td>\n",
       "    </tr>\n",
       "    <tr>\n",
       "      <th>6872</th>\n",
       "      <td>277427</td>\n",
       "      <td>1.0</td>\n",
       "      <td>0.4358</td>\n",
       "      <td>host, day, arrival, reservation, cancel, door,...</td>\n",
       "      <td>From the moment me and my sister booked this A...</td>\n",
       "      <td>-0.9956</td>\n",
       "    </tr>\n",
       "    <tr>\n",
       "      <th>1572</th>\n",
       "      <td>82528</td>\n",
       "      <td>1.0</td>\n",
       "      <td>0.4002</td>\n",
       "      <td>host, day, arrival, reservation, cancel, door,...</td>\n",
       "      <td>BAD BAD TERRIEBLE. FROM THE BEGINNING. Very ru...</td>\n",
       "      <td>-0.9949</td>\n",
       "    </tr>\n",
       "    <tr>\n",
       "      <th>212</th>\n",
       "      <td>12044</td>\n",
       "      <td>1.0</td>\n",
       "      <td>0.4175</td>\n",
       "      <td>host, day, arrival, reservation, cancel, door,...</td>\n",
       "      <td>During the stay, Zooey and I felt very happy t...</td>\n",
       "      <td>-0.9948</td>\n",
       "    </tr>\n",
       "    <tr>\n",
       "      <th>1024</th>\n",
       "      <td>57391</td>\n",
       "      <td>1.0</td>\n",
       "      <td>0.3901</td>\n",
       "      <td>host, day, arrival, reservation, cancel, door,...</td>\n",
       "      <td>My wife and 4 kids had a very dissatisfying st...</td>\n",
       "      <td>-0.9947</td>\n",
       "    </tr>\n",
       "    <tr>\n",
       "      <th>2526</th>\n",
       "      <td>124547</td>\n",
       "      <td>1.0</td>\n",
       "      <td>0.4017</td>\n",
       "      <td>host, day, arrival, reservation, cancel, door,...</td>\n",
       "      <td>We have used AirBnb and (Hidden by Airbnb) as ...</td>\n",
       "      <td>-0.9946</td>\n",
       "    </tr>\n",
       "    <tr>\n",
       "      <th>8839</th>\n",
       "      <td>340938</td>\n",
       "      <td>1.0</td>\n",
       "      <td>0.3162</td>\n",
       "      <td>host, day, arrival, reservation, cancel, door,...</td>\n",
       "      <td>I booked this home on Airbnb in Manhattan from...</td>\n",
       "      <td>-0.9942</td>\n",
       "    </tr>\n",
       "    <tr>\n",
       "      <th>6859</th>\n",
       "      <td>276938</td>\n",
       "      <td>8.0</td>\n",
       "      <td>0.3293</td>\n",
       "      <td>room, bed, bathroom, clean, bedroom, kitchen, ...</td>\n",
       "      <td>3 of the 4  nights in the apartment, the entir...</td>\n",
       "      <td>-0.9939</td>\n",
       "    </tr>\n",
       "    <tr>\n",
       "      <th>4555</th>\n",
       "      <td>202339</td>\n",
       "      <td>1.0</td>\n",
       "      <td>0.7438</td>\n",
       "      <td>host, day, arrival, reservation, cancel, door,...</td>\n",
       "      <td>TERRIBLE EXPERIENCE: ILLEGAL LISTING AND UNRES...</td>\n",
       "      <td>-0.9937</td>\n",
       "    </tr>\n",
       "    <tr>\n",
       "      <th>301</th>\n",
       "      <td>19065</td>\n",
       "      <td>1.0</td>\n",
       "      <td>0.3828</td>\n",
       "      <td>host, day, arrival, reservation, cancel, door,...</td>\n",
       "      <td>I was going to stay in this place for 4 days. ...</td>\n",
       "      <td>-0.9935</td>\n",
       "    </tr>\n",
       "    <tr>\n",
       "      <th>2338</th>\n",
       "      <td>113556</td>\n",
       "      <td>1.0</td>\n",
       "      <td>0.3633</td>\n",
       "      <td>host, day, arrival, reservation, cancel, door,...</td>\n",
       "      <td>HORRIBLE, HORRIBLE, HORRIBLE NOISY, NOISY, NOI...</td>\n",
       "      <td>-0.9928</td>\n",
       "    </tr>\n",
       "    <tr>\n",
       "      <th>5939</th>\n",
       "      <td>244415</td>\n",
       "      <td>1.0</td>\n",
       "      <td>0.5003</td>\n",
       "      <td>host, day, arrival, reservation, cancel, door,...</td>\n",
       "      <td>The main reason for booking this property was ...</td>\n",
       "      <td>-0.9921</td>\n",
       "    </tr>\n",
       "    <tr>\n",
       "      <th>6064</th>\n",
       "      <td>248670</td>\n",
       "      <td>1.0</td>\n",
       "      <td>0.4114</td>\n",
       "      <td>host, day, arrival, reservation, cancel, door,...</td>\n",
       "      <td>I considered this stay as a \"3D Guantanamo Bay...</td>\n",
       "      <td>-0.9920</td>\n",
       "    </tr>\n",
       "    <tr>\n",
       "      <th>2835</th>\n",
       "      <td>134979</td>\n",
       "      <td>1.0</td>\n",
       "      <td>0.4070</td>\n",
       "      <td>host, day, arrival, reservation, cancel, door,...</td>\n",
       "      <td>I know I write this evaluation landlord might ...</td>\n",
       "      <td>-0.9920</td>\n",
       "    </tr>\n",
       "    <tr>\n",
       "      <th>4958</th>\n",
       "      <td>215831</td>\n",
       "      <td>1.0</td>\n",
       "      <td>0.5016</td>\n",
       "      <td>host, day, arrival, reservation, cancel, door,...</td>\n",
       "      <td>First of all, the basement basically stinks. I...</td>\n",
       "      <td>-0.9917</td>\n",
       "    </tr>\n",
       "    <tr>\n",
       "      <th>8853</th>\n",
       "      <td>341754</td>\n",
       "      <td>1.0</td>\n",
       "      <td>0.4595</td>\n",
       "      <td>host, day, arrival, reservation, cancel, door,...</td>\n",
       "      <td>This was by far the worst absolute AirBNB stay...</td>\n",
       "      <td>-0.9916</td>\n",
       "    </tr>\n",
       "  </tbody>\n",
       "</table>\n",
       "</div>"
      ],
      "text/plain": [
       "      Document_No  Dominant_Topic  Topic_Perc_Contrib  \\\n",
       "3565       162817             1.0              0.4476   \n",
       "2277       111046             1.0              0.3777   \n",
       "8788       338855             1.0              0.4437   \n",
       "3748       169226             1.0              0.4290   \n",
       "7510       297779             1.0              0.4484   \n",
       "6872       277427             1.0              0.4358   \n",
       "1572        82528             1.0              0.4002   \n",
       "212         12044             1.0              0.4175   \n",
       "1024        57391             1.0              0.3901   \n",
       "2526       124547             1.0              0.4017   \n",
       "8839       340938             1.0              0.3162   \n",
       "6859       276938             8.0              0.3293   \n",
       "4555       202339             1.0              0.7438   \n",
       "301         19065             1.0              0.3828   \n",
       "2338       113556             1.0              0.3633   \n",
       "5939       244415             1.0              0.5003   \n",
       "6064       248670             1.0              0.4114   \n",
       "2835       134979             1.0              0.4070   \n",
       "4958       215831             1.0              0.5016   \n",
       "8853       341754             1.0              0.4595   \n",
       "\n",
       "                                               Keywords  \\\n",
       "3565  host, day, arrival, reservation, cancel, door,...   \n",
       "2277  host, day, arrival, reservation, cancel, door,...   \n",
       "8788  host, day, arrival, reservation, cancel, door,...   \n",
       "3748  host, day, arrival, reservation, cancel, door,...   \n",
       "7510  host, day, arrival, reservation, cancel, door,...   \n",
       "6872  host, day, arrival, reservation, cancel, door,...   \n",
       "1572  host, day, arrival, reservation, cancel, door,...   \n",
       "212   host, day, arrival, reservation, cancel, door,...   \n",
       "1024  host, day, arrival, reservation, cancel, door,...   \n",
       "2526  host, day, arrival, reservation, cancel, door,...   \n",
       "8839  host, day, arrival, reservation, cancel, door,...   \n",
       "6859  room, bed, bathroom, clean, bedroom, kitchen, ...   \n",
       "4555  host, day, arrival, reservation, cancel, door,...   \n",
       "301   host, day, arrival, reservation, cancel, door,...   \n",
       "2338  host, day, arrival, reservation, cancel, door,...   \n",
       "5939  host, day, arrival, reservation, cancel, door,...   \n",
       "6064  host, day, arrival, reservation, cancel, door,...   \n",
       "2835  host, day, arrival, reservation, cancel, door,...   \n",
       "4958  host, day, arrival, reservation, cancel, door,...   \n",
       "8853  host, day, arrival, reservation, cancel, door,...   \n",
       "\n",
       "                                                   Text  sentiment_score  \n",
       "3565  This is a filthy hole in a filthy old building...          -0.9971  \n",
       "2277  Dangerous host \\nI really hate it when I write...          -0.9966  \n",
       "8788  We had a very bad experience with this Airbnb ...          -0.9965  \n",
       "3748  Here is a list of issues to consider. We reach...          -0.9963  \n",
       "7510  I really do not enjoy having to write bad revi...          -0.9963  \n",
       "6872  From the moment me and my sister booked this A...          -0.9956  \n",
       "1572  BAD BAD TERRIEBLE. FROM THE BEGINNING. Very ru...          -0.9949  \n",
       "212   During the stay, Zooey and I felt very happy t...          -0.9948  \n",
       "1024  My wife and 4 kids had a very dissatisfying st...          -0.9947  \n",
       "2526  We have used AirBnb and (Hidden by Airbnb) as ...          -0.9946  \n",
       "8839  I booked this home on Airbnb in Manhattan from...          -0.9942  \n",
       "6859  3 of the 4  nights in the apartment, the entir...          -0.9939  \n",
       "4555  TERRIBLE EXPERIENCE: ILLEGAL LISTING AND UNRES...          -0.9937  \n",
       "301   I was going to stay in this place for 4 days. ...          -0.9935  \n",
       "2338  HORRIBLE, HORRIBLE, HORRIBLE NOISY, NOISY, NOI...          -0.9928  \n",
       "5939  The main reason for booking this property was ...          -0.9921  \n",
       "6064  I considered this stay as a \"3D Guantanamo Bay...          -0.9920  \n",
       "2835  I know I write this evaluation landlord might ...          -0.9920  \n",
       "4958  First of all, the basement basically stinks. I...          -0.9917  \n",
       "8853  This was by far the worst absolute AirBNB stay...          -0.9916  "
      ]
     },
     "execution_count": 59,
     "metadata": {},
     "output_type": "execute_result"
    }
   ],
   "source": [
    "negative_sentiments.sort_values('sentiment_score').head(20)"
   ]
  },
  {
   "cell_type": "code",
   "execution_count": 60,
   "metadata": {},
   "outputs": [
    {
     "data": {
      "text/plain": [
       "\"We had a very bad experience with this Airbnb stay. Zheng was very friendly as a person and tried to help, but there were so many things wrong and illegal about her setup, that it led to the worst Airbnb experience we have ever had. Zheng has put her rental apartment on Airbnb without permission from her leasing office (as she told us herself). Hence, she lied about many things in her listing and to us when we booked. She gave us a wrong  address since she didn't want us to reach her main entrance/lobby or use the main elevator since she thought her leasing agency folks will catch her doing Airbnb illegally.  Further, she asked us not to use the lobby, main elevator and the correct address (anybody for deliveries would then reach the lobby and meet the leasing office people). Instead, she asked us to use a freight elevator on one side of the building to enter the property. This led to a series of bad experiences for us. I travel for business and I book using Airbnb for business. One of the main reasons I do Airbnb for business is so that I can cook my meals. Otherwise, I would stay at any 5 star hotel near my office. Because Zheng asked us not to use the main entrance and address, we couldn't get grocery delivered from Amazon Prime, we had to wait 50 min - 1 hr in bitter cold in the evenings to get our food delivered from Grubhub and Ubereats because we had to wait on the road outside an address a block away because Zheng thought it was safe rather than using the address of her apartment. And equally disappointingly,  Zheng had misleading and fake photos of her kitchen in her listing. The kitchen and bathroom photos in her listing are not the photos of her Airbnb listing. Her kitchen photo misled us into believing we could use her kitchen. Zheng didn't have kitchen utensils to cook food, or even serve/eat food, water etc. No water glasses, no kettles for tea/water heating, no plates, spoons, forks, no kitchen rolls, no spatulas, we couldn't cook anything in her house. And we really struggled to get food delivered because of her instructions not to use the right address or the property lobby.  Likewise, here photo of her bathroom is also not her apartment photo. It's taken from her leasing office's photo. Her bodywash, showergel bottles were empty, shampoo was also almost over. The floor of her apartment was sticky, needed cleaning. Basically, she didn't have any amenities which I'm used to having when I book with Airbnb for business. I've always had great experiences with Airbnb for business before this, and this is the first time I'm seeing a host list their apartment illegally, use misleading and fake photos, wrong information, address and thereby cause so many problems. \\nShe had given us one access card for her apartment and told us if we lose it, it'll cost her $50 and 7 days to get it. This information is not written anywhere in her listing, just like none of her lies are written anywhere in her listing such as you can't use her address, she'll give you a different address etc. In all the chaos of going away one block, using some side elevator and side entrance, and not being able to use the main entrance to the building, and waiting for long times to get food deliveries, we eventually misplaced the one access key given to us. Zheng sent us an additional bill of $70 for that using resolution center. Yet, this is not written anywhere in her listing, just like her incorrect address. \\n\\nI'm a long time Airbnb user, and I used to host on Airbnb as well, with all 5 star reviews. It's very important that Airbnb maintains its quality and ethical practices and oust such hosts who're illegally hosting on Airbnb. Otherwise, business travelers using Airbnb for business will have rough experiences and huge experience mismatches.\""
      ]
     },
     "execution_count": 60,
     "metadata": {},
     "output_type": "execute_result"
    }
   ],
   "source": [
    "negative_sentiments.Text.iloc[8788]"
   ]
  },
  {
   "cell_type": "code",
   "execution_count": 143,
   "metadata": {},
   "outputs": [
    {
     "data": {
      "text/plain": [
       "20"
      ]
     },
     "execution_count": 143,
     "metadata": {},
     "output_type": "execute_result"
    }
   ],
   "source": [
    "negative_sentiments.Dominant_Topic.nunique() #this just means people  can talk negative things for each topic"
   ]
  },
  {
   "cell_type": "markdown",
   "metadata": {},
   "source": [
    "WHAT I REALISED\n",
    "<br>the topic classification via LDA although still not the best poppped up few interesting things:\n",
    "1. reducing no of topics seem to be improving the coherence score"
   ]
  },
  {
   "cell_type": "code",
   "execution_count": 64,
   "metadata": {},
   "outputs": [],
   "source": [
    "#putting them back together\n",
    "df=pd.read_csv('./removed_january.csv')"
   ]
  },
  {
   "cell_type": "code",
   "execution_count": 67,
   "metadata": {},
   "outputs": [],
   "source": [
    "df.dropna(inplace=True)"
   ]
  },
  {
   "cell_type": "code",
   "execution_count": 68,
   "metadata": {},
   "outputs": [
    {
     "data": {
      "text/plain": [
       "(346959, 6)"
      ]
     },
     "execution_count": 68,
     "metadata": {},
     "output_type": "execute_result"
    }
   ],
   "source": [
    "df.shape"
   ]
  },
  {
   "cell_type": "code",
   "execution_count": 69,
   "metadata": {},
   "outputs": [
    {
     "data": {
      "text/html": [
       "<div>\n",
       "<style scoped>\n",
       "    .dataframe tbody tr th:only-of-type {\n",
       "        vertical-align: middle;\n",
       "    }\n",
       "\n",
       "    .dataframe tbody tr th {\n",
       "        vertical-align: top;\n",
       "    }\n",
       "\n",
       "    .dataframe thead th {\n",
       "        text-align: right;\n",
       "    }\n",
       "</style>\n",
       "<table border=\"1\" class=\"dataframe\">\n",
       "  <thead>\n",
       "    <tr style=\"text-align: right;\">\n",
       "      <th></th>\n",
       "      <th>listing_id</th>\n",
       "      <th>id</th>\n",
       "      <th>date</th>\n",
       "      <th>reviewer_id</th>\n",
       "      <th>reviewer_name</th>\n",
       "      <th>comments</th>\n",
       "    </tr>\n",
       "  </thead>\n",
       "  <tbody>\n",
       "    <tr>\n",
       "      <th>0</th>\n",
       "      <td>2515</td>\n",
       "      <td>198</td>\n",
       "      <td>2008-10-13</td>\n",
       "      <td>2603</td>\n",
       "      <td>Jenny</td>\n",
       "      <td>Stephanie was a wonderful host! Her apartment ...</td>\n",
       "    </tr>\n",
       "    <tr>\n",
       "      <th>1</th>\n",
       "      <td>2515</td>\n",
       "      <td>859</td>\n",
       "      <td>2009-03-08</td>\n",
       "      <td>8455</td>\n",
       "      <td>Roland</td>\n",
       "      <td>Such a wonderful place and very close to the m...</td>\n",
       "    </tr>\n",
       "    <tr>\n",
       "      <th>2</th>\n",
       "      <td>2515</td>\n",
       "      <td>1083</td>\n",
       "      <td>2009-03-25</td>\n",
       "      <td>9759</td>\n",
       "      <td>Cem</td>\n",
       "      <td>I just got back from a trip to NYC during whic...</td>\n",
       "    </tr>\n",
       "    <tr>\n",
       "      <th>3</th>\n",
       "      <td>2515</td>\n",
       "      <td>1107</td>\n",
       "      <td>2009-03-27</td>\n",
       "      <td>9193</td>\n",
       "      <td>Holly</td>\n",
       "      <td>Stephanie's offered all the most important thi...</td>\n",
       "    </tr>\n",
       "    <tr>\n",
       "      <th>4</th>\n",
       "      <td>2515</td>\n",
       "      <td>2175</td>\n",
       "      <td>2009-05-09</td>\n",
       "      <td>7048</td>\n",
       "      <td>Alessandra</td>\n",
       "      <td>Stephanie was really nice, ftiendly and helpfu...</td>\n",
       "    </tr>\n",
       "  </tbody>\n",
       "</table>\n",
       "</div>"
      ],
      "text/plain": [
       "   listing_id    id        date  reviewer_id reviewer_name  \\\n",
       "0        2515   198  2008-10-13         2603         Jenny   \n",
       "1        2515   859  2009-03-08         8455        Roland   \n",
       "2        2515  1083  2009-03-25         9759           Cem   \n",
       "3        2515  1107  2009-03-27         9193         Holly   \n",
       "4        2515  2175  2009-05-09         7048    Alessandra   \n",
       "\n",
       "                                            comments  \n",
       "0  Stephanie was a wonderful host! Her apartment ...  \n",
       "1  Such a wonderful place and very close to the m...  \n",
       "2  I just got back from a trip to NYC during whic...  \n",
       "3  Stephanie's offered all the most important thi...  \n",
       "4  Stephanie was really nice, ftiendly and helpfu...  "
      ]
     },
     "execution_count": 69,
     "metadata": {},
     "output_type": "execute_result"
    }
   ],
   "source": [
    "df.head()"
   ]
  },
  {
   "cell_type": "code",
   "execution_count": 82,
   "metadata": {},
   "outputs": [
    {
     "data": {
      "text/plain": [
       "(346959, 5)"
      ]
     },
     "execution_count": 82,
     "metadata": {},
     "output_type": "execute_result"
    }
   ],
   "source": [
    "df_dominant_topic.shape"
   ]
  },
  {
   "cell_type": "code",
   "execution_count": 70,
   "metadata": {},
   "outputs": [
    {
     "data": {
      "text/html": [
       "<div>\n",
       "<style scoped>\n",
       "    .dataframe tbody tr th:only-of-type {\n",
       "        vertical-align: middle;\n",
       "    }\n",
       "\n",
       "    .dataframe tbody tr th {\n",
       "        vertical-align: top;\n",
       "    }\n",
       "\n",
       "    .dataframe thead th {\n",
       "        text-align: right;\n",
       "    }\n",
       "</style>\n",
       "<table border=\"1\" class=\"dataframe\">\n",
       "  <thead>\n",
       "    <tr style=\"text-align: right;\">\n",
       "      <th></th>\n",
       "      <th>Document_No</th>\n",
       "      <th>Dominant_Topic</th>\n",
       "      <th>Topic_Perc_Contrib</th>\n",
       "      <th>Keywords</th>\n",
       "      <th>Text</th>\n",
       "      <th>sentiment_score</th>\n",
       "    </tr>\n",
       "  </thead>\n",
       "  <tbody>\n",
       "    <tr>\n",
       "      <th>0</th>\n",
       "      <td>0</td>\n",
       "      <td>9.0</td>\n",
       "      <td>0.7248</td>\n",
       "      <td>great, place, location, stay, host, clean, rec...</td>\n",
       "      <td>Stephanie was a wonderful host! Her apartment ...</td>\n",
       "      <td>0.9357</td>\n",
       "    </tr>\n",
       "    <tr>\n",
       "      <th>1</th>\n",
       "      <td>1</td>\n",
       "      <td>2.0</td>\n",
       "      <td>0.3116</td>\n",
       "      <td>stay, place, home, feel, make, back, come, tim...</td>\n",
       "      <td>Such a wonderful place and very close to the m...</td>\n",
       "      <td>0.9727</td>\n",
       "    </tr>\n",
       "    <tr>\n",
       "      <th>2</th>\n",
       "      <td>2</td>\n",
       "      <td>2.0</td>\n",
       "      <td>0.4839</td>\n",
       "      <td>stay, place, home, feel, make, back, come, tim...</td>\n",
       "      <td>I just got back from a trip to NYC during whic...</td>\n",
       "      <td>0.9620</td>\n",
       "    </tr>\n",
       "    <tr>\n",
       "      <th>3</th>\n",
       "      <td>3</td>\n",
       "      <td>2.0</td>\n",
       "      <td>0.4605</td>\n",
       "      <td>stay, place, home, feel, make, back, come, tim...</td>\n",
       "      <td>Stephanie's offered all the most important thi...</td>\n",
       "      <td>0.9626</td>\n",
       "    </tr>\n",
       "    <tr>\n",
       "      <th>4</th>\n",
       "      <td>4</td>\n",
       "      <td>0.0</td>\n",
       "      <td>0.5278</td>\n",
       "      <td>place, nice, minute, close, subway, walk, stat...</td>\n",
       "      <td>Stephanie was really nice, ftiendly and helpfu...</td>\n",
       "      <td>0.9335</td>\n",
       "    </tr>\n",
       "  </tbody>\n",
       "</table>\n",
       "</div>"
      ],
      "text/plain": [
       "   Document_No  Dominant_Topic  Topic_Perc_Contrib  \\\n",
       "0            0             9.0              0.7248   \n",
       "1            1             2.0              0.3116   \n",
       "2            2             2.0              0.4839   \n",
       "3            3             2.0              0.4605   \n",
       "4            4             0.0              0.5278   \n",
       "\n",
       "                                            Keywords  \\\n",
       "0  great, place, location, stay, host, clean, rec...   \n",
       "1  stay, place, home, feel, make, back, come, tim...   \n",
       "2  stay, place, home, feel, make, back, come, tim...   \n",
       "3  stay, place, home, feel, make, back, come, tim...   \n",
       "4  place, nice, minute, close, subway, walk, stat...   \n",
       "\n",
       "                                                Text  sentiment_score  \n",
       "0  Stephanie was a wonderful host! Her apartment ...           0.9357  \n",
       "1  Such a wonderful place and very close to the m...           0.9727  \n",
       "2  I just got back from a trip to NYC during whic...           0.9620  \n",
       "3  Stephanie's offered all the most important thi...           0.9626  \n",
       "4  Stephanie was really nice, ftiendly and helpfu...           0.9335  "
      ]
     },
     "execution_count": 70,
     "metadata": {},
     "output_type": "execute_result"
    }
   ],
   "source": [
    "df_dominant_topic.head()"
   ]
  },
  {
   "cell_type": "code",
   "execution_count": 72,
   "metadata": {},
   "outputs": [],
   "source": [
    "#drop original non-translated comments\n",
    "df.drop(columns=['comments'],axis=1,inplace=True)"
   ]
  },
  {
   "cell_type": "code",
   "execution_count": 99,
   "metadata": {},
   "outputs": [],
   "source": [
    "df.reset_index(inplace=True)"
   ]
  },
  {
   "cell_type": "code",
   "execution_count": 73,
   "metadata": {},
   "outputs": [],
   "source": [
    "df_dominant_topic.drop(columns=['Document_No'],axis=1,inplace=True)"
   ]
  },
  {
   "cell_type": "code",
   "execution_count": 100,
   "metadata": {},
   "outputs": [],
   "source": [
    "#combine the two together \n",
    "frames=[df,df_dominant_topic]\n",
    "finaldf=pd.concat(frames,axis=1)"
   ]
  },
  {
   "cell_type": "code",
   "execution_count": 101,
   "metadata": {},
   "outputs": [
    {
     "data": {
      "text/html": [
       "<div>\n",
       "<style scoped>\n",
       "    .dataframe tbody tr th:only-of-type {\n",
       "        vertical-align: middle;\n",
       "    }\n",
       "\n",
       "    .dataframe tbody tr th {\n",
       "        vertical-align: top;\n",
       "    }\n",
       "\n",
       "    .dataframe thead th {\n",
       "        text-align: right;\n",
       "    }\n",
       "</style>\n",
       "<table border=\"1\" class=\"dataframe\">\n",
       "  <thead>\n",
       "    <tr style=\"text-align: right;\">\n",
       "      <th></th>\n",
       "      <th>index</th>\n",
       "      <th>listing_id</th>\n",
       "      <th>id</th>\n",
       "      <th>date</th>\n",
       "      <th>reviewer_id</th>\n",
       "      <th>reviewer_name</th>\n",
       "      <th>Dominant_Topic</th>\n",
       "      <th>Topic_Perc_Contrib</th>\n",
       "      <th>Keywords</th>\n",
       "      <th>Text</th>\n",
       "      <th>sentiment_score</th>\n",
       "    </tr>\n",
       "  </thead>\n",
       "  <tbody>\n",
       "    <tr>\n",
       "      <th>0</th>\n",
       "      <td>0</td>\n",
       "      <td>2515</td>\n",
       "      <td>198</td>\n",
       "      <td>2008-10-13</td>\n",
       "      <td>2603</td>\n",
       "      <td>Jenny</td>\n",
       "      <td>9.0</td>\n",
       "      <td>0.7248</td>\n",
       "      <td>great, place, location, stay, host, clean, rec...</td>\n",
       "      <td>Stephanie was a wonderful host! Her apartment ...</td>\n",
       "      <td>0.9357</td>\n",
       "    </tr>\n",
       "    <tr>\n",
       "      <th>1</th>\n",
       "      <td>1</td>\n",
       "      <td>2515</td>\n",
       "      <td>859</td>\n",
       "      <td>2009-03-08</td>\n",
       "      <td>8455</td>\n",
       "      <td>Roland</td>\n",
       "      <td>2.0</td>\n",
       "      <td>0.3116</td>\n",
       "      <td>stay, place, home, feel, make, back, come, tim...</td>\n",
       "      <td>Such a wonderful place and very close to the m...</td>\n",
       "      <td>0.9727</td>\n",
       "    </tr>\n",
       "    <tr>\n",
       "      <th>2</th>\n",
       "      <td>2</td>\n",
       "      <td>2515</td>\n",
       "      <td>1083</td>\n",
       "      <td>2009-03-25</td>\n",
       "      <td>9759</td>\n",
       "      <td>Cem</td>\n",
       "      <td>2.0</td>\n",
       "      <td>0.4839</td>\n",
       "      <td>stay, place, home, feel, make, back, come, tim...</td>\n",
       "      <td>I just got back from a trip to NYC during whic...</td>\n",
       "      <td>0.9620</td>\n",
       "    </tr>\n",
       "    <tr>\n",
       "      <th>3</th>\n",
       "      <td>3</td>\n",
       "      <td>2515</td>\n",
       "      <td>1107</td>\n",
       "      <td>2009-03-27</td>\n",
       "      <td>9193</td>\n",
       "      <td>Holly</td>\n",
       "      <td>2.0</td>\n",
       "      <td>0.4605</td>\n",
       "      <td>stay, place, home, feel, make, back, come, tim...</td>\n",
       "      <td>Stephanie's offered all the most important thi...</td>\n",
       "      <td>0.9626</td>\n",
       "    </tr>\n",
       "    <tr>\n",
       "      <th>4</th>\n",
       "      <td>4</td>\n",
       "      <td>2515</td>\n",
       "      <td>2175</td>\n",
       "      <td>2009-05-09</td>\n",
       "      <td>7048</td>\n",
       "      <td>Alessandra</td>\n",
       "      <td>0.0</td>\n",
       "      <td>0.5278</td>\n",
       "      <td>place, nice, minute, close, subway, walk, stat...</td>\n",
       "      <td>Stephanie was really nice, ftiendly and helpfu...</td>\n",
       "      <td>0.9335</td>\n",
       "    </tr>\n",
       "  </tbody>\n",
       "</table>\n",
       "</div>"
      ],
      "text/plain": [
       "   index  listing_id    id        date  reviewer_id reviewer_name  \\\n",
       "0      0        2515   198  2008-10-13         2603         Jenny   \n",
       "1      1        2515   859  2009-03-08         8455        Roland   \n",
       "2      2        2515  1083  2009-03-25         9759           Cem   \n",
       "3      3        2515  1107  2009-03-27         9193         Holly   \n",
       "4      4        2515  2175  2009-05-09         7048    Alessandra   \n",
       "\n",
       "   Dominant_Topic  Topic_Perc_Contrib  \\\n",
       "0             9.0              0.7248   \n",
       "1             2.0              0.3116   \n",
       "2             2.0              0.4839   \n",
       "3             2.0              0.4605   \n",
       "4             0.0              0.5278   \n",
       "\n",
       "                                            Keywords  \\\n",
       "0  great, place, location, stay, host, clean, rec...   \n",
       "1  stay, place, home, feel, make, back, come, tim...   \n",
       "2  stay, place, home, feel, make, back, come, tim...   \n",
       "3  stay, place, home, feel, make, back, come, tim...   \n",
       "4  place, nice, minute, close, subway, walk, stat...   \n",
       "\n",
       "                                                Text  sentiment_score  \n",
       "0  Stephanie was a wonderful host! Her apartment ...           0.9357  \n",
       "1  Such a wonderful place and very close to the m...           0.9727  \n",
       "2  I just got back from a trip to NYC during whic...           0.9620  \n",
       "3  Stephanie's offered all the most important thi...           0.9626  \n",
       "4  Stephanie was really nice, ftiendly and helpfu...           0.9335  "
      ]
     },
     "execution_count": 101,
     "metadata": {},
     "output_type": "execute_result"
    }
   ],
   "source": [
    "finaldf.head()"
   ]
  },
  {
   "cell_type": "code",
   "execution_count": 102,
   "metadata": {},
   "outputs": [
    {
     "data": {
      "text/plain": [
       "(346959, 11)"
      ]
     },
     "execution_count": 102,
     "metadata": {},
     "output_type": "execute_result"
    }
   ],
   "source": [
    "finaldf.shape"
   ]
  },
  {
   "cell_type": "code",
   "execution_count": 103,
   "metadata": {},
   "outputs": [],
   "source": [
    "finaldf.to_csv('./finaldf',index=False)"
   ]
  },
  {
   "cell_type": "code",
   "execution_count": 105,
   "metadata": {},
   "outputs": [],
   "source": [
    "#now the tedious part is to link listing id to negative sentiment scores\n",
    "final_negative_sentiments=finaldf[finaldf['sentiment_score']<0]"
   ]
  },
  {
   "cell_type": "code",
   "execution_count": 108,
   "metadata": {},
   "outputs": [
    {
     "data": {
      "text/plain": [
       "(8996, 11)"
      ]
     },
     "execution_count": 108,
     "metadata": {},
     "output_type": "execute_result"
    }
   ],
   "source": [
    "final_negative_sentiments.shape  #8996 comments with negative comments"
   ]
  },
  {
   "cell_type": "code",
   "execution_count": 109,
   "metadata": {},
   "outputs": [
    {
     "data": {
      "text/plain": [
       "3840"
      ]
     },
     "execution_count": 109,
     "metadata": {},
     "output_type": "execute_result"
    }
   ],
   "source": [
    "final_negative_sentiments.listing_id.nunique() #3840 unique listings out of 13322 listings are negatively commented  29% of the listings"
   ]
  },
  {
   "cell_type": "code",
   "execution_count": 110,
   "metadata": {},
   "outputs": [
    {
     "data": {
      "text/plain": [
       "13322"
      ]
     },
     "execution_count": 110,
     "metadata": {},
     "output_type": "execute_result"
    }
   ],
   "source": [
    "df.listing_id.nunique() "
   ]
  },
  {
   "cell_type": "code",
   "execution_count": 117,
   "metadata": {},
   "outputs": [
    {
     "data": {
      "text/plain": [
       "[27,\n",
       " 25,\n",
       " 22,\n",
       " 21,\n",
       " 21,\n",
       " 21,\n",
       " 20,\n",
       " 19,\n",
       " 18,\n",
       " 17,\n",
       " 17,\n",
       " 17,\n",
       " 17,\n",
       " 17,\n",
       " 17,\n",
       " 16,\n",
       " 16,\n",
       " 15,\n",
       " 14,\n",
       " 14,\n",
       " 14,\n",
       " 13,\n",
       " 13,\n",
       " 13,\n",
       " 13,\n",
       " 13,\n",
       " 13,\n",
       " 13,\n",
       " 13,\n",
       " 13,\n",
       " 13,\n",
       " 13,\n",
       " 13,\n",
       " 13,\n",
       " 13,\n",
       " 12,\n",
       " 12,\n",
       " 12,\n",
       " 12,\n",
       " 12,\n",
       " 12,\n",
       " 12,\n",
       " 12,\n",
       " 12,\n",
       " 12,\n",
       " 12,\n",
       " 12,\n",
       " 11,\n",
       " 11,\n",
       " 11,\n",
       " 11,\n",
       " 11,\n",
       " 11,\n",
       " 11,\n",
       " 11,\n",
       " 11,\n",
       " 11,\n",
       " 11,\n",
       " 11,\n",
       " 11,\n",
       " 11,\n",
       " 11,\n",
       " 10,\n",
       " 10,\n",
       " 10,\n",
       " 10,\n",
       " 10,\n",
       " 10,\n",
       " 10,\n",
       " 10,\n",
       " 10,\n",
       " 10,\n",
       " 10,\n",
       " 10,\n",
       " 10,\n",
       " 10,\n",
       " 10,\n",
       " 10,\n",
       " 10,\n",
       " 10,\n",
       " 10,\n",
       " 10,\n",
       " 10,\n",
       " 10,\n",
       " 10,\n",
       " 10,\n",
       " 10,\n",
       " 10,\n",
       " 10,\n",
       " 10,\n",
       " 9,\n",
       " 9,\n",
       " 9,\n",
       " 9,\n",
       " 9,\n",
       " 9,\n",
       " 9,\n",
       " 9,\n",
       " 9,\n",
       " 9,\n",
       " 9,\n",
       " 9,\n",
       " 9,\n",
       " 9,\n",
       " 9,\n",
       " 9,\n",
       " 9,\n",
       " 9,\n",
       " 9,\n",
       " 9,\n",
       " 9,\n",
       " 9,\n",
       " 9,\n",
       " 9,\n",
       " 9,\n",
       " 9,\n",
       " 8,\n",
       " 8,\n",
       " 8,\n",
       " 8,\n",
       " 8,\n",
       " 8,\n",
       " 8,\n",
       " 8,\n",
       " 8,\n",
       " 8,\n",
       " 8,\n",
       " 8,\n",
       " 8,\n",
       " 8,\n",
       " 8,\n",
       " 8,\n",
       " 8,\n",
       " 8,\n",
       " 8,\n",
       " 8,\n",
       " 8,\n",
       " 8,\n",
       " 8,\n",
       " 8,\n",
       " 8,\n",
       " 8,\n",
       " 8,\n",
       " 8,\n",
       " 8,\n",
       " 8,\n",
       " 8,\n",
       " 8,\n",
       " 8,\n",
       " 8,\n",
       " 8,\n",
       " 8,\n",
       " 8,\n",
       " 8,\n",
       " 8,\n",
       " 7,\n",
       " 7,\n",
       " 7,\n",
       " 7,\n",
       " 7,\n",
       " 7,\n",
       " 7,\n",
       " 7,\n",
       " 7,\n",
       " 7,\n",
       " 7,\n",
       " 7,\n",
       " 7,\n",
       " 7,\n",
       " 7,\n",
       " 7,\n",
       " 7,\n",
       " 7,\n",
       " 7,\n",
       " 7,\n",
       " 7,\n",
       " 7,\n",
       " 7,\n",
       " 7,\n",
       " 7,\n",
       " 7,\n",
       " 7,\n",
       " 7,\n",
       " 7,\n",
       " 7,\n",
       " 7,\n",
       " 7,\n",
       " 7,\n",
       " 7,\n",
       " 7,\n",
       " 7,\n",
       " 7,\n",
       " 7,\n",
       " 7,\n",
       " 7,\n",
       " 7,\n",
       " 7,\n",
       " 7,\n",
       " 7,\n",
       " 7,\n",
       " 7,\n",
       " 7,\n",
       " 7,\n",
       " 7,\n",
       " 7,\n",
       " 7,\n",
       " 7,\n",
       " 7,\n",
       " 7,\n",
       " 7,\n",
       " 7,\n",
       " 7,\n",
       " 7,\n",
       " 7,\n",
       " 7,\n",
       " 7,\n",
       " 7,\n",
       " 7,\n",
       " 7,\n",
       " 7,\n",
       " 7,\n",
       " 6,\n",
       " 6,\n",
       " 6,\n",
       " 6,\n",
       " 6,\n",
       " 6,\n",
       " 6,\n",
       " 6,\n",
       " 6,\n",
       " 6,\n",
       " 6,\n",
       " 6,\n",
       " 6,\n",
       " 6,\n",
       " 6,\n",
       " 6,\n",
       " 6,\n",
       " 6,\n",
       " 6,\n",
       " 6,\n",
       " 6,\n",
       " 6,\n",
       " 6,\n",
       " 6,\n",
       " 6,\n",
       " 6,\n",
       " 6,\n",
       " 6,\n",
       " 6,\n",
       " 6,\n",
       " 6,\n",
       " 6,\n",
       " 6,\n",
       " 6,\n",
       " 6,\n",
       " 6,\n",
       " 6,\n",
       " 6,\n",
       " 6,\n",
       " 6,\n",
       " 6,\n",
       " 6,\n",
       " 6,\n",
       " 6,\n",
       " 6,\n",
       " 6,\n",
       " 6,\n",
       " 6,\n",
       " 6,\n",
       " 6,\n",
       " 6,\n",
       " 6,\n",
       " 6,\n",
       " 6,\n",
       " 6,\n",
       " 6,\n",
       " 6,\n",
       " 6,\n",
       " 6,\n",
       " 6,\n",
       " 6,\n",
       " 6,\n",
       " 6,\n",
       " 6,\n",
       " 6,\n",
       " 6,\n",
       " 6,\n",
       " 6,\n",
       " 6,\n",
       " 6,\n",
       " 6,\n",
       " 6,\n",
       " 6,\n",
       " 6,\n",
       " 6,\n",
       " 6,\n",
       " 6,\n",
       " 6,\n",
       " 6,\n",
       " 6,\n",
       " 6,\n",
       " 6,\n",
       " 6,\n",
       " 6,\n",
       " 6,\n",
       " 6,\n",
       " 6,\n",
       " 6,\n",
       " 6,\n",
       " 6,\n",
       " 6,\n",
       " 6,\n",
       " 6,\n",
       " 5,\n",
       " 5,\n",
       " 5,\n",
       " 5,\n",
       " 5,\n",
       " 5,\n",
       " 5,\n",
       " 5,\n",
       " 5,\n",
       " 5,\n",
       " 5,\n",
       " 5,\n",
       " 5,\n",
       " 5,\n",
       " 5,\n",
       " 5,\n",
       " 5,\n",
       " 5,\n",
       " 5,\n",
       " 5,\n",
       " 5,\n",
       " 5,\n",
       " 5,\n",
       " 5,\n",
       " 5,\n",
       " 5,\n",
       " 5,\n",
       " 5,\n",
       " 5,\n",
       " 5,\n",
       " 5,\n",
       " 5,\n",
       " 5,\n",
       " 5,\n",
       " 5,\n",
       " 5,\n",
       " 5,\n",
       " 5,\n",
       " 5,\n",
       " 5,\n",
       " 5,\n",
       " 5,\n",
       " 5,\n",
       " 5,\n",
       " 5,\n",
       " 5,\n",
       " 5,\n",
       " 5,\n",
       " 5,\n",
       " 5,\n",
       " 5,\n",
       " 5,\n",
       " 5,\n",
       " 5,\n",
       " 5,\n",
       " 5,\n",
       " 5,\n",
       " 5,\n",
       " 5,\n",
       " 5,\n",
       " 5,\n",
       " 5,\n",
       " 5,\n",
       " 5,\n",
       " 5,\n",
       " 5,\n",
       " 5,\n",
       " 5,\n",
       " 5,\n",
       " 5,\n",
       " 5,\n",
       " 5,\n",
       " 5,\n",
       " 5,\n",
       " 5,\n",
       " 5,\n",
       " 5,\n",
       " 5,\n",
       " 5,\n",
       " 5,\n",
       " 5,\n",
       " 5,\n",
       " 5,\n",
       " 5,\n",
       " 5,\n",
       " 5,\n",
       " 5,\n",
       " 5,\n",
       " 5,\n",
       " 5,\n",
       " 5,\n",
       " 5,\n",
       " 5,\n",
       " 5,\n",
       " 5,\n",
       " 5,\n",
       " 5,\n",
       " 5,\n",
       " 5,\n",
       " 5,\n",
       " 5,\n",
       " 5,\n",
       " 5,\n",
       " 5,\n",
       " 5,\n",
       " 5,\n",
       " 5,\n",
       " 5,\n",
       " 5,\n",
       " 5,\n",
       " 5,\n",
       " 5,\n",
       " 5,\n",
       " 5,\n",
       " 5,\n",
       " 5,\n",
       " 5,\n",
       " 5,\n",
       " 5,\n",
       " 5,\n",
       " 5,\n",
       " 5,\n",
       " 5,\n",
       " 5,\n",
       " 5,\n",
       " 5,\n",
       " 5,\n",
       " 5,\n",
       " 5,\n",
       " 5,\n",
       " 5,\n",
       " 5,\n",
       " 5,\n",
       " 5,\n",
       " 5,\n",
       " 5,\n",
       " 5,\n",
       " 5,\n",
       " 5,\n",
       " 5,\n",
       " 5,\n",
       " 5,\n",
       " 5,\n",
       " 5,\n",
       " 4,\n",
       " 4,\n",
       " 4,\n",
       " 4,\n",
       " 4,\n",
       " 4,\n",
       " 4,\n",
       " 4,\n",
       " 4,\n",
       " 4,\n",
       " 4,\n",
       " 4,\n",
       " 4,\n",
       " 4,\n",
       " 4,\n",
       " 4,\n",
       " 4,\n",
       " 4,\n",
       " 4,\n",
       " 4,\n",
       " 4,\n",
       " 4,\n",
       " 4,\n",
       " 4,\n",
       " 4,\n",
       " 4,\n",
       " 4,\n",
       " 4,\n",
       " 4,\n",
       " 4,\n",
       " 4,\n",
       " 4,\n",
       " 4,\n",
       " 4,\n",
       " 4,\n",
       " 4,\n",
       " 4,\n",
       " 4,\n",
       " 4,\n",
       " 4,\n",
       " 4,\n",
       " 4,\n",
       " 4,\n",
       " 4,\n",
       " 4,\n",
       " 4,\n",
       " 4,\n",
       " 4,\n",
       " 4,\n",
       " 4,\n",
       " 4,\n",
       " 4,\n",
       " 4,\n",
       " 4,\n",
       " 4,\n",
       " 4,\n",
       " 4,\n",
       " 4,\n",
       " 4,\n",
       " 4,\n",
       " 4,\n",
       " 4,\n",
       " 4,\n",
       " 4,\n",
       " 4,\n",
       " 4,\n",
       " 4,\n",
       " 4,\n",
       " 4,\n",
       " 4,\n",
       " 4,\n",
       " 4,\n",
       " 4,\n",
       " 4,\n",
       " 4,\n",
       " 4,\n",
       " 4,\n",
       " 4,\n",
       " 4,\n",
       " 4,\n",
       " 4,\n",
       " 4,\n",
       " 4,\n",
       " 4,\n",
       " 4,\n",
       " 4,\n",
       " 4,\n",
       " 4,\n",
       " 4,\n",
       " 4,\n",
       " 4,\n",
       " 4,\n",
       " 4,\n",
       " 4,\n",
       " 4,\n",
       " 4,\n",
       " 4,\n",
       " 4,\n",
       " 4,\n",
       " 4,\n",
       " 4,\n",
       " 4,\n",
       " 4,\n",
       " 4,\n",
       " 4,\n",
       " 4,\n",
       " 4,\n",
       " 4,\n",
       " 4,\n",
       " 4,\n",
       " 4,\n",
       " 4,\n",
       " 4,\n",
       " 4,\n",
       " 4,\n",
       " 4,\n",
       " 4,\n",
       " 4,\n",
       " 4,\n",
       " 4,\n",
       " 4,\n",
       " 4,\n",
       " 4,\n",
       " 4,\n",
       " 4,\n",
       " 4,\n",
       " 4,\n",
       " 4,\n",
       " 4,\n",
       " 4,\n",
       " 4,\n",
       " 4,\n",
       " 4,\n",
       " 4,\n",
       " 4,\n",
       " 4,\n",
       " 4,\n",
       " 4,\n",
       " 4,\n",
       " 4,\n",
       " 4,\n",
       " 4,\n",
       " 4,\n",
       " 4,\n",
       " 4,\n",
       " 4,\n",
       " 4,\n",
       " 4,\n",
       " 4,\n",
       " 4,\n",
       " 4,\n",
       " 4,\n",
       " 4,\n",
       " 4,\n",
       " 4,\n",
       " 4,\n",
       " 4,\n",
       " 4,\n",
       " 4,\n",
       " 4,\n",
       " 4,\n",
       " 4,\n",
       " 4,\n",
       " 4,\n",
       " 4,\n",
       " 4,\n",
       " 4,\n",
       " 4,\n",
       " 4,\n",
       " 4,\n",
       " 4,\n",
       " 4,\n",
       " 4,\n",
       " 4,\n",
       " 4,\n",
       " 4,\n",
       " 4,\n",
       " 4,\n",
       " 4,\n",
       " 4,\n",
       " 4,\n",
       " 4,\n",
       " 4,\n",
       " 4,\n",
       " 4,\n",
       " 4,\n",
       " 4,\n",
       " 4,\n",
       " 4,\n",
       " 4,\n",
       " 4,\n",
       " 4,\n",
       " 4,\n",
       " 4,\n",
       " 4,\n",
       " 4,\n",
       " 4,\n",
       " 4,\n",
       " 4,\n",
       " 4,\n",
       " 4,\n",
       " 4,\n",
       " 4,\n",
       " 4,\n",
       " 4,\n",
       " 4,\n",
       " 4,\n",
       " 4,\n",
       " 4,\n",
       " 4,\n",
       " 4,\n",
       " 4,\n",
       " 4,\n",
       " 4,\n",
       " 4,\n",
       " 4,\n",
       " 4,\n",
       " 4,\n",
       " 4,\n",
       " 4,\n",
       " 4,\n",
       " 4,\n",
       " 4,\n",
       " 4,\n",
       " 4,\n",
       " 4,\n",
       " 4,\n",
       " 3,\n",
       " 3,\n",
       " 3,\n",
       " 3,\n",
       " 3,\n",
       " 3,\n",
       " 3,\n",
       " 3,\n",
       " 3,\n",
       " 3,\n",
       " 3,\n",
       " 3,\n",
       " 3,\n",
       " 3,\n",
       " 3,\n",
       " 3,\n",
       " 3,\n",
       " 3,\n",
       " 3,\n",
       " 3,\n",
       " 3,\n",
       " 3,\n",
       " 3,\n",
       " 3,\n",
       " 3,\n",
       " 3,\n",
       " 3,\n",
       " 3,\n",
       " 3,\n",
       " 3,\n",
       " 3,\n",
       " 3,\n",
       " 3,\n",
       " 3,\n",
       " 3,\n",
       " 3,\n",
       " 3,\n",
       " 3,\n",
       " 3,\n",
       " 3,\n",
       " 3,\n",
       " 3,\n",
       " 3,\n",
       " 3,\n",
       " 3,\n",
       " 3,\n",
       " 3,\n",
       " 3,\n",
       " 3,\n",
       " 3,\n",
       " 3,\n",
       " 3,\n",
       " 3,\n",
       " 3,\n",
       " 3,\n",
       " 3,\n",
       " 3,\n",
       " 3,\n",
       " 3,\n",
       " 3,\n",
       " 3,\n",
       " 3,\n",
       " 3,\n",
       " 3,\n",
       " 3,\n",
       " 3,\n",
       " 3,\n",
       " 3,\n",
       " 3,\n",
       " 3,\n",
       " 3,\n",
       " 3,\n",
       " 3,\n",
       " 3,\n",
       " 3,\n",
       " 3,\n",
       " 3,\n",
       " 3,\n",
       " 3,\n",
       " 3,\n",
       " 3,\n",
       " 3,\n",
       " 3,\n",
       " 3,\n",
       " 3,\n",
       " 3,\n",
       " 3,\n",
       " 3,\n",
       " 3,\n",
       " 3,\n",
       " 3,\n",
       " 3,\n",
       " 3,\n",
       " 3,\n",
       " 3,\n",
       " 3,\n",
       " 3,\n",
       " 3,\n",
       " 3,\n",
       " 3,\n",
       " 3,\n",
       " 3,\n",
       " 3,\n",
       " 3,\n",
       " 3,\n",
       " 3,\n",
       " 3,\n",
       " 3,\n",
       " 3,\n",
       " 3,\n",
       " 3,\n",
       " 3,\n",
       " 3,\n",
       " 3,\n",
       " 3,\n",
       " 3,\n",
       " 3,\n",
       " 3,\n",
       " 3,\n",
       " 3,\n",
       " 3,\n",
       " 3,\n",
       " 3,\n",
       " 3,\n",
       " 3,\n",
       " 3,\n",
       " 3,\n",
       " 3,\n",
       " 3,\n",
       " 3,\n",
       " 3,\n",
       " 3,\n",
       " 3,\n",
       " 3,\n",
       " 3,\n",
       " 3,\n",
       " 3,\n",
       " 3,\n",
       " 3,\n",
       " 3,\n",
       " 3,\n",
       " 3,\n",
       " 3,\n",
       " 3,\n",
       " 3,\n",
       " 3,\n",
       " 3,\n",
       " 3,\n",
       " 3,\n",
       " 3,\n",
       " 3,\n",
       " 3,\n",
       " 3,\n",
       " 3,\n",
       " 3,\n",
       " 3,\n",
       " 3,\n",
       " 3,\n",
       " 3,\n",
       " 3,\n",
       " 3,\n",
       " 3,\n",
       " 3,\n",
       " 3,\n",
       " 3,\n",
       " 3,\n",
       " 3,\n",
       " 3,\n",
       " 3,\n",
       " 3,\n",
       " 3,\n",
       " 3,\n",
       " 3,\n",
       " 3,\n",
       " 3,\n",
       " 3,\n",
       " 3,\n",
       " 3,\n",
       " 3,\n",
       " 3,\n",
       " 3,\n",
       " 3,\n",
       " 3,\n",
       " 3,\n",
       " 3,\n",
       " 3,\n",
       " 3,\n",
       " 3,\n",
       " 3,\n",
       " 3,\n",
       " 3,\n",
       " 3,\n",
       " 3,\n",
       " 3,\n",
       " 3,\n",
       " 3,\n",
       " 3,\n",
       " 3,\n",
       " 3,\n",
       " 3,\n",
       " 3,\n",
       " 3,\n",
       " 3,\n",
       " 3,\n",
       " 3,\n",
       " 3,\n",
       " 3,\n",
       " 3,\n",
       " 3,\n",
       " 3,\n",
       " 3,\n",
       " 3,\n",
       " 3,\n",
       " 3,\n",
       " 3,\n",
       " 3,\n",
       " 3,\n",
       " 3,\n",
       " 3,\n",
       " 3,\n",
       " 3,\n",
       " 3,\n",
       " 3,\n",
       " 3,\n",
       " 3,\n",
       " 3,\n",
       " 3,\n",
       " 3,\n",
       " 3,\n",
       " 3,\n",
       " 3,\n",
       " 3,\n",
       " 3,\n",
       " 3,\n",
       " 3,\n",
       " 3,\n",
       " 3,\n",
       " 3,\n",
       " 3,\n",
       " 3,\n",
       " 3,\n",
       " 3,\n",
       " 3,\n",
       " 3,\n",
       " 3,\n",
       " 3,\n",
       " 3,\n",
       " 3,\n",
       " 3,\n",
       " 3,\n",
       " 3,\n",
       " 3,\n",
       " 3,\n",
       " 3,\n",
       " 3,\n",
       " 3,\n",
       " 3,\n",
       " 3,\n",
       " 3,\n",
       " 3,\n",
       " 3,\n",
       " 3,\n",
       " 3,\n",
       " 3,\n",
       " 3,\n",
       " 3,\n",
       " 3,\n",
       " 3,\n",
       " 3,\n",
       " 3,\n",
       " 3,\n",
       " 3,\n",
       " 3,\n",
       " 3,\n",
       " 3,\n",
       " 3,\n",
       " 3,\n",
       " 3,\n",
       " 3,\n",
       " 3,\n",
       " 3,\n",
       " 3,\n",
       " 3,\n",
       " 3,\n",
       " 3,\n",
       " 3,\n",
       " 3,\n",
       " 3,\n",
       " 3,\n",
       " 3,\n",
       " 3,\n",
       " 3,\n",
       " 3,\n",
       " 3,\n",
       " 3,\n",
       " 3,\n",
       " 3,\n",
       " 3,\n",
       " 3,\n",
       " 3,\n",
       " 3,\n",
       " 3,\n",
       " 3,\n",
       " 3,\n",
       " 3,\n",
       " 3,\n",
       " 3,\n",
       " 3,\n",
       " 3,\n",
       " 3,\n",
       " 3,\n",
       " 3,\n",
       " 3,\n",
       " 3,\n",
       " 3,\n",
       " ...]"
      ]
     },
     "execution_count": 117,
     "metadata": {},
     "output_type": "execute_result"
    }
   ],
   "source": [
    "sorted(final_negative_sentiments['listing_id'].value_counts(),reverse=True)"
   ]
  },
  {
   "cell_type": "code",
   "execution_count": 134,
   "metadata": {},
   "outputs": [],
   "source": [
    "listings_sentiments=finaldf.groupby(['listing_id','Dominant_Topic']).agg({'index':'count', 'sentiment_score':'mean'})"
   ]
  },
  {
   "cell_type": "code",
   "execution_count": 135,
   "metadata": {},
   "outputs": [
    {
     "data": {
      "text/html": [
       "<div>\n",
       "<style scoped>\n",
       "    .dataframe tbody tr th:only-of-type {\n",
       "        vertical-align: middle;\n",
       "    }\n",
       "\n",
       "    .dataframe tbody tr th {\n",
       "        vertical-align: top;\n",
       "    }\n",
       "\n",
       "    .dataframe thead th {\n",
       "        text-align: right;\n",
       "    }\n",
       "</style>\n",
       "<table border=\"1\" class=\"dataframe\">\n",
       "  <thead>\n",
       "    <tr style=\"text-align: right;\">\n",
       "      <th></th>\n",
       "      <th></th>\n",
       "      <th>index</th>\n",
       "      <th>sentiment_score</th>\n",
       "    </tr>\n",
       "    <tr>\n",
       "      <th>listing_id</th>\n",
       "      <th>Dominant_Topic</th>\n",
       "      <th></th>\n",
       "      <th></th>\n",
       "    </tr>\n",
       "  </thead>\n",
       "  <tbody>\n",
       "    <tr>\n",
       "      <th rowspan=\"10\" valign=\"top\">2515</th>\n",
       "      <th>0.0</th>\n",
       "      <td>26</td>\n",
       "      <td>0.779492</td>\n",
       "    </tr>\n",
       "    <tr>\n",
       "      <th>1.0</th>\n",
       "      <td>11</td>\n",
       "      <td>0.355109</td>\n",
       "    </tr>\n",
       "    <tr>\n",
       "      <th>2.0</th>\n",
       "      <td>66</td>\n",
       "      <td>0.888386</td>\n",
       "    </tr>\n",
       "    <tr>\n",
       "      <th>3.0</th>\n",
       "      <td>1</td>\n",
       "      <td>0.835700</td>\n",
       "    </tr>\n",
       "    <tr>\n",
       "      <th>4.0</th>\n",
       "      <td>4</td>\n",
       "      <td>0.874725</td>\n",
       "    </tr>\n",
       "    <tr>\n",
       "      <th>5.0</th>\n",
       "      <td>7</td>\n",
       "      <td>0.634971</td>\n",
       "    </tr>\n",
       "    <tr>\n",
       "      <th>6.0</th>\n",
       "      <td>6</td>\n",
       "      <td>0.715533</td>\n",
       "    </tr>\n",
       "    <tr>\n",
       "      <th>7.0</th>\n",
       "      <td>14</td>\n",
       "      <td>0.901471</td>\n",
       "    </tr>\n",
       "    <tr>\n",
       "      <th>8.0</th>\n",
       "      <td>13</td>\n",
       "      <td>0.788431</td>\n",
       "    </tr>\n",
       "    <tr>\n",
       "      <th>9.0</th>\n",
       "      <td>27</td>\n",
       "      <td>0.895285</td>\n",
       "    </tr>\n",
       "    <tr>\n",
       "      <th rowspan=\"4\" valign=\"top\">2539</th>\n",
       "      <th>0.0</th>\n",
       "      <td>4</td>\n",
       "      <td>0.584750</td>\n",
       "    </tr>\n",
       "    <tr>\n",
       "      <th>2.0</th>\n",
       "      <td>2</td>\n",
       "      <td>0.943450</td>\n",
       "    </tr>\n",
       "    <tr>\n",
       "      <th>8.0</th>\n",
       "      <td>2</td>\n",
       "      <td>0.699100</td>\n",
       "    </tr>\n",
       "    <tr>\n",
       "      <th>9.0</th>\n",
       "      <td>1</td>\n",
       "      <td>0.624900</td>\n",
       "    </tr>\n",
       "    <tr>\n",
       "      <th rowspan=\"6\" valign=\"top\">3330</th>\n",
       "      <th>0.0</th>\n",
       "      <td>5</td>\n",
       "      <td>0.892320</td>\n",
       "    </tr>\n",
       "    <tr>\n",
       "      <th>1.0</th>\n",
       "      <td>4</td>\n",
       "      <td>0.486350</td>\n",
       "    </tr>\n",
       "    <tr>\n",
       "      <th>2.0</th>\n",
       "      <td>12</td>\n",
       "      <td>0.976725</td>\n",
       "    </tr>\n",
       "    <tr>\n",
       "      <th>4.0</th>\n",
       "      <td>2</td>\n",
       "      <td>0.683750</td>\n",
       "    </tr>\n",
       "    <tr>\n",
       "      <th>7.0</th>\n",
       "      <td>2</td>\n",
       "      <td>0.975350</td>\n",
       "    </tr>\n",
       "    <tr>\n",
       "      <th>8.0</th>\n",
       "      <td>4</td>\n",
       "      <td>0.975200</td>\n",
       "    </tr>\n",
       "  </tbody>\n",
       "</table>\n",
       "</div>"
      ],
      "text/plain": [
       "                           index  sentiment_score\n",
       "listing_id Dominant_Topic                        \n",
       "2515       0.0                26         0.779492\n",
       "           1.0                11         0.355109\n",
       "           2.0                66         0.888386\n",
       "           3.0                 1         0.835700\n",
       "           4.0                 4         0.874725\n",
       "           5.0                 7         0.634971\n",
       "           6.0                 6         0.715533\n",
       "           7.0                14         0.901471\n",
       "           8.0                13         0.788431\n",
       "           9.0                27         0.895285\n",
       "2539       0.0                 4         0.584750\n",
       "           2.0                 2         0.943450\n",
       "           8.0                 2         0.699100\n",
       "           9.0                 1         0.624900\n",
       "3330       0.0                 5         0.892320\n",
       "           1.0                 4         0.486350\n",
       "           2.0                12         0.976725\n",
       "           4.0                 2         0.683750\n",
       "           7.0                 2         0.975350\n",
       "           8.0                 4         0.975200"
      ]
     },
     "execution_count": 135,
     "metadata": {},
     "output_type": "execute_result"
    }
   ],
   "source": [
    "listings_sentiments.head(20)"
   ]
  },
  {
   "cell_type": "code",
   "execution_count": 136,
   "metadata": {},
   "outputs": [
    {
     "ename": "TypeError",
     "evalue": "'<' not supported between instances of 'list' and 'int'",
     "output_type": "error",
     "traceback": [
      "\u001b[0;31m---------------------------------------------------------------------------\u001b[0m",
      "\u001b[0;31mTypeError\u001b[0m                                 Traceback (most recent call last)",
      "\u001b[0;32m<ipython-input-136-b2c86f570992>\u001b[0m in \u001b[0;36m<module>\u001b[0;34m\u001b[0m\n\u001b[0;32m----> 1\u001b[0;31m \u001b[0mlistings_sentiments\u001b[0m\u001b[0;34m[\u001b[0m\u001b[0;34m[\u001b[0m\u001b[0;34m'sentiment_score'\u001b[0m\u001b[0;34m]\u001b[0m\u001b[0;34m<\u001b[0m\u001b[0;36m0\u001b[0m\u001b[0;34m]\u001b[0m\u001b[0;34m\u001b[0m\u001b[0;34m\u001b[0m\u001b[0m\n\u001b[0m",
      "\u001b[0;31mTypeError\u001b[0m: '<' not supported between instances of 'list' and 'int'"
     ]
    }
   ],
   "source": [
    "listings_sentiments[['sentiment_score']<0]"
   ]
  },
  {
   "cell_type": "code",
   "execution_count": 121,
   "metadata": {},
   "outputs": [],
   "source": [
    "listings_sentiments.to_csv('./listings_sentiments.csv')"
   ]
  },
  {
   "cell_type": "code",
   "execution_count": null,
   "metadata": {},
   "outputs": [],
   "source": []
  }
 ],
 "metadata": {
  "colab": {
   "authorship_tag": "ABX9TyO/mrQMX3V/5GQ7tvsCM8CW",
   "machine_shape": "hm",
   "name": "Classification.ipynb",
   "provenance": [],
   "toc_visible": true
  },
  "kernelspec": {
   "display_name": "Python 3",
   "language": "python",
   "name": "python3"
  },
  "language_info": {
   "codemirror_mode": {
    "name": "ipython",
    "version": 3
   },
   "file_extension": ".py",
   "mimetype": "text/x-python",
   "name": "python",
   "nbconvert_exporter": "python",
   "pygments_lexer": "ipython3",
   "version": "3.7.3"
  }
 },
 "nbformat": 4,
 "nbformat_minor": 1
}
